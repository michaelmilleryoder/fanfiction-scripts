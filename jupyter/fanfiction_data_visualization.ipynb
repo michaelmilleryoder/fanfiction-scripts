{
 "cells": [
  {
   "cell_type": "markdown",
   "metadata": {},
   "source": [
    "# Overview\n",
    "\n",
    "Example of loading text data and metadata in Python and visualizing some interactions between patterns in metadata and text (simple word frequencies).\n",
    "\n",
    "The text data is organized as text files in directories. The metadata for documents in the corpus is in a CSV file."
   ]
  },
  {
   "cell_type": "markdown",
   "metadata": {},
   "source": [
    "# Load data"
   ]
  },
  {
   "cell_type": "code",
   "execution_count": 3,
   "metadata": {},
   "outputs": [
    {
     "data": {
      "text/html": [
       "<div>\n",
       "<style scoped>\n",
       "    .dataframe tbody tr th:only-of-type {\n",
       "        vertical-align: middle;\n",
       "    }\n",
       "\n",
       "    .dataframe tbody tr th {\n",
       "        vertical-align: top;\n",
       "    }\n",
       "\n",
       "    .dataframe thead th {\n",
       "        text-align: right;\n",
       "    }\n",
       "</style>\n",
       "<table border=\"1\" class=\"dataframe\">\n",
       "  <thead>\n",
       "    <tr style=\"text-align: right;\">\n",
       "      <th></th>\n",
       "      <th>fic_id</th>\n",
       "      <th>title</th>\n",
       "      <th>author</th>\n",
       "      <th>author_key</th>\n",
       "      <th>rating</th>\n",
       "      <th>category</th>\n",
       "      <th>fandom</th>\n",
       "      <th>relationship</th>\n",
       "      <th>character</th>\n",
       "      <th>additional tags</th>\n",
       "      <th>language</th>\n",
       "      <th>published</th>\n",
       "      <th>status</th>\n",
       "      <th>status date</th>\n",
       "      <th>words</th>\n",
       "      <th>comments</th>\n",
       "      <th>kudos</th>\n",
       "      <th>bookmarks</th>\n",
       "      <th>hits</th>\n",
       "      <th>chapter_count</th>\n",
       "      <th>series</th>\n",
       "      <th>seriespart</th>\n",
       "      <th>seriesid</th>\n",
       "    </tr>\n",
       "  </thead>\n",
       "  <tbody>\n",
       "    <tr>\n",
       "      <th>0</th>\n",
       "      <td>1000010</td>\n",
       "      <td>Bellwether</td>\n",
       "      <td>kaige68</td>\n",
       "      <td>kaige68</td>\n",
       "      <td>[\"General Audiences\"]</td>\n",
       "      <td>[\"M/M\"]</td>\n",
       "      <td>[\"The Avengers (Marvel Movies)\", \"Agents of S.H.I.E.L.D. (TV)\"]</td>\n",
       "      <td>[\"Clint Barton/Phil Coulson\"]</td>\n",
       "      <td>[\"Clint Barton\", \"Phil Coulson\"]</td>\n",
       "      <td>[\"Drabble\", \"Community: 1_million_words\"]</td>\n",
       "      <td>English</td>\n",
       "      <td>2013-10-05</td>\n",
       "      <td>Completed</td>\n",
       "      <td>NaN</td>\n",
       "      <td>100.0</td>\n",
       "      <td>2.0</td>\n",
       "      <td>27.0</td>\n",
       "      <td>1.0</td>\n",
       "      <td>707.0</td>\n",
       "      <td>1</td>\n",
       "      <td>NaN</td>\n",
       "      <td>NaN</td>\n",
       "      <td>NaN</td>\n",
       "    </tr>\n",
       "    <tr>\n",
       "      <th>1</th>\n",
       "      <td>1000013</td>\n",
       "      <td>Estrella Nuclear</td>\n",
       "      <td>Badguy_x_Moores</td>\n",
       "      <td>Badguy_x_Moores</td>\n",
       "      <td>[\"Explicit\"]</td>\n",
       "      <td>[\"M/M\"]</td>\n",
       "      <td>[\"The Avengers (Marvel Movies)\"]</td>\n",
       "      <td>[\"Loki/Tony Stark\"]</td>\n",
       "      <td>[\"Loki (Marvel)\", \"Tony Stark\"]</td>\n",
       "      <td>[\"Romance\", \"Sex\", \"Slash\"]</td>\n",
       "      <td>Español</td>\n",
       "      <td>2013-10-11</td>\n",
       "      <td>Completed</td>\n",
       "      <td>NaN</td>\n",
       "      <td>5037.0</td>\n",
       "      <td>NaN</td>\n",
       "      <td>6.0</td>\n",
       "      <td>NaN</td>\n",
       "      <td>378.0</td>\n",
       "      <td>1</td>\n",
       "      <td>NaN</td>\n",
       "      <td>NaN</td>\n",
       "      <td>NaN</td>\n",
       "    </tr>\n",
       "    <tr>\n",
       "      <th>2</th>\n",
       "      <td>1000017</td>\n",
       "      <td>Don't Let Go</td>\n",
       "      <td>helens78</td>\n",
       "      <td>helens78</td>\n",
       "      <td>[\"Teen And Up Audiences\"]</td>\n",
       "      <td>[\"M/M\"]</td>\n",
       "      <td>[\"X-Men: First Class (2011) - Fandom\"]</td>\n",
       "      <td>[\"Erik Lehnsherr/Charles Xavier\"]</td>\n",
       "      <td>[\"Erik Lehnsherr\", \"Charles Xavier\", \"Kurt Marko\"]</td>\n",
       "      <td>[\"Community: fan_flashworks\", \"Violence\", \"Alternate Universe - Role Reversal\", \"Role Reversal\", \"First Meetings\", \"Revenge\", \"Childhood Trauma\"]</td>\n",
       "      <td>English</td>\n",
       "      <td>2013-09-06</td>\n",
       "      <td>Completed</td>\n",
       "      <td>NaN</td>\n",
       "      <td>1187.0</td>\n",
       "      <td>13.0</td>\n",
       "      <td>229.0</td>\n",
       "      <td>37.0</td>\n",
       "      <td>2497.0</td>\n",
       "      <td>1</td>\n",
       "      <td>NaN</td>\n",
       "      <td>NaN</td>\n",
       "      <td>NaN</td>\n",
       "    </tr>\n",
       "  </tbody>\n",
       "</table>\n",
       "</div>"
      ],
      "text/plain": [
       "    fic_id             title           author       author_key  \\\n",
       "0  1000010  Bellwether        kaige68          kaige68           \n",
       "1  1000013  Estrella Nuclear  Badguy_x_Moores  Badguy_x_Moores   \n",
       "2  1000017  Don't Let Go      helens78         helens78          \n",
       "\n",
       "                      rating category  \\\n",
       "0  [\"General Audiences\"]      [\"M/M\"]   \n",
       "1  [\"Explicit\"]               [\"M/M\"]   \n",
       "2  [\"Teen And Up Audiences\"]  [\"M/M\"]   \n",
       "\n",
       "                                                            fandom  \\\n",
       "0  [\"The Avengers (Marvel Movies)\", \"Agents of S.H.I.E.L.D. (TV)\"]   \n",
       "1  [\"The Avengers (Marvel Movies)\"]                                  \n",
       "2  [\"X-Men: First Class (2011) - Fandom\"]                            \n",
       "\n",
       "                        relationship  \\\n",
       "0  [\"Clint Barton/Phil Coulson\"]       \n",
       "1  [\"Loki/Tony Stark\"]                 \n",
       "2  [\"Erik Lehnsherr/Charles Xavier\"]   \n",
       "\n",
       "                                            character  \\\n",
       "0  [\"Clint Barton\", \"Phil Coulson\"]                     \n",
       "1  [\"Loki (Marvel)\", \"Tony Stark\"]                      \n",
       "2  [\"Erik Lehnsherr\", \"Charles Xavier\", \"Kurt Marko\"]   \n",
       "\n",
       "                                                                                                                                     additional tags  \\\n",
       "0  [\"Drabble\", \"Community: 1_million_words\"]                                                                                                           \n",
       "1  [\"Romance\", \"Sex\", \"Slash\"]                                                                                                                         \n",
       "2  [\"Community: fan_flashworks\", \"Violence\", \"Alternate Universe - Role Reversal\", \"Role Reversal\", \"First Meetings\", \"Revenge\", \"Childhood Trauma\"]   \n",
       "\n",
       "  language   published     status status date   words  comments  kudos  \\\n",
       "0  English  2013-10-05  Completed  NaN         100.0   2.0       27.0    \n",
       "1  Español  2013-10-11  Completed  NaN         5037.0 NaN        6.0     \n",
       "2  English  2013-09-06  Completed  NaN         1187.0  13.0      229.0   \n",
       "\n",
       "   bookmarks    hits  chapter_count series  seriespart  seriesid  \n",
       "0  1.0        707.0   1              NaN   NaN         NaN        \n",
       "1 NaN         378.0   1              NaN   NaN         NaN        \n",
       "2  37.0       2497.0  1              NaN   NaN         NaN        "
      ]
     },
     "execution_count": 3,
     "metadata": {},
     "output_type": "execute_result"
    }
   ],
   "source": [
    "# Read in metadata as a dictionary of pandas dataframes\n",
    "\n",
    "import os\n",
    "import pandas as pd\n",
    "\n",
    "# pandas display settings\n",
    "pd.set_option('display.max_colwidth', -1)\n",
    "pd.set_option('display.max_columns', 10000)\n",
    "\n",
    "metadata_dirpath = '/usr2/scratch/fanfic/'\n",
    "\n",
    "fandoms = [\n",
    "    'allmarvel',\n",
    "    'dcu',\n",
    "    'harrypotter',\n",
    "    'sherlock',\n",
    "    'starwars',\n",
    "    'song_ice_fire',\n",
    "    'supernatural',\n",
    "    'teenwolf',\n",
    "]\n",
    "\n",
    "\n",
    "metadata = {}\n",
    "for fandom in fandoms:\n",
    "    metadata_fpath = os.path.join(metadata_dirpath, f'ao3_{fandom}_text', 'stories.csv')\n",
    "    metadata[fandom] = pd.read_csv(metadata_fpath)\n",
    "\n",
    "metadata['allmarvel'].head(3)"
   ]
  },
  {
   "cell_type": "code",
   "execution_count": 4,
   "metadata": {
    "scrolled": true
   },
   "outputs": [
    {
     "data": {
      "text/plain": [
       "[1886454, 16310165, 5848369, 14242692, 7750189]"
      ]
     },
     "execution_count": 4,
     "metadata": {},
     "output_type": "execute_result"
    }
   ],
   "source": [
    "# Sample 1000 stories from each fandom, store in a dictionary of IDs with fandom names as the keys\n",
    "\n",
    "sampled_fic_ids = {}\n",
    "\n",
    "for fandom in fandoms:\n",
    "    sampled_fic_ids[fandom] = metadata[fandom]['fic_id'].sample(1000).tolist()\n",
    "    \n",
    "sampled_fic_ids['dcu'][:5]"
   ]
  },
  {
   "cell_type": "markdown",
   "metadata": {},
   "source": [
    "# Preprocess data\n",
    "\n",
    "In this case our data is already preprocessed, but important steps to think about include:\n",
    "\n",
    "* Lowercasing\n",
    "    - Does case matter?\n",
    "* Tokenization: breaking text into words.\n",
    "    - Almost always a good idea\n",
    "    - Breaks up possessives (Henry's -> Henry 's)\n",
    "* Stopwords\n",
    "    - Are common function words such as \"the\", \"in\" or \"I\" important?\n",
    "    \n",
    "### An example before and after preprocessing\n",
    "\n",
    "BEFORE: The cat's toy sat completely still on the windowsill.  \n",
    "AFTER: cat 's toy sat completely still windowsill ."
   ]
  },
  {
   "cell_type": "code",
   "execution_count": 7,
   "metadata": {},
   "outputs": [
    {
     "data": {
      "text/plain": [
       "'it was a massacre .\\nthat was the only way to describe it . a bloody massacre .\\na scattered mess , of'"
      ]
     },
     "execution_count": 7,
     "metadata": {},
     "output_type": "execute_result"
    }
   ],
   "source": [
    "# Load preprocessed story text\n",
    "from tqdm import tqdm_notebook as tqdm\n",
    "\n",
    "stories_dirpath = '/usr2/mamille2/fanfiction-project/data/ao3/'\n",
    "stories = {fandom: {} for fandom in fandoms}\n",
    "\n",
    "# For every fandom, look up the sample ID and load it into the stories dictionary\n",
    "for fandom in tqdm(fandoms):\n",
    "    for fic_id in sampled_fic_ids[fandom]:\n",
    "        story_fpath = os.path.join(stories_dirpath, fandom, 'fics_paras', f'{fic_id}.txt')\n",
    "        \n",
    "        if not os.path.exists(story_fpath):\n",
    "            # Try other naming\n",
    "            story_fpath = os.path.join(stories_dirpath, fandom, 'fics_paras', f'{fic_id}_tokenized_paras.txt')\n",
    "            \n",
    "        if not os.path.exists(story_fpath):\n",
    "            continue\n",
    "        \n",
    "        with open(story_fpath) as f:\n",
    "            stories[fandom][fic_id] = f.read()\n",
    "            \n",
    "stories['teenwolf'][4376255][:100]"
   ]
  },
  {
   "cell_type": "markdown",
   "metadata": {},
   "source": [
    "# Visualize some trends"
   ]
  },
  {
   "cell_type": "markdown",
   "metadata": {},
   "source": [
    "## Basic statistics across fandoms"
   ]
  },
  {
   "cell_type": "code",
   "execution_count": 10,
   "metadata": {},
   "outputs": [
    {
     "data": {
      "text/plain": [
       "{'allmarvel': 6340.572692113122,\n",
       " 'dcu': 6436.082340756085,\n",
       " 'harrypotter': 8926.514089454375,\n",
       " 'sherlock': 5840.655792911082,\n",
       " 'starwars': 7516.378565865057,\n",
       " 'song_ice_fire': 9863.427027781656,\n",
       " 'supernatural': 6234.203054811565,\n",
       " 'teenwolf': 6474.4850016783475}"
      ]
     },
     "execution_count": 10,
     "metadata": {},
     "output_type": "execute_result"
    }
   ],
   "source": [
    "# Average fic length across fandom\n",
    "\n",
    "avg_fic_lengths = {}\n",
    "\n",
    "for fandom in fandoms:\n",
    "    avg_fic_lengths[fandom] = metadata[fandom]['words'].mean()\n",
    "    \n",
    "avg_fic_lengths"
   ]
  },
  {
   "cell_type": "code",
   "execution_count": 11,
   "metadata": {},
   "outputs": [
    {
     "data": {
      "image/png": "[encoded data removed]",
      "text/plain": [
       "<Figure size 432x288 with 1 Axes>"
      ]
     },
     "metadata": {
      "needs_background": "light"
     },
     "output_type": "display_data"
    }
   ],
   "source": [
    "%matplotlib inline\n",
    "\n",
    "# Graph average fic lengths\n",
    "\n",
    "import operator\n",
    "\n",
    "sorted_fic_lengths = sorted(avg_fic_lengths.items(), key=operator.itemgetter(1))\n",
    "labels, values = list(zip(*sorted_fic_lengths))\n",
    "\n",
    "import matplotlib.pyplot as plt\n",
    "\n",
    "plt.title(\"Average fic lengths\")\n",
    "plt.bar(labels, values)\n",
    "plt.xticks(rotation=-30)\n",
    "plt.show()"
   ]
  },
  {
   "cell_type": "markdown",
   "metadata": {},
   "source": [
    "## Perhaps more interesting..."
   ]
  },
  {
   "cell_type": "code",
   "execution_count": 12,
   "metadata": {
    "scrolled": true
   },
   "outputs": [
    {
     "data": {
      "text/plain": [
       "0    [\"Gen\"]  \n",
       "1    [\"Multi\"]\n",
       "2    [\"Gen\"]  \n",
       "3    [\"M/M\"]  \n",
       "4    [\"F/F\"]  \n",
       "Name: category, dtype: object"
      ]
     },
     "execution_count": 12,
     "metadata": {},
     "output_type": "execute_result"
    }
   ],
   "source": [
    "metadata[fandom]['category'][:5]"
   ]
  },
  {
   "cell_type": "code",
   "execution_count": 13,
   "metadata": {},
   "outputs": [
    {
     "data": {
      "text/plain": [
       "{'allmarvel': 0.47835236541598697,\n",
       " 'dcu': 0.3677397432059611,\n",
       " 'harrypotter': 0.47198827247543296,\n",
       " 'sherlock': 0.6023044217687075,\n",
       " 'starwars': 0.382001970587162,\n",
       " 'song_ice_fire': 0.145094645150483,\n",
       " 'supernatural': 0.6187985977490181,\n",
       " 'teenwolf': 0.725180280515465}"
      ]
     },
     "execution_count": 13,
     "metadata": {},
     "output_type": "execute_result"
    }
   ],
   "source": [
    "# Distribution of ships, relationship types across fandoms\n",
    "\n",
    "proportion_mm = {}\n",
    "\n",
    "# Proportion of stories with M/M\n",
    "for fandom in fandoms:\n",
    "    fics_with_mm = sum(metadata[fandom]['category'].map(lambda x: 'M/M' in x))\n",
    "#     fics_with_mm = sum(metadata[fandom]['category'].map(lambda x: 'F/F' in x))\n",
    "#     fics_with_mm = sum(metadata[fandom]['category'].map(lambda x: 'Other' in x))\n",
    "    proportion_mm[fandom] = fics_with_mm/len(metadata[fandom])\n",
    "    \n",
    "proportion_mm"
   ]
  },
  {
   "cell_type": "code",
   "execution_count": 14,
   "metadata": {},
   "outputs": [
    {
     "data": {
      "image/png": "[encoded data removed]",
      "text/plain": [
       "<Figure size 432x288 with 1 Axes>"
      ]
     },
     "metadata": {
      "needs_background": "light"
     },
     "output_type": "display_data"
    }
   ],
   "source": [
    "import operator\n",
    "\n",
    "sorted_proportions = sorted(proportion_mm.items(), key=operator.itemgetter(1))\n",
    "labels, values = list(zip(*sorted_proportions))\n",
    "\n",
    "plt.title(\"Proportion F/F fics\")\n",
    "plt.bar(labels, values)\n",
    "plt.xticks(rotation=-30)\n",
    "plt.show()"
   ]
  },
  {
   "cell_type": "code",
   "execution_count": 15,
   "metadata": {
    "scrolled": true
   },
   "outputs": [
    {
     "data": {
      "application/vnd.jupyter.widget-view+json": {
       "model_id": "4c593391ecce4381b7a2fbc955299eaf",
       "version_major": 2,
       "version_minor": 0
      },
      "text/plain": [
       "HBox(children=(IntProgress(value=0, max=8), HTML(value='')))"
      ]
     },
     "metadata": {},
     "output_type": "display_data"
    },
    {
     "name": "stdout",
     "output_type": "stream",
     "text": [
      "\n"
     ]
    },
    {
     "data": {
      "text/plain": [
       "{'allmarvel': 0.011,\n",
       " 'dcu': 0.014125,\n",
       " 'harrypotter': 0.015375,\n",
       " 'sherlock': 0.01625,\n",
       " 'starwars': 0.0045,\n",
       " 'song_ice_fire': 0.014125,\n",
       " 'supernatural': 0.01475,\n",
       " 'teenwolf': 0.0145}"
      ]
     },
     "execution_count": 15,
     "metadata": {},
     "output_type": "execute_result"
    }
   ],
   "source": [
    "# Do fandoms with LGBTQ ships use more LGBTQ labels?\n",
    "lgbtq_labels = ['transgender', 'trans', 'queer', 'lesbian', 'gay', 'homosexual', 'nonbinary', 'non-binary']\n",
    "cishet_labels = ['heterosexual', 'cisgender', 'cis']\n",
    "\n",
    "# Count terms\n",
    "word_totals = {}\n",
    "lgbtq_term_counts = {fandom: {} for fandom in fandoms} # fandom: term\n",
    "\n",
    "for fandom in tqdm(fandoms):\n",
    "    word_totals[fandom] = 0\n",
    "    for term in lgbtq_labels:\n",
    "        lgbtq_term_counts[fandom][term] = 0\n",
    "        for fic_id in sampled_fic_ids[fandom]:\n",
    "#             lgbtq_term_counts[fandom][term] += stories[fandom][fic_id].replace('\\n', ' ').count(term) # add count of term\n",
    "            lgbtq_term_counts[fandom][term] += term in stories[fandom][fic_id].replace('\\n', ' ').split()\n",
    "#             word_totals[fandom] += len(stories[fandom][fic_id].split()) # total fandom word count\n",
    "            word_totals[fandom] += 1\n",
    "            \n",
    "lgbtq_term_totals = {fandom: sum(lgbtq_term_counts[fandom].values()) for fandom in fandoms}\n",
    "lgbtq_term_totals\n",
    "\n",
    "lgbtq_term_proportions = {fandom: lgbtq_term_totals[fandom]/word_totals[fandom] for fandom in fandoms}\n",
    "lgbtq_term_proportions"
   ]
  },
  {
   "cell_type": "code",
   "execution_count": 29,
   "metadata": {},
   "outputs": [
    {
     "data": {
      "image/png": "[encoded data removed]",
      "text/plain": [
       "<Figure size 432x288 with 1 Axes>"
      ]
     },
     "metadata": {
      "needs_background": "light"
     },
     "output_type": "display_data"
    }
   ],
   "source": [
    "sorted_term_proportions = sorted(lgbtq_term_proportions.items(), key=operator.itemgetter(1))\n",
    "labels, values = list(zip(*sorted_term_proportions))\n",
    "\n",
    "plt.title(\"LGBTQ term proportions\")\n",
    "plt.bar(labels, values)\n",
    "plt.xticks(rotation=-30)\n",
    "plt.show()"
   ]
  },
  {
   "cell_type": "code",
   "execution_count": 32,
   "metadata": {},
   "outputs": [
    {
     "name": "stdout",
     "output_type": "stream",
     "text": [
      "[0.47835236541598697, 0.3677397432059611, 0.47198827247543296, 0.6023044217687075, 0.382001970587162, 0.145094645150483, 0.6187985977490181, 0.725180280515465]\n",
      "[0.012875, 0.012125, 0.016, 0.018, 0.003375, 0.011625, 0.01425, 0.015]\n"
     ]
    }
   ],
   "source": [
    "# Make 2-dimensional features (proportion_mm, lgbtq_term_proportion)\n",
    "\n",
    "x_vals = []\n",
    "y_vals = []\n",
    "\n",
    "for fandom in fandoms:\n",
    "    x_vals.append(proportion_mm[fandom])\n",
    "    y_vals.append(lgbtq_term_proportions[fandom])\n",
    "    \n",
    "print(x_vals)\n",
    "print(y_vals)"
   ]
  },
  {
   "cell_type": "code",
   "execution_count": 33,
   "metadata": {},
   "outputs": [
    {
     "data": {
      "image/png": "[encoded data removed]",
      "text/plain": [
       "<Figure size 720x576 with 1 Axes>"
      ]
     },
     "metadata": {
      "needs_background": "light"
     },
     "output_type": "display_data"
    }
   ],
   "source": [
    "# Plot\n",
    "\n",
    "font = {'size'   : 20}\n",
    "plt.rc('font', **font)\n",
    "\n",
    "fig, ax = plt.subplots(figsize=(10,8))\n",
    "ax.scatter(x_vals, y_vals)\n",
    "\n",
    "for i, fandom in enumerate(fandoms):\n",
    "    ax.annotate(fandom, (x_vals[i], y_vals[i]))\n",
    "plt.ylim(0, 0.02)\n",
    "plt.title(\"Proportion of M/M fics vs LGBTQ term use\")\n",
    "plt.xlabel('proportion M/M fics')\n",
    "plt.ylabel('proportion LGBTQ term use')\n",
    "plt.show()"
   ]
  },
  {
   "cell_type": "markdown",
   "metadata": {},
   "source": [
    "# Find this tutorial\n",
    "\n",
    "https://github.com/michaelmilleryoder/fanfiction-scripts/blob/master/jupyter/fanfiction_data_visualization.ipynb"
   ]
  }
 ],
 "metadata": {
  "kernelspec": {
   "display_name": "Python 3",
   "language": "python",
   "name": "python3"
  },
  "language_info": {
   "codemirror_mode": {
    "name": "ipython",
    "version": 3
   },
   "file_extension": ".py",
   "mimetype": "text/x-python",
   "name": "python",
   "nbconvert_exporter": "python",
   "pygments_lexer": "ipython3",
   "version": "3.7.7"
  }
 },
 "nbformat": 4,
 "nbformat_minor": 2
}
