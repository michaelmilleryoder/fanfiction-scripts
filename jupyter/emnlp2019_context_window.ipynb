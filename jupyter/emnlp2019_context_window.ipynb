{
 "cells": [
  {
   "cell_type": "markdown",
   "metadata": {},
   "source": [
    "# Tune context window"
   ]
  },
  {
   "cell_type": "markdown",
   "metadata": {},
   "source": [
    "## Get balanced dataset of at least 2k instances from dev"
   ]
  },
  {
   "cell_type": "code",
   "execution_count": 1,
   "metadata": {},
   "outputs": [],
   "source": [
    "import pandas as pd\n",
    "\n",
    "# Load\n",
    "dev = pd.read_pickle('/usr2/mamille2/fanfiction-project/data/features/relationship_prediction_assertion_dev.pkl')"
   ]
  },
  {
   "cell_type": "code",
   "execution_count": 2,
   "metadata": {},
   "outputs": [
    {
     "data": {
      "text/plain": [
       "Index(['fic_id', 'pairing', 'pairing_embedding_unigrams_assertions_local_5',\n",
       "       'pairing_embedding_unigrams_assertions_local_10',\n",
       "       'pairing_embedding_unigrams_assertions_local_25',\n",
       "       'pairing_embedding_unigrams_assertions_local_50', 'relationship',\n",
       "       'selected_relationships', 'is_romantic', 'is_canon', 'is_mm'],\n",
       "      dtype='object')"
      ]
     },
     "execution_count": 2,
     "metadata": {},
     "output_type": "execute_result"
    }
   ],
   "source": [
    "# Remove problem row/s\n",
    "dev.columns"
   ]
  },
  {
   "cell_type": "code",
   "execution_count": 3,
   "metadata": {},
   "outputs": [
    {
     "name": "stdout",
     "output_type": "stream",
     "text": [
      "6503\n"
     ]
    },
    {
     "data": {
      "text/plain": [
       "6501"
      ]
     },
     "execution_count": 3,
     "metadata": {},
     "output_type": "execute_result"
    }
   ],
   "source": [
    "# Remove problem row/s\n",
    "print(len(dev))\n",
    "dev = dev.loc[dev['pairing_embedding_unigrams_assertions_local_10'].map(lambda x: x.shape==(1,170998)), :]\n",
    "len(dev)"
   ]
  },
  {
   "cell_type": "code",
   "execution_count": 4,
   "metadata": {},
   "outputs": [
    {
     "data": {
      "text/plain": [
       "{('harry', 'hermione'): 1716,\n",
       " ('harry', 'ron'): 1471,\n",
       " ('draco', 'harry'): 1349,\n",
       " ('hermione', 'ron'): 1184,\n",
       " ('draco', 'hermione'): 449,\n",
       " ('ginny', 'harry'): 332}"
      ]
     },
     "execution_count": 4,
     "metadata": {},
     "output_type": "execute_result"
    }
   ],
   "source": [
    "# Pairing distribution\n",
    "pairing_counts = dev['pairing'].value_counts().to_dict()\n",
    "pairing_counts"
   ]
  },
  {
   "cell_type": "code",
   "execution_count": 5,
   "metadata": {},
   "outputs": [
    {
     "data": {
      "text/plain": [
       "1992"
      ]
     },
     "execution_count": 5,
     "metadata": {},
     "output_type": "execute_result"
    }
   ],
   "source": [
    "min_split = min(pairing_counts.values())\n",
    "min_split * 6"
   ]
  },
  {
   "cell_type": "code",
   "execution_count": 6,
   "metadata": {
    "scrolled": false
   },
   "outputs": [
    {
     "name": "stdout",
     "output_type": "stream",
     "text": [
      "1992\n",
      "Index(['fic_id', 'pairing', 'pairing_embedding_unigrams_assertions_local_5',\n",
      "       'pairing_embedding_unigrams_assertions_local_10',\n",
      "       'pairing_embedding_unigrams_assertions_local_25',\n",
      "       'pairing_embedding_unigrams_assertions_local_50', 'relationship',\n",
      "       'selected_relationships', 'is_romantic', 'is_canon', 'is_mm'],\n",
      "      dtype='object')\n",
      "(harry, hermione)    332\n",
      "(hermione, ron)      332\n",
      "(ginny, harry)       332\n",
      "(draco, hermione)    332\n",
      "(harry, ron)         332\n",
      "(draco, harry)       332\n",
      "Name: pairing, dtype: int64\n"
     ]
    }
   ],
   "source": [
    "# Balance\n",
    "balanced_dev = pd.DataFrame(columns=dev.columns)\n",
    "\n",
    "for pairing in pairing_counts:\n",
    "    \n",
    "    n_sample = min_split\n",
    "    pairing_rows = dev[dev['pairing']==pairing].sample(n_sample)\n",
    "\n",
    "    balanced_dev = pd.concat([balanced_dev, pairing_rows])\n",
    "    \n",
    "print(len(balanced_dev))\n",
    "print(balanced_dev.columns)\n",
    "print(balanced_dev['pairing'].value_counts())"
   ]
  },
  {
   "cell_type": "code",
   "execution_count": 17,
   "metadata": {
    "scrolled": true
   },
   "outputs": [
    {
     "name": "stdout",
     "output_type": "stream",
     "text": [
      "1593\n",
      "399\n"
     ]
    }
   ],
   "source": [
    "# train/test split\n",
    "\n",
    "from IPython.core.debugger import set_trace\n",
    "\n",
    "from sklearn.linear_model import LogisticRegression, LogisticRegressionCV\n",
    "from sklearn.model_selection import train_test_split\n",
    "import scipy\n",
    "\n",
    "train, test = train_test_split(balanced_dev, test_size=0.2, random_state=9)\n",
    "print(len(train))\n",
    "print(len(test))\n",
    "\n",
    "feature_sets = [f'pairing_embedding_unigrams_assertions_local_{i}' for i in [5,10,25,50]]\n",
    "predictions = ['is_romantic', 'is_canon', 'is_mm']\n",
    "\n",
    "X_train, y_train = {}, {}\n",
    "X_test, y_test = {}, {}\n",
    "\n",
    "for feature_set in feature_sets:\n",
    "    X_train[feature_set] = scipy.sparse.vstack(train[feature_set].values)\n",
    "    X_test[feature_set] = scipy.sparse.vstack(test[feature_set].values)\n",
    "    \n",
    "for prediction in predictions:\n",
    "    y_train[prediction] = train[prediction].tolist()\n",
    "    y_test[prediction] = test[prediction].tolist()"
   ]
  },
  {
   "cell_type": "code",
   "execution_count": 18,
   "metadata": {},
   "outputs": [
    {
     "name": "stdout",
     "output_type": "stream",
     "text": [
      "pairing_embedding_unigrams_assertions_local_5\tis_romantic: 0.8095238095238095\n",
      "pairing_embedding_unigrams_assertions_local_5\tis_canon: 0.6240601503759399\n",
      "pairing_embedding_unigrams_assertions_local_5\tis_mm: 0.7092731829573935\n",
      "pairing_embedding_unigrams_assertions_local_10\tis_romantic: 0.8020050125313283\n",
      "pairing_embedding_unigrams_assertions_local_10\tis_canon: 0.6240601503759399\n",
      "pairing_embedding_unigrams_assertions_local_10\tis_mm: 0.7117794486215538\n",
      "pairing_embedding_unigrams_assertions_local_25\tis_romantic: 0.7994987468671679\n",
      "pairing_embedding_unigrams_assertions_local_25\tis_canon: 0.6090225563909775\n",
      "pairing_embedding_unigrams_assertions_local_25\tis_mm: 0.7092731829573935\n",
      "pairing_embedding_unigrams_assertions_local_50\tis_romantic: 0.7919799498746867\n",
      "pairing_embedding_unigrams_assertions_local_50\tis_canon: 0.6140350877192983\n",
      "pairing_embedding_unigrams_assertions_local_50\tis_mm: 0.6942355889724311\n"
     ]
    }
   ],
   "source": [
    "results = {feature_set: {} for feature_set in feature_sets}\n",
    "\n",
    "for feature_set in feature_sets:\n",
    "    for key in y_test:\n",
    "\n",
    "        clf = LogisticRegression()\n",
    "        clf.fit(X_train[feature_set], y_train[key])\n",
    "        results[feature_set][key] = clf.score(X_test[feature_set], y_test[key])\n",
    "        print(f'{feature_set}\\t{key}: {results[feature_set][key]}')"
   ]
  },
  {
   "cell_type": "code",
   "execution_count": 21,
   "metadata": {
    "scrolled": true
   },
   "outputs": [],
   "source": [
    "# Cross-validation\n",
    "\n",
    "from IPython.core.debugger import set_trace\n",
    "\n",
    "from sklearn.linear_model import LogisticRegression, LogisticRegressionCV\n",
    "from sklearn.model_selection import train_test_split\n",
    "import scipy\n",
    "\n",
    "feature_sets = [f'pairing_embedding_unigrams_assertions_local_{i}' for i in [5,10,25,50]]\n",
    "predictions = ['is_romantic', 'is_canon', 'is_mm']\n",
    "\n",
    "X, y = {}, {}\n",
    "\n",
    "for feature_set in feature_sets:\n",
    "    X[feature_set] = scipy.sparse.vstack(balanced_dev[feature_set].values)\n",
    "    \n",
    "for prediction in predictions:\n",
    "    y[prediction] = balanced_dev[prediction].tolist()"
   ]
  },
  {
   "cell_type": "code",
   "execution_count": 27,
   "metadata": {
    "scrolled": true
   },
   "outputs": [
    {
     "name": "stderr",
     "output_type": "stream",
     "text": [
      "/usr0/home/mamille2/anaconda3/lib/python3.6/site-packages/sklearn/linear_model/logistic.py:433: FutureWarning: Default solver will be changed to 'lbfgs' in 0.22. Specify a solver to silence this warning.\n",
      "  FutureWarning)\n"
     ]
    },
    {
     "name": "stdout",
     "output_type": "stream",
     "text": [
      "pairing_embedding_unigrams_assertions_local_5\tis_romantic\t0.7866135187214267\n"
     ]
    },
    {
     "name": "stderr",
     "output_type": "stream",
     "text": [
      "/usr0/home/mamille2/anaconda3/lib/python3.6/site-packages/sklearn/linear_model/logistic.py:433: FutureWarning: Default solver will be changed to 'lbfgs' in 0.22. Specify a solver to silence this warning.\n",
      "  FutureWarning)\n"
     ]
    },
    {
     "name": "stdout",
     "output_type": "stream",
     "text": [
      "pairing_embedding_unigrams_assertions_local_5\tis_canon\t0.6218964496668807\n"
     ]
    },
    {
     "name": "stderr",
     "output_type": "stream",
     "text": [
      "/usr0/home/mamille2/anaconda3/lib/python3.6/site-packages/sklearn/linear_model/logistic.py:433: FutureWarning: Default solver will be changed to 'lbfgs' in 0.22. Specify a solver to silence this warning.\n",
      "  FutureWarning)\n"
     ]
    },
    {
     "name": "stdout",
     "output_type": "stream",
     "text": [
      "pairing_embedding_unigrams_assertions_local_5\tis_mm\t0.6948255764025585\n"
     ]
    },
    {
     "name": "stderr",
     "output_type": "stream",
     "text": [
      "/usr0/home/mamille2/anaconda3/lib/python3.6/site-packages/sklearn/linear_model/logistic.py:433: FutureWarning: Default solver will be changed to 'lbfgs' in 0.22. Specify a solver to silence this warning.\n",
      "  FutureWarning)\n"
     ]
    },
    {
     "name": "stdout",
     "output_type": "stream",
     "text": [
      "pairing_embedding_unigrams_assertions_local_10\tis_romantic\t0.7861072278686666\n"
     ]
    },
    {
     "name": "stderr",
     "output_type": "stream",
     "text": [
      "/usr0/home/mamille2/anaconda3/lib/python3.6/site-packages/sklearn/linear_model/logistic.py:433: FutureWarning: Default solver will be changed to 'lbfgs' in 0.22. Specify a solver to silence this warning.\n",
      "  FutureWarning)\n"
     ]
    },
    {
     "name": "stdout",
     "output_type": "stream",
     "text": [
      "pairing_embedding_unigrams_assertions_local_10\tis_canon\t0.6219002279568268\n"
     ]
    },
    {
     "name": "stderr",
     "output_type": "stream",
     "text": [
      "/usr0/home/mamille2/anaconda3/lib/python3.6/site-packages/sklearn/linear_model/logistic.py:433: FutureWarning: Default solver will be changed to 'lbfgs' in 0.22. Specify a solver to silence this warning.\n",
      "  FutureWarning)\n"
     ]
    },
    {
     "name": "stdout",
     "output_type": "stream",
     "text": [
      "pairing_embedding_unigrams_assertions_local_10\tis_mm\t0.6953255574159376\n"
     ]
    },
    {
     "name": "stderr",
     "output_type": "stream",
     "text": [
      "/usr0/home/mamille2/anaconda3/lib/python3.6/site-packages/sklearn/linear_model/logistic.py:433: FutureWarning: Default solver will be changed to 'lbfgs' in 0.22. Specify a solver to silence this warning.\n",
      "  FutureWarning)\n"
     ]
    },
    {
     "name": "stdout",
     "output_type": "stream",
     "text": [
      "pairing_embedding_unigrams_assertions_local_25\tis_romantic\t0.7841059936272842\n"
     ]
    },
    {
     "name": "stderr",
     "output_type": "stream",
     "text": [
      "/usr0/home/mamille2/anaconda3/lib/python3.6/site-packages/sklearn/linear_model/logistic.py:433: FutureWarning: Default solver will be changed to 'lbfgs' in 0.22. Specify a solver to silence this warning.\n",
      "  FutureWarning)\n"
     ]
    },
    {
     "name": "stdout",
     "output_type": "stream",
     "text": [
      "pairing_embedding_unigrams_assertions_local_25\tis_canon\t0.6103676276117429\n"
     ]
    },
    {
     "name": "stderr",
     "output_type": "stream",
     "text": [
      "/usr0/home/mamille2/anaconda3/lib/python3.6/site-packages/sklearn/linear_model/logistic.py:433: FutureWarning: Default solver will be changed to 'lbfgs' in 0.22. Specify a solver to silence this warning.\n",
      "  FutureWarning)\n"
     ]
    },
    {
     "name": "stdout",
     "output_type": "stream",
     "text": [
      "pairing_embedding_unigrams_assertions_local_25\tis_mm\t0.68827647070412\n"
     ]
    },
    {
     "name": "stderr",
     "output_type": "stream",
     "text": [
      "/usr0/home/mamille2/anaconda3/lib/python3.6/site-packages/sklearn/linear_model/logistic.py:433: FutureWarning: Default solver will be changed to 'lbfgs' in 0.22. Specify a solver to silence this warning.\n",
      "  FutureWarning)\n"
     ]
    },
    {
     "name": "stdout",
     "output_type": "stream",
     "text": [
      "pairing_embedding_unigrams_assertions_local_50\tis_romantic\t0.7821022405259379\n"
     ]
    },
    {
     "name": "stderr",
     "output_type": "stream",
     "text": [
      "/usr0/home/mamille2/anaconda3/lib/python3.6/site-packages/sklearn/linear_model/logistic.py:433: FutureWarning: Default solver will be changed to 'lbfgs' in 0.22. Specify a solver to silence this warning.\n",
      "  FutureWarning)\n"
     ]
    },
    {
     "name": "stdout",
     "output_type": "stream",
     "text": [
      "pairing_embedding_unigrams_assertions_local_50\tis_canon\t0.604345033437866\n"
     ]
    },
    {
     "name": "stderr",
     "output_type": "stream",
     "text": [
      "/usr0/home/mamille2/anaconda3/lib/python3.6/site-packages/sklearn/linear_model/logistic.py:433: FutureWarning: Default solver will be changed to 'lbfgs' in 0.22. Specify a solver to silence this warning.\n",
      "  FutureWarning)\n"
     ]
    },
    {
     "name": "stdout",
     "output_type": "stream",
     "text": [
      "pairing_embedding_unigrams_assertions_local_50\tis_mm\t0.6923092099196004\n"
     ]
    }
   ],
   "source": [
    "from sklearn.model_selection import cross_val_score\n",
    "\n",
    "results = {feature_set: {} for feature_set in feature_sets}\n",
    "\n",
    "for feature_set in feature_sets:\n",
    "    for key in y_test:\n",
    "        clf = LogisticRegression()\n",
    "        results[feature_set][key] = np.mean(cross_val_score(clf, X[feature_set], y[key], cv=5))\n",
    "        print(f'{feature_set}\\t{key}\\t{results[feature_set][key]}')"
   ]
  },
  {
   "cell_type": "code",
   "execution_count": 30,
   "metadata": {},
   "outputs": [
    {
     "name": "stdout",
     "output_type": "stream",
     "text": [
      "0.6218964496668807\n",
      "0.6219002279568268\n"
     ]
    }
   ],
   "source": [
    "print(results['pairing_embedding_unigrams_assertions_local_5']['is_canon'])\n",
    "print(results['pairing_embedding_unigrams_assertions_local_10']['is_canon'])"
   ]
  },
  {
   "cell_type": "code",
   "execution_count": 25,
   "metadata": {},
   "outputs": [
    {
     "name": "stdout",
     "output_type": "stream",
     "text": [
      "pairing_embedding_unigrams_assertions_local_5\tis_romantic: 1.0\n",
      "pairing_embedding_unigrams_assertions_local_5\tis_canon: 0.7986947791164659\n",
      "pairing_embedding_unigrams_assertions_local_5\tis_mm: 0.9979919678714859\n",
      "pairing_embedding_unigrams_assertions_local_10\tis_romantic: 1.0\n",
      "pairing_embedding_unigrams_assertions_local_10\tis_canon: 0.9949799196787149\n"
     ]
    },
    {
     "ename": "KeyboardInterrupt",
     "evalue": "",
     "output_type": "error",
     "traceback": [
      "\u001b[0;31m---------------------------------------------------------------------------\u001b[0m",
      "\u001b[0;31mKeyboardInterrupt\u001b[0m                         Traceback (most recent call last)",
      "\u001b[0;32m<ipython-input-25-bcb906816271>\u001b[0m in \u001b[0;36m<module>\u001b[0;34m\u001b[0m\n\u001b[1;32m      3\u001b[0m \u001b[0;32mfor\u001b[0m \u001b[0mfeature_set\u001b[0m \u001b[0;32min\u001b[0m \u001b[0mfeature_sets\u001b[0m\u001b[0;34m:\u001b[0m\u001b[0;34m\u001b[0m\u001b[0;34m\u001b[0m\u001b[0m\n\u001b[1;32m      4\u001b[0m     \u001b[0;32mfor\u001b[0m \u001b[0mkey\u001b[0m \u001b[0;32min\u001b[0m \u001b[0my_test\u001b[0m\u001b[0;34m:\u001b[0m\u001b[0;34m\u001b[0m\u001b[0;34m\u001b[0m\u001b[0m\n\u001b[0;32m----> 5\u001b[0;31m         \u001b[0mclf\u001b[0m \u001b[0;34m=\u001b[0m \u001b[0mLogisticRegressionCV\u001b[0m\u001b[0;34m(\u001b[0m\u001b[0mcv\u001b[0m\u001b[0;34m=\u001b[0m\u001b[0;36m5\u001b[0m\u001b[0;34m)\u001b[0m\u001b[0;34m.\u001b[0m\u001b[0mfit\u001b[0m\u001b[0;34m(\u001b[0m\u001b[0mX\u001b[0m\u001b[0;34m[\u001b[0m\u001b[0mfeature_set\u001b[0m\u001b[0;34m]\u001b[0m\u001b[0;34m,\u001b[0m \u001b[0my\u001b[0m\u001b[0;34m[\u001b[0m\u001b[0mkey\u001b[0m\u001b[0;34m]\u001b[0m\u001b[0;34m)\u001b[0m\u001b[0;34m\u001b[0m\u001b[0;34m\u001b[0m\u001b[0m\n\u001b[0m\u001b[1;32m      6\u001b[0m         \u001b[0mresults\u001b[0m\u001b[0;34m[\u001b[0m\u001b[0mfeature_set\u001b[0m\u001b[0;34m]\u001b[0m\u001b[0;34m[\u001b[0m\u001b[0mkey\u001b[0m\u001b[0;34m]\u001b[0m \u001b[0;34m=\u001b[0m \u001b[0mclf\u001b[0m\u001b[0;34m.\u001b[0m\u001b[0mscore\u001b[0m\u001b[0;34m(\u001b[0m\u001b[0mX\u001b[0m\u001b[0;34m[\u001b[0m\u001b[0mfeature_set\u001b[0m\u001b[0;34m]\u001b[0m\u001b[0;34m,\u001b[0m \u001b[0my\u001b[0m\u001b[0;34m[\u001b[0m\u001b[0mkey\u001b[0m\u001b[0;34m]\u001b[0m\u001b[0;34m)\u001b[0m\u001b[0;34m\u001b[0m\u001b[0;34m\u001b[0m\u001b[0m\n\u001b[1;32m      7\u001b[0m         \u001b[0mprint\u001b[0m\u001b[0;34m(\u001b[0m\u001b[0;34mf'{feature_set}\\t{key}: {results[feature_set][key]}'\u001b[0m\u001b[0;34m)\u001b[0m\u001b[0;34m\u001b[0m\u001b[0;34m\u001b[0m\u001b[0m\n",
      "\u001b[0;32m~/anaconda3/lib/python3.6/site-packages/sklearn/linear_model/logistic.py\u001b[0m in \u001b[0;36mfit\u001b[0;34m(self, X, y, sample_weight)\u001b[0m\n\u001b[1;32m   1797\u001b[0m                       \u001b[0msample_weight\u001b[0m\u001b[0;34m=\u001b[0m\u001b[0msample_weight\u001b[0m\u001b[0;34m\u001b[0m\u001b[0;34m\u001b[0m\u001b[0m\n\u001b[1;32m   1798\u001b[0m                       )\n\u001b[0;32m-> 1799\u001b[0;31m             \u001b[0;32mfor\u001b[0m \u001b[0mlabel\u001b[0m \u001b[0;32min\u001b[0m \u001b[0miter_encoded_labels\u001b[0m\u001b[0;34m\u001b[0m\u001b[0;34m\u001b[0m\u001b[0m\n\u001b[0m\u001b[1;32m   1800\u001b[0m             for train, test in folds)\n\u001b[1;32m   1801\u001b[0m \u001b[0;34m\u001b[0m\u001b[0m\n",
      "\u001b[0;32m~/anaconda3/lib/python3.6/site-packages/sklearn/externals/joblib/parallel.py\u001b[0m in \u001b[0;36m__call__\u001b[0;34m(self, iterable)\u001b[0m\n\u001b[1;32m    918\u001b[0m                 \u001b[0mself\u001b[0m\u001b[0;34m.\u001b[0m\u001b[0m_iterating\u001b[0m \u001b[0;34m=\u001b[0m \u001b[0mself\u001b[0m\u001b[0;34m.\u001b[0m\u001b[0m_original_iterator\u001b[0m \u001b[0;32mis\u001b[0m \u001b[0;32mnot\u001b[0m \u001b[0;32mNone\u001b[0m\u001b[0;34m\u001b[0m\u001b[0;34m\u001b[0m\u001b[0m\n\u001b[1;32m    919\u001b[0m \u001b[0;34m\u001b[0m\u001b[0m\n\u001b[0;32m--> 920\u001b[0;31m             \u001b[0;32mwhile\u001b[0m \u001b[0mself\u001b[0m\u001b[0;34m.\u001b[0m\u001b[0mdispatch_one_batch\u001b[0m\u001b[0;34m(\u001b[0m\u001b[0miterator\u001b[0m\u001b[0;34m)\u001b[0m\u001b[0;34m:\u001b[0m\u001b[0;34m\u001b[0m\u001b[0;34m\u001b[0m\u001b[0m\n\u001b[0m\u001b[1;32m    921\u001b[0m                 \u001b[0;32mpass\u001b[0m\u001b[0;34m\u001b[0m\u001b[0;34m\u001b[0m\u001b[0m\n\u001b[1;32m    922\u001b[0m \u001b[0;34m\u001b[0m\u001b[0m\n",
      "\u001b[0;32m~/anaconda3/lib/python3.6/site-packages/sklearn/externals/joblib/parallel.py\u001b[0m in \u001b[0;36mdispatch_one_batch\u001b[0;34m(self, iterator)\u001b[0m\n\u001b[1;32m    757\u001b[0m                 \u001b[0;32mreturn\u001b[0m \u001b[0;32mFalse\u001b[0m\u001b[0;34m\u001b[0m\u001b[0;34m\u001b[0m\u001b[0m\n\u001b[1;32m    758\u001b[0m             \u001b[0;32melse\u001b[0m\u001b[0;34m:\u001b[0m\u001b[0;34m\u001b[0m\u001b[0;34m\u001b[0m\u001b[0m\n\u001b[0;32m--> 759\u001b[0;31m                 \u001b[0mself\u001b[0m\u001b[0;34m.\u001b[0m\u001b[0m_dispatch\u001b[0m\u001b[0;34m(\u001b[0m\u001b[0mtasks\u001b[0m\u001b[0;34m)\u001b[0m\u001b[0;34m\u001b[0m\u001b[0;34m\u001b[0m\u001b[0m\n\u001b[0m\u001b[1;32m    760\u001b[0m                 \u001b[0;32mreturn\u001b[0m \u001b[0;32mTrue\u001b[0m\u001b[0;34m\u001b[0m\u001b[0;34m\u001b[0m\u001b[0m\n\u001b[1;32m    761\u001b[0m \u001b[0;34m\u001b[0m\u001b[0m\n",
      "\u001b[0;32m~/anaconda3/lib/python3.6/site-packages/sklearn/externals/joblib/parallel.py\u001b[0m in \u001b[0;36m_dispatch\u001b[0;34m(self, batch)\u001b[0m\n\u001b[1;32m    714\u001b[0m         \u001b[0;32mwith\u001b[0m \u001b[0mself\u001b[0m\u001b[0;34m.\u001b[0m\u001b[0m_lock\u001b[0m\u001b[0;34m:\u001b[0m\u001b[0;34m\u001b[0m\u001b[0;34m\u001b[0m\u001b[0m\n\u001b[1;32m    715\u001b[0m             \u001b[0mjob_idx\u001b[0m \u001b[0;34m=\u001b[0m \u001b[0mlen\u001b[0m\u001b[0;34m(\u001b[0m\u001b[0mself\u001b[0m\u001b[0;34m.\u001b[0m\u001b[0m_jobs\u001b[0m\u001b[0;34m)\u001b[0m\u001b[0;34m\u001b[0m\u001b[0;34m\u001b[0m\u001b[0m\n\u001b[0;32m--> 716\u001b[0;31m             \u001b[0mjob\u001b[0m \u001b[0;34m=\u001b[0m \u001b[0mself\u001b[0m\u001b[0;34m.\u001b[0m\u001b[0m_backend\u001b[0m\u001b[0;34m.\u001b[0m\u001b[0mapply_async\u001b[0m\u001b[0;34m(\u001b[0m\u001b[0mbatch\u001b[0m\u001b[0;34m,\u001b[0m \u001b[0mcallback\u001b[0m\u001b[0;34m=\u001b[0m\u001b[0mcb\u001b[0m\u001b[0;34m)\u001b[0m\u001b[0;34m\u001b[0m\u001b[0;34m\u001b[0m\u001b[0m\n\u001b[0m\u001b[1;32m    717\u001b[0m             \u001b[0;31m# A job can complete so quickly than its callback is\u001b[0m\u001b[0;34m\u001b[0m\u001b[0;34m\u001b[0m\u001b[0;34m\u001b[0m\u001b[0m\n\u001b[1;32m    718\u001b[0m             \u001b[0;31m# called before we get here, causing self._jobs to\u001b[0m\u001b[0;34m\u001b[0m\u001b[0;34m\u001b[0m\u001b[0;34m\u001b[0m\u001b[0m\n",
      "\u001b[0;32m~/anaconda3/lib/python3.6/site-packages/sklearn/externals/joblib/_parallel_backends.py\u001b[0m in \u001b[0;36mapply_async\u001b[0;34m(self, func, callback)\u001b[0m\n\u001b[1;32m    180\u001b[0m     \u001b[0;32mdef\u001b[0m \u001b[0mapply_async\u001b[0m\u001b[0;34m(\u001b[0m\u001b[0mself\u001b[0m\u001b[0;34m,\u001b[0m \u001b[0mfunc\u001b[0m\u001b[0;34m,\u001b[0m \u001b[0mcallback\u001b[0m\u001b[0;34m=\u001b[0m\u001b[0;32mNone\u001b[0m\u001b[0;34m)\u001b[0m\u001b[0;34m:\u001b[0m\u001b[0;34m\u001b[0m\u001b[0;34m\u001b[0m\u001b[0m\n\u001b[1;32m    181\u001b[0m         \u001b[0;34m\"\"\"Schedule a func to be run\"\"\"\u001b[0m\u001b[0;34m\u001b[0m\u001b[0;34m\u001b[0m\u001b[0m\n\u001b[0;32m--> 182\u001b[0;31m         \u001b[0mresult\u001b[0m \u001b[0;34m=\u001b[0m \u001b[0mImmediateResult\u001b[0m\u001b[0;34m(\u001b[0m\u001b[0mfunc\u001b[0m\u001b[0;34m)\u001b[0m\u001b[0;34m\u001b[0m\u001b[0;34m\u001b[0m\u001b[0m\n\u001b[0m\u001b[1;32m    183\u001b[0m         \u001b[0;32mif\u001b[0m \u001b[0mcallback\u001b[0m\u001b[0;34m:\u001b[0m\u001b[0;34m\u001b[0m\u001b[0;34m\u001b[0m\u001b[0m\n\u001b[1;32m    184\u001b[0m             \u001b[0mcallback\u001b[0m\u001b[0;34m(\u001b[0m\u001b[0mresult\u001b[0m\u001b[0;34m)\u001b[0m\u001b[0;34m\u001b[0m\u001b[0;34m\u001b[0m\u001b[0m\n",
      "\u001b[0;32m~/anaconda3/lib/python3.6/site-packages/sklearn/externals/joblib/_parallel_backends.py\u001b[0m in \u001b[0;36m__init__\u001b[0;34m(self, batch)\u001b[0m\n\u001b[1;32m    547\u001b[0m         \u001b[0;31m# Don't delay the application, to avoid keeping the input\u001b[0m\u001b[0;34m\u001b[0m\u001b[0;34m\u001b[0m\u001b[0;34m\u001b[0m\u001b[0m\n\u001b[1;32m    548\u001b[0m         \u001b[0;31m# arguments in memory\u001b[0m\u001b[0;34m\u001b[0m\u001b[0;34m\u001b[0m\u001b[0;34m\u001b[0m\u001b[0m\n\u001b[0;32m--> 549\u001b[0;31m         \u001b[0mself\u001b[0m\u001b[0;34m.\u001b[0m\u001b[0mresults\u001b[0m \u001b[0;34m=\u001b[0m \u001b[0mbatch\u001b[0m\u001b[0;34m(\u001b[0m\u001b[0;34m)\u001b[0m\u001b[0;34m\u001b[0m\u001b[0;34m\u001b[0m\u001b[0m\n\u001b[0m\u001b[1;32m    550\u001b[0m \u001b[0;34m\u001b[0m\u001b[0m\n\u001b[1;32m    551\u001b[0m     \u001b[0;32mdef\u001b[0m \u001b[0mget\u001b[0m\u001b[0;34m(\u001b[0m\u001b[0mself\u001b[0m\u001b[0;34m)\u001b[0m\u001b[0;34m:\u001b[0m\u001b[0;34m\u001b[0m\u001b[0;34m\u001b[0m\u001b[0m\n",
      "\u001b[0;32m~/anaconda3/lib/python3.6/site-packages/sklearn/externals/joblib/parallel.py\u001b[0m in \u001b[0;36m__call__\u001b[0;34m(self)\u001b[0m\n\u001b[1;32m    223\u001b[0m         \u001b[0;32mwith\u001b[0m \u001b[0mparallel_backend\u001b[0m\u001b[0;34m(\u001b[0m\u001b[0mself\u001b[0m\u001b[0;34m.\u001b[0m\u001b[0m_backend\u001b[0m\u001b[0;34m,\u001b[0m \u001b[0mn_jobs\u001b[0m\u001b[0;34m=\u001b[0m\u001b[0mself\u001b[0m\u001b[0;34m.\u001b[0m\u001b[0m_n_jobs\u001b[0m\u001b[0;34m)\u001b[0m\u001b[0;34m:\u001b[0m\u001b[0;34m\u001b[0m\u001b[0;34m\u001b[0m\u001b[0m\n\u001b[1;32m    224\u001b[0m             return [func(*args, **kwargs)\n\u001b[0;32m--> 225\u001b[0;31m                     for func, args, kwargs in self.items]\n\u001b[0m\u001b[1;32m    226\u001b[0m \u001b[0;34m\u001b[0m\u001b[0m\n\u001b[1;32m    227\u001b[0m     \u001b[0;32mdef\u001b[0m \u001b[0m__len__\u001b[0m\u001b[0;34m(\u001b[0m\u001b[0mself\u001b[0m\u001b[0;34m)\u001b[0m\u001b[0;34m:\u001b[0m\u001b[0;34m\u001b[0m\u001b[0;34m\u001b[0m\u001b[0m\n",
      "\u001b[0;32m~/anaconda3/lib/python3.6/site-packages/sklearn/externals/joblib/parallel.py\u001b[0m in \u001b[0;36m<listcomp>\u001b[0;34m(.0)\u001b[0m\n\u001b[1;32m    223\u001b[0m         \u001b[0;32mwith\u001b[0m \u001b[0mparallel_backend\u001b[0m\u001b[0;34m(\u001b[0m\u001b[0mself\u001b[0m\u001b[0;34m.\u001b[0m\u001b[0m_backend\u001b[0m\u001b[0;34m,\u001b[0m \u001b[0mn_jobs\u001b[0m\u001b[0;34m=\u001b[0m\u001b[0mself\u001b[0m\u001b[0;34m.\u001b[0m\u001b[0m_n_jobs\u001b[0m\u001b[0;34m)\u001b[0m\u001b[0;34m:\u001b[0m\u001b[0;34m\u001b[0m\u001b[0;34m\u001b[0m\u001b[0m\n\u001b[1;32m    224\u001b[0m             return [func(*args, **kwargs)\n\u001b[0;32m--> 225\u001b[0;31m                     for func, args, kwargs in self.items]\n\u001b[0m\u001b[1;32m    226\u001b[0m \u001b[0;34m\u001b[0m\u001b[0m\n\u001b[1;32m    227\u001b[0m     \u001b[0;32mdef\u001b[0m \u001b[0m__len__\u001b[0m\u001b[0;34m(\u001b[0m\u001b[0mself\u001b[0m\u001b[0;34m)\u001b[0m\u001b[0;34m:\u001b[0m\u001b[0;34m\u001b[0m\u001b[0;34m\u001b[0m\u001b[0m\n",
      "\u001b[0;32m~/anaconda3/lib/python3.6/site-packages/sklearn/linear_model/logistic.py\u001b[0m in \u001b[0;36m_log_reg_scoring_path\u001b[0;34m(X, y, train, test, pos_class, Cs, scoring, fit_intercept, max_iter, tol, class_weight, verbose, solver, penalty, dual, intercept_scaling, multi_class, random_state, max_squared_sum, sample_weight)\u001b[0m\n\u001b[1;32m    957\u001b[0m         \u001b[0mintercept_scaling\u001b[0m\u001b[0;34m=\u001b[0m\u001b[0mintercept_scaling\u001b[0m\u001b[0;34m,\u001b[0m \u001b[0mrandom_state\u001b[0m\u001b[0;34m=\u001b[0m\u001b[0mrandom_state\u001b[0m\u001b[0;34m,\u001b[0m\u001b[0;34m\u001b[0m\u001b[0;34m\u001b[0m\u001b[0m\n\u001b[1;32m    958\u001b[0m         \u001b[0mcheck_input\u001b[0m\u001b[0;34m=\u001b[0m\u001b[0;32mFalse\u001b[0m\u001b[0;34m,\u001b[0m \u001b[0mmax_squared_sum\u001b[0m\u001b[0;34m=\u001b[0m\u001b[0mmax_squared_sum\u001b[0m\u001b[0;34m,\u001b[0m\u001b[0;34m\u001b[0m\u001b[0;34m\u001b[0m\u001b[0m\n\u001b[0;32m--> 959\u001b[0;31m         sample_weight=sample_weight)\n\u001b[0m\u001b[1;32m    960\u001b[0m \u001b[0;34m\u001b[0m\u001b[0m\n\u001b[1;32m    961\u001b[0m     \u001b[0mlog_reg\u001b[0m \u001b[0;34m=\u001b[0m \u001b[0mLogisticRegression\u001b[0m\u001b[0;34m(\u001b[0m\u001b[0msolver\u001b[0m\u001b[0;34m=\u001b[0m\u001b[0msolver\u001b[0m\u001b[0;34m,\u001b[0m \u001b[0mmulti_class\u001b[0m\u001b[0;34m=\u001b[0m\u001b[0mmulti_class\u001b[0m\u001b[0;34m)\u001b[0m\u001b[0;34m\u001b[0m\u001b[0;34m\u001b[0m\u001b[0m\n",
      "\u001b[0;32m~/anaconda3/lib/python3.6/site-packages/sklearn/linear_model/logistic.py\u001b[0m in \u001b[0;36mlogistic_regression_path\u001b[0;34m(X, y, pos_class, Cs, fit_intercept, max_iter, tol, verbose, solver, coef, class_weight, dual, penalty, intercept_scaling, multi_class, random_state, check_input, max_squared_sum, sample_weight)\u001b[0m\n\u001b[1;32m    753\u001b[0m                 \u001b[0mfunc\u001b[0m\u001b[0;34m,\u001b[0m \u001b[0mw0\u001b[0m\u001b[0;34m,\u001b[0m \u001b[0mfprime\u001b[0m\u001b[0;34m=\u001b[0m\u001b[0;32mNone\u001b[0m\u001b[0;34m,\u001b[0m\u001b[0;34m\u001b[0m\u001b[0;34m\u001b[0m\u001b[0m\n\u001b[1;32m    754\u001b[0m                 \u001b[0margs\u001b[0m\u001b[0;34m=\u001b[0m\u001b[0;34m(\u001b[0m\u001b[0mX\u001b[0m\u001b[0;34m,\u001b[0m \u001b[0mtarget\u001b[0m\u001b[0;34m,\u001b[0m \u001b[0;36m1.\u001b[0m \u001b[0;34m/\u001b[0m \u001b[0mC\u001b[0m\u001b[0;34m,\u001b[0m \u001b[0msample_weight\u001b[0m\u001b[0;34m)\u001b[0m\u001b[0;34m,\u001b[0m\u001b[0;34m\u001b[0m\u001b[0;34m\u001b[0m\u001b[0m\n\u001b[0;32m--> 755\u001b[0;31m                 iprint=iprint, pgtol=tol, maxiter=max_iter)\n\u001b[0m\u001b[1;32m    756\u001b[0m             \u001b[0;32mif\u001b[0m \u001b[0minfo\u001b[0m\u001b[0;34m[\u001b[0m\u001b[0;34m\"warnflag\"\u001b[0m\u001b[0;34m]\u001b[0m \u001b[0;34m==\u001b[0m \u001b[0;36m1\u001b[0m\u001b[0;34m:\u001b[0m\u001b[0;34m\u001b[0m\u001b[0;34m\u001b[0m\u001b[0m\n\u001b[1;32m    757\u001b[0m                 warnings.warn(\"lbfgs failed to converge. Increase the number \"\n",
      "\u001b[0;32m~/anaconda3/lib/python3.6/site-packages/scipy/optimize/lbfgsb.py\u001b[0m in \u001b[0;36mfmin_l_bfgs_b\u001b[0;34m(func, x0, fprime, args, approx_grad, bounds, m, factr, pgtol, epsilon, iprint, maxfun, maxiter, disp, callback, maxls)\u001b[0m\n\u001b[1;32m    197\u001b[0m \u001b[0;34m\u001b[0m\u001b[0m\n\u001b[1;32m    198\u001b[0m     res = _minimize_lbfgsb(fun, x0, args=args, jac=jac, bounds=bounds,\n\u001b[0;32m--> 199\u001b[0;31m                            **opts)\n\u001b[0m\u001b[1;32m    200\u001b[0m     d = {'grad': res['jac'],\n\u001b[1;32m    201\u001b[0m          \u001b[0;34m'task'\u001b[0m\u001b[0;34m:\u001b[0m \u001b[0mres\u001b[0m\u001b[0;34m[\u001b[0m\u001b[0;34m'message'\u001b[0m\u001b[0;34m]\u001b[0m\u001b[0;34m,\u001b[0m\u001b[0;34m\u001b[0m\u001b[0;34m\u001b[0m\u001b[0m\n",
      "\u001b[0;32m~/anaconda3/lib/python3.6/site-packages/scipy/optimize/lbfgsb.py\u001b[0m in \u001b[0;36m_minimize_lbfgsb\u001b[0;34m(fun, x0, args, jac, bounds, disp, maxcor, ftol, gtol, eps, maxfun, maxiter, iprint, callback, maxls, **unknown_options)\u001b[0m\n\u001b[1;32m    326\u001b[0m         _lbfgsb.setulb(m, x, low_bnd, upper_bnd, nbd, f, g, factr,\n\u001b[1;32m    327\u001b[0m                        \u001b[0mpgtol\u001b[0m\u001b[0;34m,\u001b[0m \u001b[0mwa\u001b[0m\u001b[0;34m,\u001b[0m \u001b[0miwa\u001b[0m\u001b[0;34m,\u001b[0m \u001b[0mtask\u001b[0m\u001b[0;34m,\u001b[0m \u001b[0miprint\u001b[0m\u001b[0;34m,\u001b[0m \u001b[0mcsave\u001b[0m\u001b[0;34m,\u001b[0m \u001b[0mlsave\u001b[0m\u001b[0;34m,\u001b[0m\u001b[0;34m\u001b[0m\u001b[0;34m\u001b[0m\u001b[0m\n\u001b[0;32m--> 328\u001b[0;31m                        isave, dsave, maxls)\n\u001b[0m\u001b[1;32m    329\u001b[0m         \u001b[0mtask_str\u001b[0m \u001b[0;34m=\u001b[0m \u001b[0mtask\u001b[0m\u001b[0;34m.\u001b[0m\u001b[0mtostring\u001b[0m\u001b[0;34m(\u001b[0m\u001b[0;34m)\u001b[0m\u001b[0;34m\u001b[0m\u001b[0;34m\u001b[0m\u001b[0m\n\u001b[1;32m    330\u001b[0m         \u001b[0;32mif\u001b[0m \u001b[0mtask_str\u001b[0m\u001b[0;34m.\u001b[0m\u001b[0mstartswith\u001b[0m\u001b[0;34m(\u001b[0m\u001b[0;34mb'FG'\u001b[0m\u001b[0;34m)\u001b[0m\u001b[0;34m:\u001b[0m\u001b[0;34m\u001b[0m\u001b[0;34m\u001b[0m\u001b[0m\n",
      "\u001b[0;31mKeyboardInterrupt\u001b[0m: "
     ]
    }
   ],
   "source": [
    "results = {feature_set: {} for feature_set in feature_sets}\n",
    "\n",
    "for feature_set in feature_sets:\n",
    "    for key in y_test:\n",
    "        clf = LogisticRegressionCV(cv=5).fit(X[feature_set], y[key])\n",
    "        results[feature_set][key] = clf.score(X[feature_set], y[key])\n",
    "        print(f'{feature_set}\\t{key}\\t{results[feature_set][key]}')"
   ]
  },
  {
   "cell_type": "code",
   "execution_count": 28,
   "metadata": {},
   "outputs": [
    {
     "data": {
      "text/plain": [
       "<matplotlib.legend.Legend at 0x7f915744c160>"
      ]
     },
     "execution_count": 28,
     "metadata": {},
     "output_type": "execute_result"
    },
    {
     "data": {
      "image/png": "[encoded data removed]",
      "text/plain": [
       "<Figure size 432x288 with 1 Axes>"
      ]
     },
     "metadata": {
      "needs_background": "light"
     },
     "output_type": "display_data"
    }
   ],
   "source": [
    "%matplotlib inline\n",
    "\n",
    "import matplotlib.pyplot as plt\n",
    "\n",
    "plt.title('Context window comparison')\n",
    "for key in predictions:\n",
    "    values = [results[cw][key] for cw in feature_sets]\n",
    "    plt.plot([int(f.split('_')[-1]) for f in feature_sets], values, label=key)\n",
    "\n",
    "plt.legend()"
   ]
  },
  {
   "cell_type": "code",
   "execution_count": 29,
   "metadata": {},
   "outputs": [
    {
     "name": "stdout",
     "output_type": "stream",
     "text": [
      "pairing_embedding_unigrams_assertions_local_5: 0.7011118482636219\n",
      "pairing_embedding_unigrams_assertions_local_10: 0.7011110044138104\n",
      "pairing_embedding_unigrams_assertions_local_25: 0.6942500306477157\n",
      "pairing_embedding_unigrams_assertions_local_50: 0.6929188279611349\n"
     ]
    }
   ],
   "source": [
    "import numpy as np\n",
    "\n",
    "for feature_set in feature_sets:\n",
    "    avg = np.mean([results[feature_set][pred] for pred in predictions])\n",
    "    print(f\"{feature_set}: {avg}\")"
   ]
  },
  {
   "cell_type": "markdown",
   "metadata": {},
   "source": [
    "# See how much data require for unigrams with local context 10 to converge"
   ]
  },
  {
   "cell_type": "code",
   "execution_count": 5,
   "metadata": {
    "scrolled": true
   },
   "outputs": [
    {
     "name": "stdout",
     "output_type": "stream",
     "text": [
      "Index(['fic_id', 'pairing', 'pairing_embedding_unigrams_assertions_local',\n",
      "       'relationship', 'selected_relationships', 'is_romantic', 'is_canon',\n",
      "       'is_mm'],\n",
      "      dtype='object')\n"
     ]
    },
    {
     "data": {
      "text/plain": [
       "5903"
      ]
     },
     "execution_count": 5,
     "metadata": {},
     "output_type": "execute_result"
    }
   ],
   "source": [
    "# Load dev\n",
    "import pandas as pd\n",
    "\n",
    "dev = pd.read_pickle('/usr2/mamille2/fanfiction-project/data/features/relationship_prediction_assertion_dev.pkl')\n",
    "print(dev.columns)\n",
    "len(dev)"
   ]
  },
  {
   "cell_type": "code",
   "execution_count": 21,
   "metadata": {},
   "outputs": [
    {
     "data": {
      "text/plain": [
       "5902"
      ]
     },
     "execution_count": 21,
     "metadata": {},
     "output_type": "execute_result"
    }
   ],
   "source": [
    "# Filter out any rows with inconsistent embedding shapes\n",
    "\n",
    "dev['shape'] = dev['pairing_embedding_unigrams_assertions_local'].map(lambda x: x.shape)\n",
    "dev = dev[dev['shape'] == (1, 134240)]\n",
    "len(dev)"
   ]
  },
  {
   "cell_type": "code",
   "execution_count": 27,
   "metadata": {},
   "outputs": [
    {
     "name": "stdout",
     "output_type": "stream",
     "text": [
      "5311\n",
      "591\n"
     ]
    }
   ],
   "source": [
    "from IPython.core.debugger import set_trace\n",
    "\n",
    "from sklearn.linear_model import LogisticRegression\n",
    "from sklearn.model_selection import train_test_split\n",
    "import scipy\n",
    "\n",
    "train, test = train_test_split(dev, test_size=0.1, random_state=9)\n",
    "print(len(train))\n",
    "print(len(test))\n",
    "\n",
    "feature_set = 'unigrams_assertions_local'\n",
    "\n",
    "X_test, y_test = {}, {}\n",
    "X_test[feature_set] = scipy.sparse.vstack(test[f'pairing_embedding_{feature_set}'].tolist())\n",
    "y_test['is_romantic'] = test['is_romantic'].tolist()\n",
    "y_test['is_canon'] = test['is_canon'].tolist()\n",
    "y_test['is_mm'] = test['is_mm'].tolist()"
   ]
  },
  {
   "cell_type": "code",
   "execution_count": 46,
   "metadata": {
    "scrolled": true
   },
   "outputs": [
    {
     "name": "stderr",
     "output_type": "stream",
     "text": [
      "/usr0/home/mamille2/anaconda3/lib/python3.6/site-packages/sklearn/linear_model/logistic.py:433: FutureWarning: Default solver will be changed to 'lbfgs' in 0.22. Specify a solver to silence this warning.\n",
      "  FutureWarning)\n"
     ]
    },
    {
     "name": "stdout",
     "output_type": "stream",
     "text": [
      "500\tis_romantic: 0.7834179357021996\n",
      "500\tis_canon: 0.6717428087986463\n",
      "500\tis_mm: 0.6175972927241963\n",
      "1000\tis_romantic: 0.8071065989847716\n",
      "1000\tis_canon: 0.6852791878172588\n",
      "1000\tis_mm: 0.6598984771573604\n",
      "1200\tis_romantic: 0.8138747884940778\n",
      "1200\tis_canon: 0.6903553299492385\n",
      "1200\tis_mm: 0.6582064297800339\n",
      "1500\tis_romantic: 0.8087986463620981\n",
      "1500\tis_canon: 0.6954314720812182\n",
      "1500\tis_mm: 0.6632825719120136\n",
      "2000\tis_romantic: 0.8155668358714044\n",
      "2000\tis_canon: 0.6954314720812182\n",
      "2000\tis_mm: 0.6785109983079526\n",
      "4000\tis_romantic: 0.8257191201353637\n",
      "4000\tis_canon: 0.6920473773265652\n",
      "4000\tis_mm: 0.6734348561759729\n",
      "5311\tis_romantic: 0.8307952622673435\n",
      "5311\tis_canon: 0.7072758037225042\n",
      "5311\tis_mm: 0.6734348561759729\n"
     ]
    }
   ],
   "source": [
    "results = {}\n",
    "\n",
    "for nrows in [500, 1000, 1200, 1500, 2000, 4000, 5311]:\n",
    "    results[nrows] = {}\n",
    "    sample = train.sample(nrows)\n",
    "    y_train = {}\n",
    "\n",
    "    X_train = scipy.sparse.vstack(sample[f'pairing_embedding_{feature_set}'].tolist())\n",
    "        \n",
    "    y_train['is_romantic'] = sample['is_romantic'].tolist()\n",
    "    y_train['is_canon'] = sample['is_canon'].tolist()\n",
    "    y_train['is_mm'] = sample['is_mm'].tolist()\n",
    "    \n",
    "    for key in ['is_romantic', 'is_canon', 'is_mm']:\n",
    "        clf = LogisticRegression()\n",
    "        clf.fit(X_train, y_train[key])\n",
    "        results[nrows][key] = clf.score(X_test[feature_set], y_test[key])\n",
    "        print(f'{nrows}\\t{key}: {results[nrows][key]}')"
   ]
  },
  {
   "cell_type": "code",
   "execution_count": 47,
   "metadata": {},
   "outputs": [
    {
     "data": {
      "image/png": "[encoded data removed]",
      "text/plain": [
       "<Figure size 432x288 with 1 Axes>"
      ]
     },
     "metadata": {
      "needs_background": "light"
     },
     "output_type": "display_data"
    }
   ],
   "source": [
    "%matplotlib inline\n",
    "\n",
    "import matplotlib.pyplot as plt\n",
    "\n",
    "plt.title('Accuracy vs number of instances for local context 10')\n",
    "for key in y_test:\n",
    "    plt.plot(results.keys(), [results[nrows][key] for nrows in results.keys()])"
   ]
  },
  {
   "cell_type": "markdown",
   "metadata": {},
   "source": [
    "# Build dev set, sample5400, figure out how much data have processed"
   ]
  },
  {
   "cell_type": "code",
   "execution_count": 1,
   "metadata": {},
   "outputs": [
    {
     "name": "stdout",
     "output_type": "stream",
     "text": [
      "Index(['fic_id', 'pairing', 'pairing_embedding_unigrams_assertions_local_5',\n",
      "       'pairing_embedding_unigrams_assertions_local_10',\n",
      "       'pairing_embedding_unigrams_assertions_local_25',\n",
      "       'pairing_embedding_unigrams_assertions_local_50', 'relationship',\n",
      "       'selected_relationships', 'is_romantic', 'is_canon', 'is_mm'],\n",
      "      dtype='object')\n",
      "11903\n"
     ]
    }
   ],
   "source": [
    "import pandas as pd\n",
    "\n",
    "# data = pd.read_pickle('/usr0/home/mamille2/erebor/fanfiction-project/data/features/relationship_prediction_sample6k.pkl')\n",
    "data = pd.read_pickle('/usr2/mamille2/fanfiction-project/data/features/relationship_prediction_6k_assertion_local_ngrams1.pkl')\n",
    "print(data.columns)\n",
    "print(len(data))"
   ]
  },
  {
   "cell_type": "code",
   "execution_count": 2,
   "metadata": {},
   "outputs": [
    {
     "data": {
      "text/plain": [
       "5275"
      ]
     },
     "execution_count": 2,
     "metadata": {},
     "output_type": "execute_result"
    }
   ],
   "source": [
    "# Read in fic_ids where have pipeline assertions\n",
    "import os\n",
    "\n",
    "# pipeline_output_dirpath = '/usr0/home/mamille2/erebor/fanfiction-project/data/ao3/harrypotter/emnlp_dataset_6k/output'\n",
    "pipeline_output_dirpath = '/usr2/mamille2/fanfiction-project/data/ao3/harrypotter/emnlp_dataset_6k/output'\n",
    "fic_ids_processed = [int(fname.split('.')[0]) for fname in os.listdir(os.path.join(pipeline_output_dirpath, 'char_coref_chars'))]\n",
    "len(fic_ids_processed)"
   ]
  },
  {
   "cell_type": "code",
   "execution_count": 3,
   "metadata": {},
   "outputs": [
    {
     "data": {
      "text/plain": [
       "11903"
      ]
     },
     "execution_count": 3,
     "metadata": {},
     "output_type": "execute_result"
    }
   ],
   "source": [
    "processed_data = data[data['fic_id'].isin(fic_ids_processed)]\n",
    "print(len(processed_data))"
   ]
  },
  {
   "cell_type": "code",
   "execution_count": 5,
   "metadata": {},
   "outputs": [
    {
     "data": {
      "text/plain": [
       "(1, 170998)"
      ]
     },
     "execution_count": 5,
     "metadata": {},
     "output_type": "execute_result"
    }
   ],
   "source": [
    "processed_data.iloc[0]['pairing_embedding_unigrams_assertions_local_10'].shape"
   ]
  },
  {
   "cell_type": "code",
   "execution_count": 7,
   "metadata": {},
   "outputs": [
    {
     "data": {
      "text/plain": [
       "11900"
      ]
     },
     "execution_count": 7,
     "metadata": {},
     "output_type": "execute_result"
    }
   ],
   "source": [
    "# Remove rows with inconsistent sizes\n",
    "for cw in [10]:\n",
    "    processed_data[f'shape_{cw}'] = processed_data[f'pairing_embedding_unigrams_assertions_local_{cw}'].map(\n",
    "            lambda x: x.shape)\n",
    "    \n",
    "processed_data =processed_data[processed_data['shape_10'] == (1, 170998)]\n",
    "len(processed_data)"
   ]
  },
  {
   "cell_type": "code",
   "execution_count": 8,
   "metadata": {},
   "outputs": [
    {
     "data": {
      "text/plain": [
       "{('harry', 'hermione'): 2616,\n",
       " ('harry', 'ron'): 2371,\n",
       " ('draco', 'harry'): 2249,\n",
       " ('hermione', 'ron'): 2084,\n",
       " ('draco', 'hermione'): 1349,\n",
       " ('ginny', 'harry'): 1231}"
      ]
     },
     "execution_count": 8,
     "metadata": {},
     "output_type": "execute_result"
    }
   ],
   "source": [
    "# Pairing distribution\n",
    "pairing_counts = processed_data['pairing'].value_counts().to_dict()\n",
    "pairing_counts"
   ]
  },
  {
   "cell_type": "code",
   "execution_count": 9,
   "metadata": {
    "scrolled": true
   },
   "outputs": [
    {
     "name": "stdout",
     "output_type": "stream",
     "text": [
      "6500\n"
     ]
    },
    {
     "data": {
      "text/html": [
       "<div>\n",
       "<style scoped>\n",
       "    .dataframe tbody tr th:only-of-type {\n",
       "        vertical-align: middle;\n",
       "    }\n",
       "\n",
       "    .dataframe tbody tr th {\n",
       "        vertical-align: top;\n",
       "    }\n",
       "\n",
       "    .dataframe thead th {\n",
       "        text-align: right;\n",
       "    }\n",
       "</style>\n",
       "<table border=\"1\" class=\"dataframe\">\n",
       "  <thead>\n",
       "    <tr style=\"text-align: right;\">\n",
       "      <th></th>\n",
       "      <th>fic_id</th>\n",
       "      <th>pairing</th>\n",
       "      <th>pairing_embedding_unigrams_assertions_local_5</th>\n",
       "      <th>pairing_embedding_unigrams_assertions_local_10</th>\n",
       "      <th>pairing_embedding_unigrams_assertions_local_25</th>\n",
       "      <th>pairing_embedding_unigrams_assertions_local_50</th>\n",
       "      <th>relationship</th>\n",
       "      <th>selected_relationships</th>\n",
       "      <th>is_romantic</th>\n",
       "      <th>is_canon</th>\n",
       "      <th>is_mm</th>\n",
       "      <th>shape_10</th>\n",
       "    </tr>\n",
       "  </thead>\n",
       "  <tbody>\n",
       "    <tr>\n",
       "      <th>976</th>\n",
       "      <td>10787391</td>\n",
       "      <td>(harry, hermione)</td>\n",
       "      <td>(0, 31261)\\t0.3065821297016981\\n  (0, 54196)...</td>\n",
       "      <td>(0, 83634)\\t0.05724316226477776\\n  (0, 31261...</td>\n",
       "      <td>(0, 50239)\\t0.028285831094124712\\n  (0, 8363...</td>\n",
       "      <td>(0, 50239)\\t0.023652065913054812\\n  (0, 8363...</td>\n",
       "      <td>[]</td>\n",
       "      <td>[]</td>\n",
       "      <td>False</td>\n",
       "      <td>True</td>\n",
       "      <td>False</td>\n",
       "      <td>(1, 170998)</td>\n",
       "    </tr>\n",
       "    <tr>\n",
       "      <th>10641</th>\n",
       "      <td>8156495</td>\n",
       "      <td>(harry, hermione)</td>\n",
       "      <td>(0, 66184)\\t0.08009916993796581\\n  (0, 83634...</td>\n",
       "      <td>(0, 66184)\\t0.04376448533703871\\n  (0, 16668...</td>\n",
       "      <td>(0, 66184)\\t0.023168273542914713\\n  (0, 5606...</td>\n",
       "      <td>(0, 66184)\\t0.015047092471738154\\n  (0, 5606...</td>\n",
       "      <td>[\"Sirius Black/Hermione Granger\", \"Harry Potte...</td>\n",
       "      <td>[(ginny, harry)]</td>\n",
       "      <td>False</td>\n",
       "      <td>True</td>\n",
       "      <td>False</td>\n",
       "      <td>(1, 170998)</td>\n",
       "    </tr>\n",
       "    <tr>\n",
       "      <th>1617</th>\n",
       "      <td>1133309</td>\n",
       "      <td>(harry, hermione)</td>\n",
       "      <td>(0, 16668)\\t0.023128938517985014\\n  (0, 8363...</td>\n",
       "      <td>(0, 50239)\\t0.022655109110651873\\n  (0, 1666...</td>\n",
       "      <td>(0, 5621)\\t0.00814044491185028\\n  (0, 50239)...</td>\n",
       "      <td>(0, 5621)\\t0.011490005748049346\\n  (0, 50239...</td>\n",
       "      <td>[\"Harry Potter/Severus Snape\"]</td>\n",
       "      <td>[]</td>\n",
       "      <td>False</td>\n",
       "      <td>True</td>\n",
       "      <td>False</td>\n",
       "      <td>(1, 170998)</td>\n",
       "    </tr>\n",
       "    <tr>\n",
       "      <th>8062</th>\n",
       "      <td>48288</td>\n",
       "      <td>(harry, hermione)</td>\n",
       "      <td>(0, 64384)\\t0.09873391641610021\\n  (0, 12898...</td>\n",
       "      <td>(0, 16668)\\t0.040331877604220336\\n  (0, 6438...</td>\n",
       "      <td>(0, 16668)\\t0.021473141847259136\\n  (0, 1465...</td>\n",
       "      <td>(0, 16668)\\t0.015889207758698783\\n  (0, 8363...</td>\n",
       "      <td>[\"Harry Potter/Ginny Weasley\"]</td>\n",
       "      <td>[(ginny, harry)]</td>\n",
       "      <td>False</td>\n",
       "      <td>True</td>\n",
       "      <td>False</td>\n",
       "      <td>(1, 170998)</td>\n",
       "    </tr>\n",
       "    <tr>\n",
       "      <th>557</th>\n",
       "      <td>1025930</td>\n",
       "      <td>(harry, hermione)</td>\n",
       "      <td>(0, 63778)\\t0.2218424330278441\\n  (0, 81806)...</td>\n",
       "      <td>(0, 63778)\\t0.15287154393840818\\n  (0, 81806...</td>\n",
       "      <td>(0, 16668)\\t0.05061929585737284\\n  (0, 63778...</td>\n",
       "      <td>(0, 16668)\\t0.040959733281774796\\n  (0, 6377...</td>\n",
       "      <td>[\"Harry Potter/Severus Snape\"]</td>\n",
       "      <td>[]</td>\n",
       "      <td>False</td>\n",
       "      <td>True</td>\n",
       "      <td>False</td>\n",
       "      <td>(1, 170998)</td>\n",
       "    </tr>\n",
       "  </tbody>\n",
       "</table>\n",
       "</div>"
      ],
      "text/plain": [
       "         fic_id            pairing  \\\n",
       "976    10787391  (harry, hermione)   \n",
       "10641   8156495  (harry, hermione)   \n",
       "1617    1133309  (harry, hermione)   \n",
       "8062      48288  (harry, hermione)   \n",
       "557     1025930  (harry, hermione)   \n",
       "\n",
       "           pairing_embedding_unigrams_assertions_local_5  \\\n",
       "976      (0, 31261)\\t0.3065821297016981\\n  (0, 54196)...   \n",
       "10641    (0, 66184)\\t0.08009916993796581\\n  (0, 83634...   \n",
       "1617     (0, 16668)\\t0.023128938517985014\\n  (0, 8363...   \n",
       "8062     (0, 64384)\\t0.09873391641610021\\n  (0, 12898...   \n",
       "557      (0, 63778)\\t0.2218424330278441\\n  (0, 81806)...   \n",
       "\n",
       "          pairing_embedding_unigrams_assertions_local_10  \\\n",
       "976      (0, 83634)\\t0.05724316226477776\\n  (0, 31261...   \n",
       "10641    (0, 66184)\\t0.04376448533703871\\n  (0, 16668...   \n",
       "1617     (0, 50239)\\t0.022655109110651873\\n  (0, 1666...   \n",
       "8062     (0, 16668)\\t0.040331877604220336\\n  (0, 6438...   \n",
       "557      (0, 63778)\\t0.15287154393840818\\n  (0, 81806...   \n",
       "\n",
       "          pairing_embedding_unigrams_assertions_local_25  \\\n",
       "976      (0, 50239)\\t0.028285831094124712\\n  (0, 8363...   \n",
       "10641    (0, 66184)\\t0.023168273542914713\\n  (0, 5606...   \n",
       "1617     (0, 5621)\\t0.00814044491185028\\n  (0, 50239)...   \n",
       "8062     (0, 16668)\\t0.021473141847259136\\n  (0, 1465...   \n",
       "557      (0, 16668)\\t0.05061929585737284\\n  (0, 63778...   \n",
       "\n",
       "          pairing_embedding_unigrams_assertions_local_50  \\\n",
       "976      (0, 50239)\\t0.023652065913054812\\n  (0, 8363...   \n",
       "10641    (0, 66184)\\t0.015047092471738154\\n  (0, 5606...   \n",
       "1617     (0, 5621)\\t0.011490005748049346\\n  (0, 50239...   \n",
       "8062     (0, 16668)\\t0.015889207758698783\\n  (0, 8363...   \n",
       "557      (0, 16668)\\t0.040959733281774796\\n  (0, 6377...   \n",
       "\n",
       "                                            relationship  \\\n",
       "976                                                   []   \n",
       "10641  [\"Sirius Black/Hermione Granger\", \"Harry Potte...   \n",
       "1617                      [\"Harry Potter/Severus Snape\"]   \n",
       "8062                      [\"Harry Potter/Ginny Weasley\"]   \n",
       "557                       [\"Harry Potter/Severus Snape\"]   \n",
       "\n",
       "      selected_relationships is_romantic is_canon  is_mm     shape_10  \n",
       "976                       []       False     True  False  (1, 170998)  \n",
       "10641       [(ginny, harry)]       False     True  False  (1, 170998)  \n",
       "1617                      []       False     True  False  (1, 170998)  \n",
       "8062        [(ginny, harry)]       False     True  False  (1, 170998)  \n",
       "557                       []       False     True  False  (1, 170998)  "
      ]
     },
     "execution_count": 9,
     "metadata": {},
     "output_type": "execute_result"
    }
   ],
   "source": [
    "# Take dev set out to make rest of the data even among pairs\n",
    "dev = pd.DataFrame(columns=processed_data.columns)\n",
    "\n",
    "for pairing in pairing_counts:\n",
    "    \n",
    "    n_sample = pairing_counts[pairing] - 900\n",
    "    pairing_rows = processed_data[processed_data['pairing']==pairing].sample(n_sample)\n",
    "\n",
    "    dev = pd.concat([dev, pairing_rows])\n",
    "    \n",
    "print(len(dev))\n",
    "dev.head()"
   ]
  },
  {
   "cell_type": "code",
   "execution_count": 10,
   "metadata": {},
   "outputs": [
    {
     "name": "stdout",
     "output_type": "stream",
     "text": [
      "5400\n"
     ]
    },
    {
     "data": {
      "text/plain": [
       "(draco, hermione)    900\n",
       "(harry, ron)         900\n",
       "(ginny, harry)       900\n",
       "(harry, hermione)    900\n",
       "(hermione, ron)      900\n",
       "(draco, harry)       900\n",
       "Name: pairing, dtype: int64"
      ]
     },
     "execution_count": 10,
     "metadata": {},
     "output_type": "execute_result"
    }
   ],
   "source": [
    "nondev_data = processed_data[~processed_data.index.isin(dev.index)]\n",
    "print(len(nondev_data))\n",
    "nondev_data['pairing'].value_counts()"
   ]
  },
  {
   "cell_type": "code",
   "execution_count": 71,
   "metadata": {},
   "outputs": [
    {
     "data": {
      "text/plain": [
       "(harry, hermione)    1717\n",
       "(harry, ron)         1471\n",
       "(draco, harry)       1349\n",
       "(hermione, ron)      1185\n",
       "(draco, hermione)     449\n",
       "(ginny, harry)        332\n",
       "Name: pairing, dtype: int64"
      ]
     },
     "execution_count": 71,
     "metadata": {},
     "output_type": "execute_result"
    }
   ],
   "source": [
    "dev['pairing'].value_counts()"
   ]
  },
  {
   "cell_type": "code",
   "execution_count": 11,
   "metadata": {},
   "outputs": [],
   "source": [
    "# Save\n",
    "nondev_data.to_pickle(f'/usr2/mamille2/fanfiction-project/data/features/relationship_prediction_assertion_sample{len(nondev_data)}.pkl')\n",
    "dev.to_pickle('/usr2/mamille2/fanfiction-project/data/features/relationship_prediction_assertion_dev.pkl')"
   ]
  }
 ],
 "metadata": {
  "kernelspec": {
   "display_name": "Python 3",
   "language": "python",
   "name": "python3"
  },
  "language_info": {
   "codemirror_mode": {
    "name": "ipython",
    "version": 3
   },
   "file_extension": ".py",
   "mimetype": "text/x-python",
   "name": "python",
   "nbconvert_exporter": "python",
   "pygments_lexer": "ipython3",
   "version": "3.6.8"
  }
 },
 "nbformat": 4,
 "nbformat_minor": 2
}
