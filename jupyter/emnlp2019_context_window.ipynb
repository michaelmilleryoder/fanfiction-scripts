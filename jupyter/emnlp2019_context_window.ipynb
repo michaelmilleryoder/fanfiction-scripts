{
 "cells": [
  {
   "cell_type": "markdown",
   "metadata": {},
   "source": [
    "# Tune context window"
   ]
  },
  {
   "cell_type": "markdown",
   "metadata": {},
   "source": [
    "## Get balanced dataset of at least 2k instances from dev"
   ]
  },
  {
   "cell_type": "code",
   "execution_count": 78,
   "metadata": {},
   "outputs": [
    {
     "data": {
      "text/plain": [
       "Index(['fic_id', 'pairing', 'pairing_embedding_unigrams_assertions_local_5',\n",
       "       'pairing_embedding_unigrams_assertions_local_10',\n",
       "       'pairing_embedding_unigrams_assertions_local_25',\n",
       "       'pairing_embedding_unigrams_assertions_local_50', 'relationship',\n",
       "       'selected_relationships', 'is_romantic', 'is_canon', 'is_mm'],\n",
       "      dtype='object')"
      ]
     },
     "execution_count": 78,
     "metadata": {},
     "output_type": "execute_result"
    }
   ],
   "source": [
    "# Remove problem row/s\n",
    "dev.columns"
   ]
  },
  {
   "cell_type": "code",
   "execution_count": 79,
   "metadata": {},
   "outputs": [
    {
     "data": {
      "text/plain": [
       "(1, 170998)"
      ]
     },
     "execution_count": 79,
     "metadata": {},
     "output_type": "execute_result"
    }
   ],
   "source": [
    "dev.iloc[0]['pairing_embedding_unigrams_assertions_local_10'].shape"
   ]
  },
  {
   "cell_type": "code",
   "execution_count": 81,
   "metadata": {},
   "outputs": [
    {
     "name": "stdout",
     "output_type": "stream",
     "text": [
      "6503\n"
     ]
    },
    {
     "data": {
      "text/plain": [
       "6501"
      ]
     },
     "execution_count": 81,
     "metadata": {},
     "output_type": "execute_result"
    }
   ],
   "source": [
    "print(len(dev))\n",
    "dev = dev.loc[dev['pairing_embedding_unigrams_assertions_local_10'].map(lambda x: x.shape==(1,170998)), :]\n",
    "len(dev)"
   ]
  },
  {
   "cell_type": "code",
   "execution_count": 82,
   "metadata": {},
   "outputs": [
    {
     "data": {
      "text/plain": [
       "{('harry', 'hermione'): 1716,\n",
       " ('harry', 'ron'): 1471,\n",
       " ('draco', 'harry'): 1349,\n",
       " ('hermione', 'ron'): 1184,\n",
       " ('draco', 'hermione'): 449,\n",
       " ('ginny', 'harry'): 332}"
      ]
     },
     "execution_count": 82,
     "metadata": {},
     "output_type": "execute_result"
    }
   ],
   "source": [
    "# Pairing distribution\n",
    "pairing_counts = dev['pairing'].value_counts().to_dict()\n",
    "pairing_counts"
   ]
  },
  {
   "cell_type": "code",
   "execution_count": 74,
   "metadata": {},
   "outputs": [
    {
     "data": {
      "text/plain": [
       "1992"
      ]
     },
     "execution_count": 74,
     "metadata": {},
     "output_type": "execute_result"
    }
   ],
   "source": [
    "min_split = min(pairing_counts.values())\n",
    "min_split * 6"
   ]
  },
  {
   "cell_type": "code",
   "execution_count": 83,
   "metadata": {
    "scrolled": false
   },
   "outputs": [
    {
     "name": "stdout",
     "output_type": "stream",
     "text": [
      "1992\n",
      "Index(['fic_id', 'pairing', 'pairing_embedding_unigrams_assertions_local_5',\n",
      "       'pairing_embedding_unigrams_assertions_local_10',\n",
      "       'pairing_embedding_unigrams_assertions_local_25',\n",
      "       'pairing_embedding_unigrams_assertions_local_50', 'relationship',\n",
      "       'selected_relationships', 'is_romantic', 'is_canon', 'is_mm'],\n",
      "      dtype='object')\n",
      "(ginny, harry)       332\n",
      "(harry, ron)         332\n",
      "(hermione, ron)      332\n",
      "(draco, harry)       332\n",
      "(harry, hermione)    332\n",
      "(draco, hermione)    332\n",
      "Name: pairing, dtype: int64\n"
     ]
    }
   ],
   "source": [
    "# Balance\n",
    "balanced_dev = pd.DataFrame(columns=dev.columns)\n",
    "\n",
    "for pairing in pairing_counts:\n",
    "    \n",
    "    n_sample = min_split\n",
    "    pairing_rows = dev[dev['pairing']==pairing].sample(n_sample)\n",
    "\n",
    "    balanced_dev = pd.concat([balanced_dev, pairing_rows])\n",
    "    \n",
    "print(len(balanced_dev))\n",
    "print(balanced_dev.columns)\n",
    "print(balanced_dev['pairing'].value_counts())"
   ]
  },
  {
   "cell_type": "code",
   "execution_count": 87,
   "metadata": {
    "scrolled": true
   },
   "outputs": [
    {
     "name": "stdout",
     "output_type": "stream",
     "text": [
      "1195\n",
      "797\n"
     ]
    }
   ],
   "source": [
    "from IPython.core.debugger import set_trace\n",
    "\n",
    "from sklearn.linear_model import LogisticRegression\n",
    "from sklearn.model_selection import train_test_split\n",
    "import scipy\n",
    "\n",
    "train, test = train_test_split(balanced_dev, test_size=0.4, random_state=9)\n",
    "print(len(train))\n",
    "print(len(test))\n",
    "\n",
    "feature_sets = [f'pairing_embedding_unigrams_assertions_local_{i}' for i in [5,10,25,50]]\n",
    "predictions = ['is_romantic', 'is_canon', 'is_mm']\n",
    "\n",
    "X_train, y_train = {}, {}\n",
    "X_test, y_test = {}, {}\n",
    "\n",
    "for feature_set in feature_sets:\n",
    "    X_train[feature_set] = scipy.sparse.vstack(train[feature_set].values)\n",
    "    X_test[feature_set] = scipy.sparse.vstack(test[feature_set].values)\n",
    "    \n",
    "for prediction in predictions:\n",
    "    y_train[prediction] = train[prediction].tolist()\n",
    "    y_test[prediction] = test[prediction].tolist()"
   ]
  },
  {
   "cell_type": "code",
   "execution_count": 88,
   "metadata": {},
   "outputs": [
    {
     "name": "stdout",
     "output_type": "stream",
     "text": [
      "pairing_embedding_unigrams_assertions_local_5\tis_romantic: 0.8042659974905897\n",
      "pairing_embedding_unigrams_assertions_local_5\tis_canon: 0.6210790464240903\n",
      "pairing_embedding_unigrams_assertions_local_5\tis_mm: 0.7001254705144291\n",
      "pairing_embedding_unigrams_assertions_local_10\tis_romantic: 0.8030112923462986\n",
      "pairing_embedding_unigrams_assertions_local_10\tis_canon: 0.6223337515683814\n",
      "pairing_embedding_unigrams_assertions_local_10\tis_mm: 0.698870765370138\n",
      "pairing_embedding_unigrams_assertions_local_25\tis_romantic: 0.7979924717691342\n",
      "pairing_embedding_unigrams_assertions_local_25\tis_canon: 0.616060225846926\n",
      "pairing_embedding_unigrams_assertions_local_25\tis_mm: 0.7038895859473023\n",
      "pairing_embedding_unigrams_assertions_local_50\tis_romantic: 0.7979924717691342\n",
      "pairing_embedding_unigrams_assertions_local_50\tis_canon: 0.6122961104140527\n",
      "pairing_embedding_unigrams_assertions_local_50\tis_mm: 0.698870765370138\n"
     ]
    }
   ],
   "source": [
    "results = {feature_set: {} for feature_set in feature_sets}\n",
    "\n",
    "for feature_set in feature_sets:\n",
    "    for key in y_test:\n",
    "\n",
    "        clf = LogisticRegression()\n",
    "        clf.fit(X_train[feature_set], y_train[key])\n",
    "        results[feature_set][key] = clf.score(X_test[feature_set], y_test[key])\n",
    "        print(f'{feature_set}\\t{key}: {results[feature_set][key]}')"
   ]
  },
  {
   "cell_type": "code",
   "execution_count": 95,
   "metadata": {},
   "outputs": [
    {
     "data": {
      "image/png": "[encoded data removed]",
      "text/plain": [
       "<Figure size 432x288 with 1 Axes>"
      ]
     },
     "metadata": {
      "needs_background": "light"
     },
     "output_type": "display_data"
    }
   ],
   "source": [
    "%matplotlib inline\n",
    "\n",
    "import matplotlib.pyplot as plt\n",
    "\n",
    "plt.title('Context window comparison')\n",
    "for key in predictions:\n",
    "    values = [results[cw][key] for cw in feature_sets]\n",
    "    plt.plot([int(f.split('_')[-1]) for f in feature_sets], values)"
   ]
  },
  {
   "cell_type": "markdown",
   "metadata": {},
   "source": [
    "# See how much data require for unigrams with local context 10 to converge"
   ]
  },
  {
   "cell_type": "code",
   "execution_count": 5,
   "metadata": {
    "scrolled": true
   },
   "outputs": [
    {
     "name": "stdout",
     "output_type": "stream",
     "text": [
      "Index(['fic_id', 'pairing', 'pairing_embedding_unigrams_assertions_local',\n",
      "       'relationship', 'selected_relationships', 'is_romantic', 'is_canon',\n",
      "       'is_mm'],\n",
      "      dtype='object')\n"
     ]
    },
    {
     "data": {
      "text/plain": [
       "5903"
      ]
     },
     "execution_count": 5,
     "metadata": {},
     "output_type": "execute_result"
    }
   ],
   "source": [
    "# Load dev\n",
    "import pandas as pd\n",
    "\n",
    "dev = pd.read_pickle('/usr2/mamille2/fanfiction-project/data/features/relationship_prediction_assertion_dev.pkl')\n",
    "print(dev.columns)\n",
    "len(dev)"
   ]
  },
  {
   "cell_type": "code",
   "execution_count": 21,
   "metadata": {},
   "outputs": [
    {
     "data": {
      "text/plain": [
       "5902"
      ]
     },
     "execution_count": 21,
     "metadata": {},
     "output_type": "execute_result"
    }
   ],
   "source": [
    "# Filter out any rows with inconsistent embedding shapes\n",
    "\n",
    "dev['shape'] = dev['pairing_embedding_unigrams_assertions_local'].map(lambda x: x.shape)\n",
    "dev = dev[dev['shape'] == (1, 134240)]\n",
    "len(dev)"
   ]
  },
  {
   "cell_type": "code",
   "execution_count": 27,
   "metadata": {},
   "outputs": [
    {
     "name": "stdout",
     "output_type": "stream",
     "text": [
      "5311\n",
      "591\n"
     ]
    }
   ],
   "source": [
    "from IPython.core.debugger import set_trace\n",
    "\n",
    "from sklearn.linear_model import LogisticRegression\n",
    "from sklearn.model_selection import train_test_split\n",
    "import scipy\n",
    "\n",
    "train, test = train_test_split(dev, test_size=0.1, random_state=9)\n",
    "print(len(train))\n",
    "print(len(test))\n",
    "\n",
    "feature_set = 'unigrams_assertions_local'\n",
    "\n",
    "X_test, y_test = {}, {}\n",
    "X_test[feature_set] = scipy.sparse.vstack(test[f'pairing_embedding_{feature_set}'].tolist())\n",
    "y_test['is_romantic'] = test['is_romantic'].tolist()\n",
    "y_test['is_canon'] = test['is_canon'].tolist()\n",
    "y_test['is_mm'] = test['is_mm'].tolist()"
   ]
  },
  {
   "cell_type": "code",
   "execution_count": 46,
   "metadata": {
    "scrolled": true
   },
   "outputs": [
    {
     "name": "stderr",
     "output_type": "stream",
     "text": [
      "/usr0/home/mamille2/anaconda3/lib/python3.6/site-packages/sklearn/linear_model/logistic.py:433: FutureWarning: Default solver will be changed to 'lbfgs' in 0.22. Specify a solver to silence this warning.\n",
      "  FutureWarning)\n"
     ]
    },
    {
     "name": "stdout",
     "output_type": "stream",
     "text": [
      "500\tis_romantic: 0.7834179357021996\n",
      "500\tis_canon: 0.6717428087986463\n",
      "500\tis_mm: 0.6175972927241963\n",
      "1000\tis_romantic: 0.8071065989847716\n",
      "1000\tis_canon: 0.6852791878172588\n",
      "1000\tis_mm: 0.6598984771573604\n",
      "1200\tis_romantic: 0.8138747884940778\n",
      "1200\tis_canon: 0.6903553299492385\n",
      "1200\tis_mm: 0.6582064297800339\n",
      "1500\tis_romantic: 0.8087986463620981\n",
      "1500\tis_canon: 0.6954314720812182\n",
      "1500\tis_mm: 0.6632825719120136\n",
      "2000\tis_romantic: 0.8155668358714044\n",
      "2000\tis_canon: 0.6954314720812182\n",
      "2000\tis_mm: 0.6785109983079526\n",
      "4000\tis_romantic: 0.8257191201353637\n",
      "4000\tis_canon: 0.6920473773265652\n",
      "4000\tis_mm: 0.6734348561759729\n",
      "5311\tis_romantic: 0.8307952622673435\n",
      "5311\tis_canon: 0.7072758037225042\n",
      "5311\tis_mm: 0.6734348561759729\n"
     ]
    }
   ],
   "source": [
    "results = {}\n",
    "\n",
    "for nrows in [500, 1000, 1200, 1500, 2000, 4000, 5311]:\n",
    "    results[nrows] = {}\n",
    "    sample = train.sample(nrows)\n",
    "    y_train = {}\n",
    "\n",
    "    X_train = scipy.sparse.vstack(sample[f'pairing_embedding_{feature_set}'].tolist())\n",
    "        \n",
    "    y_train['is_romantic'] = sample['is_romantic'].tolist()\n",
    "    y_train['is_canon'] = sample['is_canon'].tolist()\n",
    "    y_train['is_mm'] = sample['is_mm'].tolist()\n",
    "    \n",
    "    for key in ['is_romantic', 'is_canon', 'is_mm']:\n",
    "        clf = LogisticRegression()\n",
    "        clf.fit(X_train, y_train[key])\n",
    "        results[nrows][key] = clf.score(X_test[feature_set], y_test[key])\n",
    "        print(f'{nrows}\\t{key}: {results[nrows][key]}')"
   ]
  },
  {
   "cell_type": "code",
   "execution_count": 47,
   "metadata": {},
   "outputs": [
    {
     "data": {
      "image/png": "[encoded data removed]",
      "text/plain": [
       "<Figure size 432x288 with 1 Axes>"
      ]
     },
     "metadata": {
      "needs_background": "light"
     },
     "output_type": "display_data"
    }
   ],
   "source": [
    "%matplotlib inline\n",
    "\n",
    "import matplotlib.pyplot as plt\n",
    "\n",
    "plt.title('Accuracy vs number of instances for local context 10')\n",
    "for key in y_test:\n",
    "    plt.plot(results.keys(), [results[nrows][key] for nrows in results.keys()])"
   ]
  },
  {
   "cell_type": "markdown",
   "metadata": {},
   "source": [
    "# Build dev set, sample5400, figure out how much data have processed"
   ]
  },
  {
   "cell_type": "code",
   "execution_count": 65,
   "metadata": {},
   "outputs": [
    {
     "name": "stdout",
     "output_type": "stream",
     "text": [
      "Index(['fic_id', 'pairing', 'pairing_embedding_unigrams_assertions_local_5',\n",
      "       'pairing_embedding_unigrams_assertions_local_10',\n",
      "       'pairing_embedding_unigrams_assertions_local_25',\n",
      "       'pairing_embedding_unigrams_assertions_local_50', 'relationship',\n",
      "       'selected_relationships', 'is_romantic', 'is_canon', 'is_mm'],\n",
      "      dtype='object')\n",
      "11903\n"
     ]
    }
   ],
   "source": [
    "import pandas as pd\n",
    "\n",
    "# data = pd.read_pickle('/usr0/home/mamille2/erebor/fanfiction-project/data/features/relationship_prediction_sample6k.pkl')\n",
    "data = pd.read_pickle('/usr2/mamille2/fanfiction-project/data/features/relationship_prediction_6k_assertion_local_ngrams1.pkl')\n",
    "print(data.columns)\n",
    "print(len(data))"
   ]
  },
  {
   "cell_type": "code",
   "execution_count": 66,
   "metadata": {},
   "outputs": [
    {
     "data": {
      "text/plain": [
       "5275"
      ]
     },
     "execution_count": 66,
     "metadata": {},
     "output_type": "execute_result"
    }
   ],
   "source": [
    "# Read in fic_ids where have pipeline assertions\n",
    "import os\n",
    "\n",
    "# pipeline_output_dirpath = '/usr0/home/mamille2/erebor/fanfiction-project/data/ao3/harrypotter/emnlp_dataset_6k/output'\n",
    "pipeline_output_dirpath = '/usr2/mamille2/fanfiction-project/data/ao3/harrypotter/emnlp_dataset_6k/output'\n",
    "fic_ids_processed = [int(fname.split('.')[0]) for fname in os.listdir(os.path.join(pipeline_output_dirpath, 'char_coref_chars'))]\n",
    "len(fic_ids_processed)"
   ]
  },
  {
   "cell_type": "code",
   "execution_count": 67,
   "metadata": {},
   "outputs": [
    {
     "data": {
      "text/plain": [
       "11903"
      ]
     },
     "execution_count": 67,
     "metadata": {},
     "output_type": "execute_result"
    }
   ],
   "source": [
    "processed_data = data[data['fic_id'].isin(fic_ids_processed)]\n",
    "len(processed_data)"
   ]
  },
  {
   "cell_type": "code",
   "execution_count": 68,
   "metadata": {},
   "outputs": [
    {
     "data": {
      "text/plain": [
       "{('harry', 'hermione'): 2617,\n",
       " ('harry', 'ron'): 2371,\n",
       " ('draco', 'harry'): 2249,\n",
       " ('hermione', 'ron'): 2085,\n",
       " ('draco', 'hermione'): 1349,\n",
       " ('ginny', 'harry'): 1232}"
      ]
     },
     "execution_count": 68,
     "metadata": {},
     "output_type": "execute_result"
    }
   ],
   "source": [
    "# Pairing distribution\n",
    "pairing_counts = processed_data['pairing'].value_counts().to_dict()\n",
    "pairing_counts"
   ]
  },
  {
   "cell_type": "code",
   "execution_count": 69,
   "metadata": {
    "scrolled": true
   },
   "outputs": [
    {
     "name": "stdout",
     "output_type": "stream",
     "text": [
      "6503\n"
     ]
    },
    {
     "data": {
      "text/html": [
       "<div>\n",
       "<style scoped>\n",
       "    .dataframe tbody tr th:only-of-type {\n",
       "        vertical-align: middle;\n",
       "    }\n",
       "\n",
       "    .dataframe tbody tr th {\n",
       "        vertical-align: top;\n",
       "    }\n",
       "\n",
       "    .dataframe thead th {\n",
       "        text-align: right;\n",
       "    }\n",
       "</style>\n",
       "<table border=\"1\" class=\"dataframe\">\n",
       "  <thead>\n",
       "    <tr style=\"text-align: right;\">\n",
       "      <th></th>\n",
       "      <th>fic_id</th>\n",
       "      <th>pairing</th>\n",
       "      <th>pairing_embedding_unigrams_assertions_local_5</th>\n",
       "      <th>pairing_embedding_unigrams_assertions_local_10</th>\n",
       "      <th>pairing_embedding_unigrams_assertions_local_25</th>\n",
       "      <th>pairing_embedding_unigrams_assertions_local_50</th>\n",
       "      <th>relationship</th>\n",
       "      <th>selected_relationships</th>\n",
       "      <th>is_romantic</th>\n",
       "      <th>is_canon</th>\n",
       "      <th>is_mm</th>\n",
       "    </tr>\n",
       "  </thead>\n",
       "  <tbody>\n",
       "    <tr>\n",
       "      <th>6680</th>\n",
       "      <td>3466958</td>\n",
       "      <td>(harry, hermione)</td>\n",
       "      <td>(0, 16668)\\t0.10702204339305067\\n  (0, 83634...</td>\n",
       "      <td>(0, 16668)\\t0.11872165140036695\\n  (0, 83634...</td>\n",
       "      <td>(0, 5621)\\t0.015272964749500526\\n  (0, 16668...</td>\n",
       "      <td>(0, 5606)\\t0.006736836054450291\\n  (0, 5621)...</td>\n",
       "      <td>[\"Draco Malfoy/Harry Potter\"]</td>\n",
       "      <td>[(draco, harry)]</td>\n",
       "      <td>False</td>\n",
       "      <td>True</td>\n",
       "      <td>False</td>\n",
       "    </tr>\n",
       "    <tr>\n",
       "      <th>620</th>\n",
       "      <td>10367988</td>\n",
       "      <td>(harry, hermione)</td>\n",
       "      <td>(0, 5621)\\t0.11633895083107913\\n  (0, 6037)\\...</td>\n",
       "      <td>(0, 5621)\\t0.07392581929290652\\n  (0, 6037)\\...</td>\n",
       "      <td>(0, 5621)\\t0.0640179454423523\\n  (0, 16668)\\...</td>\n",
       "      <td>(0, 5621)\\t0.06063458966995505\\n  (0, 16668)...</td>\n",
       "      <td>[\"Hermione Granger/Draco Malfoy\", \"Sirius Blac...</td>\n",
       "      <td>[(draco, hermione)]</td>\n",
       "      <td>False</td>\n",
       "      <td>True</td>\n",
       "      <td>False</td>\n",
       "    </tr>\n",
       "    <tr>\n",
       "      <th>4177</th>\n",
       "      <td>14569368</td>\n",
       "      <td>(harry, hermione)</td>\n",
       "      <td>(0, 5621)\\t0.016532177056177152\\n  (0, 50239...</td>\n",
       "      <td>(0, 5621)\\t0.009798553241625945\\n  (0, 50239...</td>\n",
       "      <td>(0, 40974)\\t0.009838926679428225\\n  (0, 5621...</td>\n",
       "      <td>(0, 40974)\\t0.023763550505724644\\n  (0, 5621...</td>\n",
       "      <td>[\"Merlin &amp; Loki\", \"Merlin &amp; Remus Lupin\", \"Sir...</td>\n",
       "      <td>[]</td>\n",
       "      <td>False</td>\n",
       "      <td>True</td>\n",
       "      <td>False</td>\n",
       "    </tr>\n",
       "    <tr>\n",
       "      <th>9253</th>\n",
       "      <td>6409513</td>\n",
       "      <td>(harry, hermione)</td>\n",
       "      <td>(0, 5606)\\t0.08336490804909996\\n  (0, 16668)...</td>\n",
       "      <td>(0, 5606)\\t0.06748117793572332\\n  (0, 5621)\\...</td>\n",
       "      <td>(0, 5606)\\t0.050761211287490525\\n  (0, 5621)...</td>\n",
       "      <td>(0, 40974)\\t0.017062393040807363\\n  (0, 5606...</td>\n",
       "      <td>[\"Harry Potter &amp; Severus Snape\", \"Minerva McGo...</td>\n",
       "      <td>[(hermione, ron), (ginny, harry)]</td>\n",
       "      <td>False</td>\n",
       "      <td>True</td>\n",
       "      <td>False</td>\n",
       "    </tr>\n",
       "    <tr>\n",
       "      <th>6118</th>\n",
       "      <td>2687837</td>\n",
       "      <td>(harry, hermione)</td>\n",
       "      <td>(0, 83634)\\t0.07407749090506568\\n  (0, 6037)...</td>\n",
       "      <td>(0, 83634)\\t0.039950737987569734\\n  (0, 7852...</td>\n",
       "      <td>(0, 83634)\\t0.03259412351620084\\n  (0, 78528...</td>\n",
       "      <td>(0, 83634)\\t0.03095054677986093\\n  (0, 78528...</td>\n",
       "      <td>[\"Hermione Granger/Draco Malfoy\"]</td>\n",
       "      <td>[(draco, hermione)]</td>\n",
       "      <td>False</td>\n",
       "      <td>True</td>\n",
       "      <td>False</td>\n",
       "    </tr>\n",
       "  </tbody>\n",
       "</table>\n",
       "</div>"
      ],
      "text/plain": [
       "        fic_id            pairing  \\\n",
       "6680   3466958  (harry, hermione)   \n",
       "620   10367988  (harry, hermione)   \n",
       "4177  14569368  (harry, hermione)   \n",
       "9253   6409513  (harry, hermione)   \n",
       "6118   2687837  (harry, hermione)   \n",
       "\n",
       "          pairing_embedding_unigrams_assertions_local_5  \\\n",
       "6680    (0, 16668)\\t0.10702204339305067\\n  (0, 83634...   \n",
       "620     (0, 5621)\\t0.11633895083107913\\n  (0, 6037)\\...   \n",
       "4177    (0, 5621)\\t0.016532177056177152\\n  (0, 50239...   \n",
       "9253    (0, 5606)\\t0.08336490804909996\\n  (0, 16668)...   \n",
       "6118    (0, 83634)\\t0.07407749090506568\\n  (0, 6037)...   \n",
       "\n",
       "         pairing_embedding_unigrams_assertions_local_10  \\\n",
       "6680    (0, 16668)\\t0.11872165140036695\\n  (0, 83634...   \n",
       "620     (0, 5621)\\t0.07392581929290652\\n  (0, 6037)\\...   \n",
       "4177    (0, 5621)\\t0.009798553241625945\\n  (0, 50239...   \n",
       "9253    (0, 5606)\\t0.06748117793572332\\n  (0, 5621)\\...   \n",
       "6118    (0, 83634)\\t0.039950737987569734\\n  (0, 7852...   \n",
       "\n",
       "         pairing_embedding_unigrams_assertions_local_25  \\\n",
       "6680    (0, 5621)\\t0.015272964749500526\\n  (0, 16668...   \n",
       "620     (0, 5621)\\t0.0640179454423523\\n  (0, 16668)\\...   \n",
       "4177    (0, 40974)\\t0.009838926679428225\\n  (0, 5621...   \n",
       "9253    (0, 5606)\\t0.050761211287490525\\n  (0, 5621)...   \n",
       "6118    (0, 83634)\\t0.03259412351620084\\n  (0, 78528...   \n",
       "\n",
       "         pairing_embedding_unigrams_assertions_local_50  \\\n",
       "6680    (0, 5606)\\t0.006736836054450291\\n  (0, 5621)...   \n",
       "620     (0, 5621)\\t0.06063458966995505\\n  (0, 16668)...   \n",
       "4177    (0, 40974)\\t0.023763550505724644\\n  (0, 5621...   \n",
       "9253    (0, 40974)\\t0.017062393040807363\\n  (0, 5606...   \n",
       "6118    (0, 83634)\\t0.03095054677986093\\n  (0, 78528...   \n",
       "\n",
       "                                           relationship  \\\n",
       "6680                      [\"Draco Malfoy/Harry Potter\"]   \n",
       "620   [\"Hermione Granger/Draco Malfoy\", \"Sirius Blac...   \n",
       "4177  [\"Merlin & Loki\", \"Merlin & Remus Lupin\", \"Sir...   \n",
       "9253  [\"Harry Potter & Severus Snape\", \"Minerva McGo...   \n",
       "6118                  [\"Hermione Granger/Draco Malfoy\"]   \n",
       "\n",
       "                 selected_relationships is_romantic is_canon  is_mm  \n",
       "6680                   [(draco, harry)]       False     True  False  \n",
       "620                 [(draco, hermione)]       False     True  False  \n",
       "4177                                 []       False     True  False  \n",
       "9253  [(hermione, ron), (ginny, harry)]       False     True  False  \n",
       "6118                [(draco, hermione)]       False     True  False  "
      ]
     },
     "execution_count": 69,
     "metadata": {},
     "output_type": "execute_result"
    }
   ],
   "source": [
    "# Take dev set out to make rest of the data even among pairs\n",
    "dev = pd.DataFrame(columns=processed_data.columns)\n",
    "\n",
    "for pairing in pairing_counts:\n",
    "    \n",
    "    n_sample = pairing_counts[pairing] - 900\n",
    "    pairing_rows = processed_data[processed_data['pairing']==pairing].sample(n_sample)\n",
    "\n",
    "    dev = pd.concat([dev, pairing_rows])\n",
    "    \n",
    "print(len(dev))\n",
    "dev.head()"
   ]
  },
  {
   "cell_type": "code",
   "execution_count": 70,
   "metadata": {},
   "outputs": [
    {
     "name": "stdout",
     "output_type": "stream",
     "text": [
      "5400\n"
     ]
    },
    {
     "data": {
      "text/plain": [
       "(ginny, harry)       900\n",
       "(hermione, ron)      900\n",
       "(draco, harry)       900\n",
       "(harry, ron)         900\n",
       "(harry, hermione)    900\n",
       "(draco, hermione)    900\n",
       "Name: pairing, dtype: int64"
      ]
     },
     "execution_count": 70,
     "metadata": {},
     "output_type": "execute_result"
    }
   ],
   "source": [
    "nondev_data = processed_data[~processed_data.index.isin(dev.index)]\n",
    "print(len(nondev_data))\n",
    "nondev_data['pairing'].value_counts()"
   ]
  },
  {
   "cell_type": "code",
   "execution_count": 71,
   "metadata": {},
   "outputs": [
    {
     "data": {
      "text/plain": [
       "(harry, hermione)    1717\n",
       "(harry, ron)         1471\n",
       "(draco, harry)       1349\n",
       "(hermione, ron)      1185\n",
       "(draco, hermione)     449\n",
       "(ginny, harry)        332\n",
       "Name: pairing, dtype: int64"
      ]
     },
     "execution_count": 71,
     "metadata": {},
     "output_type": "execute_result"
    }
   ],
   "source": [
    "dev['pairing'].value_counts()"
   ]
  },
  {
   "cell_type": "code",
   "execution_count": 72,
   "metadata": {},
   "outputs": [],
   "source": [
    "# Save\n",
    "nondev_data.to_pickle(f'/usr2/mamille2/fanfiction-project/data/features/relationship_prediction_assertion_sample{len(nondev_data)}.pkl')\n",
    "dev.to_pickle('/usr2/mamille2/fanfiction-project/data/features/relationship_prediction_assertion_dev.pkl')"
   ]
  }
 ],
 "metadata": {
  "kernelspec": {
   "display_name": "Python 3",
   "language": "python",
   "name": "python3"
  },
  "language_info": {
   "codemirror_mode": {
    "name": "ipython",
    "version": 3
   },
   "file_extension": ".py",
   "mimetype": "text/x-python",
   "name": "python",
   "nbconvert_exporter": "python",
   "pygments_lexer": "ipython3",
   "version": "3.6.8"
  }
 },
 "nbformat": 4,
 "nbformat_minor": 2
}
