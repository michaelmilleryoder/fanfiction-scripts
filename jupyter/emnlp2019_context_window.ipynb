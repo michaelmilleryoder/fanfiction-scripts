{
 "cells": [
  {
   "cell_type": "markdown",
   "metadata": {},
   "source": [
    "# See how much data require for unigrams with local context 10 to converge"
   ]
  },
  {
   "cell_type": "code",
   "execution_count": 27,
   "metadata": {},
   "outputs": [
    {
     "data": {
      "text/plain": [
       "853"
      ]
     },
     "execution_count": 27,
     "metadata": {},
     "output_type": "execute_result"
    }
   ],
   "source": [
    "len(dev)"
   ]
  },
  {
   "cell_type": "code",
   "execution_count": null,
   "metadata": {},
   "outputs": [],
   "source": [
    "for nrows in [200, 400, 600, 853]:\n",
    "    "
   ]
  },
  {
   "cell_type": "markdown",
   "metadata": {},
   "source": [
    "# Build dev set, sample5400, figure out how much data have processed"
   ]
  },
  {
   "cell_type": "code",
   "execution_count": 4,
   "metadata": {},
   "outputs": [
    {
     "name": "stdout",
     "output_type": "stream",
     "text": [
      "Index(['fic_id', 'pairing', 'pairing_embedding_embs',\n",
      "       'pairing_embedding_unigrams', 'relationship', 'selected_relationships',\n",
      "       'is_romantic', 'is_canon', 'is_mm'],\n",
      "      dtype='object')\n",
      "6000\n"
     ]
    }
   ],
   "source": [
    "import pandas as pd\n",
    "\n",
    "data = pd.read_pickle('/usr0/home/mamille2/erebor/fanfiction-project/data/features/relationship_prediction_sample6k.pkl')\n",
    "print(data.columns)\n",
    "print(len(data))"
   ]
  },
  {
   "cell_type": "code",
   "execution_count": 5,
   "metadata": {},
   "outputs": [
    {
     "data": {
      "text/plain": [
       "5275"
      ]
     },
     "execution_count": 5,
     "metadata": {},
     "output_type": "execute_result"
    }
   ],
   "source": [
    "# Read in fic_ids where have pipeline assertions\n",
    "import os\n",
    "\n",
    "pipeline_output_dirpath = '/usr0/home/mamille2/erebor/fanfiction-project/data/ao3/harrypotter/emnlp_dataset_6k/output'\n",
    "fic_ids_processed = [int(fname.split('.')[0]) for fname in os.listdir(os.path.join(pipeline_output_dirpath, 'char_coref_chars'))]\n",
    "len(fic_ids_processed)"
   ]
  },
  {
   "cell_type": "code",
   "execution_count": 6,
   "metadata": {},
   "outputs": [
    {
     "data": {
      "text/plain": [
       "5653"
      ]
     },
     "execution_count": 6,
     "metadata": {},
     "output_type": "execute_result"
    }
   ],
   "source": [
    "processed_data = data[data['fic_id'].isin(fic_ids_processed)]\n",
    "len(processed_data)"
   ]
  },
  {
   "cell_type": "code",
   "execution_count": 11,
   "metadata": {},
   "outputs": [
    {
     "data": {
      "text/plain": [
       "{('ginny', 'harry'): 950,\n",
       " ('hermione', 'ron'): 943,\n",
       " ('harry', 'ron'): 942,\n",
       " ('harry', 'hermione'): 941,\n",
       " ('draco', 'harry'): 939,\n",
       " ('draco', 'hermione'): 938}"
      ]
     },
     "execution_count": 11,
     "metadata": {},
     "output_type": "execute_result"
    }
   ],
   "source": [
    "# Pairing distribution\n",
    "pairing_counts = processed_data['pairing'].value_counts().to_dict()\n",
    "pairing_counts"
   ]
  },
  {
   "cell_type": "code",
   "execution_count": 23,
   "metadata": {
    "scrolled": true
   },
   "outputs": [
    {
     "name": "stdout",
     "output_type": "stream",
     "text": [
      "853\n"
     ]
    },
    {
     "data": {
      "text/html": [
       "<div>\n",
       "<style scoped>\n",
       "    .dataframe tbody tr th:only-of-type {\n",
       "        vertical-align: middle;\n",
       "    }\n",
       "\n",
       "    .dataframe tbody tr th {\n",
       "        vertical-align: top;\n",
       "    }\n",
       "\n",
       "    .dataframe thead th {\n",
       "        text-align: right;\n",
       "    }\n",
       "</style>\n",
       "<table border=\"1\" class=\"dataframe\">\n",
       "  <thead>\n",
       "    <tr style=\"text-align: right;\">\n",
       "      <th></th>\n",
       "      <th>fic_id</th>\n",
       "      <th>pairing</th>\n",
       "      <th>pairing_embedding_embs</th>\n",
       "      <th>pairing_embedding_unigrams</th>\n",
       "      <th>relationship</th>\n",
       "      <th>selected_relationships</th>\n",
       "      <th>is_romantic</th>\n",
       "      <th>is_canon</th>\n",
       "      <th>is_mm</th>\n",
       "    </tr>\n",
       "  </thead>\n",
       "  <tbody>\n",
       "    <tr>\n",
       "      <th>60769</th>\n",
       "      <td>3893437</td>\n",
       "      <td>(ginny, harry)</td>\n",
       "      <td>[-0.09474506, -0.6967747, 1.1392572, 0.3700963...</td>\n",
       "      <td>(0, 72347)\\t0.0813570378252241\\n  (0, 97978)...</td>\n",
       "      <td>[\"Draco Malfoy/Harry Potter\"]</td>\n",
       "      <td>[(draco, harry)]</td>\n",
       "      <td>False</td>\n",
       "      <td>False</td>\n",
       "      <td>False</td>\n",
       "    </tr>\n",
       "    <tr>\n",
       "      <th>104380</th>\n",
       "      <td>9891458</td>\n",
       "      <td>(ginny, harry)</td>\n",
       "      <td>[-0.0667619, -0.68298775, 1.2705771, 0.5642065...</td>\n",
       "      <td>(0, 97978)\\t0.03231275649171685\\n  (0, 16108...</td>\n",
       "      <td>[]</td>\n",
       "      <td>[]</td>\n",
       "      <td>False</td>\n",
       "      <td>False</td>\n",
       "      <td>False</td>\n",
       "    </tr>\n",
       "    <tr>\n",
       "      <th>30026</th>\n",
       "      <td>13850373</td>\n",
       "      <td>(ginny, harry)</td>\n",
       "      <td>[-0.010620714, -0.45096874, 1.2573825, 0.40351...</td>\n",
       "      <td>(0, 97978)\\t0.13840863754590726\\n  (0, 31084...</td>\n",
       "      <td>[\"Hermione Granger/Tom Riddle\"]</td>\n",
       "      <td>[]</td>\n",
       "      <td>False</td>\n",
       "      <td>False</td>\n",
       "      <td>False</td>\n",
       "    </tr>\n",
       "    <tr>\n",
       "      <th>85025</th>\n",
       "      <td>7447762</td>\n",
       "      <td>(ginny, harry)</td>\n",
       "      <td>[0.06345814, -0.6884086, 0.7959029, 0.5834352,...</td>\n",
       "      <td>(0, 284058)\\t0.08375701179585597\\n  (0, 5852...</td>\n",
       "      <td>[\"Draco Malfoy/Harry Potter\"]</td>\n",
       "      <td>[(draco, harry)]</td>\n",
       "      <td>False</td>\n",
       "      <td>False</td>\n",
       "      <td>False</td>\n",
       "    </tr>\n",
       "    <tr>\n",
       "      <th>5680</th>\n",
       "      <td>10397631</td>\n",
       "      <td>(ginny, harry)</td>\n",
       "      <td>[-0.11702293, -0.5292652, 1.3536028, 0.5892232...</td>\n",
       "      <td>(0, 271840)\\t0.01335013246605058\\n  (0, 2777...</td>\n",
       "      <td>[\"Harry Potter/OMC\", \"Remus Lupin/Harry Potter...</td>\n",
       "      <td>[]</td>\n",
       "      <td>False</td>\n",
       "      <td>False</td>\n",
       "      <td>False</td>\n",
       "    </tr>\n",
       "  </tbody>\n",
       "</table>\n",
       "</div>"
      ],
      "text/plain": [
       "          fic_id         pairing  \\\n",
       "60769    3893437  (ginny, harry)   \n",
       "104380   9891458  (ginny, harry)   \n",
       "30026   13850373  (ginny, harry)   \n",
       "85025    7447762  (ginny, harry)   \n",
       "5680    10397631  (ginny, harry)   \n",
       "\n",
       "                                   pairing_embedding_embs  \\\n",
       "60769   [-0.09474506, -0.6967747, 1.1392572, 0.3700963...   \n",
       "104380  [-0.0667619, -0.68298775, 1.2705771, 0.5642065...   \n",
       "30026   [-0.010620714, -0.45096874, 1.2573825, 0.40351...   \n",
       "85025   [0.06345814, -0.6884086, 0.7959029, 0.5834352,...   \n",
       "5680    [-0.11702293, -0.5292652, 1.3536028, 0.5892232...   \n",
       "\n",
       "                               pairing_embedding_unigrams  \\\n",
       "60769     (0, 72347)\\t0.0813570378252241\\n  (0, 97978)...   \n",
       "104380    (0, 97978)\\t0.03231275649171685\\n  (0, 16108...   \n",
       "30026     (0, 97978)\\t0.13840863754590726\\n  (0, 31084...   \n",
       "85025     (0, 284058)\\t0.08375701179585597\\n  (0, 5852...   \n",
       "5680      (0, 271840)\\t0.01335013246605058\\n  (0, 2777...   \n",
       "\n",
       "                                             relationship  \\\n",
       "60769                       [\"Draco Malfoy/Harry Potter\"]   \n",
       "104380                                                 []   \n",
       "30026                     [\"Hermione Granger/Tom Riddle\"]   \n",
       "85025                       [\"Draco Malfoy/Harry Potter\"]   \n",
       "5680    [\"Harry Potter/OMC\", \"Remus Lupin/Harry Potter...   \n",
       "\n",
       "       selected_relationships is_romantic is_canon  is_mm  \n",
       "60769        [(draco, harry)]       False    False  False  \n",
       "104380                     []       False    False  False  \n",
       "30026                      []       False    False  False  \n",
       "85025        [(draco, harry)]       False    False  False  \n",
       "5680                       []       False    False  False  "
      ]
     },
     "execution_count": 23,
     "metadata": {},
     "output_type": "execute_result"
    }
   ],
   "source": [
    "# Take dev set out to make rest of the data even among pairs\n",
    "dev = pd.DataFrame(columns=processed_data.columns)\n",
    "\n",
    "for pairing in pairing_counts:\n",
    "    \n",
    "    n_sample = pairing_counts[pairing] - 800\n",
    "    pairing_rows = processed_data[processed_data['pairing']==pairing].sample(n_sample)\n",
    "\n",
    "    dev = pd.concat([dev, pairing_rows])\n",
    "    \n",
    "print(len(dev))\n",
    "dev.head()"
   ]
  },
  {
   "cell_type": "code",
   "execution_count": 24,
   "metadata": {},
   "outputs": [
    {
     "name": "stdout",
     "output_type": "stream",
     "text": [
      "4800\n"
     ]
    },
    {
     "data": {
      "text/plain": [
       "(harry, hermione)    800\n",
       "(draco, harry)       800\n",
       "(ginny, harry)       800\n",
       "(harry, ron)         800\n",
       "(draco, hermione)    800\n",
       "(hermione, ron)      800\n",
       "Name: pairing, dtype: int64"
      ]
     },
     "execution_count": 24,
     "metadata": {},
     "output_type": "execute_result"
    }
   ],
   "source": [
    "nondev_data = processed_data[~processed_data.index.isin(dev.index)]\n",
    "print(len(nondev_data))\n",
    "nondev_data['pairing'].value_counts()"
   ]
  },
  {
   "cell_type": "code",
   "execution_count": 25,
   "metadata": {},
   "outputs": [
    {
     "data": {
      "text/plain": [
       "(ginny, harry)       150\n",
       "(hermione, ron)      143\n",
       "(harry, ron)         142\n",
       "(harry, hermione)    141\n",
       "(draco, harry)       139\n",
       "(draco, hermione)    138\n",
       "Name: pairing, dtype: int64"
      ]
     },
     "execution_count": 25,
     "metadata": {},
     "output_type": "execute_result"
    }
   ],
   "source": [
    "dev['pairing'].value_counts()"
   ]
  },
  {
   "cell_type": "code",
   "execution_count": 26,
   "metadata": {},
   "outputs": [],
   "source": [
    "# Save\n",
    "nondev_data.to_pickle(f'/usr0/home/mamille2/erebor/fanfiction-project/data/features/relationship_prediction_sample{len(nondev_data)}.pkl')\n",
    "dev.to_pickle('/usr0/home/mamille2/erebor/fanfiction-project/data/features/relationship_prediction_6k_dev.pkl')"
   ]
  }
 ],
 "metadata": {
  "kernelspec": {
   "display_name": "Python 3",
   "language": "python",
   "name": "python3"
  },
  "language_info": {
   "codemirror_mode": {
    "name": "ipython",
    "version": 3
   },
   "file_extension": ".py",
   "mimetype": "text/x-python",
   "name": "python",
   "nbconvert_exporter": "python",
   "pygments_lexer": "ipython3",
   "version": "3.6.8"
  }
 },
 "nbformat": 4,
 "nbformat_minor": 2
}
