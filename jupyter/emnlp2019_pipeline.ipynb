{
 "cells": [
  {
   "cell_type": "markdown",
   "metadata": {},
   "source": [
    "# Separate fics into done, 100-fic chunks for parallelizing pipeline"
   ]
  },
  {
   "cell_type": "code",
   "execution_count": 2,
   "metadata": {},
   "outputs": [
    {
     "data": {
      "text/plain": [
       "5594"
      ]
     },
     "execution_count": 2,
     "metadata": {},
     "output_type": "execute_result"
    }
   ],
   "source": [
    "import os\n",
    "\n",
    "data_dirpath = '/usr0/home/mamille2/erebor/fanfiction-project/data/ao3/harrypotter/emnlp_dataset_6k/' # misty\n",
    "\n",
    "all_fic_ids = [int(fname[:-4]) for fname in os.listdir(os.path.join(data_dirpath, 'fics'))]\n",
    "len(all_fic_ids)"
   ]
  },
  {
   "cell_type": "markdown",
   "metadata": {},
   "source": [
    "# Get fic_ids to run the pipeline"
   ]
  },
  {
   "cell_type": "code",
   "execution_count": 1,
   "metadata": {},
   "outputs": [
    {
     "name": "stdout",
     "output_type": "stream",
     "text": [
      "Index(['fic_id', 'pairing', 'pairing_embedding_embs',\n",
      "       'pairing_embedding_unigrams', 'relationship', 'selected_relationships',\n",
      "       'is_romantic'],\n",
      "      dtype='object')\n"
     ]
    },
    {
     "data": {
      "text/plain": [
       "array([('draco', 'harry'), ('hermione', 'ron'), ('ginny', 'harry'),\n",
       "       ('draco', 'hermione'), ('harry', 'hermione'), ('harry', 'ron')], dtype=object)"
      ]
     },
     "execution_count": 1,
     "metadata": {},
     "output_type": "execute_result"
    }
   ],
   "source": [
    "# Load existing data (5+ paragraphs with at least one pairing together)\n",
    "\n",
    "import pandas as pd\n",
    "\n",
    "# Load data\n",
    "data = pd.read_pickle('/usr2/mamille2/fanfiction-project/data/features/relationship_prediction.pkl')\n",
    "len(data)\n",
    "print(data.columns)\n",
    "\n",
    "pairings = data['pairing'].unique()\n",
    "pairings"
   ]
  },
  {
   "cell_type": "code",
   "execution_count": 2,
   "metadata": {},
   "outputs": [],
   "source": [
    "canon_relationship_map = {\n",
    "        ('draco', 'harry'): False,\n",
    "        ('hermione', 'ron'): True,\n",
    "        ('ginny', 'harry'): True,\n",
    "        ('draco', 'hermione'): False,\n",
    "        ('harry', 'hermione'): False,\n",
    "        ('harry', 'ron'): False,\n",
    "                         }\n",
    "\n",
    "relationship_type_map = {\n",
    "        ('draco', 'harry'): True,\n",
    "        ('hermione', 'ron'): False,\n",
    "        ('ginny', 'harry'): False,\n",
    "        ('draco', 'hermione'): False,\n",
    "        ('harry', 'hermione'): False,\n",
    "        ('harry', 'ron'): True,\n",
    "                         }\n",
    "\n",
    "data['is_canon'] = [(is_romantic and canon_relationship_map[pairing]) or (not is_romantic and not canon_relationship_map[pairing]) \\\n",
    "                    for is_romantic, pairing in zip(data['is_romantic'], data['pairing'])]\n",
    "\n",
    "data['is_mm'] = data['pairing'].map(lambda x: relationship_type_map[x])"
   ]
  },
  {
   "cell_type": "code",
   "execution_count": 3,
   "metadata": {},
   "outputs": [],
   "source": [
    "# Save out\n",
    "data.to_pickle('/usr2/mamille2/fanfiction-project/data/features/relationship_prediction.pkl')"
   ]
  },
  {
   "cell_type": "code",
   "execution_count": 4,
   "metadata": {},
   "outputs": [
    {
     "data": {
      "text/plain": [
       "44647"
      ]
     },
     "execution_count": 4,
     "metadata": {},
     "output_type": "execute_result"
    }
   ],
   "source": [
    "fic_ids = sorted(data['fic_id'].unique())\n",
    "len(fic_ids)"
   ]
  },
  {
   "cell_type": "code",
   "execution_count": null,
   "metadata": {},
   "outputs": [],
   "source": [
    "# Copy those fic_ids to new directory for pipeline\n",
    "import os\n",
    "from tqdm import tqdm_notebook as tqdm\n",
    "\n",
    "data_dirpath = '/usr2/scratch/fanfic/ao3_harrypotter_text/stories/'\n",
    "\n",
    "for fic_id in tqdm(fic_ids):\n",
    "    fic_fpath = "
   ]
  }
 ],
 "metadata": {
  "kernelspec": {
   "display_name": "Python 3",
   "language": "python",
   "name": "python3"
  },
  "language_info": {
   "codemirror_mode": {
    "name": "ipython",
    "version": 3
   },
   "file_extension": ".py",
   "mimetype": "text/x-python",
   "name": "python",
   "nbconvert_exporter": "python",
   "pygments_lexer": "ipython3",
   "version": "3.6.8"
  }
 },
 "nbformat": 4,
 "nbformat_minor": 2
}
