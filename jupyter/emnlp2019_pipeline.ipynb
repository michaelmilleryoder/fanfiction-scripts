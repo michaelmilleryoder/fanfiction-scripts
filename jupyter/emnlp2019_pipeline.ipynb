{
 "cells": [
  {
   "cell_type": "markdown",
   "metadata": {},
   "source": [
    "# Get fic_ids to run the pipeline"
   ]
  },
  {
   "cell_type": "code",
   "execution_count": 1,
   "metadata": {},
   "outputs": [
    {
     "name": "stdout",
     "output_type": "stream",
     "text": [
      "Index(['fic_id', 'pairing', 'pairing_embedding_embs',\n",
      "       'pairing_embedding_unigrams', 'relationship', 'selected_relationships',\n",
      "       'is_romantic'],\n",
      "      dtype='object')\n"
     ]
    },
    {
     "data": {
      "text/plain": [
       "array([('draco', 'harry'), ('hermione', 'ron'), ('ginny', 'harry'),\n",
       "       ('draco', 'hermione'), ('harry', 'hermione'), ('harry', 'ron')], dtype=object)"
      ]
     },
     "execution_count": 1,
     "metadata": {},
     "output_type": "execute_result"
    }
   ],
   "source": [
    "# Load existing data (5+ paragraphs with at least one pairing together)\n",
    "\n",
    "import pandas as pd\n",
    "\n",
    "# Load data\n",
    "data = pd.read_pickle('/usr2/mamille2/fanfiction-project/data/features/relationship_prediction.pkl')\n",
    "len(data)\n",
    "print(data.columns)\n",
    "\n",
    "pairings = data['pairing'].unique()\n",
    "pairings"
   ]
  },
  {
   "cell_type": "code",
   "execution_count": 2,
   "metadata": {},
   "outputs": [],
   "source": [
    "canon_relationship_map = {\n",
    "        ('draco', 'harry'): False,\n",
    "        ('hermione', 'ron'): True,\n",
    "        ('ginny', 'harry'): True,\n",
    "        ('draco', 'hermione'): False,\n",
    "        ('harry', 'hermione'): False,\n",
    "        ('harry', 'ron'): False,\n",
    "                         }\n",
    "\n",
    "relationship_type_map = {\n",
    "        ('draco', 'harry'): True,\n",
    "        ('hermione', 'ron'): False,\n",
    "        ('ginny', 'harry'): False,\n",
    "        ('draco', 'hermione'): False,\n",
    "        ('harry', 'hermione'): False,\n",
    "        ('harry', 'ron'): True,\n",
    "                         }\n",
    "\n",
    "data['is_canon'] = [(is_romantic and canon_relationship_map[pairing]) or (not is_romantic and not canon_relationship_map[pairing]) \\\n",
    "                    for is_romantic, pairing in zip(data['is_romantic'], data['pairing'])]\n",
    "\n",
    "data['is_mm'] = data['pairing'].map(lambda x: relationship_type_map[x])"
   ]
  },
  {
   "cell_type": "code",
   "execution_count": 3,
   "metadata": {},
   "outputs": [],
   "source": [
    "# Save out\n",
    "data.to_pickle('/usr2/mamille2/fanfiction-project/data/features/relationship_prediction.pkl')"
   ]
  },
  {
   "cell_type": "code",
   "execution_count": 4,
   "metadata": {},
   "outputs": [
    {
     "data": {
      "text/plain": [
       "44647"
      ]
     },
     "execution_count": 4,
     "metadata": {},
     "output_type": "execute_result"
    }
   ],
   "source": [
    "fic_ids = sorted(data['fic_id'].unique())\n",
    "len(fic_ids)"
   ]
  },
  {
   "cell_type": "code",
   "execution_count": 7,
   "metadata": {},
   "outputs": [
    {
     "data": {
      "text/plain": [
       "565584"
      ]
     },
     "execution_count": 7,
     "metadata": {},
     "output_type": "execute_result"
    }
   ],
   "source": [
    "# Create dict of fic_id: chapter_fnames\n",
    "\n",
    "fnames = os.listdir(data_dirpath)\n",
    "len(fnames)"
   ]
  },
  {
   "cell_type": "code",
   "execution_count": 8,
   "metadata": {},
   "outputs": [
    {
     "data": {
      "application/vnd.jupyter.widget-view+json": {
       "model_id": "715df60e730947d9a84352648134a6e9",
       "version_major": 2,
       "version_minor": 0
      },
      "text/plain": [
       "HBox(children=(IntProgress(value=0, max=565584), HTML(value='')))"
      ]
     },
     "metadata": {},
     "output_type": "display_data"
    },
    {
     "data": {
      "text/plain": [
       "179407"
      ]
     },
     "execution_count": 8,
     "metadata": {},
     "output_type": "execute_result"
    }
   ],
   "source": [
    "from collections import defaultdict\n",
    "\n",
    "fic_chapters = defaultdict(list)\n",
    "for fname in tqdm(fnames):\n",
    "    fic_id = int(fname.split('_')[0])\n",
    "    fic_chapters[fic_id].append(fname)\n",
    "    \n",
    "len(fic_chapters)"
   ]
  },
  {
   "cell_type": "code",
   "execution_count": 10,
   "metadata": {},
   "outputs": [
    {
     "data": {
      "application/vnd.jupyter.widget-view+json": {
       "model_id": "80e8491bdaf04ba5b03015466d42e08f",
       "version_major": 2,
       "version_minor": 0
      },
      "text/plain": [
       "HBox(children=(IntProgress(value=0, max=44647), HTML(value='')))"
      ]
     },
     "metadata": {},
     "output_type": "display_data"
    }
   ],
   "source": [
    "# Copy those fic_ids to new directory for pipeline\n",
    "import os\n",
    "from tqdm import tqdm_notebook as tqdm\n",
    "\n",
    "data_dirpath = '/usr2/scratch/fanfic/ao3_harrypotter_text/stories/'\n",
    "# data_dirpath = '/usr2/mamille2/fanfiction-project/data/ao3/harrypotter/fics_paras\n",
    "out_dirpath = '/usr2/mamille2/fanfiction-project/data/ao3/harrypotter/emnlp_dataset'\n",
    "\n",
    "for fic_id in tqdm(fic_ids):\n",
    "    chapter_fnames = fic_chapters[fic_id]\n",
    "    \n",
    "    # Combine into 1 fic text\n",
    "    with open(os.path.join(out_dirpath, f'{fic_id}.csv'), 'w') as out:\n",
    "        \n",
    "        # header\n",
    "        fname = chapter_fnames[0]\n",
    "        fpath = os.path.join(data_dirpath, fname)\n",
    "        with open(fpath) as f:\n",
    "            for line in f:\n",
    "                out.write(line)\n",
    "            \n",
    "        for fname in chapter_fnames[1:]:\n",
    "            fpath = os.path.join(data_dirpath, fname)\n",
    "            with open(fpath) as f:\n",
    "                lines = f.read().splitlines()\n",
    "                for line in lines[1:]:\n",
    "                    out.write(line)"
   ]
  },
  {
   "cell_type": "code",
   "execution_count": 16,
   "metadata": {
    "scrolled": true
   },
   "outputs": [
    {
     "data": {
      "text/plain": [
       "6000"
      ]
     },
     "execution_count": 16,
     "metadata": {},
     "output_type": "execute_result"
    }
   ],
   "source": [
    "# Sample equal split among pairings\n",
    "\n",
    "sample = data.sample(frac=1).groupby('pairing').head(1000)\n",
    "len(sample)"
   ]
  },
  {
   "cell_type": "code",
   "execution_count": 17,
   "metadata": {},
   "outputs": [],
   "source": [
    "# Save out sample\n",
    "sample.to_pickle('/usr2/mamille2/fanfiction-project/data/features/relationship_prediction_sample6k.pkl')"
   ]
  },
  {
   "cell_type": "code",
   "execution_count": 18,
   "metadata": {},
   "outputs": [
    {
     "data": {
      "text/plain": [
       "5594"
      ]
     },
     "execution_count": 18,
     "metadata": {},
     "output_type": "execute_result"
    }
   ],
   "source": [
    "sampled_fic_ids = sorted(sample['fic_id'].unique())\n",
    "len(sampled_fic_ids)"
   ]
  },
  {
   "cell_type": "code",
   "execution_count": 21,
   "metadata": {},
   "outputs": [
    {
     "data": {
      "text/plain": [
       "[119, 1260, 1261, 2674, 3896, 5223, 7350, 8151, 8154, 9773]"
      ]
     },
     "execution_count": 21,
     "metadata": {},
     "output_type": "execute_result"
    }
   ],
   "source": [
    "sampled_fic_ids[:10]"
   ]
  },
  {
   "cell_type": "code",
   "execution_count": 24,
   "metadata": {},
   "outputs": [
    {
     "data": {
      "application/vnd.jupyter.widget-view+json": {
       "model_id": "84d04b96995e4adb8f17696ddf07a5f2",
       "version_major": 2,
       "version_minor": 0
      },
      "text/plain": [
       "HBox(children=(IntProgress(value=0, max=5594), HTML(value='')))"
      ]
     },
     "metadata": {},
     "output_type": "display_data"
    }
   ],
   "source": [
    "import shutil\n",
    "\n",
    "for fic_id in tqdm(sampled_fic_ids):\n",
    "    from_dirpath = '/usr2/mamille2/fanfiction-project/data/ao3/harrypotter/emnlp_dataset/fics'\n",
    "    to_dirpath = '/usr2/mamille2/fanfiction-project/data/ao3/harrypotter/emnlp_dataset_6k/fics'\n",
    "    \n",
    "    shutil.copy(os.path.join(from_dirpath, f'{fic_id}.csv'), os.path.join(to_dirpath, f'{fic_id}.csv'))"
   ]
  }
 ],
 "metadata": {
  "kernelspec": {
   "display_name": "Python 3",
   "language": "python",
   "name": "python3"
  },
  "language_info": {
   "codemirror_mode": {
    "name": "ipython",
    "version": 3
   },
   "file_extension": ".py",
   "mimetype": "text/x-python",
   "name": "python",
   "nbconvert_exporter": "python",
   "pygments_lexer": "ipython3",
   "version": "3.6.4"
  }
 },
 "nbformat": 4,
 "nbformat_minor": 2
}
