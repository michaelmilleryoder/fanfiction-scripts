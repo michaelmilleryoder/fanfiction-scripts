{
 "cells": [
  {
   "cell_type": "markdown",
   "metadata": {},
   "source": [
    "# Extract paragraph features from extracted character assertions"
   ]
  },
  {
   "cell_type": "code",
   "execution_count": 12,
   "metadata": {},
   "outputs": [
    {
     "data": {
      "text/plain": [
       "833"
      ]
     },
     "execution_count": 12,
     "metadata": {},
     "output_type": "execute_result"
    }
   ],
   "source": [
    "import os\n",
    "\n",
    "assertions_dirpath = '/usr0/home/mamille2/erebor/fanfiction-project/data/ao3/harrypotter/emnlp_dataset_6k/output/assertion_extraction' # misty\n",
    "len(os.listdir(assertions_dirpath))"
   ]
  },
  {
   "cell_type": "code",
   "execution_count": 15,
   "metadata": {},
   "outputs": [
    {
     "data": {
      "text/plain": [
       "dict_keys(['($_summer)', '($_the_whole_``_Harry)', '($_Occulmency_,_as_Snape)', '($_Sirius)', '($_Remus)', '($_Voldemort)', '($_the_Ministry)', '($_Dumbledore)', '($_Emmett)', '($_R.A.B.)', '($_Draco_Malfoy)', '($_the_Death_Eaters)', '($_Jasper)', '($_a_Death_Eater)', '($_Luna)', '($_Neville)', '($_Theodore_Nott)', '($_Hogwarts)', '($_The_Death_Eaters)', '($_the_Order)', '($_to_the_Dursleys)', '($_The_Order)', '($_Illyantia)', '($_Carlisle)', '($_this_Edward)', '($_Esme)', '($_that_night)', '($_Carlilse)', '($_the_day)', '($_Alice)', '($_Rosalie)', '($_Mike_Newton)'])"
      ]
     },
     "execution_count": 15,
     "metadata": {},
     "output_type": "execute_result"
    }
   ],
   "source": [
    "import json\n",
    "\n",
    "assertions = {}\n",
    "for fname in sorted(os.listdir(assertions_dirpath))[:1]:\n",
    "    \n",
    "    fic_id = int(fname.split('.')[0])\n",
    "    \n",
    "    with open(os.path.join(assertions_dirpath, fname)) as f:\n",
    "        assertions[fic_id] = json.load(f)\n",
    "        \n",
    "assertions[fic_id].keys()"
   ]
  },
  {
   "cell_type": "code",
   "execution_count": 18,
   "metadata": {},
   "outputs": [],
   "source": [
    "chars = ['harry', 'ron', 'hermione', 'draco', 'ginny']"
   ]
  },
  {
   "cell_type": "code",
   "execution_count": 19,
   "metadata": {},
   "outputs": [
    {
     "data": {
      "text/plain": [
       "['($_the_whole_``_Harry)', '($_Draco_Malfoy)']"
      ]
     },
     "execution_count": 19,
     "metadata": {},
     "output_type": "execute_result"
    }
   ],
   "source": [
    "matches = [charname for charname in assertions[fic_id] if any([c in charname.lower() for c in chars])]\n",
    "matches"
   ]
  },
  {
   "cell_type": "code",
   "execution_count": 20,
   "metadata": {
    "scrolled": true
   },
   "outputs": [
    {
     "data": {
      "text/plain": [
       "['Harry ($_the_whole_``_Harry) smiled thinking about the events that happened during his ($_the_whole_``_Harry) sixth year , some were hard and others were so easy to accept ; once Draco and he ($_the_whole_``_Harry) got past their mutual hatred of each other . \\n',\n",
       " \" `` I ($_the_whole_``_Harry) never told Sirius_and_Remus ($_Sirius) Remus ($_Remus) about the conversation with Dumbledore ($_Dumbledore) after the battle , except the prophesy . I ($_the_whole_``_Harry) knew they would feel guilt for not being there to help me ($_the_whole_``_Harry) when Dumbledore ($_Dumbledore) manipulated my ($_the_whole_``_Harry) life for his ($_Dumbledore) own goals . I ($_the_whole_``_Harry) knew that if they ever found out that they might confront Dumbledore ($_Dumbledore) and I ($_the_whole_``_Harry) was worried about the outcome of that conversation . Sirius ($_Sirius) was an escaped convict and Remus ($_Remus) was a werewolf , Dumbledore ($_Dumbledore) could make their lives hell if he ($_Dumbledore) chose . After that night in the_Ministry ($_the_Ministry) , I ($_the_whole_``_Harry) talked to Remus and Sirius ($_Sirius) , telling them I ($_the_whole_``_Harry) needed more training . I ($_the_whole_``_Harry) was n't ready to fight Voldemort ($_Voldemort) and told them so . So they , Dumbledore and Snape ($_Occulmency_,_as_Snape) began training me ($_the_whole_``_Harry) in advance magic .\",\n",
       " \" Since then , I ($_the_whole_``_Harry) have learned advance defensive magic , charms , transfiguration and Occulmency ($_Occulmency_,_as_Snape) . I ($_the_whole_``_Harry) was able to learn a great deal from everything , but Occulmency_,_as_Snape ($_Occulmency_,_as_Snape) Snape ($_Occulmency_,_as_Snape) was my ($_the_whole_``_Harry) teacher again . Snape ($_Occulmency_,_as_Snape) made the lessons as trying as the last ones ; I ($_the_whole_``_Harry) learned to partly shield my ($_the_whole_``_Harry) mind , but not fully . ''\",\n",
       " ' `` I ($_the_whole_``_Harry) tried , but he had no patience for teaching me ($_the_whole_``_Harry) and it showed . Dumbledore ($_Dumbledore) also began meeting with me ($_the_whole_``_Harry) and taught me ($_the_whole_``_Harry) about horcruxes and how Voldemort ($_Voldemort) had begun using them to attain immortality . We researched possible items that Voldemort ($_Voldemort) would use for horcruxes and where they might be . It was a long and tedious task and still to this day is not finished . He ($_Dumbledore) obtained information that Voldemort ($_Voldemort) had seven horcruxes , so we knew at least how many we needed to destroy .',\n",
       " \" Three had already been destroyed ; the diary from second year and a ring that Dumbledore ($_Dumbledore) destroyed in the summer ($_summer) between fifth and sixth year . There was one more we found that year or so we thought . Dumbledore and I ($_the_whole_``_Harry) went to a cave located on the coast that was near the orphanage Voldemort ($_Voldemort) grew up at . We found a locket there , but it seemed someone else had taken the real one and replaced it with a fake . ''\",\n",
       " \" He knew that he was n't going to be allowed to live once he deserted Voldemort ($_Voldemort) , so he took revenge for his future death . He took the real locket and had meant to destroy it , but he was killed before he could do so and the locket disappeared . We later found it of all places , in Sirius ($_Sirius) ' family house and destroyed it . It turned out R.A.B. ($_R.A.B.) had been Sirius_' ($_Sirius) younger brother Regulus . '' Harry ($_the_whole_``_Harry) said with a sad smile . `` Sirius ($_Sirius) ' family , who were purebloods , were strict blood purists and he was the first in a long line to not believe he was better than others just because of his supposed magical purity . ''\",\n",
       " \" Harry ($_the_whole_``_Harry) then frowned and spoke again . `` Just before the new term of school started Draco_Malfoy ($_Draco_Malfoy) was brought before Voldemort ($_Voldemort) . During the battle at the_Ministry ($_the_Ministry) his ($_Draco_Malfoy) his_father ($_Draco_Malfoy) was captured by Aurors and was sent to Azkaban prison . Voldemort ($_Voldemort) was very displeased with Lucius and told Draco ($_Draco_Malfoy) he ($_Voldemort) needed to prove his ($_Voldemort) family 's loyalty to Voldemort . He ($_Voldemort) told Draco ($_Draco_Malfoy) to do this , he ($_Voldemort) must find a way to get Death_Eaters ($_the_Death_Eaters) into the school and kill Dumbledore ($_Dumbledore) . ''\",\n",
       " \"They looked disbelieving and Harry ($_the_whole_``_Harry) laughed . `` He ($_Draco_Malfoy) really had changed and he ($_Draco_Malfoy) , Neville ($_Neville) , Luna ($_Luna) and I became close friends . We helped each other survive that year , surrounded by people who either hated us , feared us or in Neville ($_Neville) and Luna ($_Luna) 's case ; the other students just did n't understand them . '' \\n\",\n",
       " \" `` The plan to kill Dumbledore ($_Dumbledore) failed . '' Harry ($_the_whole_``_Harry) said with a blank face .\",\n",
       " \" He ($_the_whole_``_Harry) did not wish the wizard dead , but he ($_the_whole_``_Harry) would not have mourned his ($_the_whole_``_Harry) loss either . `` Nott ($_Theodore_Nott) tried , but he ($_Theodore_Nott) was no match for the older wizard . Many other death Eaters tried as well and severely wounded Dumbledore ($_Dumbledore) , but he ($_Theodore_Nott) survived . After a long fight , the_Death_Eaters ($_the_Death_Eaters) were either captured , killed or fled , but we held Hogwarts in the end . A few days later the year was over and I returned to_the_Dursleys ($_to_the_Dursleys) . ''\",\n",
       " \" `` Sometimes , even after everything I have seen and done , it still seems like a dream or nightmare , depending upon the memory . When I was younger , I would never have imagined my life turning out this way . '' Harry ($_the_whole_``_Harry) said with a smile . `` On September first , just like the last six years , I boarded the train for Hogwarts ($_Hogwarts) and all the other students . We were about halfway there when there was a great explosion and the train flew off the tracks . When the train finally stop moving , everyone began to check each other over . Several were dead and many injured. We thought at first it was just an accident , but several minutes after the explosion , we heard screams coming from the back of the train .\",\n",
       " \" `` Yeah , but that was professional game and those can often be for days or weeks on end . '' Harry ($_the_whole_``_Harry) answered with a nod . `` So anyway , we were getting ready for the new season one day and Ron as team captain was as usual , misusing his power and berating me ($_the_whole_``_Harry) for some made up offense . Our relationship since Ginny 's death consisted of him either ignoring me ($_the_whole_``_Harry) or picking fights with me ($_the_whole_``_Harry) . While he was doing this no one was paying attention to anything else and from the Forbidden forest nearby a hex came flying out .\",\n",
       " ' The hex hit one of the players and cut several large gashes into his chest and he screamed falling to the ground . Within a matter of seconds he had bled out and died . Then Death_Eaters ($_the_Death_Eaters) began coming out of the forest attacking everyone around . I ($_the_whole_``_Harry) sent a message to the Order to get there quick and we hid for cover and hexes began flying back and forth .',\n",
       " \" The_Order ($_The_Order) soon arrived and it ($_The_Order) went on for a while . Then a_Death_Eater ($_a_Death_Eater) found a hole in our defense and made it unseen to where we were covered . He sent a killing curse at me ($_the_whole_``_Harry) and as it came towards me ($_the_whole_``_Harry) I ($_the_whole_``_Harry) knew I ($_the_whole_``_Harry) was going to die ; I ($_the_whole_``_Harry) had n't seen it before it was too late . However , a flash of silver light came and a shield was placed around me ($_the_whole_``_Harry) like a bubble and the curse rebounded off the shield and back to the Death Eater ; killing him . ''\",\n",
       " ' Harry ($_the_whole_``_Harry) stopped for a moment as he ($_the_whole_``_Harry) knew the next part was big and revolved around the Cullens . `` We all stared at the shield wondering who cast it and what exactly it was . It was something none of us had ever seen before . Dumbledore and Sirius tried to see if they could breach it ; as neither I , nor anyone else had cast it .',\n",
       " \" Their hands were shocked when they touched it and on my end it was like a solid wall , impenetrable . Another flash of silver light came and a woman was in its place . She was tall with white blonde hair and an ethereal look about her . She said hello to me ($_the_whole_``_Harry) and knew my ($_the_whole_``_Harry) name . I ($_the_whole_``_Harry) asked her who she was and she told me ($_the_whole_``_Harry) her name was Illyantia ($_Illyantia) and she was The Guardian of Lost Souls . She said I ($_the_whole_``_Harry) called to her when the curse was coming towards me ($_the_whole_``_Harry) and that I ($_the_whole_``_Harry) had lost my ($_the_whole_``_Harry) way in the world . That I ($_the_whole_``_Harry) had n't fulfilled all I ($_the_whole_``_Harry) needed to before I ($_the_whole_``_Harry) died and that she was there to set me ($_the_whole_``_Harry) back on the right path . ''\",\n",
       " \"`` There were two verses to the prophesy and he ($_Dumbledore) only told me one ... '' Harry ($_the_whole_``_Harry) said quietly , almost afraid to speak . What if they rejected him ($_the_whole_``_Harry) ? What if they heard the rest and decided he ($_the_whole_``_Harry) was n't worth the trouble ? \\n\",\n",
       " \" `` That will never happen ! '' Edward ($_this_Edward) said sharply and pulled Harry ($_the_whole_``_Harry) to him ($_the_whole_``_Harry) . Cupping Harry ($_the_whole_``_Harry) 's face in his ($_the_whole_``_Harry) hands , he ($_the_whole_``_Harry) looked into Harry ($_the_whole_``_Harry) 's vivid emerald eyes and spoke . `` You ($_the_whole_``_Harry) are my mate and I will never leave you ($_the_whole_``_Harry) ! Neither will they ! ''\",\n",
       " \"`` Whatever it is , we will stand beside you ($_the_whole_``_Harry) , you ($_the_whole_``_Harry) are family and we would never leave you ($_the_whole_``_Harry) ! '' Esme ($_Esme) said fiercely , trying to make the broken child in front of her ($_Esme) see they would always be there for him . That he would n't be alone anymore . \\n\",\n",
       " 'Harry ($_the_whole_``_Harry) closed his ($_the_whole_``_Harry) eyes and spoke . \\n',\n",
       " \"`` The one with the power to vanquish the Dark Lord approaches ... He ($_the_whole_``_Harry) shall be taken in by the dead , delivered from a life of pain ... And he ($_the_whole_``_Harry) will find his ($_the_whole_``_Harry) soul 's mate , seven times his ($_the_whole_``_Harry) power will increase ... And they that walk of the living dead have travelled for one hundred years , they return to land of Quileute ... And he ($_the_whole_``_Harry) shall be marked by one of their own , but he ($_the_whole_``_Harry) will not turn ... The one with the power to vanquish the Dark Lord approaches . '' \\n\",\n",
       " \"Edward ($_this_Edward) sat holding Harry ($_the_whole_``_Harry) tightly to him ($_this_Edward) , seething with anger . Those people needed to be killed for what they had done to his ($_this_Edward) mate ! For that_night ($_that_night) and for all the rest Harry ($_the_whole_``_Harry) had n't mentioned . He ($_this_Edward) could hear Jasper ($_Jasper) speaking to him ($_this_Edward) in his ($_this_Edward) mind , that Harry ($_the_whole_``_Harry) was filled with a lot of pain and despair from what happened that_night ($_that_night) . He ($_this_Edward) wanted to take the pain from him ($_this_Edward) , letting Harry ($_the_whole_``_Harry) be free from the scars the events had left upon him ($_this_Edward) . \\n\",\n",
       " 'The bitterness Harry ($_the_whole_``_Harry) felt came up like bile in his ($_the_whole_``_Harry) throat and Harry ($_the_whole_``_Harry) nearly shook with his ($_the_whole_``_Harry) anger . He ($_the_whole_``_Harry) felt waves of calmness flow over him ($_the_whole_``_Harry) and smiled gratefully at Jasper ($_Jasper) . \\n',\n",
       " \"`` Yeah , Illyantia ($_Illyantia) said you would have treated me as you were the best doctor to help me . You and Esme ($_Esme) would have ... adopted me and I would have met Edward ($_this_Edward) then . '' Harry ($_the_whole_``_Harry) stated . \\n\",\n",
       " \"`` I ($_the_whole_``_Harry) 'm not sure . I ($_the_whole_``_Harry) have thought about it and maybe it is not talking about my ($_the_whole_``_Harry) magic , but about strength . There are seven of you ... maybe it means with you by my ($_the_whole_``_Harry) side my ($_the_whole_``_Harry) power or strength will increase seven times more than it had been . '' Harry ($_the_whole_``_Harry) answered . \\n\",\n",
       " \"`` What about the part that you will be marked by one of us , but wo n't turn ? '' Asked Edward ($_this_Edward) . The thought of his ($_this_Edward) mate becoming a monster like him ($_this_Edward) , being cursed to living with the thirst to take human life did n't sit well with him ($_this_Edward) . He ($_this_Edward) did n't want Harry ($_the_whole_``_Harry) to have more scars on his ($_this_Edward) battered soul . \\n\",\n",
       " \"`` I ($_the_whole_``_Harry) do n't know ... your ($_this_Edward) guess is as good as mine ($_the_whole_``_Harry) . '' Harry ($_the_whole_``_Harry) replied . \\n\",\n",
       " \"`` She ($_Illyantia) said she ($_Illyantia) could n't take me ($_the_whole_``_Harry) back to when it all changed , but she ($_Illyantia) could bring me ($_the_whole_``_Harry) here and I ($_the_whole_``_Harry) would meet you all . '' Harry ($_the_whole_``_Harry) answered . `` I ($_the_whole_``_Harry) said yes and then told Remus and Sirius goodbye . Then Draco , but I ($_the_whole_``_Harry) was n't able to say goodbye to Neville or Luna , they had n't been there during the fight . Then she ($_Illyantia) brought me ($_the_whole_``_Harry) here . '' \\n\",\n",
       " \"They sat quietly thinking about all Harry had told them and then Carlisle ($_Carlisle) spoke . `` Harry ($_the_whole_``_Harry) , thank you ($_Illyantia) for trusting us enough to tell your ($_Illyantia) story . We are very honored to have you ($_Illyantia) as a new member of our family . '' \\n\",\n",
       " \"They all nodded in agreement and Harry ($_the_whole_``_Harry) blushed in embarrassment , but said `` Thank you ($_Illyantia) . '' \\n\",\n",
       " \"`` There is only a few hours before you all need to be at school , so Edward ($_this_Edward) why do n't you take Harry ($_the_whole_``_Harry) home so he ($_this_Edward) can get a few hours of sleep and get ready for the_day ($_the_day) . '' Esme ($_Esme) said softly and then sat up to give Harry ($_the_whole_``_Harry) a hug . `` Thank you , for telling us . I ($_Esme) am so happy that we were chosen to be your family ... '' \\n\",\n",
       " \"She ($_Alice) placed a kiss on Harry ($_the_whole_``_Harry) 's forehead and backed away . Jasper and Alice ($_Alice) came up to Harry ($_the_whole_``_Harry) next . \\n\",\n",
       " \"`` We 're going to be such good friends , Harry ($_the_whole_``_Harry) . I can see it ! '' Alice ($_Alice) said sweetly and then pounced on Harry ($_the_whole_``_Harry) , hugging him in a tight hug . \\n\",\n",
       " \"`` If you want to talk , about anything , I will be here . '' Jasper ($_Jasper) said with a knowing look and shook Harry ($_the_whole_``_Harry) 's hand . Harry ($_the_whole_``_Harry) wondered about Jasper ($_Jasper) and what he ($_the_whole_``_Harry) had been through to put such a look in his ($_the_whole_``_Harry) eyes . It was the same war weary look that Harry ($_the_whole_``_Harry) had had for years . \\n\",\n",
       " \"`` You 're going to have to show us some more magic ; it is awesome , little brother ! '' Emmett ($_Emmett) said loudly as he ($_Emmett) wrapped a large muscled arm around Harry ($_the_whole_``_Harry) 's much smaller and shorter shoulders . \\n\",\n",
       " \"Harry ($_the_whole_``_Harry) laughed and said , `` Sure . '' Emmett ($_Emmett) calling him ($_Emmett) ` little brother ' sent a thrill threw him ($_Emmett) and the smile on his ($_Emmett) face was nearly blinding . \\n\",\n",
       " \" Beside Emmett ($_Emmett) stood Rosalie ($_Rosalie) , who during the story had slowly begun to relax more around the young wizard . The events of Harry ($_the_whole_``_Harry) 's life had shaken her and Harry ($_the_whole_``_Harry) had changed in her eyes . Before he ($_the_whole_``_Harry) had been an outsider , a threat to her and her family ... now , he ($_the_whole_``_Harry) was a broken battered child who somehow found the strength to keep going and she respected him ($_the_whole_``_Harry) for it . She gladly welcomed him ($_the_whole_``_Harry) into her family . The protective feeling that engulfed her on Harry ($_the_whole_``_Harry) 's behalf was frightening in its intensity . Her anger and rage for the hurt her ` brother ' had endured made her want to go over to England and burn it to the ground . The fact that so many in his life had failed him and betrayed him , made her furious . Harry ($_the_whole_``_Harry) was special , sweet ... he was broken and had seen many horrible things , but still held a childlike innocence ... how could they not have seen that ?\",\n",
       " \"`` Thank you ($_the_whole_``_Harry) , Harry ($_the_whole_``_Harry) . '' She said quietly and hugged him . \\n\",\n",
       " 'Harry ($_the_whole_``_Harry) was surprised by Rosalie ($_Rosalie) , but welcomed the hug . He ($_the_whole_``_Harry) was glad that they all accepted him ($_the_whole_``_Harry) into their family . \\n',\n",
       " \"After Carlisle and Esme ($_Esme) got more information about Harry ($_the_whole_``_Harry) for the adoption , Edward and Harry ($_the_whole_``_Harry) said goodbye and left . The ride to Harry ($_the_whole_``_Harry) 's house was quiet , both thinking about what was to come . When they arrived , Harry ($_the_whole_``_Harry) grabbed Edward ($_this_Edward) 's hand and pulled him wordlessly through the house and up to his bedroom . Once in the bedroom Harry ($_the_whole_``_Harry) turned around to Edward . \\n\",\n",
       " \" They both removed their shoes and climbed onto the bed . After Harry ($_the_whole_``_Harry) set his ($_the_whole_``_Harry) alarm for school he ($_the_whole_``_Harry) found himself ($_the_whole_``_Harry) pulled into Edward ($_this_Edward) 's arms . Harry ($_the_whole_``_Harry) felt Edward ($_this_Edward) pull him ($_the_whole_``_Harry) back against Edward ($_this_Edward) 's chest and wrapping an arm around his ($_the_whole_``_Harry) waist . He ($_the_whole_``_Harry) placed a hand on top of Edward ($_this_Edward) 's that rested on his ($_the_whole_``_Harry) lower stomach and threaded their fingers together . From behind Harry , Edward ($_this_Edward) nuzzled his ($_this_Edward) neck and placed a few light kisses on the nape of Harry ($_the_whole_``_Harry) 's neck and then pressed his ($_this_Edward) face into Harry ($_the_whole_``_Harry) 's hair , breathing in the scent of his ($_this_Edward) mate .\",\n",
       " \"They laid there spooning and Harry ($_the_whole_``_Harry) had never felt more safe or loved than at that moment . Their bodies fit together perfectly ; they seemed to be made for one another . The events of the_day ($_the_day) filtered through Harry ($_the_whole_``_Harry) 's mind and he ($_the_whole_``_Harry) was amazed that he ($_the_whole_``_Harry) now had a family . They had accepted him ($_the_whole_``_Harry) so readily and welcomed him ($_the_whole_``_Harry) as Edward ($_this_Edward) 's mate . He ($_the_whole_``_Harry) was thankful that he ($_the_whole_``_Harry) now had them in his ($_the_whole_``_Harry) life . \\n\",\n",
       " \"The alarm went off three hours later and Harry ($_the_whole_``_Harry) turned it off in annoyance . The few hours sleep had n't seemed , but more than a few minutes to Harry and he ($_the_whole_``_Harry) was tired . Then from a movement behind him ($_the_whole_``_Harry) he ($_the_whole_``_Harry) remembered who was with him ($_the_whole_``_Harry) and what happened the night before and a grin overtook his ($_the_whole_``_Harry) face . \\n\",\n",
       " \"`` What are you ($_the_whole_``_Harry) smiling about ? '' Edward ($_this_Edward) said from behind him ($_the_whole_``_Harry) . \\n\",\n",
       " \"Harry ($_the_whole_``_Harry) turned in Edward ($_this_Edward) 's arms and lay facing the vampire . \\n\",\n",
       " \"`` I ($_the_whole_``_Harry) just remembered what happened last night and that you were here with me ($_the_whole_``_Harry) ... '' Harry ($_the_whole_``_Harry) answered in a whisper and then nuzzled his ($_the_whole_``_Harry) face into the crook of Edward ($_this_Edward) 's neck . \\n\",\n",
       " \"`` I ($_the_whole_``_Harry) will always be here with you , Harry ($_the_whole_``_Harry) . '' Edward ($_this_Edward) said . \\n\",\n",
       " \"Harry ($_the_whole_``_Harry) moved to look into Edward ($_this_Edward) 's eyes and was caught by the brilliant amber orbs . He ($_the_whole_``_Harry) felt his ($_the_whole_``_Harry) heart speed up and his ($_the_whole_``_Harry) breath catch , Edward ($_this_Edward) was so gorgeous ... He ($_the_whole_``_Harry) leaned in and pressed his ($_the_whole_``_Harry) lips to Edward 's , experiencing his ($_the_whole_``_Harry) first kiss . \\n\",\n",
       " \"Their mouths pressed together and Harry ($_the_whole_``_Harry) gasped in shock at the pleasure it invoked . Edward ($_this_Edward) nipped Harry ($_the_whole_``_Harry) 's bottom lip and then used his ($_the_whole_``_Harry) tongue to sooth the slight sting of the bite . He ($_the_whole_``_Harry) then swept his ($_the_whole_``_Harry) tongue into Harry ($_the_whole_``_Harry) 's mouth , sliding it against Harry ($_the_whole_``_Harry) 's tasting the sweet flavor of Harry ($_the_whole_``_Harry) . Hesitantly Harry ($_the_whole_``_Harry) followed the movements of his ($_the_whole_``_Harry) mate 's tongue , their tongues intertwining in a dance filled with lust and longing . \\n\",\n",
       " \" Harry ($_the_whole_``_Harry) wrapped his ($_the_whole_``_Harry) arms around Edward ($_this_Edward) 's neck , pulling their bodies as closer together as possible . He ($_the_whole_``_Harry) carded his ($_the_whole_``_Harry) fingers through Edward ($_this_Edward) 's soft dark locks and mewed in pleasure .\",\n",
       " \" Edward ($_this_Edward) growled and pushed Harry ($_the_whole_``_Harry) onto his ($_the_whole_``_Harry) back , hovering over the smaller wizard . Edward ($_this_Edward) broke free of the kiss and began biting and nipping his ($_this_Edward) way down Harry ($_the_whole_``_Harry) 's jaw line to his ($_the_whole_``_Harry) throat . He ($_the_whole_``_Harry) breathed in the scent of his ($_the_whole_``_Harry) mate , but the bloodlust that would usually appear at the closeness of a living human , did n't come . His ($_the_whole_``_Harry) blood did n't call to him ($_the_whole_``_Harry) and Edward ($_this_Edward) was thankful for that . The fear of being a threat to his ($_the_whole_``_Harry) own mate would have destroyed him ($_the_whole_``_Harry) .\",\n",
       " \"Harry ($_the_whole_``_Harry) groaned in the bliss that Edward ($_this_Edward) was creating in Harry ($_the_whole_``_Harry) 's body , but soon the kiss ended and Edward ($_this_Edward) pulled back slightly . Looking into Harry ($_the_whole_``_Harry) 's emerald eyes he ($_this_Edward) spoke . \\n\",\n",
       " \"`` I ($_this_Edward) do n't want to push you to take it farther than you want , so I ($_this_Edward) will wait until you 're ready to take this further . '' Edward ($_this_Edward) said patiently and placing a final kiss on Harry ($_the_whole_``_Harry) 's Harry_'s_cupid ($_the_whole_``_Harry) 's bow mouth , he ($_this_Edward) unwrapped himself ($_this_Edward) from Harry ($_the_whole_``_Harry) 's arms and stood . \\n\",\n",
       " \"Harry ($_the_whole_``_Harry) was both disappointed and relieved at Edward ($_this_Edward) 's words . He ($_the_whole_``_Harry) had loved what they were doing and had wanted keep kissing Edward ($_this_Edward) forever . However , he ($_the_whole_``_Harry) knew he ($_the_whole_``_Harry) was n't ready to go any further quite yet . Up until a week ago he ($_the_whole_``_Harry) had n't really given much thought to sex and now he ($_the_whole_``_Harry) had a mate and a bond pulling him ($_the_whole_``_Harry) towards it . He ($_the_whole_``_Harry) was excited to experience it , but not quite yet . \\n\",\n",
       " \"`` Thank you , Edward ($_this_Edward) . '' Harry ($_the_whole_``_Harry) said and then stood up from the bed . \\n\",\n",
       " \"`` I ($_this_Edward) am going to do back home and get dressed for the_day ($_the_day) and then I ($_this_Edward) will be back to pick you up for school . '' Edward ($_this_Edward) stated and Harry ($_the_whole_``_Harry) nodded in acceptance . With one last kiss , he ($_this_Edward) was gone . \\n\",\n",
       " ' Harry ($_the_whole_``_Harry) smiled and then showered and dressed for school . After he ($_this_Edward) was done he ($_this_Edward) walked down the stairs and found Edward ($_this_Edward) sitting on the couch waiting for him ($_this_Edward) to come down . Harry ($_the_whole_``_Harry) smiled and kissed him ($_this_Edward) , then walked to the kitchen to grab a bowl of cereal and a banana for breakfast . Edward ($_this_Edward) followed him ($_this_Edward) into the kitchen as he ($_this_Edward) prepared his ($_this_Edward) breakfast . Instead of sitting at the kitchen table , Harry ($_the_whole_``_Harry) chose to hop up onto the counter and ate there .',\n",
       " \"`` When are you ($_the_whole_``_Harry) supposed to return to England ? '' \\n\",\n",
       " \" `` I ($_the_whole_``_Harry) do n't know . Illyantia ($_Illyantia) said I ($_the_whole_``_Harry) would n't be found until I ($_the_whole_``_Harry) was ready . She ($_Illyantia) is keeping me ($_the_whole_``_Harry) hidden right now , so no one can find me ($_the_whole_``_Harry) , not even my ($_the_whole_``_Harry) friends or godfathers . Once I ($_the_whole_``_Harry) am ready to fight Voldemort , I ($_the_whole_``_Harry) will be found . Illyantia ($_Illyantia) told me ($_the_whole_``_Harry) to be on guard , so I ($_the_whole_``_Harry) do n't know if it will be Death Eaters or the Order who will find me ($_the_whole_``_Harry) . '' Harry ($_the_whole_``_Harry) replied as he ($_the_whole_``_Harry) finished his ($_the_whole_``_Harry) breakfast .\",\n",
       " \"Edward ($_this_Edward) move in front of Harry ($_the_whole_``_Harry) , sliding between his ($_the_whole_``_Harry) open legs and wrapped his ($_the_whole_``_Harry) arms around Harry ($_the_whole_``_Harry) 's waist . \\n\",\n",
       " \"Harry ($_the_whole_``_Harry) circles his ($_the_whole_``_Harry) arms around Edward ($_this_Edward) 's neck and kissed his ($_the_whole_``_Harry) mate . The kiss lasted a few minutes and then they both pulled back , Harry ($_the_whole_``_Harry) flushed and breathing heavily and Edward ($_this_Edward) restraining himself ($_the_whole_``_Harry) from taking his ($_the_whole_``_Harry) mate then and there . \\n\",\n",
       " 'With a sigh , Harry ($_the_whole_``_Harry) pushed Edward ($_this_Edward) away and jumped down from the counter and they left for school . During the ride they held hands and talked about random things . Arriving at school , they pulled into the parking lot as the rest of the Cullens did as well . \\n',\n",
       " '`` Hi , Emmett . `` Harry ($_the_whole_``_Harry) returned . \\n',\n",
       " \"Alice ($_Alice) nearly floated over to air , her ($_Alice) bubbly personality overflowing with glee . `` Hi , Harry ($_the_whole_``_Harry) . Did you ($_Alice) sleep well ? '' \\n\",\n",
       " \"Harry ($_the_whole_``_Harry) blushed and Alice ($_Alice) laughed softly and then said , `` It 's nice having someone to keep you ($_the_whole_``_Harry) safe in their arms while you ($_the_whole_``_Harry) sleep , huh ? '' \\n\",\n",
       " 'Harry ($_the_whole_``_Harry) nodded and they all made their way to the school entrance . A dull roar of whispers preceded them as the other students noticed Harry and Edward ($_this_Edward) holding hands . The school hand never had an openly gay student , let alone a gay couple and the news spread like fire . \\n',\n",
       " \" Throughout the_day ($_the_day) , Harry ($_the_whole_``_Harry) was asked over and over if it was true . He ($_the_whole_``_Harry) found the questions and the rude staring annoying . Some of the students were overtly hostile toward him ($_the_whole_``_Harry) . He ($_the_whole_``_Harry) nearly got into a fight after Mike_Newton ($_Mike_Newton) called him ($_the_whole_``_Harry) ` queer . ' However , he ($_the_whole_``_Harry) had made it clear to the boy that if he ($_the_whole_``_Harry) ever made a remark like that again , he ($_the_whole_``_Harry) would regret it .\",\n",
       " \"When lunch arrived he ($_the_whole_``_Harry) tried to shield his ($_the_whole_``_Harry) mind from Edward ($_this_Edward) , not wanting Edward ($_this_Edward) to do something rash to the homophobic idiot he ($_the_whole_``_Harry) had a problem with . However , the more he ($_the_whole_``_Harry) did this , the more Edward ($_this_Edward) seemed to know something was wrong . His ($_the_whole_``_Harry) eyes narrowed and he ($_the_whole_``_Harry) said `` What happened ? '' \\n\",\n",
       " \"`` Nothing . '' Harry ($_the_whole_``_Harry) said trying to evade the question . Then his ($_the_whole_``_Harry) concentration broke as Mike ($_Mike_Newton) walked by and his ($_the_whole_``_Harry) mind automatically replayed the scene between second and third period , as he ($_the_whole_``_Harry) did this_Edward ($_this_Edward) growled low in his ($_the_whole_``_Harry) throat . \\n\",\n",
       " \"`` If you ever call Harry ($_the_whole_``_Harry) that again , I will rip you apart , is that clear ? '' He ($_this_Edward) said in deathly quiet voce , his ($_this_Edward) teeth bared threateningly . \\n\",\n",
       " 'Newton ($_Mike_Newton) nodded quickly in fear , his ($_Mike_Newton) eyes round and he ($_Mike_Newton) looked as if he ($_Mike_Newton) was going to wet his ($_Mike_Newton) pants . Edward ($_this_Edward) pushed him ($_Mike_Newton) away , causing the teen to fall from his ($_Mike_Newton) seat and then he ($_Mike_Newton) scrambled from the floor and ran from the cafeteria . Edward ($_this_Edward) smirked evilly and then turned back towards his ($_this_Edward) family . He ($_Mike_Newton) then saw all of his ($_Mike_Newton) siblings baring their teeth and growling softly as well . They heard what Edward ($_this_Edward) had said and could imagine what happened . The way they reacted protectively towards Harry ($_the_whole_``_Harry) , made Edward ($_this_Edward) grateful to have a family like his ($_this_Edward) to care for his ($_this_Edward) mate . Walking back to the table he ($_this_Edward) saw his ($_this_Edward) mate raise an eyebrow and scowl at him ($_this_Edward) . \\n',\n",
       " \"`` I ($_the_whole_``_Harry) had that taken care of . He ($_this_Edward) was well aware that if he ($_this_Edward) ever called me ($_the_whole_``_Harry) anything like that again he ($_this_Edward) would regret it . You do n't need to protect me ($_the_whole_``_Harry) all the time ; I ($_the_whole_``_Harry) am capable of doing that myself ($_the_whole_``_Harry) ! '' Harry ($_the_whole_``_Harry) said heatedly . \\n\",\n",
       " \"Edward ($_this_Edward) sat down and wrapped an arm around Harry ($_the_whole_``_Harry) 's waist and kissed his ($_the_whole_``_Harry) temple . `` I ($_the_whole_``_Harry) know , but I ($_the_whole_``_Harry) could n't help it . '' \\n\",\n",
       " \"`` A vampire has an instinctual response to protect his mate when he feels his mate is threatened . It is a basic foundation of a mate bond and ca n't be ignored . '' Jasper told Harry ($_the_whole_``_Harry) . \\n\",\n",
       " \"“Oh. Well , I ($_the_whole_``_Harry) guess you are forgiven , but you need to understand I ($_the_whole_``_Harry) am more than competent at protecting myself ($_the_whole_``_Harry) . I ($_the_whole_``_Harry) have been doing it since I ($_the_whole_``_Harry) was very little . '' Harry ($_the_whole_``_Harry) said . \\n\",\n",
       " \"Harry ($_the_whole_``_Harry) glared at Edward ($_this_Edward) and tried to pull away , but the vampire kept a tight hold on Harry ($_the_whole_``_Harry) . Harry ($_the_whole_``_Harry) growled in annoyance , but did n't try to leave again . He ($_the_whole_``_Harry) was going to have to get used to how his ($_the_whole_``_Harry) mate was going to be very protective of him ($_the_whole_``_Harry) . If his ($_the_whole_``_Harry) pride was n't hurt , he ($_the_whole_``_Harry) would have found his ($_the_whole_``_Harry) mate 's protectiveness charming . However , after spending his ($_the_whole_``_Harry) entire life taking care of himself ($_the_whole_``_Harry) , he ($_the_whole_``_Harry) had a problem with someone else trying to defend him ($_the_whole_``_Harry) , even if Edward ($_this_Edward) had looked completely hot while doing it . \\n\",\n",
       " \"A/N : Another chapter here for you guys , this is the end of the `` Getting to Know You '' chapters and the plot will pick up more , now that the_whole_``_Harry ($_the_whole_``_Harry) tells his ($_the_whole_``_Harry) life story '' part is over ... If you enjoyed this chapter , review and make this author 's day !!! \\n\"]"
      ]
     },
     "execution_count": 20,
     "metadata": {},
     "output_type": "execute_result"
    }
   ],
   "source": [
    "assertions[fic_id][matches[0]]"
   ]
  },
  {
   "cell_type": "markdown",
   "metadata": {},
   "source": [
    "# Assemble processed fics from pipeline for temporary dataset"
   ]
  },
  {
   "cell_type": "code",
   "execution_count": 2,
   "metadata": {},
   "outputs": [
    {
     "data": {
      "text/plain": [
       "5594"
      ]
     },
     "execution_count": 2,
     "metadata": {},
     "output_type": "execute_result"
    }
   ],
   "source": [
    "import os\n",
    "\n",
    "base_dirpath = '/usr0/home/mamille2/erebor/fanfiction-project/data/ao3/harrypotter' # misty\n",
    "splits_dirpath = '/usr0/home/mamille2/erebor/fanfiction-project/data/ao3/harrypotter/emnlp_dataset_6k_splits/' # misty\n",
    "\n",
    "all_fic_ids = [int(fname[:-4]) for fname in os.listdir(os.path.join(base_dirpath, 'emnlp_dataset_6k', 'fics'))]\n",
    "len(all_fic_ids)"
   ]
  },
  {
   "cell_type": "code",
   "execution_count": 3,
   "metadata": {},
   "outputs": [
    {
     "name": "stdout",
     "output_type": "stream",
     "text": [
      "833\n"
     ]
    },
    {
     "data": {
      "text/plain": [
       "[9463769,\n",
       " 10808058,\n",
       " 15594333,\n",
       " 10064609,\n",
       " 7361353,\n",
       " 12303831,\n",
       " 13108605,\n",
       " 16441577,\n",
       " 445263,\n",
       " 761047]"
      ]
     },
     "execution_count": 3,
     "metadata": {},
     "output_type": "execute_result"
    }
   ],
   "source": [
    "done_fic_ids = [int(fname.split('.')[0]) for fname in os.listdir(os.path.join(base_dirpath, 'emnlp_dataset_6k', 'output', 'char_coref_chars'))]\n",
    "print(len(done_fic_ids))"
   ]
  },
  {
   "cell_type": "code",
   "execution_count": 8,
   "metadata": {},
   "outputs": [],
   "source": [
    "partial_dirpath = os.path.join(base_dirpath, 'emnlp_dataset_6k_partial')\n",
    "# os.mkdir(partial_dirpath)\n",
    "# os.mkdir(os.path.join(partial_dirpath, 'output'))\n",
    "os.mkdir(os.path.join(partial_dirpath, 'output', 'char_coref_chars'))\n",
    "os.mkdir(os.path.join(partial_dirpath, 'output', 'char_coref_stories'))\n",
    "os.mkdir(os.path.join(partial_dirpath, 'output', 'assertion_extraction'))"
   ]
  },
  {
   "cell_type": "code",
   "execution_count": 9,
   "metadata": {},
   "outputs": [
    {
     "data": {
      "text/plain": [
       "0"
      ]
     },
     "execution_count": 9,
     "metadata": {},
     "output_type": "execute_result"
    }
   ],
   "source": [
    "import shutil\n",
    "\n",
    "for i in range(24):\n",
    "    \n",
    "    for dirname in ['char_coref_chars', 'char_coref_stories', 'assertion_extraction']:\n",
    "        from_dirpath = os.path.join(splits_dirpath, str(i), 'output', dirname)\n",
    "        to_dirpath = os.path.join(partial_dirpath, 'output', dirname)\n",
    "        \n",
    "        for fname in os.listdir(from_dirpath):\n",
    "            shutil.copy(os.path.join(from_dirpath, fname), os.path.join(to_dirpath, fname))\n",
    "            \n",
    "len(os.listdir(from_dirpath))"
   ]
  },
  {
   "cell_type": "code",
   "execution_count": 10,
   "metadata": {},
   "outputs": [
    {
     "data": {
      "text/plain": [
       "'/usr0/home/mamille2/erebor/fanfiction-project/data/ao3/harrypotter/emnlp_dataset_6k_splits/23/output/assertion_extraction'"
      ]
     },
     "execution_count": 10,
     "metadata": {},
     "output_type": "execute_result"
    }
   ],
   "source": [
    "from_dirpath"
   ]
  },
  {
   "cell_type": "markdown",
   "metadata": {},
   "source": [
    "# Separate fics into done, 100-fic chunks for parallelizing pipeline"
   ]
  },
  {
   "cell_type": "code",
   "execution_count": 7,
   "metadata": {},
   "outputs": [
    {
     "data": {
      "text/plain": [
       "5594"
      ]
     },
     "execution_count": 7,
     "metadata": {},
     "output_type": "execute_result"
    }
   ],
   "source": [
    "import os\n",
    "\n",
    "data_dirpath = '/usr0/home/mamille2/erebor/fanfiction-project/data/ao3/harrypotter/emnlp_dataset_6k/' # misty\n",
    "\n",
    "all_fic_ids = [int(fname[:-4]) for fname in os.listdir(os.path.join(data_dirpath, 'fics'))]\n",
    "len(all_fic_ids)"
   ]
  },
  {
   "cell_type": "code",
   "execution_count": 8,
   "metadata": {},
   "outputs": [
    {
     "name": "stdout",
     "output_type": "stream",
     "text": [
      "833\n"
     ]
    },
    {
     "data": {
      "text/plain": [
       "[9463769,\n",
       " 10808058,\n",
       " 15594333,\n",
       " 10064609,\n",
       " 7361353,\n",
       " 12303831,\n",
       " 13108605,\n",
       " 16441577,\n",
       " 445263,\n",
       " 761047]"
      ]
     },
     "execution_count": 8,
     "metadata": {},
     "output_type": "execute_result"
    }
   ],
   "source": [
    "done_fic_ids = [int(fname.split('.')[0]) for fname in os.listdir(os.path.join(data_dirpath, 'output', 'char_coref_chars'))]\n",
    "print(len(done_fic_ids))\n",
    "done_fic_ids[:10]"
   ]
  },
  {
   "cell_type": "code",
   "execution_count": 9,
   "metadata": {},
   "outputs": [
    {
     "data": {
      "text/plain": [
       "4761"
      ]
     },
     "execution_count": 9,
     "metadata": {},
     "output_type": "execute_result"
    }
   ],
   "source": [
    "not_done_fic_ids = sorted([fic_id for fic_id in all_fic_ids if not fic_id in done_fic_ids])\n",
    "len(not_done_fic_ids)"
   ]
  },
  {
   "cell_type": "code",
   "execution_count": 10,
   "metadata": {},
   "outputs": [],
   "source": [
    "# Separate into sections of 200 to do \"multiprocessing\"\n",
    "\n",
    "n_in_sections = 200\n",
    "sections = {0: []}\n",
    "section_ctr = 0\n",
    "\n",
    "for i, fic_id in enumerate(not_done_fic_ids):\n",
    "    if i > 0 and i % 200 == 0:\n",
    "        section_ctr += 1\n",
    "        sections[section_ctr] = []\n",
    "        \n",
    "    sections[section_ctr].append(fic_id)"
   ]
  },
  {
   "cell_type": "code",
   "execution_count": 11,
   "metadata": {
    "scrolled": true
   },
   "outputs": [
    {
     "data": {
      "text/plain": [
       "24"
      ]
     },
     "execution_count": 11,
     "metadata": {},
     "output_type": "execute_result"
    }
   ],
   "source": [
    "len(sections)"
   ]
  },
  {
   "cell_type": "code",
   "execution_count": 19,
   "metadata": {},
   "outputs": [
    {
     "data": {
      "application/vnd.jupyter.widget-view+json": {
       "model_id": "439dddc1ca2d450d8256bae80ae2b634",
       "version_major": 2,
       "version_minor": 0
      },
      "text/plain": [
       "HBox(children=(IntProgress(value=0, max=24), HTML(value='')))"
      ]
     },
     "metadata": {},
     "output_type": "display_data"
    },
    {
     "name": "stdout",
     "output_type": "stream",
     "text": [
      "\n"
     ]
    }
   ],
   "source": [
    "from tqdm import tqdm_notebook as tqdm\n",
    "import shutil\n",
    "\n",
    "for i in tqdm(sections):\n",
    "    os.makedirs(os.path.join('/usr0/home/mamille2/erebor/fanfiction-project/data/ao3/harrypotter/emnlp_dataset_6k_splits', str(i), 'fics'))\n",
    "\n",
    "    for fic_id in sections[i]:\n",
    "        from_dirpath = '/usr0/home/mamille2/erebor/fanfiction-project/data/ao3/harrypotter/emnlp_dataset_6k/fics'\n",
    "        to_dirpath = f'/usr0/home/mamille2/erebor/fanfiction-project/data/ao3/harrypotter/emnlp_dataset_6k_splits/{i}/fics'\n",
    "\n",
    "        shutil.copy(os.path.join(from_dirpath, f'{fic_id}.csv'), os.path.join(to_dirpath, f'{fic_id}.csv'))"
   ]
  },
  {
   "cell_type": "markdown",
   "metadata": {},
   "source": [
    "# Sample 6k rows, Get fic_ids to run the pipeline"
   ]
  },
  {
   "cell_type": "code",
   "execution_count": 12,
   "metadata": {},
   "outputs": [
    {
     "ename": "FileNotFoundError",
     "evalue": "[Errno 2] No such file or directory: '/usr2/mamille2/fanfiction-project/data/features/relationship_prediction.pkl'",
     "output_type": "error",
     "traceback": [
      "\u001b[0;31m---------------------------------------------------------------------------\u001b[0m",
      "\u001b[0;31mFileNotFoundError\u001b[0m                         Traceback (most recent call last)",
      "\u001b[0;32m~/anaconda3/lib/python3.6/site-packages/pandas/io/pickle.py\u001b[0m in \u001b[0;36mtry_read\u001b[0;34m(path, encoding)\u001b[0m\n\u001b[1;32m    165\u001b[0m                 \u001b[0mwarnings\u001b[0m\u001b[0;34m.\u001b[0m\u001b[0msimplefilter\u001b[0m\u001b[0;34m(\u001b[0m\u001b[0;34m\"ignore\"\u001b[0m\u001b[0;34m,\u001b[0m \u001b[0mWarning\u001b[0m\u001b[0;34m)\u001b[0m\u001b[0;34m\u001b[0m\u001b[0;34m\u001b[0m\u001b[0m\n\u001b[0;32m--> 166\u001b[0;31m                 \u001b[0;32mreturn\u001b[0m \u001b[0mread_wrapper\u001b[0m\u001b[0;34m(\u001b[0m\u001b[0;32mlambda\u001b[0m \u001b[0mf\u001b[0m\u001b[0;34m:\u001b[0m \u001b[0mpkl\u001b[0m\u001b[0;34m.\u001b[0m\u001b[0mload\u001b[0m\u001b[0;34m(\u001b[0m\u001b[0mf\u001b[0m\u001b[0;34m)\u001b[0m\u001b[0;34m)\u001b[0m\u001b[0;34m\u001b[0m\u001b[0;34m\u001b[0m\u001b[0m\n\u001b[0m\u001b[1;32m    167\u001b[0m         \u001b[0;32mexcept\u001b[0m \u001b[0mException\u001b[0m\u001b[0;34m:\u001b[0m  \u001b[0;31m# noqa: E722\u001b[0m\u001b[0;34m\u001b[0m\u001b[0;34m\u001b[0m\u001b[0m\n",
      "\u001b[0;32m~/anaconda3/lib/python3.6/site-packages/pandas/io/pickle.py\u001b[0m in \u001b[0;36mread_wrapper\u001b[0;34m(func)\u001b[0m\n\u001b[1;32m    145\u001b[0m                             \u001b[0mcompression\u001b[0m\u001b[0;34m=\u001b[0m\u001b[0mcompression\u001b[0m\u001b[0;34m,\u001b[0m\u001b[0;34m\u001b[0m\u001b[0;34m\u001b[0m\u001b[0m\n\u001b[0;32m--> 146\u001b[0;31m                             is_text=False)\n\u001b[0m\u001b[1;32m    147\u001b[0m         \u001b[0;32mtry\u001b[0m\u001b[0;34m:\u001b[0m\u001b[0;34m\u001b[0m\u001b[0;34m\u001b[0m\u001b[0m\n",
      "\u001b[0;32m~/anaconda3/lib/python3.6/site-packages/pandas/io/common.py\u001b[0m in \u001b[0;36m_get_handle\u001b[0;34m(path_or_buf, mode, encoding, compression, memory_map, is_text)\u001b[0m\n\u001b[1;32m    429\u001b[0m             \u001b[0;31m# Python 3 and binary mode\u001b[0m\u001b[0;34m\u001b[0m\u001b[0;34m\u001b[0m\u001b[0;34m\u001b[0m\u001b[0m\n\u001b[0;32m--> 430\u001b[0;31m             \u001b[0mf\u001b[0m \u001b[0;34m=\u001b[0m \u001b[0mopen\u001b[0m\u001b[0;34m(\u001b[0m\u001b[0mpath_or_buf\u001b[0m\u001b[0;34m,\u001b[0m \u001b[0mmode\u001b[0m\u001b[0;34m)\u001b[0m\u001b[0;34m\u001b[0m\u001b[0;34m\u001b[0m\u001b[0m\n\u001b[0m\u001b[1;32m    431\u001b[0m         \u001b[0mhandles\u001b[0m\u001b[0;34m.\u001b[0m\u001b[0mappend\u001b[0m\u001b[0;34m(\u001b[0m\u001b[0mf\u001b[0m\u001b[0;34m)\u001b[0m\u001b[0;34m\u001b[0m\u001b[0;34m\u001b[0m\u001b[0m\n",
      "\u001b[0;31mFileNotFoundError\u001b[0m: [Errno 2] No such file or directory: '/usr2/mamille2/fanfiction-project/data/features/relationship_prediction.pkl'",
      "\nDuring handling of the above exception, another exception occurred:\n",
      "\u001b[0;31mFileNotFoundError\u001b[0m                         Traceback (most recent call last)",
      "\u001b[0;32m~/anaconda3/lib/python3.6/site-packages/pandas/io/pickle.py\u001b[0m in \u001b[0;36mtry_read\u001b[0;34m(path, encoding)\u001b[0m\n\u001b[1;32m    172\u001b[0m                 return read_wrapper(\n\u001b[0;32m--> 173\u001b[0;31m                     lambda f: pc.load(f, encoding=encoding, compat=False))\n\u001b[0m\u001b[1;32m    174\u001b[0m             \u001b[0;31m# compat pickle\u001b[0m\u001b[0;34m\u001b[0m\u001b[0;34m\u001b[0m\u001b[0;34m\u001b[0m\u001b[0m\n",
      "\u001b[0;32m~/anaconda3/lib/python3.6/site-packages/pandas/io/pickle.py\u001b[0m in \u001b[0;36mread_wrapper\u001b[0;34m(func)\u001b[0m\n\u001b[1;32m    145\u001b[0m                             \u001b[0mcompression\u001b[0m\u001b[0;34m=\u001b[0m\u001b[0mcompression\u001b[0m\u001b[0;34m,\u001b[0m\u001b[0;34m\u001b[0m\u001b[0;34m\u001b[0m\u001b[0m\n\u001b[0;32m--> 146\u001b[0;31m                             is_text=False)\n\u001b[0m\u001b[1;32m    147\u001b[0m         \u001b[0;32mtry\u001b[0m\u001b[0;34m:\u001b[0m\u001b[0;34m\u001b[0m\u001b[0;34m\u001b[0m\u001b[0m\n",
      "\u001b[0;32m~/anaconda3/lib/python3.6/site-packages/pandas/io/common.py\u001b[0m in \u001b[0;36m_get_handle\u001b[0;34m(path_or_buf, mode, encoding, compression, memory_map, is_text)\u001b[0m\n\u001b[1;32m    429\u001b[0m             \u001b[0;31m# Python 3 and binary mode\u001b[0m\u001b[0;34m\u001b[0m\u001b[0;34m\u001b[0m\u001b[0;34m\u001b[0m\u001b[0m\n\u001b[0;32m--> 430\u001b[0;31m             \u001b[0mf\u001b[0m \u001b[0;34m=\u001b[0m \u001b[0mopen\u001b[0m\u001b[0;34m(\u001b[0m\u001b[0mpath_or_buf\u001b[0m\u001b[0;34m,\u001b[0m \u001b[0mmode\u001b[0m\u001b[0;34m)\u001b[0m\u001b[0;34m\u001b[0m\u001b[0;34m\u001b[0m\u001b[0m\n\u001b[0m\u001b[1;32m    431\u001b[0m         \u001b[0mhandles\u001b[0m\u001b[0;34m.\u001b[0m\u001b[0mappend\u001b[0m\u001b[0;34m(\u001b[0m\u001b[0mf\u001b[0m\u001b[0;34m)\u001b[0m\u001b[0;34m\u001b[0m\u001b[0;34m\u001b[0m\u001b[0m\n",
      "\u001b[0;31mFileNotFoundError\u001b[0m: [Errno 2] No such file or directory: '/usr2/mamille2/fanfiction-project/data/features/relationship_prediction.pkl'",
      "\nDuring handling of the above exception, another exception occurred:\n",
      "\u001b[0;31mFileNotFoundError\u001b[0m                         Traceback (most recent call last)",
      "\u001b[0;32m~/anaconda3/lib/python3.6/site-packages/pandas/io/pickle.py\u001b[0m in \u001b[0;36mread_pickle\u001b[0;34m(path, compression)\u001b[0m\n\u001b[1;32m    178\u001b[0m     \u001b[0;32mtry\u001b[0m\u001b[0;34m:\u001b[0m\u001b[0;34m\u001b[0m\u001b[0;34m\u001b[0m\u001b[0m\n\u001b[0;32m--> 179\u001b[0;31m         \u001b[0;32mreturn\u001b[0m \u001b[0mtry_read\u001b[0m\u001b[0;34m(\u001b[0m\u001b[0mpath\u001b[0m\u001b[0;34m)\u001b[0m\u001b[0;34m\u001b[0m\u001b[0;34m\u001b[0m\u001b[0m\n\u001b[0m\u001b[1;32m    180\u001b[0m     \u001b[0;32mexcept\u001b[0m \u001b[0mException\u001b[0m\u001b[0;34m:\u001b[0m  \u001b[0;31m# noqa: E722\u001b[0m\u001b[0;34m\u001b[0m\u001b[0;34m\u001b[0m\u001b[0m\n",
      "\u001b[0;32m~/anaconda3/lib/python3.6/site-packages/pandas/io/pickle.py\u001b[0m in \u001b[0;36mtry_read\u001b[0;34m(path, encoding)\u001b[0m\n\u001b[1;32m    176\u001b[0m                 return read_wrapper(\n\u001b[0;32m--> 177\u001b[0;31m                     lambda f: pc.load(f, encoding=encoding, compat=True))\n\u001b[0m\u001b[1;32m    178\u001b[0m     \u001b[0;32mtry\u001b[0m\u001b[0;34m:\u001b[0m\u001b[0;34m\u001b[0m\u001b[0;34m\u001b[0m\u001b[0m\n",
      "\u001b[0;32m~/anaconda3/lib/python3.6/site-packages/pandas/io/pickle.py\u001b[0m in \u001b[0;36mread_wrapper\u001b[0;34m(func)\u001b[0m\n\u001b[1;32m    145\u001b[0m                             \u001b[0mcompression\u001b[0m\u001b[0;34m=\u001b[0m\u001b[0mcompression\u001b[0m\u001b[0;34m,\u001b[0m\u001b[0;34m\u001b[0m\u001b[0;34m\u001b[0m\u001b[0m\n\u001b[0;32m--> 146\u001b[0;31m                             is_text=False)\n\u001b[0m\u001b[1;32m    147\u001b[0m         \u001b[0;32mtry\u001b[0m\u001b[0;34m:\u001b[0m\u001b[0;34m\u001b[0m\u001b[0;34m\u001b[0m\u001b[0m\n",
      "\u001b[0;32m~/anaconda3/lib/python3.6/site-packages/pandas/io/common.py\u001b[0m in \u001b[0;36m_get_handle\u001b[0;34m(path_or_buf, mode, encoding, compression, memory_map, is_text)\u001b[0m\n\u001b[1;32m    429\u001b[0m             \u001b[0;31m# Python 3 and binary mode\u001b[0m\u001b[0;34m\u001b[0m\u001b[0;34m\u001b[0m\u001b[0;34m\u001b[0m\u001b[0m\n\u001b[0;32m--> 430\u001b[0;31m             \u001b[0mf\u001b[0m \u001b[0;34m=\u001b[0m \u001b[0mopen\u001b[0m\u001b[0;34m(\u001b[0m\u001b[0mpath_or_buf\u001b[0m\u001b[0;34m,\u001b[0m \u001b[0mmode\u001b[0m\u001b[0;34m)\u001b[0m\u001b[0;34m\u001b[0m\u001b[0;34m\u001b[0m\u001b[0m\n\u001b[0m\u001b[1;32m    431\u001b[0m         \u001b[0mhandles\u001b[0m\u001b[0;34m.\u001b[0m\u001b[0mappend\u001b[0m\u001b[0;34m(\u001b[0m\u001b[0mf\u001b[0m\u001b[0;34m)\u001b[0m\u001b[0;34m\u001b[0m\u001b[0;34m\u001b[0m\u001b[0m\n",
      "\u001b[0;31mFileNotFoundError\u001b[0m: [Errno 2] No such file or directory: '/usr2/mamille2/fanfiction-project/data/features/relationship_prediction.pkl'",
      "\nDuring handling of the above exception, another exception occurred:\n",
      "\u001b[0;31mFileNotFoundError\u001b[0m                         Traceback (most recent call last)",
      "\u001b[0;32m~/anaconda3/lib/python3.6/site-packages/pandas/io/pickle.py\u001b[0m in \u001b[0;36mtry_read\u001b[0;34m(path, encoding)\u001b[0m\n\u001b[1;32m    165\u001b[0m                 \u001b[0mwarnings\u001b[0m\u001b[0;34m.\u001b[0m\u001b[0msimplefilter\u001b[0m\u001b[0;34m(\u001b[0m\u001b[0;34m\"ignore\"\u001b[0m\u001b[0;34m,\u001b[0m \u001b[0mWarning\u001b[0m\u001b[0;34m)\u001b[0m\u001b[0;34m\u001b[0m\u001b[0;34m\u001b[0m\u001b[0m\n\u001b[0;32m--> 166\u001b[0;31m                 \u001b[0;32mreturn\u001b[0m \u001b[0mread_wrapper\u001b[0m\u001b[0;34m(\u001b[0m\u001b[0;32mlambda\u001b[0m \u001b[0mf\u001b[0m\u001b[0;34m:\u001b[0m \u001b[0mpkl\u001b[0m\u001b[0;34m.\u001b[0m\u001b[0mload\u001b[0m\u001b[0;34m(\u001b[0m\u001b[0mf\u001b[0m\u001b[0;34m)\u001b[0m\u001b[0;34m)\u001b[0m\u001b[0;34m\u001b[0m\u001b[0;34m\u001b[0m\u001b[0m\n\u001b[0m\u001b[1;32m    167\u001b[0m         \u001b[0;32mexcept\u001b[0m \u001b[0mException\u001b[0m\u001b[0;34m:\u001b[0m  \u001b[0;31m# noqa: E722\u001b[0m\u001b[0;34m\u001b[0m\u001b[0;34m\u001b[0m\u001b[0m\n",
      "\u001b[0;32m~/anaconda3/lib/python3.6/site-packages/pandas/io/pickle.py\u001b[0m in \u001b[0;36mread_wrapper\u001b[0;34m(func)\u001b[0m\n\u001b[1;32m    145\u001b[0m                             \u001b[0mcompression\u001b[0m\u001b[0;34m=\u001b[0m\u001b[0mcompression\u001b[0m\u001b[0;34m,\u001b[0m\u001b[0;34m\u001b[0m\u001b[0;34m\u001b[0m\u001b[0m\n\u001b[0;32m--> 146\u001b[0;31m                             is_text=False)\n\u001b[0m\u001b[1;32m    147\u001b[0m         \u001b[0;32mtry\u001b[0m\u001b[0;34m:\u001b[0m\u001b[0;34m\u001b[0m\u001b[0;34m\u001b[0m\u001b[0m\n",
      "\u001b[0;32m~/anaconda3/lib/python3.6/site-packages/pandas/io/common.py\u001b[0m in \u001b[0;36m_get_handle\u001b[0;34m(path_or_buf, mode, encoding, compression, memory_map, is_text)\u001b[0m\n\u001b[1;32m    429\u001b[0m             \u001b[0;31m# Python 3 and binary mode\u001b[0m\u001b[0;34m\u001b[0m\u001b[0;34m\u001b[0m\u001b[0;34m\u001b[0m\u001b[0m\n\u001b[0;32m--> 430\u001b[0;31m             \u001b[0mf\u001b[0m \u001b[0;34m=\u001b[0m \u001b[0mopen\u001b[0m\u001b[0;34m(\u001b[0m\u001b[0mpath_or_buf\u001b[0m\u001b[0;34m,\u001b[0m \u001b[0mmode\u001b[0m\u001b[0;34m)\u001b[0m\u001b[0;34m\u001b[0m\u001b[0;34m\u001b[0m\u001b[0m\n\u001b[0m\u001b[1;32m    431\u001b[0m         \u001b[0mhandles\u001b[0m\u001b[0;34m.\u001b[0m\u001b[0mappend\u001b[0m\u001b[0;34m(\u001b[0m\u001b[0mf\u001b[0m\u001b[0;34m)\u001b[0m\u001b[0;34m\u001b[0m\u001b[0;34m\u001b[0m\u001b[0m\n",
      "\u001b[0;31mFileNotFoundError\u001b[0m: [Errno 2] No such file or directory: '/usr2/mamille2/fanfiction-project/data/features/relationship_prediction.pkl'",
      "\nDuring handling of the above exception, another exception occurred:\n",
      "\u001b[0;31mFileNotFoundError\u001b[0m                         Traceback (most recent call last)",
      "\u001b[0;32m~/anaconda3/lib/python3.6/site-packages/pandas/io/pickle.py\u001b[0m in \u001b[0;36mtry_read\u001b[0;34m(path, encoding)\u001b[0m\n\u001b[1;32m    172\u001b[0m                 return read_wrapper(\n\u001b[0;32m--> 173\u001b[0;31m                     lambda f: pc.load(f, encoding=encoding, compat=False))\n\u001b[0m\u001b[1;32m    174\u001b[0m             \u001b[0;31m# compat pickle\u001b[0m\u001b[0;34m\u001b[0m\u001b[0;34m\u001b[0m\u001b[0;34m\u001b[0m\u001b[0m\n",
      "\u001b[0;32m~/anaconda3/lib/python3.6/site-packages/pandas/io/pickle.py\u001b[0m in \u001b[0;36mread_wrapper\u001b[0;34m(func)\u001b[0m\n\u001b[1;32m    145\u001b[0m                             \u001b[0mcompression\u001b[0m\u001b[0;34m=\u001b[0m\u001b[0mcompression\u001b[0m\u001b[0;34m,\u001b[0m\u001b[0;34m\u001b[0m\u001b[0;34m\u001b[0m\u001b[0m\n\u001b[0;32m--> 146\u001b[0;31m                             is_text=False)\n\u001b[0m\u001b[1;32m    147\u001b[0m         \u001b[0;32mtry\u001b[0m\u001b[0;34m:\u001b[0m\u001b[0;34m\u001b[0m\u001b[0;34m\u001b[0m\u001b[0m\n",
      "\u001b[0;32m~/anaconda3/lib/python3.6/site-packages/pandas/io/common.py\u001b[0m in \u001b[0;36m_get_handle\u001b[0;34m(path_or_buf, mode, encoding, compression, memory_map, is_text)\u001b[0m\n\u001b[1;32m    429\u001b[0m             \u001b[0;31m# Python 3 and binary mode\u001b[0m\u001b[0;34m\u001b[0m\u001b[0;34m\u001b[0m\u001b[0;34m\u001b[0m\u001b[0m\n\u001b[0;32m--> 430\u001b[0;31m             \u001b[0mf\u001b[0m \u001b[0;34m=\u001b[0m \u001b[0mopen\u001b[0m\u001b[0;34m(\u001b[0m\u001b[0mpath_or_buf\u001b[0m\u001b[0;34m,\u001b[0m \u001b[0mmode\u001b[0m\u001b[0;34m)\u001b[0m\u001b[0;34m\u001b[0m\u001b[0;34m\u001b[0m\u001b[0m\n\u001b[0m\u001b[1;32m    431\u001b[0m         \u001b[0mhandles\u001b[0m\u001b[0;34m.\u001b[0m\u001b[0mappend\u001b[0m\u001b[0;34m(\u001b[0m\u001b[0mf\u001b[0m\u001b[0;34m)\u001b[0m\u001b[0;34m\u001b[0m\u001b[0;34m\u001b[0m\u001b[0m\n",
      "\u001b[0;31mFileNotFoundError\u001b[0m: [Errno 2] No such file or directory: '/usr2/mamille2/fanfiction-project/data/features/relationship_prediction.pkl'",
      "\nDuring handling of the above exception, another exception occurred:\n",
      "\u001b[0;31mFileNotFoundError\u001b[0m                         Traceback (most recent call last)",
      "\u001b[0;32m<ipython-input-12-7532baa8c3f3>\u001b[0m in \u001b[0;36m<module>\u001b[0;34m\u001b[0m\n\u001b[1;32m      4\u001b[0m \u001b[0;34m\u001b[0m\u001b[0m\n\u001b[1;32m      5\u001b[0m \u001b[0;31m# Load data\u001b[0m\u001b[0;34m\u001b[0m\u001b[0;34m\u001b[0m\u001b[0;34m\u001b[0m\u001b[0m\n\u001b[0;32m----> 6\u001b[0;31m \u001b[0mdata\u001b[0m \u001b[0;34m=\u001b[0m \u001b[0mpd\u001b[0m\u001b[0;34m.\u001b[0m\u001b[0mread_pickle\u001b[0m\u001b[0;34m(\u001b[0m\u001b[0;34m'/usr2/mamille2/fanfiction-project/data/features/relationship_prediction.pkl'\u001b[0m\u001b[0;34m)\u001b[0m\u001b[0;34m\u001b[0m\u001b[0;34m\u001b[0m\u001b[0m\n\u001b[0m\u001b[1;32m      7\u001b[0m \u001b[0mlen\u001b[0m\u001b[0;34m(\u001b[0m\u001b[0mdata\u001b[0m\u001b[0;34m)\u001b[0m\u001b[0;34m\u001b[0m\u001b[0;34m\u001b[0m\u001b[0m\n\u001b[1;32m      8\u001b[0m \u001b[0mprint\u001b[0m\u001b[0;34m(\u001b[0m\u001b[0mdata\u001b[0m\u001b[0;34m.\u001b[0m\u001b[0mcolumns\u001b[0m\u001b[0;34m)\u001b[0m\u001b[0;34m\u001b[0m\u001b[0;34m\u001b[0m\u001b[0m\n",
      "\u001b[0;32m~/anaconda3/lib/python3.6/site-packages/pandas/io/pickle.py\u001b[0m in \u001b[0;36mread_pickle\u001b[0;34m(path, compression)\u001b[0m\n\u001b[1;32m    180\u001b[0m     \u001b[0;32mexcept\u001b[0m \u001b[0mException\u001b[0m\u001b[0;34m:\u001b[0m  \u001b[0;31m# noqa: E722\u001b[0m\u001b[0;34m\u001b[0m\u001b[0;34m\u001b[0m\u001b[0m\n\u001b[1;32m    181\u001b[0m         \u001b[0;32mif\u001b[0m \u001b[0mPY3\u001b[0m\u001b[0;34m:\u001b[0m\u001b[0;34m\u001b[0m\u001b[0;34m\u001b[0m\u001b[0m\n\u001b[0;32m--> 182\u001b[0;31m             \u001b[0;32mreturn\u001b[0m \u001b[0mtry_read\u001b[0m\u001b[0;34m(\u001b[0m\u001b[0mpath\u001b[0m\u001b[0;34m,\u001b[0m \u001b[0mencoding\u001b[0m\u001b[0;34m=\u001b[0m\u001b[0;34m'latin1'\u001b[0m\u001b[0;34m)\u001b[0m\u001b[0;34m\u001b[0m\u001b[0;34m\u001b[0m\u001b[0m\n\u001b[0m\u001b[1;32m    183\u001b[0m         \u001b[0;32mraise\u001b[0m\u001b[0;34m\u001b[0m\u001b[0;34m\u001b[0m\u001b[0m\n\u001b[1;32m    184\u001b[0m \u001b[0;34m\u001b[0m\u001b[0m\n",
      "\u001b[0;32m~/anaconda3/lib/python3.6/site-packages/pandas/io/pickle.py\u001b[0m in \u001b[0;36mtry_read\u001b[0;34m(path, encoding)\u001b[0m\n\u001b[1;32m    175\u001b[0m             \u001b[0;32mexcept\u001b[0m \u001b[0mException\u001b[0m\u001b[0;34m:\u001b[0m  \u001b[0;31m# noqa: E722\u001b[0m\u001b[0;34m\u001b[0m\u001b[0;34m\u001b[0m\u001b[0m\n\u001b[1;32m    176\u001b[0m                 return read_wrapper(\n\u001b[0;32m--> 177\u001b[0;31m                     lambda f: pc.load(f, encoding=encoding, compat=True))\n\u001b[0m\u001b[1;32m    178\u001b[0m     \u001b[0;32mtry\u001b[0m\u001b[0;34m:\u001b[0m\u001b[0;34m\u001b[0m\u001b[0;34m\u001b[0m\u001b[0m\n\u001b[1;32m    179\u001b[0m         \u001b[0;32mreturn\u001b[0m \u001b[0mtry_read\u001b[0m\u001b[0;34m(\u001b[0m\u001b[0mpath\u001b[0m\u001b[0;34m)\u001b[0m\u001b[0;34m\u001b[0m\u001b[0;34m\u001b[0m\u001b[0m\n",
      "\u001b[0;32m~/anaconda3/lib/python3.6/site-packages/pandas/io/pickle.py\u001b[0m in \u001b[0;36mread_wrapper\u001b[0;34m(func)\u001b[0m\n\u001b[1;32m    144\u001b[0m         f, fh = _get_handle(path, 'rb',\n\u001b[1;32m    145\u001b[0m                             \u001b[0mcompression\u001b[0m\u001b[0;34m=\u001b[0m\u001b[0mcompression\u001b[0m\u001b[0;34m,\u001b[0m\u001b[0;34m\u001b[0m\u001b[0;34m\u001b[0m\u001b[0m\n\u001b[0;32m--> 146\u001b[0;31m                             is_text=False)\n\u001b[0m\u001b[1;32m    147\u001b[0m         \u001b[0;32mtry\u001b[0m\u001b[0;34m:\u001b[0m\u001b[0;34m\u001b[0m\u001b[0;34m\u001b[0m\u001b[0m\n\u001b[1;32m    148\u001b[0m             \u001b[0;32mreturn\u001b[0m \u001b[0mfunc\u001b[0m\u001b[0;34m(\u001b[0m\u001b[0mf\u001b[0m\u001b[0;34m)\u001b[0m\u001b[0;34m\u001b[0m\u001b[0;34m\u001b[0m\u001b[0m\n",
      "\u001b[0;32m~/anaconda3/lib/python3.6/site-packages/pandas/io/common.py\u001b[0m in \u001b[0;36m_get_handle\u001b[0;34m(path_or_buf, mode, encoding, compression, memory_map, is_text)\u001b[0m\n\u001b[1;32m    428\u001b[0m         \u001b[0;32melse\u001b[0m\u001b[0;34m:\u001b[0m\u001b[0;34m\u001b[0m\u001b[0;34m\u001b[0m\u001b[0m\n\u001b[1;32m    429\u001b[0m             \u001b[0;31m# Python 3 and binary mode\u001b[0m\u001b[0;34m\u001b[0m\u001b[0;34m\u001b[0m\u001b[0;34m\u001b[0m\u001b[0m\n\u001b[0;32m--> 430\u001b[0;31m             \u001b[0mf\u001b[0m \u001b[0;34m=\u001b[0m \u001b[0mopen\u001b[0m\u001b[0;34m(\u001b[0m\u001b[0mpath_or_buf\u001b[0m\u001b[0;34m,\u001b[0m \u001b[0mmode\u001b[0m\u001b[0;34m)\u001b[0m\u001b[0;34m\u001b[0m\u001b[0;34m\u001b[0m\u001b[0m\n\u001b[0m\u001b[1;32m    431\u001b[0m         \u001b[0mhandles\u001b[0m\u001b[0;34m.\u001b[0m\u001b[0mappend\u001b[0m\u001b[0;34m(\u001b[0m\u001b[0mf\u001b[0m\u001b[0;34m)\u001b[0m\u001b[0;34m\u001b[0m\u001b[0;34m\u001b[0m\u001b[0m\n\u001b[1;32m    432\u001b[0m \u001b[0;34m\u001b[0m\u001b[0m\n",
      "\u001b[0;31mFileNotFoundError\u001b[0m: [Errno 2] No such file or directory: '/usr2/mamille2/fanfiction-project/data/features/relationship_prediction.pkl'"
     ]
    }
   ],
   "source": [
    "# Load existing data (5+ paragraphs with at least one pairing together)\n",
    "\n",
    "import pandas as pd\n",
    "\n",
    "# Load data\n",
    "data = pd.read_pickle('/usr2/mamille2/fanfiction-project/data/features/relationship_prediction.pkl')\n",
    "len(data)\n",
    "print(data.columns)\n",
    "\n",
    "pairings = data['pairing'].unique()\n",
    "pairings"
   ]
  },
  {
   "cell_type": "code",
   "execution_count": null,
   "metadata": {},
   "outputs": [],
   "source": [
    "canon_relationship_map = {\n",
    "        ('draco', 'harry'): False,\n",
    "        ('hermione', 'ron'): True,\n",
    "        ('ginny', 'harry'): True,\n",
    "        ('draco', 'hermione'): False,\n",
    "        ('harry', 'hermione'): False,\n",
    "        ('harry', 'ron'): False,\n",
    "                         }\n",
    "\n",
    "relationship_type_map = {\n",
    "        ('draco', 'harry'): True,\n",
    "        ('hermione', 'ron'): False,\n",
    "        ('ginny', 'harry'): False,\n",
    "        ('draco', 'hermione'): False,\n",
    "        ('harry', 'hermione'): False,\n",
    "        ('harry', 'ron'): True,\n",
    "                         }\n",
    "\n",
    "data['is_canon'] = [(is_romantic and canon_relationship_map[pairing]) or (not is_romantic and not canon_relationship_map[pairing]) \\\n",
    "                    for is_romantic, pairing in zip(data['is_romantic'], data['pairing'])]\n",
    "\n",
    "data['is_mm'] = data['pairing'].map(lambda x: relationship_type_map[x])"
   ]
  },
  {
   "cell_type": "code",
   "execution_count": null,
   "metadata": {},
   "outputs": [],
   "source": [
    "# Save out\n",
    "data.to_pickle('/usr2/mamille2/fanfiction-project/data/features/relationship_prediction.pkl')"
   ]
  },
  {
   "cell_type": "code",
   "execution_count": null,
   "metadata": {},
   "outputs": [],
   "source": [
    "fic_ids = sorted(data['fic_id'].unique())\n",
    "len(fic_ids)"
   ]
  },
  {
   "cell_type": "code",
   "execution_count": null,
   "metadata": {},
   "outputs": [],
   "source": [
    "# Create dict of fic_id: chapter_fnames\n",
    "\n",
    "fnames = os.listdir(data_dirpath)\n",
    "len(fnames)"
   ]
  },
  {
   "cell_type": "code",
   "execution_count": null,
   "metadata": {},
   "outputs": [],
   "source": [
    "from collections import defaultdict\n",
    "\n",
    "fic_chapters = defaultdict(list)\n",
    "for fname in tqdm(fnames):\n",
    "    fic_id = int(fname.split('_')[0])\n",
    "    fic_chapters[fic_id].append(fname)\n",
    "    \n",
    "len(fic_chapters)"
   ]
  },
  {
   "cell_type": "code",
   "execution_count": null,
   "metadata": {},
   "outputs": [],
   "source": [
    "# Copy those fic_ids to new directory for pipeline\n",
    "import os\n",
    "from tqdm import tqdm_notebook as tqdm\n",
    "\n",
    "data_dirpath = '/usr2/scratch/fanfic/ao3_harrypotter_text/stories/'\n",
    "# data_dirpath = '/usr2/mamille2/fanfiction-project/data/ao3/harrypotter/fics_paras\n",
    "out_dirpath = '/usr2/mamille2/fanfiction-project/data/ao3/harrypotter/emnlp_dataset'\n",
    "\n",
    "for fic_id in tqdm(fic_ids):\n",
    "    chapter_fnames = fic_chapters[fic_id]\n",
    "    \n",
    "    # Combine into 1 fic text\n",
    "    with open(os.path.join(out_dirpath, f'{fic_id}.csv'), 'w') as out:\n",
    "        \n",
    "        # header\n",
    "        fname = chapter_fnames[0]\n",
    "        fpath = os.path.join(data_dirpath, fname)\n",
    "        with open(fpath) as f:\n",
    "            for line in f:\n",
    "                out.write(line)\n",
    "            \n",
    "        for fname in chapter_fnames[1:]:\n",
    "            fpath = os.path.join(data_dirpath, fname)\n",
    "            with open(fpath) as f:\n",
    "                lines = f.read().splitlines()\n",
    "                for line in lines[1:]:\n",
    "                    out.write(line)"
   ]
  },
  {
   "cell_type": "code",
   "execution_count": null,
   "metadata": {
    "scrolled": true
   },
   "outputs": [],
   "source": [
    "# Sample equal split among pairings\n",
    "\n",
    "sample = data.sample(frac=1).groupby('pairing').head(1000)\n",
    "len(sample)"
   ]
  },
  {
   "cell_type": "code",
   "execution_count": null,
   "metadata": {},
   "outputs": [],
   "source": [
    "# Save out sample\n",
    "sample.to_pickle('/usr2/mamille2/fanfiction-project/data/features/relationship_prediction_sample6k.pkl')"
   ]
  },
  {
   "cell_type": "code",
   "execution_count": null,
   "metadata": {},
   "outputs": [],
   "source": [
    "sampled_fic_ids = sorted(sample['fic_id'].unique())\n",
    "len(sampled_fic_ids)"
   ]
  },
  {
   "cell_type": "code",
   "execution_count": null,
   "metadata": {},
   "outputs": [],
   "source": [
    "sampled_fic_ids[:10]"
   ]
  },
  {
   "cell_type": "code",
   "execution_count": null,
   "metadata": {},
   "outputs": [],
   "source": [
    "import shutil\n",
    "\n",
    "for fic_id in tqdm(sampled_fic_ids):\n",
    "    from_dirpath = '/usr2/mamille2/fanfiction-project/data/ao3/harrypotter/emnlp_dataset/fics'\n",
    "    to_dirpath = '/usr2/mamille2/fanfiction-project/data/ao3/harrypotter/emnlp_dataset_6k/fics'\n",
    "    \n",
    "    shutil.copy(os.path.join(from_dirpath, f'{fic_id}.csv'), os.path.join(to_dirpath, f'{fic_id}.csv'))"
   ]
  }
 ],
 "metadata": {
  "kernelspec": {
   "display_name": "Python 3",
   "language": "python",
   "name": "python3"
  },
  "language_info": {
   "codemirror_mode": {
    "name": "ipython",
    "version": 3
   },
   "file_extension": ".py",
   "mimetype": "text/x-python",
   "name": "python",
   "nbconvert_exporter": "python",
   "pygments_lexer": "ipython3",
   "version": "3.6.8"
  }
 },
 "nbformat": 4,
 "nbformat_minor": 2
}
