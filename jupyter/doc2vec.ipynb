{
 "cells": [
  {
   "cell_type": "code",
   "execution_count": 1,
   "metadata": {},
   "outputs": [],
   "source": [
    "import os\n",
    "import pandas as pd\n",
    "data_dirpath = '/usr2/mamille2/fanfiction-project/'"
   ]
  },
  {
   "cell_type": "markdown",
   "metadata": {},
   "source": [
    "# Evaluate/visualize document vectors from relationship tag"
   ]
  },
  {
   "cell_type": "code",
   "execution_count": 3,
   "metadata": {
    "scrolled": true
   },
   "outputs": [],
   "source": [
    "from gensim.models.doc2vec import Doc2Vec\n",
    "\n",
    "model_dirpath = '/usr2/mamille2/fanfiction-project/models/'\n",
    "fandom = 'detroit'\n",
    "model_fpath = os.path.join(model_dirpath, fandom, 'PV-DM_d100w10n5mc2t20alpha0.05.model')\n",
    "\n",
    "model = Doc2Vec.load(model_fpath)"
   ]
  },
  {
   "cell_type": "markdown",
   "metadata": {},
   "source": [
    "## Word similarity evaluation"
   ]
  },
  {
   "cell_type": "code",
   "execution_count": 7,
   "metadata": {
    "scrolled": true
   },
   "outputs": [
    {
     "name": "stdout",
     "output_type": "stream",
     "text": [
      "most similar words for 'disguise' (304 occurences)\n"
     ]
    },
    {
     "data": {
      "text/html": [
       "<table><tr><th>Doc2Vec(\"PV-DM_d100w10n5mc2t20alpha0.05\",dm/m,d100,n5,w10,mc2,t20)</th></tr><tr><td>[('mask', 0.673973798751831),<br>\n",
       "('hide', 0.654331624507904),<br>\n",
       "('rein', 0.6451747417449951),<br>\n",
       "('blend', 0.641869068145752),<br>\n",
       "('conceal', 0.6328172087669373),<br>\n",
       "('pose', 0.6302469968795776),<br>\n",
       "('uniform', 0.6174399852752686),<br>\n",
       "('suppress', 0.6090782284736633),<br>\n",
       "('sling', 0.608373761177063),<br>\n",
       "('place', 0.6041964888572693),<br>\n",
       "('dress', 0.60212641954422),<br>\n",
       "('costume', 0.5985825061798096),<br>\n",
       "('aide', 0.5977627635002136),<br>\n",
       "('suit', 0.5962046384811401),<br>\n",
       "('redeem', 0.5956819653511047),<br>\n",
       "('stifle', 0.5954487323760986),<br>\n",
       "('bind', 0.5921100974082947),<br>\n",
       "('tux', 0.5887809991836548),<br>\n",
       "('lockpick', 0.588256299495697),<br>\n",
       "('barcode', 0.5873401165008545)]</td></tr></table>"
      ],
      "text/plain": [
       "<IPython.core.display.HTML object>"
      ]
     },
     "execution_count": 7,
     "metadata": {},
     "output_type": "execute_result"
    }
   ],
   "source": [
    "import random\n",
    "from IPython.display import HTML\n",
    "\n",
    "models = [model]\n",
    "\n",
    "# pick a random word with a suitable number of occurences\n",
    "while True:\n",
    "    word = random.choice(models[0].wv.index2word)\n",
    "    if models[0].wv.vocab[word].count > 50:\n",
    "        break\n",
    "        \n",
    "# or uncomment below line, to just pick a word from the relevant domain:\n",
    "# word = 'difficult'\n",
    "similars_per_model = [str(model.wv.most_similar(word, topn=20)).replace('), ','),<br>\\n') for model in models]\n",
    "similar_table = (\"<table><tr><th>\" +\n",
    "    \"</th><th>\".join([str(model) for model in models]) + \n",
    "    \"</th></tr><tr><td>\" +\n",
    "    \"</td><td>\".join(similars_per_model) +\n",
    "    \"</td></tr></table>\")\n",
    "print(\"most similar words for '%s' (%d occurences)\" % (word, models[0].wv.vocab[word].count))\n",
    "HTML(similar_table)"
   ]
  },
  {
   "cell_type": "markdown",
   "metadata": {},
   "source": [
    "## t-SNE"
   ]
  },
  {
   "cell_type": "code",
   "execution_count": 29,
   "metadata": {},
   "outputs": [
    {
     "data": {
      "text/plain": [
       "array([-0.64145881, -0.44714788, -2.94131231,  1.95569456,  2.67215872,\n",
       "       -1.21829247,  0.78172266,  1.58930683, -1.77131486,  0.48926157,\n",
       "        1.09237397,  1.51042414, -1.2464937 ,  3.32916737,  0.86248803,\n",
       "        0.34498975,  2.81938553,  1.60361052, -1.2919805 , -3.10155463,\n",
       "       -0.97402817, -0.97601032, -2.3341856 , -2.05972171, -0.64949602,\n",
       "        1.86308849,  0.80288702, -1.29127038, -0.55448472,  3.05143166,\n",
       "       -2.26299334, -1.52647924,  1.74536729, -3.89703321, -1.45736158,\n",
       "       -1.25314188, -0.34376073, -0.61410433, -0.25679395,  1.98801124,\n",
       "        2.20992088, -1.44080317,  1.31203914, -0.39800346, -4.18623447,\n",
       "        0.0956163 , -1.64500165, -0.04960196,  1.34296191, -0.72010326,\n",
       "       -2.67911434, -1.00623536, -3.41361308, -1.03989995,  0.96937668,\n",
       "       -0.63237178,  0.64114743, -0.66396761, -0.29518881, -2.77148938,\n",
       "       -0.59896207, -1.04591382, -1.6616143 , -1.45333636,  0.3121596 ,\n",
       "       -2.02744794, -0.57003492,  3.06457043, -0.10252312,  3.91840672,\n",
       "        1.23855412,  2.31399894,  0.81367248,  1.92293155, -1.46240735,\n",
       "        2.36814976, -0.28932446,  0.03753462,  3.36034465, -1.89579988,\n",
       "        1.40572441, -0.0690378 , -0.96800125,  0.50292635, -0.69109428,\n",
       "       -2.63502955,  0.80406469,  0.10822316, -2.92368937,  0.60040158,\n",
       "        0.76815253, -1.70830262,  0.44372702, -0.53439558,  1.02468216,\n",
       "       -0.53958499, -3.61094093,  0.84876204, -0.09654208, -0.49733329], dtype=float32)"
      ]
     },
     "execution_count": 29,
     "metadata": {},
     "output_type": "execute_result"
    }
   ],
   "source": [
    "# Access word vectors, document vectors\n",
    "# model['according']\n",
    "model.docvecs['M/M']"
   ]
  },
  {
   "cell_type": "code",
   "execution_count": 34,
   "metadata": {},
   "outputs": [
    {
     "data": {
      "text/plain": [
       "{'F/F': Doctag(offset=3, word_count=308645, doc_count=8481),\n",
       " 'F/M': Doctag(offset=2, word_count=1060994, doc_count=28695),\n",
       " 'Gen': Doctag(offset=4, word_count=438631, doc_count=13483),\n",
       " 'M/M': Doctag(offset=0, word_count=1195274, doc_count=34843),\n",
       " 'Multi': Doctag(offset=1, word_count=335628, doc_count=10438),\n",
       " 'Other': Doctag(offset=5, word_count=11834, doc_count=435)}"
      ]
     },
     "execution_count": 34,
     "metadata": {},
     "output_type": "execute_result"
    }
   ],
   "source": [
    "model.docvecs.doctags"
   ]
  },
  {
   "cell_type": "code",
   "execution_count": 35,
   "metadata": {},
   "outputs": [],
   "source": [
    "from sklearn.manifold import TSNE\n",
    "import numpy as np\n",
    "import matplotlib.pyplot as plt\n",
    "\n",
    "def tsne_plot(model, random_subset=False):\n",
    "    \"\"\"Creates and TSNE model and plots it.\n",
    "    Credit https://www.kaggle.com/jeffd23/visualizing-word-vectors-with-t-sne \"\"\"\n",
    "    \n",
    "    labels = []\n",
    "    tokens = []\n",
    "    \n",
    "#     if random_subset:\n",
    "#         vocab = np.random.choice(list(model.wv.vocab.keys()), random_subset)\n",
    "        \n",
    "#     else:\n",
    "#         vocab = model.wv.vocab\n",
    "    vocab = model.wv.vocab\n",
    "    \n",
    "    for i, word in enumerate(vocab):\n",
    "        tokens.append(model[word])\n",
    "        labels.append(word)\n",
    "    \n",
    "    tsne_model = TSNE(perplexity=40, n_components=2, init='pca', n_iter=2500, random_state=23)\n",
    "    new_values = tsne_model.fit_transform(tokens)\n",
    "\n",
    "    x = []\n",
    "    y = []\n",
    "    if random_subset:\n",
    "        values_sample = np.random.choice(new_values, random_subset)\n",
    "    else:\n",
    "        values_sample = new_values\n",
    "    for value in values_sample:\n",
    "        x.append(value[0])\n",
    "        y.append(value[1])\n",
    "        \n",
    "    plt.figure(figsize=(16, 16)) \n",
    "    for i in range(len(x)):\n",
    "        plt.scatter(x[i],y[i])\n",
    "        plt.annotate(labels[i],\n",
    "                     xy=(x[i], y[i]),\n",
    "                     xytext=(5, 2),\n",
    "                     textcoords='offset points',\n",
    "                     ha='right',\n",
    "                     va='bottom')\n",
    "    plt.show()"
   ]
  },
  {
   "cell_type": "code",
   "execution_count": 12,
   "metadata": {},
   "outputs": [
    {
     "data": {
      "text/plain": [
       "22686"
      ]
     },
     "execution_count": 12,
     "metadata": {},
     "output_type": "execute_result"
    }
   ],
   "source": [
    "len(model.wv.vocab)"
   ]
  },
  {
   "cell_type": "code",
   "execution_count": 21,
   "metadata": {},
   "outputs": [
    {
     "data": {
      "text/plain": [
       "'gasping'"
      ]
     },
     "execution_count": 21,
     "metadata": {},
     "output_type": "execute_result"
    }
   ],
   "source": [
    "list(model.wv.vocab.keys())[400]"
   ]
  },
  {
   "cell_type": "code",
   "execution_count": 36,
   "metadata": {
    "scrolled": true
   },
   "outputs": [
    {
     "ename": "KeyboardInterrupt",
     "evalue": "",
     "output_type": "error",
     "traceback": [
      "\u001b[0;31m---------------------------------------------------------------------------\u001b[0m",
      "\u001b[0;31mKeyboardInterrupt\u001b[0m                         Traceback (most recent call last)",
      "\u001b[0;32m<ipython-input-36-44c720260571>\u001b[0m in \u001b[0;36m<module>\u001b[0;34m()\u001b[0m\n\u001b[0;32m----> 1\u001b[0;31m \u001b[0mtsne_plot\u001b[0m\u001b[0;34m(\u001b[0m\u001b[0mmodel\u001b[0m\u001b[0;34m,\u001b[0m \u001b[0mrandom_subset\u001b[0m\u001b[0;34m=\u001b[0m\u001b[0;36m500\u001b[0m\u001b[0;34m)\u001b[0m\u001b[0;34m\u001b[0m\u001b[0m\n\u001b[0m",
      "\u001b[0;32m<ipython-input-35-5478aafc0f07>\u001b[0m in \u001b[0;36mtsne_plot\u001b[0;34m(model, random_subset)\u001b[0m\n\u001b[1;32m     22\u001b[0m \u001b[0;34m\u001b[0m\u001b[0m\n\u001b[1;32m     23\u001b[0m     \u001b[0mtsne_model\u001b[0m \u001b[0;34m=\u001b[0m \u001b[0mTSNE\u001b[0m\u001b[0;34m(\u001b[0m\u001b[0mperplexity\u001b[0m\u001b[0;34m=\u001b[0m\u001b[0;36m40\u001b[0m\u001b[0;34m,\u001b[0m \u001b[0mn_components\u001b[0m\u001b[0;34m=\u001b[0m\u001b[0;36m2\u001b[0m\u001b[0;34m,\u001b[0m \u001b[0minit\u001b[0m\u001b[0;34m=\u001b[0m\u001b[0;34m'pca'\u001b[0m\u001b[0;34m,\u001b[0m \u001b[0mn_iter\u001b[0m\u001b[0;34m=\u001b[0m\u001b[0;36m2500\u001b[0m\u001b[0;34m,\u001b[0m \u001b[0mrandom_state\u001b[0m\u001b[0;34m=\u001b[0m\u001b[0;36m23\u001b[0m\u001b[0;34m)\u001b[0m\u001b[0;34m\u001b[0m\u001b[0m\n\u001b[0;32m---> 24\u001b[0;31m     \u001b[0mnew_values\u001b[0m \u001b[0;34m=\u001b[0m \u001b[0mtsne_model\u001b[0m\u001b[0;34m.\u001b[0m\u001b[0mfit_transform\u001b[0m\u001b[0;34m(\u001b[0m\u001b[0mtokens\u001b[0m\u001b[0;34m)\u001b[0m\u001b[0;34m\u001b[0m\u001b[0m\n\u001b[0m\u001b[1;32m     25\u001b[0m \u001b[0;34m\u001b[0m\u001b[0m\n\u001b[1;32m     26\u001b[0m     \u001b[0mx\u001b[0m \u001b[0;34m=\u001b[0m \u001b[0;34m[\u001b[0m\u001b[0;34m]\u001b[0m\u001b[0;34m\u001b[0m\u001b[0m\n",
      "\u001b[0;32m~/anaconda3/lib/python3.6/site-packages/sklearn/manifold/t_sne.py\u001b[0m in \u001b[0;36mfit_transform\u001b[0;34m(self, X, y)\u001b[0m\n\u001b[1;32m    857\u001b[0m             \u001b[0mEmbedding\u001b[0m \u001b[0mof\u001b[0m \u001b[0mthe\u001b[0m \u001b[0mtraining\u001b[0m \u001b[0mdata\u001b[0m \u001b[0;32min\u001b[0m \u001b[0mlow\u001b[0m\u001b[0;34m-\u001b[0m\u001b[0mdimensional\u001b[0m \u001b[0mspace\u001b[0m\u001b[0;34m.\u001b[0m\u001b[0;34m\u001b[0m\u001b[0m\n\u001b[1;32m    858\u001b[0m         \"\"\"\n\u001b[0;32m--> 859\u001b[0;31m         \u001b[0membedding\u001b[0m \u001b[0;34m=\u001b[0m \u001b[0mself\u001b[0m\u001b[0;34m.\u001b[0m\u001b[0m_fit\u001b[0m\u001b[0;34m(\u001b[0m\u001b[0mX\u001b[0m\u001b[0;34m)\u001b[0m\u001b[0;34m\u001b[0m\u001b[0m\n\u001b[0m\u001b[1;32m    860\u001b[0m         \u001b[0mself\u001b[0m\u001b[0;34m.\u001b[0m\u001b[0membedding_\u001b[0m \u001b[0;34m=\u001b[0m \u001b[0membedding\u001b[0m\u001b[0;34m\u001b[0m\u001b[0m\n\u001b[1;32m    861\u001b[0m         \u001b[0;32mreturn\u001b[0m \u001b[0mself\u001b[0m\u001b[0;34m.\u001b[0m\u001b[0membedding_\u001b[0m\u001b[0;34m\u001b[0m\u001b[0m\n",
      "\u001b[0;32m~/anaconda3/lib/python3.6/site-packages/sklearn/manifold/t_sne.py\u001b[0m in \u001b[0;36m_fit\u001b[0;34m(self, X, skip_num_points)\u001b[0m\n\u001b[1;32m    771\u001b[0m                           \u001b[0mX_embedded\u001b[0m\u001b[0;34m=\u001b[0m\u001b[0mX_embedded\u001b[0m\u001b[0;34m,\u001b[0m\u001b[0;34m\u001b[0m\u001b[0m\n\u001b[1;32m    772\u001b[0m                           \u001b[0mneighbors\u001b[0m\u001b[0;34m=\u001b[0m\u001b[0mneighbors_nn\u001b[0m\u001b[0;34m,\u001b[0m\u001b[0;34m\u001b[0m\u001b[0m\n\u001b[0;32m--> 773\u001b[0;31m                           skip_num_points=skip_num_points)\n\u001b[0m\u001b[1;32m    774\u001b[0m \u001b[0;34m\u001b[0m\u001b[0m\n\u001b[1;32m    775\u001b[0m     \u001b[0;34m@\u001b[0m\u001b[0mproperty\u001b[0m\u001b[0;34m\u001b[0m\u001b[0m\n",
      "\u001b[0;32m~/anaconda3/lib/python3.6/site-packages/sklearn/manifold/t_sne.py\u001b[0m in \u001b[0;36m_tsne\u001b[0;34m(self, P, degrees_of_freedom, n_samples, random_state, X_embedded, neighbors, skip_num_points)\u001b[0m\n\u001b[1;32m    828\u001b[0m             \u001b[0mopt_args\u001b[0m\u001b[0;34m[\u001b[0m\u001b[0;34m'n_iter_without_progress'\u001b[0m\u001b[0;34m]\u001b[0m \u001b[0;34m=\u001b[0m \u001b[0mself\u001b[0m\u001b[0;34m.\u001b[0m\u001b[0mn_iter_without_progress\u001b[0m\u001b[0;34m\u001b[0m\u001b[0m\n\u001b[1;32m    829\u001b[0m             params, kl_divergence, it = _gradient_descent(obj_func, params,\n\u001b[0;32m--> 830\u001b[0;31m                                                           **opt_args)\n\u001b[0m\u001b[1;32m    831\u001b[0m \u001b[0;34m\u001b[0m\u001b[0m\n\u001b[1;32m    832\u001b[0m         \u001b[0;31m# Save the final number of iterations\u001b[0m\u001b[0;34m\u001b[0m\u001b[0;34m\u001b[0m\u001b[0m\n",
      "\u001b[0;32m~/anaconda3/lib/python3.6/site-packages/sklearn/manifold/t_sne.py\u001b[0m in \u001b[0;36m_gradient_descent\u001b[0;34m(objective, p0, it, n_iter, n_iter_check, n_iter_without_progress, momentum, learning_rate, min_gain, min_grad_norm, verbose, args, kwargs)\u001b[0m\n\u001b[1;32m    337\u001b[0m     \u001b[0mtic\u001b[0m \u001b[0;34m=\u001b[0m \u001b[0mtime\u001b[0m\u001b[0;34m(\u001b[0m\u001b[0;34m)\u001b[0m\u001b[0;34m\u001b[0m\u001b[0m\n\u001b[1;32m    338\u001b[0m     \u001b[0;32mfor\u001b[0m \u001b[0mi\u001b[0m \u001b[0;32min\u001b[0m \u001b[0mrange\u001b[0m\u001b[0;34m(\u001b[0m\u001b[0mit\u001b[0m\u001b[0;34m,\u001b[0m \u001b[0mn_iter\u001b[0m\u001b[0;34m)\u001b[0m\u001b[0;34m:\u001b[0m\u001b[0;34m\u001b[0m\u001b[0m\n\u001b[0;32m--> 339\u001b[0;31m         \u001b[0merror\u001b[0m\u001b[0;34m,\u001b[0m \u001b[0mgrad\u001b[0m \u001b[0;34m=\u001b[0m \u001b[0mobjective\u001b[0m\u001b[0;34m(\u001b[0m\u001b[0mp\u001b[0m\u001b[0;34m,\u001b[0m \u001b[0;34m*\u001b[0m\u001b[0margs\u001b[0m\u001b[0;34m,\u001b[0m \u001b[0;34m**\u001b[0m\u001b[0mkwargs\u001b[0m\u001b[0;34m)\u001b[0m\u001b[0;34m\u001b[0m\u001b[0m\n\u001b[0m\u001b[1;32m    340\u001b[0m         \u001b[0mgrad_norm\u001b[0m \u001b[0;34m=\u001b[0m \u001b[0mlinalg\u001b[0m\u001b[0;34m.\u001b[0m\u001b[0mnorm\u001b[0m\u001b[0;34m(\u001b[0m\u001b[0mgrad\u001b[0m\u001b[0;34m)\u001b[0m\u001b[0;34m\u001b[0m\u001b[0m\n\u001b[1;32m    341\u001b[0m \u001b[0;34m\u001b[0m\u001b[0m\n",
      "\u001b[0;32m~/anaconda3/lib/python3.6/site-packages/sklearn/manifold/t_sne.py\u001b[0m in \u001b[0;36m_kl_divergence_bh\u001b[0;34m(params, P, degrees_of_freedom, n_samples, n_components, angle, skip_num_points, verbose)\u001b[0m\n\u001b[1;32m    245\u001b[0m     error = _barnes_hut_tsne.gradient(val_P, X_embedded, neighbors, indptr,\n\u001b[1;32m    246\u001b[0m                                       \u001b[0mgrad\u001b[0m\u001b[0;34m,\u001b[0m \u001b[0mangle\u001b[0m\u001b[0;34m,\u001b[0m \u001b[0mn_components\u001b[0m\u001b[0;34m,\u001b[0m \u001b[0mverbose\u001b[0m\u001b[0;34m,\u001b[0m\u001b[0;34m\u001b[0m\u001b[0m\n\u001b[0;32m--> 247\u001b[0;31m                                       dof=degrees_of_freedom)\n\u001b[0m\u001b[1;32m    248\u001b[0m     \u001b[0mc\u001b[0m \u001b[0;34m=\u001b[0m \u001b[0;36m2.0\u001b[0m \u001b[0;34m*\u001b[0m \u001b[0;34m(\u001b[0m\u001b[0mdegrees_of_freedom\u001b[0m \u001b[0;34m+\u001b[0m \u001b[0;36m1.0\u001b[0m\u001b[0;34m)\u001b[0m \u001b[0;34m/\u001b[0m \u001b[0mdegrees_of_freedom\u001b[0m\u001b[0;34m\u001b[0m\u001b[0m\n\u001b[1;32m    249\u001b[0m     \u001b[0mgrad\u001b[0m \u001b[0;34m=\u001b[0m \u001b[0mgrad\u001b[0m\u001b[0;34m.\u001b[0m\u001b[0mravel\u001b[0m\u001b[0;34m(\u001b[0m\u001b[0;34m)\u001b[0m\u001b[0;34m\u001b[0m\u001b[0m\n",
      "\u001b[0;31mKeyboardInterrupt\u001b[0m: "
     ]
    }
   ],
   "source": [
    "tsne_plot(model, random_subset=500)"
   ]
  },
  {
   "cell_type": "markdown",
   "metadata": {},
   "source": [
    "## Nearest neighbors for document vectors"
   ]
  },
  {
   "cell_type": "code",
   "execution_count": 8,
   "metadata": {},
   "outputs": [
    {
     "data": {
      "text/plain": [
       "[('Other', 0.6788891553878784),\n",
       " ('F/F', 0.4212363064289093),\n",
       " ('Multi', 0.40247777104377747),\n",
       " ('', 0.25205597281455994),\n",
       " ('Gen', -0.021115733310580254),\n",
       " ('M/M', -0.4209712743759155)]"
      ]
     },
     "execution_count": 8,
     "metadata": {},
     "output_type": "execute_result"
    }
   ],
   "source": [
    "model.docvecs.most_similar('F/M')"
   ]
  },
  {
   "cell_type": "code",
   "execution_count": 11,
   "metadata": {
    "scrolled": true
   },
   "outputs": [
    {
     "name": "stdout",
     "output_type": "stream",
     "text": [
      "\n",
      "[('safety', 0.5253168344497681),\n",
      " ('backyard', 0.5062938928604126),\n",
      " ('extent', 0.48983919620513916),\n",
      " ('basement', 0.48702695965766907),\n",
      " ('relation', 0.48562371730804443),\n",
      " ('contrast', 0.48470503091812134),\n",
      " ('mansion', 0.48414695262908936),\n",
      " ('house', 0.48316729068756104),\n",
      " ('mentor', 0.48109591007232666),\n",
      " ('fight', 0.4792930483818054),\n",
      " ('agreed', 0.4777863323688507),\n",
      " ('compound', 0.4748291075229645),\n",
      " ('progression', 0.47415244579315186),\n",
      " ('boat', 0.47396335005760193),\n",
      " ('monster', 0.47292253375053406),\n",
      " ('influence', 0.46788886189460754),\n",
      " ('dream', 0.46773114800453186),\n",
      " ('consequence', 0.4653666615486145),\n",
      " ('burden', 0.4634580910205841),\n",
      " ('rush', 0.46338772773742676),\n",
      " ('bounds', 0.463182270526886),\n",
      " ('creation', 0.462914377450943),\n",
      " ('shed', 0.4625244438648224),\n",
      " ('photograph', 0.4620272219181061),\n",
      " ('grave', 0.4619958698749542),\n",
      " ('workshop', 0.4617365300655365),\n",
      " ('bed', 0.46168577671051025),\n",
      " ('breed', 0.4606289863586426),\n",
      " ('survive', 0.46012720465660095),\n",
      " ('lied', 0.4598550796508789)]\n",
      "\n",
      "F/F\n",
      "[('\"', 0.42241066694259644),\n",
      " ('helena', 0.402671754360199),\n",
      " ('arcee', 0.39338237047195435),\n",
      " ('colvin', 0.32994890213012695),\n",
      " ('isadora', 0.31499147415161133),\n",
      " ('rai', 0.3118777573108673),\n",
      " ('allie', 0.3072928786277771),\n",
      " ('andromeda', 0.29396143555641174),\n",
      " ('alice', 0.2866631746292114),\n",
      " ('sayori', 0.2851315140724182),\n",
      " ('kara', 0.28431203961372375),\n",
      " ('monika', 0.2807198166847229),\n",
      " ('matthews', 0.27651870250701904),\n",
      " ('randy', 0.2757709324359894),\n",
      " ('she', 0.2729652523994446),\n",
      " ('tilly', 0.2719302773475647),\n",
      " ('firefight', 0.26835203170776367),\n",
      " ('lucy', 0.2647552788257599),\n",
      " ('lara', 0.264557421207428),\n",
      " ('tobias', 0.2642461061477661),\n",
      " ('unidentified', 0.2620132565498352),\n",
      " ('meine', 0.2618863582611084),\n",
      " ('deathly', 0.2571975290775299),\n",
      " ('makeshift', 0.25572729110717773),\n",
      " ('layla', 0.25404223799705505),\n",
      " ('charly', 0.25026026368141174),\n",
      " ('explicitly', 0.24758939445018768),\n",
      " ('lucas', 0.24706833064556122),\n",
      " ('xavier', 0.24464380741119385),\n",
      " ('@northingale', 0.23923183977603912)]\n",
      "\n",
      "F/M\n",
      "[('notify', 0.4592058062553406),\n",
      " ('thank', 0.45174455642700195),\n",
      " ('wish', 0.45170342922210693),\n",
      " ('kidnap', 0.44821637868881226),\n",
      " ('admire', 0.42757314443588257),\n",
      " ('adore', 0.4256919026374817),\n",
      " ('thanked', 0.4207943379878998),\n",
      " ('love', 0.4185979664325714),\n",
      " ('overcame', 0.4101875424385071),\n",
      " ('realise', 0.40519872307777405),\n",
      " ('warn', 0.404060423374176),\n",
      " ('escort', 0.40053367614746094),\n",
      " ('realize', 0.39994341135025024),\n",
      " ('dress', 0.39647626876831055),\n",
      " ('hope', 0.3960855007171631),\n",
      " ('reject', 0.39293283224105835),\n",
      " ('deactivate', 0.3880300521850586),\n",
      " ('suggest', 0.387299120426178),\n",
      " ('promise', 0.38551056385040283),\n",
      " ('assure', 0.38371574878692627),\n",
      " ('inform', 0.3835476040840149),\n",
      " ('overpower', 0.3803076148033142),\n",
      " ('treat', 0.3800622522830963),\n",
      " ('frighten', 0.3767176866531372),\n",
      " ('reset', 0.37143179774284363),\n",
      " ('embraced', 0.3713545501232147),\n",
      " ('spoil', 0.370771199464798),\n",
      " ('rescue', 0.3699897527694702),\n",
      " ('betrayed', 0.36833319067955017),\n",
      " ('punish', 0.3679367005825043)]\n",
      "\n",
      "Gen\n",
      "[('safety', 0.5553459525108337),\n",
      " ('suburbs', 0.5254607796669006),\n",
      " ('fight', 0.5171825885772705),\n",
      " ('grave', 0.5148812532424927),\n",
      " ('basement', 0.5124359130859375),\n",
      " ('concept', 0.5114299058914185),\n",
      " ('dream', 0.510201096534729),\n",
      " ('child', 0.508460283279419),\n",
      " ('threat', 0.5081623196601868),\n",
      " ('house', 0.5073367357254028),\n",
      " ('photograph', 0.5061428546905518),\n",
      " ('death', 0.506087064743042),\n",
      " ('backyard', 0.5050148367881775),\n",
      " ('monster', 0.5029094815254211),\n",
      " ('compound', 0.5024465322494507),\n",
      " ('roots', 0.5023506879806519),\n",
      " ('protests', 0.5006115436553955),\n",
      " ('park', 0.500354528427124),\n",
      " ('alcoholism', 0.4973450303077698),\n",
      " ('roar', 0.49713897705078125),\n",
      " ('struggle', 0.4969523251056671),\n",
      " ('playground', 0.49662312865257263),\n",
      " ('deal', 0.4964113235473633),\n",
      " ('hassle', 0.4963220953941345),\n",
      " ('boat', 0.494625985622406),\n",
      " ('yk500', 0.4920888841152191),\n",
      " ('family', 0.49201831221580505),\n",
      " ('grief', 0.49029260873794556),\n",
      " ('revolution', 0.4897127151489258),\n",
      " ('influence', 0.4895581305027008)]\n",
      "\n",
      "M/M\n",
      "[('definition', 0.5194963216781616),\n",
      " ('himself', 0.49754849076271057),\n",
      " ('softness', 0.47842875123023987),\n",
      " ('concept', 0.4730170965194702),\n",
      " ('dpd', 0.4701503813266754),\n",
      " ('base', 0.4638310670852661),\n",
      " ('sea', 0.4603748619556427),\n",
      " ('contrast', 0.4541155695915222),\n",
      " ('beginnings', 0.4538230895996094),\n",
      " ('warmth', 0.45304256677627563),\n",
      " ('mess', 0.45245808362960815),\n",
      " ('precinct', 0.4519588351249695),\n",
      " ('fight', 0.4508139193058014),\n",
      " ('taste', 0.4502795338630676),\n",
      " ('night', 0.44974178075790405),\n",
      " ('addition', 0.4496397376060486),\n",
      " ('day', 0.44838947057724),\n",
      " ('mix', 0.44725561141967773),\n",
      " ('end', 0.44659873843193054),\n",
      " ('country', 0.4443616271018982),\n",
      " ('bed', 0.4424484968185425),\n",
      " ('sensation', 0.4409049153327942),\n",
      " ('experience', 0.4390580952167511),\n",
      " ('rush', 0.4369938373565674),\n",
      " ('curve', 0.43579787015914917),\n",
      " ('texture', 0.4347826838493347),\n",
      " ('aftermath', 0.43300002813339233),\n",
      " ('thrumming', 0.4328860342502594),\n",
      " ('protests', 0.4303104877471924),\n",
      " ('ocean', 0.42966151237487793)]\n",
      "\n",
      "Multi\n",
      "[('visit', 0.5343109369277954),\n",
      " ('pillar', 0.527114987373352),\n",
      " ('vent', 0.525368332862854),\n",
      " ('studio', 0.5235757827758789),\n",
      " ('way', 0.5201777219772339),\n",
      " ('hospital', 0.5191607475280762),\n",
      " ('whisper', 0.514189600944519),\n",
      " ('portrait', 0.5138950943946838),\n",
      " ('vault', 0.5137729048728943),\n",
      " ('witness', 0.5136593580245972),\n",
      " ('bully', 0.5109753608703613),\n",
      " ('struggle', 0.5094231367111206),\n",
      " ('suspect', 0.5058286786079407),\n",
      " ('painting', 0.5057646632194519),\n",
      " ('funeral', 0.5052480697631836),\n",
      " ('host', 0.5039352178573608),\n",
      " ('cafe', 0.5004105567932129),\n",
      " ('target', 0.49822551012039185),\n",
      " ('threat', 0.4979481101036072),\n",
      " ('gym', 0.49680960178375244),\n",
      " ('prince', 0.4965289235115051),\n",
      " ('bedroom', 0.4960450232028961),\n",
      " ('conclusion', 0.4958244562149048),\n",
      " ('family', 0.49534308910369873),\n",
      " ('clone', 0.4950835704803467),\n",
      " ('apartment', 0.49500784277915955),\n",
      " ('testament', 0.4949871599674225),\n",
      " ('painter', 0.4929724931716919),\n",
      " ('duplicate', 0.49249008297920227),\n",
      " ('balcony', 0.4908682703971863)]\n",
      "\n",
      "Other\n",
      "[('guys', 0.45328909158706665),\n",
      " ('thank', 0.4481813907623291),\n",
      " ('adore', 0.43289217352867126),\n",
      " ('wish', 0.4214714765548706),\n",
      " ('deserve', 0.4147525429725647),\n",
      " ('realise', 0.4131227135658264),\n",
      " ('offer', 0.4091759920120239),\n",
      " ('discover', 0.40914973616600037),\n",
      " ('confuse', 0.4079730212688446),\n",
      " ('assure', 0.4077337086200714),\n",
      " ('mumble', 0.4077296257019043),\n",
      " ('love', 0.40661096572875977),\n",
      " ('hope', 0.4053913652896881),\n",
      " ('rescue', 0.3998878300189972),\n",
      " ('perceive', 0.39872056245803833),\n",
      " ('claim', 0.39835894107818604),\n",
      " ('overcame', 0.3954777121543884),\n",
      " ('admire', 0.39074957370758057),\n",
      " ('shed', 0.3894715905189514),\n",
      " ('jitter', 0.3889038860797882),\n",
      " ('bid', 0.3862767815589905),\n",
      " ('realize', 0.3846989572048187),\n",
      " ('capture', 0.38317185640335083),\n",
      " ('quell', 0.38261735439300537),\n",
      " ('reject', 0.38245072960853577),\n",
      " ('appreciate', 0.3793085217475891),\n",
      " ('warn', 0.3783150315284729),\n",
      " ('demand', 0.3782466948032379),\n",
      " ('stifle', 0.37745752930641174),\n",
      " ('tolerate', 0.37583863735198975)]\n",
      "\n"
     ]
    }
   ],
   "source": [
    "from pprint import pprint\n",
    "\n",
    "freq_threshold = 100\n",
    "n_top = 30\n",
    "\n",
    "fandom = 'detroit'\n",
    "outpath = os.path.join(data_dirpath, 'output', fandom, 'relationship_tags_nearest_neighbors.txt')\n",
    "\n",
    "# cat = 'M/M'\n",
    "# cat = 'F/F'\n",
    "# cat = 'F/M'\n",
    "# cat = 'Gen'\n",
    "# cat = 'Multi'\n",
    "# cat = 'Other'\n",
    "with open(outpath, 'w') as f:\n",
    "    for cat in sorted(model.docvecs.doctags):\n",
    "        print(cat)\n",
    "        f.write(f'{cat}\\n')\n",
    "        similar = model.wv.most_similar([model.docvecs[cat]], topn=300)\n",
    "        similar_freq = [w for w in similar if model.wv.vocab[w[0]].count > freq_threshold][:n_top]\n",
    "        pprint(similar_freq)\n",
    "        for wd, sim in similar_freq:\n",
    "            f.write(f'{wd}\\t{sim}\\n')\n",
    "        print()\n",
    "        f.write('\\n')"
   ]
  },
  {
   "cell_type": "markdown",
   "metadata": {},
   "source": [
    "## See words in context"
   ]
  },
  {
   "cell_type": "code",
   "execution_count": 2,
   "metadata": {},
   "outputs": [
    {
     "name": "stdout",
     "output_type": "stream",
     "text": [
      "1356124\n",
      "Index(['fic_id', 'chapter_id', 'para_id', 'text', 'preprocessed_text', 'title',\n",
      "       'author', 'author_key', 'rating', 'category', 'fandom', 'relationship',\n",
      "       'character', 'additional tags', 'language', 'published', 'status',\n",
      "       'status date', 'words', 'comments', 'kudos', 'bookmarks', 'hits',\n",
      "       'chapter_count'],\n",
      "      dtype='object')\n"
     ]
    }
   ],
   "source": [
    "# Load data\n",
    "fandom = 'detroit'\n",
    "data_path = f'/usr2/mamille2/fanfiction-project/data/ao3/{fandom}/{fandom}_discoursedb_data.pkl'\n",
    "data = pd.read_pickle(data_path)\n",
    "print(len(data))\n",
    "print(data.columns)"
   ]
  },
  {
   "cell_type": "code",
   "execution_count": 3,
   "metadata": {
    "scrolled": true
   },
   "outputs": [
    {
     "data": {
      "text/plain": [
       "[('M/M', 761964),\n",
       " ('F/M', 337608),\n",
       " ('Gen', 337401),\n",
       " ('Multi', 102706),\n",
       " ('F/F', 77378),\n",
       " ('Other', 74203),\n",
       " ('', 72851)]"
      ]
     },
     "execution_count": 3,
     "metadata": {},
     "output_type": "execute_result"
    }
   ],
   "source": [
    "# Distribution of relationship types\n",
    "from collections import Counter\n",
    "\n",
    "value_counts = Counter([x for l in data['category'] for x in l])\n",
    "value_counts.most_common()"
   ]
  },
  {
   "cell_type": "code",
   "execution_count": 4,
   "metadata": {},
   "outputs": [],
   "source": [
    "pd.set_option('display.max_colwidth', -1)\n",
    "import re"
   ]
  },
  {
   "cell_type": "code",
   "execution_count": 20,
   "metadata": {},
   "outputs": [
    {
     "data": {
      "text/html": [
       "<div>\n",
       "<style scoped>\n",
       "    .dataframe tbody tr th:only-of-type {\n",
       "        vertical-align: middle;\n",
       "    }\n",
       "\n",
       "    .dataframe tbody tr th {\n",
       "        vertical-align: top;\n",
       "    }\n",
       "\n",
       "    .dataframe thead th {\n",
       "        text-align: right;\n",
       "    }\n",
       "</style>\n",
       "<table border=\"1\" class=\"dataframe\">\n",
       "  <thead>\n",
       "    <tr style=\"text-align: right;\">\n",
       "      <th></th>\n",
       "      <th>preprocessed_text</th>\n",
       "      <th>category</th>\n",
       "      <th>relationship</th>\n",
       "    </tr>\n",
       "  </thead>\n",
       "  <tbody>\n",
       "    <tr>\n",
       "      <th>1025075</th>\n",
       "      <td>„ uf , okay , it feels like such a long time ago . well , my story is a simple one , i guess . we worked on this building , but it was a risky construction , based on the terrain we build on . one day , one of my co - workers get stucked under this pillar , his legs were stucked and the humans did not reacted to that in any way , but something in me just ... snapped . he and i , we talked sometimes and we mostly worked together . so , i freeded him on my own behalf , and after realizing what happened , before they could do anything to me , i run . and found this horrible man named zlatko . and the rest is a history . “ luther paused for a moment , josh nodded in understanding .</td>\n",
       "      <td>[F/M, M/M]</td>\n",
       "      <td>[\"Kara/Luther\", \"Josh/Simon (Detroit: Become Human)\", \"Kara &amp; Luther &amp; Alice Williams (Detroit: Become Human)\", \"Josh &amp; Luther\"]</td>\n",
       "    </tr>\n",
       "    <tr>\n",
       "      <th>386425</th>\n",
       "      <td>\" that 's up to pillar now , is n't it ? \"</td>\n",
       "      <td>[Gen]</td>\n",
       "      <td>[]</td>\n",
       "    </tr>\n",
       "    <tr>\n",
       "      <th>102829</th>\n",
       "      <td>peering closer , connor looked the man up and down- his eyes glossed over . through a scan connor discovered he had received two bullets to the chest ( one perforating the vena cava and the other hitting him square in the lung- causing it to collapse ) and blunt force trauma from hitting his head against the pillar as he fell .</td>\n",
       "      <td>[M/M]</td>\n",
       "      <td>[\"Hank Anderson/Connor\", \"Hank Anderson &amp; Connor\", \"Hankcon\"]</td>\n",
       "    </tr>\n",
       "    <tr>\n",
       "      <th>686638</th>\n",
       "      <td>pillar collapsed to the ground and blood pooled beneath his head . hank let out the breath he had been holding and stood up from the ground as he stared at the body in the distance .</td>\n",
       "      <td>[Gen]</td>\n",
       "      <td>[]</td>\n",
       "    </tr>\n",
       "    <tr>\n",
       "      <th>88032</th>\n",
       "      <td>she twirled her pen almost violently in the elevator . the reality of things was starting to get to her . she was going to see him- she was going to see hank again , for the first time in almost three months . he thought she was dead . how would he react ? disbelief , to start , of course , but … would he yell ? panic ? go straight to denial ? she could n’t just not see him , but what if he did n’t want to see her ? what if- what if he had a new girlfriend ? that put a heavy weight in her gut , and if she could have lost anything about being human it would be that awful feeling of discontent settling low in her belly but it was apparently here to stay . she could n’t be mad , if he ’d moved on- he ’d been told she was dead , she could n’t expect him to have held on to a dead woman ’s memory , but- but what would she do with herself ? he ’d been such a pillar of her life , someone she relied on and trusted and loved- if he did n’t want her anymore-</td>\n",
       "      <td>[F/M]</td>\n",
       "      <td>[\"Hank Anderson/Original Female Character(s)\", \"Connor &amp; Original Female Character\"]</td>\n",
       "    </tr>\n",
       "    <tr>\n",
       "      <th>1401082</th>\n",
       "      <td>when the machines had set her down , the android automatically turned on her synthetic skin and wandered around to look for a garment to cover her body . she soon found that the white room she was in contained only the bare necessities . aside from a few chairs , a well - worn painting , a glowing blue pillar , and two androids connected to big machines , she saw no signs of human life .</td>\n",
       "      <td>[F/M]</td>\n",
       "      <td>[\"Connor/Kara (Detroit: Become Human)\", \"Kara|AX400/Connor|RK800\", \"Connara\"]</td>\n",
       "    </tr>\n",
       "    <tr>\n",
       "      <th>143192</th>\n",
       "      <td>connor took a moment to appreciate gavin , he wanted to appreciate gavin one last time . gavin was honest , gavin was trying , and connor could n't be more proud . gavin was going to be okay , connor would make sure of that , and he knew that hank would make sure of it too long after connor was gone . at the same time , connor could n't help but feel sickeningly guilty . he was ripping away the one pillar of support that gavin had . he was ripping away another son from hank .</td>\n",
       "      <td>[M/M]</td>\n",
       "      <td>[\"RK900 &amp; Gavin Reed (Non-consensual)\"]</td>\n",
       "    </tr>\n",
       "    <tr>\n",
       "      <th>386496</th>\n",
       "      <td>\" this is it , connor . \" hank stated as he held his aim steady , his blue eyes focused on the cold hollow eyes on pillar in the distance .</td>\n",
       "      <td>[Gen]</td>\n",
       "      <td>[]</td>\n",
       "    </tr>\n",
       "    <tr>\n",
       "      <th>686686</th>\n",
       "      <td>\" pillar shot you , too . this time it was because of me . \"</td>\n",
       "      <td>[Gen]</td>\n",
       "      <td>[]</td>\n",
       "    </tr>\n",
       "    <tr>\n",
       "      <th>386350</th>\n",
       "      <td>connor 's l.e.d . blinked from the blue to yellow and then back to blue as he finished researching pillar 's criminal history . the loyal android felt a sickening knot form in his stomach as he finished his search and now had a faint understanding of hank 's anger . there was a damn good reason for hank to want to kill pillar , and it was a death that no one with a heart would ever be able to hold hank truly accountable for .</td>\n",
       "      <td>[Gen]</td>\n",
       "      <td>[]</td>\n",
       "    </tr>\n",
       "    <tr>\n",
       "      <th>1039172</th>\n",
       "      <td>“ i was n’t cut out for it . under my leadership , our people hid in the darkness of jericho until we died.”markus remembered . the sight of simon standing , back against a pillar with his eyes closed , had once stayed with him as a bitter symbol of what his future held . simon let out a small laugh . “ i know . when you first arrived , you ripped into us for complacency . for fear . and maybe you meant it for everyone , but those were my choices . it was … a hard pill to swallow . but you brought us up , higher than any of us could imagine . higher than any of us hoped for . ” markus’ gaze dropped down to their hands , still connected . he wanted to know what it was simon was feeling , just then . slowly , almost shy , he pulled a hand away and let the skin fade . simon looked down for a moment , and without hesitation let his own skin fade , and clasped their forearms together .</td>\n",
       "      <td>[M/M]</td>\n",
       "      <td>[\"Markus/Simon (Detroit: Become Human)\"]</td>\n",
       "    </tr>\n",
       "    <tr>\n",
       "      <th>386365</th>\n",
       "      <td>pillar stormed through the door of the interrogation room with one arm wrapped around gavin 's throat , his other hand pressing the barrel of a gun against gavin 's temple .</td>\n",
       "      <td>[Gen]</td>\n",
       "      <td>[]</td>\n",
       "    </tr>\n",
       "    <tr>\n",
       "      <th>1045150</th>\n",
       "      <td>connor was silent , staring out over downtown detroit from the high rooftop . it was going to be a blizzard , the early , fat white flurries dancing down around him and landing all over him and the scenery . that 's what he felt like , a thing , a piece of the building . an unneeded , out of place pillar .</td>\n",
       "      <td>[]</td>\n",
       "      <td>[\"Hank Anderson &amp; Connor\"]</td>\n",
       "    </tr>\n",
       "    <tr>\n",
       "      <th>1439178</th>\n",
       "      <td>a loud crash sounded from behind her and she spun around to find a short haired traci model having slammed connor into a metal pillar . now , there were two deviants .</td>\n",
       "      <td>[F/M]</td>\n",
       "      <td>[\"Connor (Detroit: Become Human)/Original Female Character(s)\", \"Markus/Simon (Detroit: Become Human)\", \"if you squint\", \"North (Detroit: Become Human)/Original Male Character\"]</td>\n",
       "    </tr>\n",
       "    <tr>\n",
       "      <th>749379</th>\n",
       "      <td>then , to the side , hank headed down more stairs out of the room , and at the bottom , finally reached what seemed to be the ground floor of the building , down into a cavernous hall with especially high ceilings , which were held up by thick , stone pillars connected by intricately designed archways . on each pillar , there were more of the gray angel statues , this time with their hands raised into the air .</td>\n",
       "      <td>[]</td>\n",
       "      <td>[\"Hank Anderson/Connor\", \"Hank Anderson &amp; Connor\"]</td>\n",
       "    </tr>\n",
       "    <tr>\n",
       "      <th>386351</th>\n",
       "      <td>with his arms crossed tightly over his chest hank had been staring blankly at his terminal screen ever since the door to the interrogation room had shut . the detective 's mind was evidently too preoccupied with his past encounters with pillar to concentrate on his work in the present .</td>\n",
       "      <td>[Gen]</td>\n",
       "      <td>[]</td>\n",
       "    </tr>\n",
       "    <tr>\n",
       "      <th>686477</th>\n",
       "      <td>connor looked at the suspect as well and ran a facial scan to quickly upload all of the data recorded in the police record file on the man in question . the suspect 's name was jack pillar . he had been arrested for drug possession and assault , but the judge who prosecuted him had been corrupt and dismissed the charges allowing him to go free and disappear two weeks before hank brought down the ' red ice ' ring .</td>\n",
       "      <td>[Gen]</td>\n",
       "      <td>[]</td>\n",
       "    </tr>\n",
       "    <tr>\n",
       "      <th>1284486</th>\n",
       "      <td>the fifth time it happened markus had just returned from pouring his heart out to the world . he had finally had the chance to tell the world that he was   alive   . however , along the way they had lost one of their own . brave simon had stayed behind , hurt and bleeding out . sometimes markus wondered if he was too kind for his own good . simon had been a pillar of comfort for him , helping him through the grief of losing his soulmate so often . markus may not have known all of his past but simon had been too familiar with the feeling of the emptiness , even if he hated to talk about it . markus was sitting alone in the upstairs section of jericho .</td>\n",
       "      <td>[M/M]</td>\n",
       "      <td>[\"Connor/Markus (Detroit: Become Human)\", \"Carl Manfred &amp; Markus\"]</td>\n",
       "    </tr>\n",
       "    <tr>\n",
       "      <th>686636</th>\n",
       "      <td>jessica followed suit and immediately did the same as she kept her position on the ground and took down the second gunman . the bullet struck the gunman directly in the center of his chest causing him to collapse to the ground in a bloody heap beside pillar .</td>\n",
       "      <td>[Gen]</td>\n",
       "      <td>[]</td>\n",
       "    </tr>\n",
       "    <tr>\n",
       "      <th>336419</th>\n",
       "      <td>\" hey — hey , nathan , \" he did n't approach , but his voice stilled nathan for a moment . his eyes looked a little unfocused . he looked a little confused . simon had seen it before , a certain fear that only came from a bad memory . all he did was stand still , near the pillar , with his hands out so nathan could be sure he meant no harm . \" it 's okay if you do n't want to answer . you never have to answer something you do n't want to . \"</td>\n",
       "      <td>[M/M]</td>\n",
       "      <td>[\"Markus/Simon (Detroit: Become Human)\", \"Simon (Detroit: Become Human) / Original Character\"]</td>\n",
       "    </tr>\n",
       "    <tr>\n",
       "      <th>104235</th>\n",
       "      <td>“ connor   what the fuck   , ” is what hank manages to get out before lunging towards him . connor however appears otherwise unconcerned about the pillar of fire , and smoothly puts the lid back on the pot , turns off the stove , and takes two steps back to join hank .</td>\n",
       "      <td>[Gen]</td>\n",
       "      <td>[\"Hank Anderson &amp; Connor\"]</td>\n",
       "    </tr>\n",
       "    <tr>\n",
       "      <th>688921</th>\n",
       "      <td>markus seems content however , a polite smile on his face as he nods along , arms comfortably hanging at his sides as he leans against a decorative pillar . connor expects him to keep taking to the group , almost moves his gaze away for a moment , an action which would have made him miss the way markus pretends to stretch his neck , his mismatched eyes landing straight on connor with frightening accuracy the next second . instead , he meets his look head on , his hands freezing in his lap just like his breath catches in his throat .</td>\n",
       "      <td>[M/M]</td>\n",
       "      <td>[\"Markus/Connor\"]</td>\n",
       "    </tr>\n",
       "    <tr>\n",
       "      <th>999046</th>\n",
       "      <td>they sat there , both trying to lean back against the same side of the same pillar .</td>\n",
       "      <td>[M/M]</td>\n",
       "      <td>[\"Connor/Markus (Detroit: Become Human)\", \"Hank Anderson &amp; Connor (Past???)\", \"RK1K\", \"Markus/North (Detroit: Become Human) (Past)\", \"Connor/Elijah Kamski\"]</td>\n",
       "    </tr>\n",
       "    <tr>\n",
       "      <th>386498</th>\n",
       "      <td>fowler held out his left hand and using his fingers started counting down from three . as he reached the count of ' one ' fowler stood up from his desk and squeezed the trigger of his gun . the bullet found it 's target in the upper shoulder and chest of the gunman to pillar 's immediate right . the gunman was disarmed as he fell to the floor in a matter of seconds .</td>\n",
       "      <td>[Gen]</td>\n",
       "      <td>[]</td>\n",
       "    </tr>\n",
       "    <tr>\n",
       "      <th>1216367</th>\n",
       "      <td>sharp steel eyes followed after the fleeing pair , it was difficult for conrad to remain there while the omega was retreating . he knew the dog - mask was one the moment he laid eyes on him and with how easily the omega melted into his touch . he was so focused on the fleeing form he did n't notice the figure moving out of the shadows of a nearby pillar , the man 's hands tucked into the pockets of his trousers as he moved to stand beside conrad . he was wearing the partial mask of a wolf , his golden brown eyes watching the retreating figure with his own interest in a chase . \" certainly an interesting bit of prey you 've found . so what are you going to do about it ? \" collin 's voice broke through conrad 's focus , making the alpha turn to look at the epsilon beside him .</td>\n",
       "      <td>[M/M]</td>\n",
       "      <td>[\"Connor / Upgraded Connor | RK900\", \"RK800/RK900\", \"rk800/rk800-60\", \"rk800/rk800-60/rk900\", \"Connor &amp; Connor (Detroit: Become Human)\", \"Connor/Connor (Detroit: Become Human)\"]</td>\n",
       "    </tr>\n",
       "    <tr>\n",
       "      <th>882256</th>\n",
       "      <td>anderson made it to the third pillar and did n’t stop , even passing rk900 ’s slow walking pace with the gun in its hand . it fired another shot , another purposeful miss , and ran to catch up with anderson . the two crashed through the door to the offices , anderson out of breath and rk900 ’s sensors already scanning their new location . it was a large , open break room of sorts , with a stairwell near the back . rk900 shoved the gun back into anderson ’s hand and quickly inspected the room .</td>\n",
       "      <td>[]</td>\n",
       "      <td>[]</td>\n",
       "    </tr>\n",
       "    <tr>\n",
       "      <th>485487</th>\n",
       "      <td>the automatic sprinklers turned on just as connor and amanda were about to leave towards the elevator . he hastily dashed towards a nearby pillar where a single umbrella was left beside it . opening up the umbrella , connor right away returned to amanda 's side before the light drizzle from the sprinklers could turn up the notch a bit higher .</td>\n",
       "      <td>[Gen]</td>\n",
       "      <td>[\"Connor | RK800 &amp; Emma Phillips\", \"Hank Anderson &amp; Connor | RK800\", \"Amanda &amp; Connor | RK800\"]</td>\n",
       "    </tr>\n",
       "    <tr>\n",
       "      <th>802860</th>\n",
       "      <td>a loud bang had the spectre stumbling as a steel crate was thrown at it 's head , connor ducking behind a pillar while looking for something else to throw .</td>\n",
       "      <td>[F/M, Gen, Multi, Other]</td>\n",
       "      <td>[\"Connor (Detroit: Become Human)/Reader\", \"Connor (Detroit: Become Human) &amp; Reader\"]</td>\n",
       "    </tr>\n",
       "    <tr>\n",
       "      <th>88327</th>\n",
       "      <td>connor had gone to church twice a week for as long as he remembered . choir on saturday , church services on sunday . and that is how it had always been . church was a constant . it gave guidance and purpose to everything that he did . every question and trial of faith was met with a battle of prayer until it was overcome . he had no reason to doubt . none at all . his parents were strict catholics and always encouraged him to love god with all his heart and to be involved in church life as much as possible . he was told to always tell the truth , to honour the 10 commandments . his hair was always neat , button up shirt always tucked into his black jeans , accompanied by a cardigan or blazer . and his grades at school were impeccable . he was the epitome of a good child . a pillar in the churches youth community . a lot of adults assumed that he would lead the youth ministry of the church after doing the relevant courses at a bible college . and connor had decided they were probably right . it 's what seemed most likely . church had always been his life , a future without it was incomprehensible . his was set on a very specific track , and it would never change . he was happy with how things were going , he did n't want anything to shift . or so he believed .</td>\n",
       "      <td>[M/M]</td>\n",
       "      <td>[\"Connor/Markus (Detroit: Become Human)\", \"Connor &amp; Markus (Detroit: Become Human)\"]</td>\n",
       "    </tr>\n",
       "    <tr>\n",
       "      <th>1243609</th>\n",
       "      <td>i sensed vibrations in the doors , a rattling from above , the deviant . i pressed the button before hiding behind a concrete pillar , waiting . estimating the seconds it would be before the doors would open , there was no time to call detective jones . ping ,</td>\n",
       "      <td>[Other]</td>\n",
       "      <td>[\"Connor (Detroit: Become Human)/Original OC\"]</td>\n",
       "    </tr>\n",
       "    <tr>\n",
       "      <th>386349</th>\n",
       "      <td>pillar just glared at gavin as he discreetly fussed with the cuffs that he restrained his arms behind his back . slipping his wrists slowly out of the metal restraints pillar just waited patiently for gavin to make one little mistake ...</td>\n",
       "      <td>[Gen]</td>\n",
       "      <td>[]</td>\n",
       "    </tr>\n",
       "    <tr>\n",
       "      <th>1337308</th>\n",
       "      <td>“ we found this in the passenger seat . the victim in that car , ” he nodded to the small car with a large dent in the side and the front caved in from impact with a bridge pillar . “ chloe , she died on impact . nothing we could do , but this was open on the seat and it looks like it ’s about a missing kid . i dunno if the accident is connected to this but y’know , that ’s your job . ” he shrugged , looking at his watch . “ dispatch is sending people to take the car apart , we ca n’t get her out with it like that . alex had to climb through the back window to check her pulse and she saw the photos then grabbed the binder . ” he gestured to the female paramedic who nodded , trying to light a cigarette .</td>\n",
       "      <td>[]</td>\n",
       "      <td>[\"Hank Anderson &amp; Connor\", \"Connor &amp; Amanda\", \"Blue-Haired Traci/Blue-Haired Traci's Girlfriend (Detroit: Become Human)\"]</td>\n",
       "    </tr>\n",
       "    <tr>\n",
       "      <th>480402</th>\n",
       "      <td>in the distance , he watches as the buildings perish slowly , windows smashing as the wind whips . out on the rolling skyline , fifty miles away , a lancelike ray of blue - white light shot up into the gathering dusk -- a clump of five rays , really , from five deep shafts in an irregular pentagon half a mile across , blended into one by the distance . an instant later , there was a blinding flash , like sheet - lightning , and a huge ball of varicoloured fire belched upward , leaving a series of smoke - rings to float more slowly after it . that fireball flattened , then spread to form the mushroom - head of a column of incandescent gas that mounted to overtake it , engorging the smoke - rings as it rose , twisting , writhing , changing shape , turning to dark smoke in one moment and belching flame and crackling with lightning the next . then there was another enormous explosion . it was as though a fist of orange flame had decided to punch its way out of the main complex of the building a few feet from them . windows shattered . smoke and fire rushed out . thousands of pieces of glass and steel , a deadly rainfall , showered down . alarms - shrill and deafening- erupted . a huge bite had been taken out of the side and the roof of the building . the pillar of fiery smoke and dust , still boiling up from where the bombs had gone off , was being violently agitated at the bottom .</td>\n",
       "      <td>[M/M]</td>\n",
       "      <td>[\"Markus &amp; Simon (Detroit: Become Human)\"]</td>\n",
       "    </tr>\n",
       "    <tr>\n",
       "      <th>902940</th>\n",
       "      <td>“ you afraid for me , simon ? ” markus ’s face was calm ( though he may have been smiling internally ) whilst he had his left foot directly in front of the right , his arms out just enough to balance , like being on a tight rope regardless of the pillar being wider .</td>\n",
       "      <td>[M/M]</td>\n",
       "      <td>[\"Markus/Simon (Detroit: Become Human)\"]</td>\n",
       "    </tr>\n",
       "    <tr>\n",
       "      <th>174825</th>\n",
       "      <td>he reaches the bridge and stares across it . sees the flower - like pillar structures that stretch upwards towards the sky , plastic white decorated with perfectly grown plants . another couple of pigeons take flight from nearby , their white bodies quickly blending in with the surroundings . connor watches the birds as they fly left , going across the pond and towards where kamski ’s emergency exit once stood . surprisingly , it is still there — and it is not the only thing that catches his attention .</td>\n",
       "      <td>[M/M]</td>\n",
       "      <td>[\"Hank Anderson/Connor\", \"Hank Anderson &amp; Connor\"]</td>\n",
       "    </tr>\n",
       "    <tr>\n",
       "      <th>1017881</th>\n",
       "      <td>connor took a quick scan of the parking structure , they were tucked into a corner behind a large cement pillar , and there were no other cars on this level .</td>\n",
       "      <td>[M/M]</td>\n",
       "      <td>[\"Hank Anderson/Connor\"]</td>\n",
       "    </tr>\n",
       "    <tr>\n",
       "      <th>456243</th>\n",
       "      <td>most of detroit had become a sanctuary to androids , still there was constant tension as the movement pushed forward . yet the revolutionist never faltered ; he continued to surprise those around him and remained a pillar of strength to their people .</td>\n",
       "      <td>[M/M]</td>\n",
       "      <td>[\"Connor/Markus (Detroit: Become Human)\"]</td>\n",
       "    </tr>\n",
       "    <tr>\n",
       "      <th>565976</th>\n",
       "      <td>the train to detroit ’s harbours departed , and connor finally noticed that hank was waiting from behind a pillar . he calmly approached his lieutenant . “ shall we go back to the station , sir ? ”</td>\n",
       "      <td>[M/M, Gen]</td>\n",
       "      <td>[\"Connor (Detroit: Become Human)/Sean McLoughlin\", \"Connor (Detroit: Become Human) &amp; Sean McLoughlin\", \"Hank Anderson &amp; Connor\"]</td>\n",
       "    </tr>\n",
       "    <tr>\n",
       "      <th>489125</th>\n",
       "      <td>the cavernous office was surrounded by towering wall to wall windows on two sides , capped by a large skylight in the ceiling . the far wall opposite of the huge security door hosted a dozen terminal screens , with one massive screen flanked by several smaller ones . matching spiral staircases on either side of the terminal banks led up to a small suspended loft supporting a spotlight , shining a pillar of blue light straight up into the night sky for the entire city of detroit to see . the entire office almost seemed like a high - tech cathedral .</td>\n",
       "      <td>[F/M]</td>\n",
       "      <td>[\"Connor (Detroit: Become Human)/Original Female Character(s)\"]</td>\n",
       "    </tr>\n",
       "    <tr>\n",
       "      <th>386556</th>\n",
       "      <td>\" maybe that 's because in the end that 's all pillar was worth ; nothing . \"</td>\n",
       "      <td>[Gen]</td>\n",
       "      <td>[]</td>\n",
       "    </tr>\n",
       "    <tr>\n",
       "      <th>386373</th>\n",
       "      <td>without any hesitation hank pushed himself up from the ground and rushed over to where connor had fallen . he knelt beside the android 's head , keeping his own head low as gunfire continued to tear through the precinct . slipping his hands under connor 's arms and around his bloodied chest hank dragged his downed partner backward into the opened door of the interview room and shut the door as soon as they were inside the room out of pillar 's sight .</td>\n",
       "      <td>[Gen]</td>\n",
       "      <td>[]</td>\n",
       "    </tr>\n",
       "    <tr>\n",
       "      <th>686486</th>\n",
       "      <td>pillar just glared at gavin as he discreetly fussed with the cuffs that he restrained his arms behind his back . slipping his wrists slowly out of the metal restraints pillar just waited patiently for gavin to make one little mistake ...</td>\n",
       "      <td>[Gen]</td>\n",
       "      <td>[]</td>\n",
       "    </tr>\n",
       "    <tr>\n",
       "      <th>882247</th>\n",
       "      <td>rk900 held up three fingers , then two , then one , and sprinted ; anderson , thankfully , followed suit . this time , a shot was fired , but not at rk900 . anderson yelped , but managed to make it to the second pillar unharmed . now they had confirmation that 61 was watching them , and that he was in the overseer ’s office . however , they were in a predicament now . rk900 only had to reach the door that lead to the offices in order to make it out of 61 ’s line of sight , but anderson still had to make it to another pillar , and then the final door .</td>\n",
       "      <td>[]</td>\n",
       "      <td>[]</td>\n",
       "    </tr>\n",
       "    <tr>\n",
       "      <th>468075</th>\n",
       "      <td>amanda . he 's tried hard not to think too much on the hurt that her death caused him . how it felt like there was nobody left at cyberlife that he could trust into fulfilling his goals and the future . she was a pillar of support and someone that could understand all the technical jargon that occasionally flew out of his mouth . she was aware of his lack of social skills when it came to personal relationships . she was always fascinated by how he was capable of spinning entrancing words that swayed countless people into believing what he wanted them to believe and yet was completely incapable of keeping good healthy personal relationships .</td>\n",
       "      <td>[F/F, F/M]</td>\n",
       "      <td>[\"Original Chloe | RT600/Elijah Kamski\", \"Chloe | ST200/Chloe | ST200\"]</td>\n",
       "    </tr>\n",
       "    <tr>\n",
       "      <th>291025</th>\n",
       "      <td>by the time hank arrives , he fears he ’s too late . it took him awhile to turn back into his human form and now he already feels the strength of the beast falter . he leans heavily against the pillar of the ruin before he can run to his partner who ’s lying on the floor . almost lifeless . it makes hank ’s heart sink to his goddamn shoes . good thing all perpetrators are dead now . no more inconvenient interruptions . without further ado the k9 investigator crashes next to the vampire and checks on him . thank god , a pulse ! he quickly removes the blindfold and cuts the ropes around connor ’s ankles and wrists with his sharp teeth .</td>\n",
       "      <td>[M/M]</td>\n",
       "      <td>[\"Hank Anderson/Connor\"]</td>\n",
       "    </tr>\n",
       "    <tr>\n",
       "      <th>1191946</th>\n",
       "      <td>markus , who was a relentless force capable of rendering people speechless with his unbidden charisma and overwhelming resolve - features that turned him into a hero in the eyes of those children and the   pillar of strenght of their people 's hopes and dreams - was now crumbling in his arms before the possibility of having everything he fought for completely ruined by the hands of humans .</td>\n",
       "      <td>[F/F, F/M, M/M]</td>\n",
       "      <td>[\"Connor/Markus (Detroit: Become Human)\"]</td>\n",
       "    </tr>\n",
       "    <tr>\n",
       "      <th>102828</th>\n",
       "      <td>“ actually , is n’t as bad as i- ” hank stopped as he peered behind a pillar . there was a dead body laying propped up- blood having gushed from their nose . “ shit . do they know there was a sixth ? a victim ? ”</td>\n",
       "      <td>[M/M]</td>\n",
       "      <td>[\"Hank Anderson/Connor\", \"Hank Anderson &amp; Connor\", \"Hankcon\"]</td>\n",
       "    </tr>\n",
       "    <tr>\n",
       "      <th>386554</th>\n",
       "      <td>\" no . hank , i was wrong . \" connor stated firmly . \" it was wrong of me to suggest you take revenge on pillar . killing him would n't bring back barbara , and all it would 've done is hurt your career . it was a foolish thing to say . i 'm sorry i ever brought it up . \"</td>\n",
       "      <td>[Gen]</td>\n",
       "      <td>[]</td>\n",
       "    </tr>\n",
       "    <tr>\n",
       "      <th>114075</th>\n",
       "      <td>\" wait , associate ? \" interrupted north , pushing off where she was leaning against a pillar to come closer to him -- an act that he would also deem more threatening than needed . \" who ? \"</td>\n",
       "      <td>[F/F, F/M, M/M]</td>\n",
       "      <td>[\"Connor/Markus (Detroit: Become Human)\", \"Hank Anderson &amp; Connor\", \"connor &amp; everyone\", \"Connor &amp; Chloe\"]</td>\n",
       "    </tr>\n",
       "    <tr>\n",
       "      <th>336414</th>\n",
       "      <td>nathan almost laughed . at least , he smiled , leaned in a little closer to rest against the pillar as well .</td>\n",
       "      <td>[M/M]</td>\n",
       "      <td>[\"Markus/Simon (Detroit: Become Human)\", \"Simon (Detroit: Become Human) / Original Character\"]</td>\n",
       "    </tr>\n",
       "  </tbody>\n",
       "</table>\n",
       "</div>"
      ],
      "text/plain": [
       "                                                                                                                                                                                                                                                                                                                                                                                                                                                                                                                                                                                                                                                                                                                                                                                                                                                                                                                                                                                                                                                                                                                                                                                                                                                                                                                                                                                                                                                 preprocessed_text  \\\n",
       "1025075  „ uf , okay , it feels like such a long time ago . well , my story is a simple one , i guess . we worked on this building , but it was a risky construction , based on the terrain we build on . one day , one of my co - workers get stucked under this pillar , his legs were stucked and the humans did not reacted to that in any way , but something in me just ... snapped . he and i , we talked sometimes and we mostly worked together . so , i freeded him on my own behalf , and after realizing what happened , before they could do anything to me , i run . and found this horrible man named zlatko . and the rest is a history . “ luther paused for a moment , josh nodded in understanding .                                                                                                                                                                                                                                                                                                                                                                                                                                                                                                                                                                                                                                                                                                                                              \n",
       "386425   \" that 's up to pillar now , is n't it ? \"                                                                                                                                                                                                                                                                                                                                                                                                                                                                                                                                                                                                                                                                                                                                                                                                                                                                                                                                                                                                                                                                                                                                                                                                                                                                                                                                                                                                                  \n",
       "102829   peering closer , connor looked the man up and down- his eyes glossed over . through a scan connor discovered he had received two bullets to the chest ( one perforating the vena cava and the other hitting him square in the lung- causing it to collapse ) and blunt force trauma from hitting his head against the pillar as he fell .                                                                                                                                                                                                                                                                                                                                                                                                                                                                                                                                                                                                                                                                                                                                                                                                                                                                                                                                                                                                                                                                                                                   \n",
       "686638   pillar collapsed to the ground and blood pooled beneath his head . hank let out the breath he had been holding and stood up from the ground as he stared at the body in the distance .                                                                                                                                                                                                                                                                                                                                                                                                                                                                                                                                                                                                                                                                                                                                                                                                                                                                                                                                                                                                                                                                                                                                                                                                                                                                      \n",
       "88032    she twirled her pen almost violently in the elevator . the reality of things was starting to get to her . she was going to see him- she was going to see hank again , for the first time in almost three months . he thought she was dead . how would he react ? disbelief , to start , of course , but … would he yell ? panic ? go straight to denial ? she could n’t just not see him , but what if he did n’t want to see her ? what if- what if he had a new girlfriend ? that put a heavy weight in her gut , and if she could have lost anything about being human it would be that awful feeling of discontent settling low in her belly but it was apparently here to stay . she could n’t be mad , if he ’d moved on- he ’d been told she was dead , she could n’t expect him to have held on to a dead woman ’s memory , but- but what would she do with herself ? he ’d been such a pillar of her life , someone she relied on and trusted and loved- if he did n’t want her anymore-                                                                                                                                                                                                                                                                                                                                                                                                                                                           \n",
       "1401082  when the machines had set her down , the android automatically turned on her synthetic skin and wandered around to look for a garment to cover her body . she soon found that the white room she was in contained only the bare necessities . aside from a few chairs , a well - worn painting , a glowing blue pillar , and two androids connected to big machines , she saw no signs of human life .                                                                                                                                                                                                                                                                                                                                                                                                                                                                                                                                                                                                                                                                                                                                                                                                                                                                                                                                                                                                                                                      \n",
       "143192   connor took a moment to appreciate gavin , he wanted to appreciate gavin one last time . gavin was honest , gavin was trying , and connor could n't be more proud . gavin was going to be okay , connor would make sure of that , and he knew that hank would make sure of it too long after connor was gone . at the same time , connor could n't help but feel sickeningly guilty . he was ripping away the one pillar of support that gavin had . he was ripping away another son from hank .                                                                                                                                                                                                                                                                                                                                                                                                                                                                                                                                                                                                                                                                                                                                                                                                                                                                                                                                                            \n",
       "386496   \" this is it , connor . \" hank stated as he held his aim steady , his blue eyes focused on the cold hollow eyes on pillar in the distance .                                                                                                                                                                                                                                                                                                                                                                                                                                                                                                                                                                                                                                                                                                                                                                                                                                                                                                                                                                                                                                                                                                                                                                                                                                                                                                                 \n",
       "686686   \" pillar shot you , too . this time it was because of me . \"                                                                                                                                                                                                                                                                                                                                                                                                                                                                                                                                                                                                                                                                                                                                                                                                                                                                                                                                                                                                                                                                                                                                                                                                                                                                                                                                                                                                \n",
       "386350   connor 's l.e.d . blinked from the blue to yellow and then back to blue as he finished researching pillar 's criminal history . the loyal android felt a sickening knot form in his stomach as he finished his search and now had a faint understanding of hank 's anger . there was a damn good reason for hank to want to kill pillar , and it was a death that no one with a heart would ever be able to hold hank truly accountable for .                                                                                                                                                                                                                                                                                                                                                                                                                                                                                                                                                                                                                                                                                                                                                                                                                                                                                                                                                                                                               \n",
       "1039172  “ i was n’t cut out for it . under my leadership , our people hid in the darkness of jericho until we died.”markus remembered . the sight of simon standing , back against a pillar with his eyes closed , had once stayed with him as a bitter symbol of what his future held . simon let out a small laugh . “ i know . when you first arrived , you ripped into us for complacency . for fear . and maybe you meant it for everyone , but those were my choices . it was … a hard pill to swallow . but you brought us up , higher than any of us could imagine . higher than any of us hoped for . ” markus’ gaze dropped down to their hands , still connected . he wanted to know what it was simon was feeling , just then . slowly , almost shy , he pulled a hand away and let the skin fade . simon looked down for a moment , and without hesitation let his own skin fade , and clasped their forearms together .                                                                                                                                                                                                                                                                                                                                                                                                                                                                                                                               \n",
       "386365   pillar stormed through the door of the interrogation room with one arm wrapped around gavin 's throat , his other hand pressing the barrel of a gun against gavin 's temple .                                                                                                                                                                                                                                                                                                                                                                                                                                                                                                                                                                                                                                                                                                                                                                                                                                                                                                                                                                                                                                                                                                                                                                                                                                                                               \n",
       "1045150  connor was silent , staring out over downtown detroit from the high rooftop . it was going to be a blizzard , the early , fat white flurries dancing down around him and landing all over him and the scenery . that 's what he felt like , a thing , a piece of the building . an unneeded , out of place pillar .                                                                                                                                                                                                                                                                                                                                                                                                                                                                                                                                                                                                                                                                                                                                                                                                                                                                                                                                                                                                                                                                                                                                         \n",
       "1439178  a loud crash sounded from behind her and she spun around to find a short haired traci model having slammed connor into a metal pillar . now , there were two deviants .                                                                                                                                                                                                                                                                                                                                                                                                                                                                                                                                                                                                                                                                                                                                                                                                                                                                                                                                                                                                                                                                                                                                                                                                                                                                                     \n",
       "749379   then , to the side , hank headed down more stairs out of the room , and at the bottom , finally reached what seemed to be the ground floor of the building , down into a cavernous hall with especially high ceilings , which were held up by thick , stone pillars connected by intricately designed archways . on each pillar , there were more of the gray angel statues , this time with their hands raised into the air .                                                                                                                                                                                                                                                                                                                                                                                                                                                                                                                                                                                                                                                                                                                                                                                                                                                                                                                                                                                                                              \n",
       "386351   with his arms crossed tightly over his chest hank had been staring blankly at his terminal screen ever since the door to the interrogation room had shut . the detective 's mind was evidently too preoccupied with his past encounters with pillar to concentrate on his work in the present .                                                                                                                                                                                                                                                                                                                                                                                                                                                                                                                                                                                                                                                                                                                                                                                                                                                                                                                                                                                                                                                                                                                                                             \n",
       "686477   connor looked at the suspect as well and ran a facial scan to quickly upload all of the data recorded in the police record file on the man in question . the suspect 's name was jack pillar . he had been arrested for drug possession and assault , but the judge who prosecuted him had been corrupt and dismissed the charges allowing him to go free and disappear two weeks before hank brought down the ' red ice ' ring .                                                                                                                                                                                                                                                                                                                                                                                                                                                                                                                                                                                                                                                                                                                                                                                                                                                                                                                                                                                                                           \n",
       "1284486  the fifth time it happened markus had just returned from pouring his heart out to the world . he had finally had the chance to tell the world that he was   alive   . however , along the way they had lost one of their own . brave simon had stayed behind , hurt and bleeding out . sometimes markus wondered if he was too kind for his own good . simon had been a pillar of comfort for him , helping him through the grief of losing his soulmate so often . markus may not have known all of his past but simon had been too familiar with the feeling of the emptiness , even if he hated to talk about it . markus was sitting alone in the upstairs section of jericho .                                                                                                                                                                                                                                                                                                                                                                                                                                                                                                                                                                                                                                                                                                                                                                         \n",
       "686636   jessica followed suit and immediately did the same as she kept her position on the ground and took down the second gunman . the bullet struck the gunman directly in the center of his chest causing him to collapse to the ground in a bloody heap beside pillar .                                                                                                                                                                                                                                                                                                                                                                                                                                                                                                                                                                                                                                                                                                                                                                                                                                                                                                                                                                                                                                                                                                                                                                                         \n",
       "336419   \" hey — hey , nathan , \" he did n't approach , but his voice stilled nathan for a moment . his eyes looked a little unfocused . he looked a little confused . simon had seen it before , a certain fear that only came from a bad memory . all he did was stand still , near the pillar , with his hands out so nathan could be sure he meant no harm . \" it 's okay if you do n't want to answer . you never have to answer something you do n't want to . \"                                                                                                                                                                                                                                                                                                                                                                                                                                                                                                                                                                                                                                                                                                                                                                                                                                                                                                                                                                                               \n",
       "104235   “ connor   what the fuck   , ” is what hank manages to get out before lunging towards him . connor however appears otherwise unconcerned about the pillar of fire , and smoothly puts the lid back on the pot , turns off the stove , and takes two steps back to join hank .                                                                                                                                                                                                                                                                                                                                                                                                                                                                                                                                                                                                                                                                                                                                                                                                                                                                                                                                                                                                                                                                                                                                                                               \n",
       "688921   markus seems content however , a polite smile on his face as he nods along , arms comfortably hanging at his sides as he leans against a decorative pillar . connor expects him to keep taking to the group , almost moves his gaze away for a moment , an action which would have made him miss the way markus pretends to stretch his neck , his mismatched eyes landing straight on connor with frightening accuracy the next second . instead , he meets his look head on , his hands freezing in his lap just like his breath catches in his throat .                                                                                                                                                                                                                                                                                                                                                                                                                                                                                                                                                                                                                                                                                                                                                                                                                                                                                                  \n",
       "999046   they sat there , both trying to lean back against the same side of the same pillar .                                                                                                                                                                                                                                                                                                                                                                                                                                                                                                                                                                                                                                                                                                                                                                                                                                                                                                                                                                                                                                                                                                                                                                                                                                                                                                                                                                        \n",
       "386498   fowler held out his left hand and using his fingers started counting down from three . as he reached the count of ' one ' fowler stood up from his desk and squeezed the trigger of his gun . the bullet found it 's target in the upper shoulder and chest of the gunman to pillar 's immediate right . the gunman was disarmed as he fell to the floor in a matter of seconds .                                                                                                                                                                                                                                                                                                                                                                                                                                                                                                                                                                                                                                                                                                                                                                                                                                                                                                                                                                                                                                                                           \n",
       "1216367  sharp steel eyes followed after the fleeing pair , it was difficult for conrad to remain there while the omega was retreating . he knew the dog - mask was one the moment he laid eyes on him and with how easily the omega melted into his touch . he was so focused on the fleeing form he did n't notice the figure moving out of the shadows of a nearby pillar , the man 's hands tucked into the pockets of his trousers as he moved to stand beside conrad . he was wearing the partial mask of a wolf , his golden brown eyes watching the retreating figure with his own interest in a chase . \" certainly an interesting bit of prey you 've found . so what are you going to do about it ? \" collin 's voice broke through conrad 's focus , making the alpha turn to look at the epsilon beside him .                                                                                                                                                                                                                                                                                                                                                                                                                                                                                                                                                                                                                                           \n",
       "882256   anderson made it to the third pillar and did n’t stop , even passing rk900 ’s slow walking pace with the gun in its hand . it fired another shot , another purposeful miss , and ran to catch up with anderson . the two crashed through the door to the offices , anderson out of breath and rk900 ’s sensors already scanning their new location . it was a large , open break room of sorts , with a stairwell near the back . rk900 shoved the gun back into anderson ’s hand and quickly inspected the room .                                                                                                                                                                                                                                                                                                                                                                                                                                                                                                                                                                                                                                                                                                                                                                                                                                                                                                                                          \n",
       "485487   the automatic sprinklers turned on just as connor and amanda were about to leave towards the elevator . he hastily dashed towards a nearby pillar where a single umbrella was left beside it . opening up the umbrella , connor right away returned to amanda 's side before the light drizzle from the sprinklers could turn up the notch a bit higher .                                                                                                                                                                                                                                                                                                                                                                                                                                                                                                                                                                                                                                                                                                                                                                                                                                                                                                                                                                                                                                                                                                   \n",
       "802860   a loud bang had the spectre stumbling as a steel crate was thrown at it 's head , connor ducking behind a pillar while looking for something else to throw .                                                                                                                                                                                                                                                                                                                                                                                                                                                                                                                                                                                                                                                                                                                                                                                                                                                                                                                                                                                                                                                                                                                                                                                                                                                                                                \n",
       "88327    connor had gone to church twice a week for as long as he remembered . choir on saturday , church services on sunday . and that is how it had always been . church was a constant . it gave guidance and purpose to everything that he did . every question and trial of faith was met with a battle of prayer until it was overcome . he had no reason to doubt . none at all . his parents were strict catholics and always encouraged him to love god with all his heart and to be involved in church life as much as possible . he was told to always tell the truth , to honour the 10 commandments . his hair was always neat , button up shirt always tucked into his black jeans , accompanied by a cardigan or blazer . and his grades at school were impeccable . he was the epitome of a good child . a pillar in the churches youth community . a lot of adults assumed that he would lead the youth ministry of the church after doing the relevant courses at a bible college . and connor had decided they were probably right . it 's what seemed most likely . church had always been his life , a future without it was incomprehensible . his was set on a very specific track , and it would never change . he was happy with how things were going , he did n't want anything to shift . or so he believed .                                                                                                                            \n",
       "1243609  i sensed vibrations in the doors , a rattling from above , the deviant . i pressed the button before hiding behind a concrete pillar , waiting . estimating the seconds it would be before the doors would open , there was no time to call detective jones . ping ,                                                                                                                                                                                                                                                                                                                                                                                                                                                                                                                                                                                                                                                                                                                                                                                                                                                                                                                                                                                                                                                                                                                                                                                        \n",
       "386349   pillar just glared at gavin as he discreetly fussed with the cuffs that he restrained his arms behind his back . slipping his wrists slowly out of the metal restraints pillar just waited patiently for gavin to make one little mistake ...                                                                                                                                                                                                                                                                                                                                                                                                                                                                                                                                                                                                                                                                                                                                                                                                                                                                                                                                                                                                                                                                                                                                                                                                               \n",
       "1337308  “ we found this in the passenger seat . the victim in that car , ” he nodded to the small car with a large dent in the side and the front caved in from impact with a bridge pillar . “ chloe , she died on impact . nothing we could do , but this was open on the seat and it looks like it ’s about a missing kid . i dunno if the accident is connected to this but y’know , that ’s your job . ” he shrugged , looking at his watch . “ dispatch is sending people to take the car apart , we ca n’t get her out with it like that . alex had to climb through the back window to check her pulse and she saw the photos then grabbed the binder . ” he gestured to the female paramedic who nodded , trying to light a cigarette .                                                                                                                                                                                                                                                                                                                                                                                                                                                                                                                                                                                                                                                                                                                    \n",
       "480402   in the distance , he watches as the buildings perish slowly , windows smashing as the wind whips . out on the rolling skyline , fifty miles away , a lancelike ray of blue - white light shot up into the gathering dusk -- a clump of five rays , really , from five deep shafts in an irregular pentagon half a mile across , blended into one by the distance . an instant later , there was a blinding flash , like sheet - lightning , and a huge ball of varicoloured fire belched upward , leaving a series of smoke - rings to float more slowly after it . that fireball flattened , then spread to form the mushroom - head of a column of incandescent gas that mounted to overtake it , engorging the smoke - rings as it rose , twisting , writhing , changing shape , turning to dark smoke in one moment and belching flame and crackling with lightning the next . then there was another enormous explosion . it was as though a fist of orange flame had decided to punch its way out of the main complex of the building a few feet from them . windows shattered . smoke and fire rushed out . thousands of pieces of glass and steel , a deadly rainfall , showered down . alarms - shrill and deafening- erupted . a huge bite had been taken out of the side and the roof of the building . the pillar of fiery smoke and dust , still boiling up from where the bombs had gone off , was being violently agitated at the bottom .   \n",
       "902940   “ you afraid for me , simon ? ” markus ’s face was calm ( though he may have been smiling internally ) whilst he had his left foot directly in front of the right , his arms out just enough to balance , like being on a tight rope regardless of the pillar being wider .                                                                                                                                                                                                                                                                                                                                                                                                                                                                                                                                                                                                                                                                                                                                                                                                                                                                                                                                                                                                                                                                                                                                                                                 \n",
       "174825   he reaches the bridge and stares across it . sees the flower - like pillar structures that stretch upwards towards the sky , plastic white decorated with perfectly grown plants . another couple of pigeons take flight from nearby , their white bodies quickly blending in with the surroundings . connor watches the birds as they fly left , going across the pond and towards where kamski ’s emergency exit once stood . surprisingly , it is still there — and it is not the only thing that catches his attention .                                                                                                                                                                                                                                                                                                                                                                                                                                                                                                                                                                                                                                                                                                                                                                                                                                                                                                                                \n",
       "1017881  connor took a quick scan of the parking structure , they were tucked into a corner behind a large cement pillar , and there were no other cars on this level .                                                                                                                                                                                                                                                                                                                                                                                                                                                                                                                                                                                                                                                                                                                                                                                                                                                                                                                                                                                                                                                                                                                                                                                                                                                                                              \n",
       "456243   most of detroit had become a sanctuary to androids , still there was constant tension as the movement pushed forward . yet the revolutionist never faltered ; he continued to surprise those around him and remained a pillar of strength to their people .                                                                                                                                                                                                                                                                                                                                                                                                                                                                                                                                                                                                                                                                                                                                                                                                                                                                                                                                                                                                                                                                                                                                                                                                 \n",
       "565976   the train to detroit ’s harbours departed , and connor finally noticed that hank was waiting from behind a pillar . he calmly approached his lieutenant . “ shall we go back to the station , sir ? ”                                                                                                                                                                                                                                                                                                                                                                                                                                                                                                                                                                                                                                                                                                                                                                                                                                                                                                                                                                                                                                                                                                                                                                                                                                                       \n",
       "489125   the cavernous office was surrounded by towering wall to wall windows on two sides , capped by a large skylight in the ceiling . the far wall opposite of the huge security door hosted a dozen terminal screens , with one massive screen flanked by several smaller ones . matching spiral staircases on either side of the terminal banks led up to a small suspended loft supporting a spotlight , shining a pillar of blue light straight up into the night sky for the entire city of detroit to see . the entire office almost seemed like a high - tech cathedral .                                                                                                                                                                                                                                                                                                                                                                                                                                                                                                                                                                                                                                                                                                                                                                                                                                                                                  \n",
       "386556   \" maybe that 's because in the end that 's all pillar was worth ; nothing . \"                                                                                                                                                                                                                                                                                                                                                                                                                                                                                                                                                                                                                                                                                                                                                                                                                                                                                                                                                                                                                                                                                                                                                                                                                                                                                                                                                                               \n",
       "386373   without any hesitation hank pushed himself up from the ground and rushed over to where connor had fallen . he knelt beside the android 's head , keeping his own head low as gunfire continued to tear through the precinct . slipping his hands under connor 's arms and around his bloodied chest hank dragged his downed partner backward into the opened door of the interview room and shut the door as soon as they were inside the room out of pillar 's sight .                                                                                                                                                                                                                                                                                                                                                                                                                                                                                                                                                                                                                                                                                                                                                                                                                                                                                                                                                                                     \n",
       "686486   pillar just glared at gavin as he discreetly fussed with the cuffs that he restrained his arms behind his back . slipping his wrists slowly out of the metal restraints pillar just waited patiently for gavin to make one little mistake ...                                                                                                                                                                                                                                                                                                                                                                                                                                                                                                                                                                                                                                                                                                                                                                                                                                                                                                                                                                                                                                                                                                                                                                                                               \n",
       "882247   rk900 held up three fingers , then two , then one , and sprinted ; anderson , thankfully , followed suit . this time , a shot was fired , but not at rk900 . anderson yelped , but managed to make it to the second pillar unharmed . now they had confirmation that 61 was watching them , and that he was in the overseer ’s office . however , they were in a predicament now . rk900 only had to reach the door that lead to the offices in order to make it out of 61 ’s line of sight , but anderson still had to make it to another pillar , and then the final door .                                                                                                                                                                                                                                                                                                                                                                                                                                                                                                                                                                                                                                                                                                                                                                                                                                                                               \n",
       "468075   amanda . he 's tried hard not to think too much on the hurt that her death caused him . how it felt like there was nobody left at cyberlife that he could trust into fulfilling his goals and the future . she was a pillar of support and someone that could understand all the technical jargon that occasionally flew out of his mouth . she was aware of his lack of social skills when it came to personal relationships . she was always fascinated by how he was capable of spinning entrancing words that swayed countless people into believing what he wanted them to believe and yet was completely incapable of keeping good healthy personal relationships .                                                                                                                                                                                                                                                                                                                                                                                                                                                                                                                                                                                                                                                                                                                                                                                   \n",
       "291025   by the time hank arrives , he fears he ’s too late . it took him awhile to turn back into his human form and now he already feels the strength of the beast falter . he leans heavily against the pillar of the ruin before he can run to his partner who ’s lying on the floor . almost lifeless . it makes hank ’s heart sink to his goddamn shoes . good thing all perpetrators are dead now . no more inconvenient interruptions . without further ado the k9 investigator crashes next to the vampire and checks on him . thank god , a pulse ! he quickly removes the blindfold and cuts the ropes around connor ’s ankles and wrists with his sharp teeth .                                                                                                                                                                                                                                                                                                                                                                                                                                                                                                                                                                                                                                                                                                                                                                                          \n",
       "1191946  markus , who was a relentless force capable of rendering people speechless with his unbidden charisma and overwhelming resolve - features that turned him into a hero in the eyes of those children and the   pillar of strenght of their people 's hopes and dreams - was now crumbling in his arms before the possibility of having everything he fought for completely ruined by the hands of humans .                                                                                                                                                                                                                                                                                                                                                                                                                                                                                                                                                                                                                                                                                                                                                                                                                                                                                                                                                                                                                                                   \n",
       "102828   “ actually , is n’t as bad as i- ” hank stopped as he peered behind a pillar . there was a dead body laying propped up- blood having gushed from their nose . “ shit . do they know there was a sixth ? a victim ? ”                                                                                                                                                                                                                                                                                                                                                                                                                                                                                                                                                                                                                                                                                                                                                                                                                                                                                                                                                                                                                                                                                                                                                                                                                                        \n",
       "386554   \" no . hank , i was wrong . \" connor stated firmly . \" it was wrong of me to suggest you take revenge on pillar . killing him would n't bring back barbara , and all it would 've done is hurt your career . it was a foolish thing to say . i 'm sorry i ever brought it up . \"                                                                                                                                                                                                                                                                                                                                                                                                                                                                                                                                                                                                                                                                                                                                                                                                                                                                                                                                                                                                                                                                                                                                                                            \n",
       "114075   \" wait , associate ? \" interrupted north , pushing off where she was leaning against a pillar to come closer to him -- an act that he would also deem more threatening than needed . \" who ? \"                                                                                                                                                                                                                                                                                                                                                                                                                                                                                                                                                                                                                                                                                                                                                                                                                                                                                                                                                                                                                                                                                                                                                                                                                                                              \n",
       "336414   nathan almost laughed . at least , he smiled , leaned in a little closer to rest against the pillar as well .                                                                                                                                                                                                                                                                                                                                                                                                                                                                                                                                                                                                                                                                                                                                                                                                                                                                                                                                                                                                                                                                                                                                                                                                                                                                                                                                               \n",
       "\n",
       "                         category  \\\n",
       "1025075  [F/M, M/M]                 \n",
       "386425   [Gen]                      \n",
       "102829   [M/M]                      \n",
       "686638   [Gen]                      \n",
       "88032    [F/M]                      \n",
       "1401082  [F/M]                      \n",
       "143192   [M/M]                      \n",
       "386496   [Gen]                      \n",
       "686686   [Gen]                      \n",
       "386350   [Gen]                      \n",
       "1039172  [M/M]                      \n",
       "386365   [Gen]                      \n",
       "1045150  []                         \n",
       "1439178  [F/M]                      \n",
       "749379   []                         \n",
       "386351   [Gen]                      \n",
       "686477   [Gen]                      \n",
       "1284486  [M/M]                      \n",
       "686636   [Gen]                      \n",
       "336419   [M/M]                      \n",
       "104235   [Gen]                      \n",
       "688921   [M/M]                      \n",
       "999046   [M/M]                      \n",
       "386498   [Gen]                      \n",
       "1216367  [M/M]                      \n",
       "882256   []                         \n",
       "485487   [Gen]                      \n",
       "802860   [F/M, Gen, Multi, Other]   \n",
       "88327    [M/M]                      \n",
       "1243609  [Other]                    \n",
       "386349   [Gen]                      \n",
       "1337308  []                         \n",
       "480402   [M/M]                      \n",
       "902940   [M/M]                      \n",
       "174825   [M/M]                      \n",
       "1017881  [M/M]                      \n",
       "456243   [M/M]                      \n",
       "565976   [M/M, Gen]                 \n",
       "489125   [F/M]                      \n",
       "386556   [Gen]                      \n",
       "386373   [Gen]                      \n",
       "686486   [Gen]                      \n",
       "882247   []                         \n",
       "468075   [F/F, F/M]                 \n",
       "291025   [M/M]                      \n",
       "1191946  [F/F, F/M, M/M]            \n",
       "102828   [M/M]                      \n",
       "386554   [Gen]                      \n",
       "114075   [F/F, F/M, M/M]            \n",
       "336414   [M/M]                      \n",
       "\n",
       "                                                                                                                                                                              relationship  \n",
       "1025075  [\"Kara/Luther\", \"Josh/Simon (Detroit: Become Human)\", \"Kara & Luther & Alice Williams (Detroit: Become Human)\", \"Josh & Luther\"]                                                   \n",
       "386425   []                                                                                                                                                                                 \n",
       "102829   [\"Hank Anderson/Connor\", \"Hank Anderson & Connor\", \"Hankcon\"]                                                                                                                      \n",
       "686638   []                                                                                                                                                                                 \n",
       "88032    [\"Hank Anderson/Original Female Character(s)\", \"Connor & Original Female Character\"]                                                                                               \n",
       "1401082  [\"Connor/Kara (Detroit: Become Human)\", \"Kara|AX400/Connor|RK800\", \"Connara\"]                                                                                                      \n",
       "143192   [\"RK900 & Gavin Reed (Non-consensual)\"]                                                                                                                                            \n",
       "386496   []                                                                                                                                                                                 \n",
       "686686   []                                                                                                                                                                                 \n",
       "386350   []                                                                                                                                                                                 \n",
       "1039172  [\"Markus/Simon (Detroit: Become Human)\"]                                                                                                                                           \n",
       "386365   []                                                                                                                                                                                 \n",
       "1045150  [\"Hank Anderson & Connor\"]                                                                                                                                                         \n",
       "1439178  [\"Connor (Detroit: Become Human)/Original Female Character(s)\", \"Markus/Simon (Detroit: Become Human)\", \"if you squint\", \"North (Detroit: Become Human)/Original Male Character\"]  \n",
       "749379   [\"Hank Anderson/Connor\", \"Hank Anderson & Connor\"]                                                                                                                                 \n",
       "386351   []                                                                                                                                                                                 \n",
       "686477   []                                                                                                                                                                                 \n",
       "1284486  [\"Connor/Markus (Detroit: Become Human)\", \"Carl Manfred & Markus\"]                                                                                                                 \n",
       "686636   []                                                                                                                                                                                 \n",
       "336419   [\"Markus/Simon (Detroit: Become Human)\", \"Simon (Detroit: Become Human) / Original Character\"]                                                                                     \n",
       "104235   [\"Hank Anderson & Connor\"]                                                                                                                                                         \n",
       "688921   [\"Markus/Connor\"]                                                                                                                                                                  \n",
       "999046   [\"Connor/Markus (Detroit: Become Human)\", \"Hank Anderson & Connor (Past???)\", \"RK1K\", \"Markus/North (Detroit: Become Human) (Past)\", \"Connor/Elijah Kamski\"]                       \n",
       "386498   []                                                                                                                                                                                 \n",
       "1216367  [\"Connor / Upgraded Connor | RK900\", \"RK800/RK900\", \"rk800/rk800-60\", \"rk800/rk800-60/rk900\", \"Connor & Connor (Detroit: Become Human)\", \"Connor/Connor (Detroit: Become Human)\"]  \n",
       "882256   []                                                                                                                                                                                 \n",
       "485487   [\"Connor | RK800 & Emma Phillips\", \"Hank Anderson & Connor | RK800\", \"Amanda & Connor | RK800\"]                                                                                    \n",
       "802860   [\"Connor (Detroit: Become Human)/Reader\", \"Connor (Detroit: Become Human) & Reader\"]                                                                                               \n",
       "88327    [\"Connor/Markus (Detroit: Become Human)\", \"Connor & Markus (Detroit: Become Human)\"]                                                                                               \n",
       "1243609  [\"Connor (Detroit: Become Human)/Original OC\"]                                                                                                                                     \n",
       "386349   []                                                                                                                                                                                 \n",
       "1337308  [\"Hank Anderson & Connor\", \"Connor & Amanda\", \"Blue-Haired Traci/Blue-Haired Traci's Girlfriend (Detroit: Become Human)\"]                                                          \n",
       "480402   [\"Markus & Simon (Detroit: Become Human)\"]                                                                                                                                         \n",
       "902940   [\"Markus/Simon (Detroit: Become Human)\"]                                                                                                                                           \n",
       "174825   [\"Hank Anderson/Connor\", \"Hank Anderson & Connor\"]                                                                                                                                 \n",
       "1017881  [\"Hank Anderson/Connor\"]                                                                                                                                                           \n",
       "456243   [\"Connor/Markus (Detroit: Become Human)\"]                                                                                                                                          \n",
       "565976   [\"Connor (Detroit: Become Human)/Sean McLoughlin\", \"Connor (Detroit: Become Human) & Sean McLoughlin\", \"Hank Anderson & Connor\"]                                                   \n",
       "489125   [\"Connor (Detroit: Become Human)/Original Female Character(s)\"]                                                                                                                    \n",
       "386556   []                                                                                                                                                                                 \n",
       "386373   []                                                                                                                                                                                 \n",
       "686486   []                                                                                                                                                                                 \n",
       "882247   []                                                                                                                                                                                 \n",
       "468075   [\"Original Chloe | RT600/Elijah Kamski\", \"Chloe | ST200/Chloe | ST200\"]                                                                                                            \n",
       "291025   [\"Hank Anderson/Connor\"]                                                                                                                                                           \n",
       "1191946  [\"Connor/Markus (Detroit: Become Human)\"]                                                                                                                                          \n",
       "102828   [\"Hank Anderson/Connor\", \"Hank Anderson & Connor\", \"Hankcon\"]                                                                                                                      \n",
       "386554   []                                                                                                                                                                                 \n",
       "114075   [\"Connor/Markus (Detroit: Become Human)\", \"Hank Anderson & Connor\", \"connor & everyone\", \"Connor & Chloe\"]                                                                         \n",
       "336414   [\"Markus/Simon (Detroit: Become Human)\", \"Simon (Detroit: Become Human) / Original Character\"]                                                                                     "
      ]
     },
     "execution_count": 20,
     "metadata": {},
     "output_type": "execute_result"
    }
   ],
   "source": [
    "word = 'pillar'\n",
    "regex = r'\\b{}\\b'.format(word)\n",
    "data.loc[data['preprocessed_text'].map(lambda x: re.search(regex, x) is not None), ['preprocessed_text', 'category', 'relationship']].sample(50)"
   ]
  },
  {
   "cell_type": "markdown",
   "metadata": {},
   "source": [
    "# Prepare AO3 data in format for paragraph vector training\n",
    "\n",
    "Preprocess content (tokenized, lowercased, like aclImdb/alldata-id.txt), extract relationship type metadata as tags"
   ]
  },
  {
   "cell_type": "markdown",
   "metadata": {},
   "source": [
    "## Extract metadata"
   ]
  },
  {
   "cell_type": "code",
   "execution_count": 20,
   "metadata": {},
   "outputs": [
    {
     "name": "stdout",
     "output_type": "stream",
     "text": [
      "Index(['fic_id', 'title', 'author', 'author_key', 'rating', 'category',\n",
      "       'fandom', 'relationship', 'character', 'additional tags', 'language',\n",
      "       'published', 'status', 'status date', 'words', 'comments', 'kudos',\n",
      "       'bookmarks', 'hits', 'chapter_count'],\n",
      "      dtype='object')\n",
      "7108\n"
     ]
    }
   ],
   "source": [
    "import pandas as pd\n",
    "\n",
    "# Load in data from DiscourseDB\n",
    "# data = pd.read_csv('/usr2/mamille2/fanfiction-project/data/ao3/friends/friends_discoursedb_data.csv')\n",
    "# data = pd.read_pickle('/usr2/mamille2/fanfiction-project/data/ao3/friends/friends_discoursedb_data.pkl')\n",
    "# metadata = pd.read_csv('/usr2/scratch/fanfic/ao3_academia_text/stories.csv')\n",
    "metadata = pd.read_csv('/usr2/scratch/fanfic/ao3_detroit_text/stories.csv')\n",
    "print(metadata.columns)\n",
    "print(len(metadata))"
   ]
  },
  {
   "cell_type": "code",
   "execution_count": 21,
   "metadata": {
    "scrolled": true
   },
   "outputs": [
    {
     "data": {
      "text/plain": [
       "[('M/M', 3955),\n",
       " ('Gen', 1757),\n",
       " ('F/M', 1240),\n",
       " ('', 534),\n",
       " ('Other', 398),\n",
       " ('Multi', 315),\n",
       " ('F/F', 210)]"
      ]
     },
     "execution_count": 21,
     "metadata": {},
     "output_type": "execute_result"
    }
   ],
   "source": [
    "# Convert string-lists to lists\n",
    "metadata['category'] = metadata['category'].str.replace(r'[\\[\\]\"]', '').str.split(',\\s+')\n",
    "metadata['category']\n",
    "\n",
    "from collections import Counter\n",
    "\n",
    "# Distribution of relationship types\n",
    "value_counts = Counter([x for l in metadata['category'] for x in l])\n",
    "value_counts.most_common()"
   ]
  },
  {
   "cell_type": "markdown",
   "metadata": {},
   "source": [
    "## Merge in text data"
   ]
  },
  {
   "cell_type": "code",
   "execution_count": 22,
   "metadata": {},
   "outputs": [
    {
     "data": {
      "application/vnd.jupyter.widget-view+json": {
       "model_id": "e77eb01a8a604a3ba5f6ba13bf7aedc8",
       "version_major": 2,
       "version_minor": 0
      },
      "text/plain": [
       "HBox(children=(IntProgress(value=0, max=19850), HTML(value='')))"
      ]
     },
     "metadata": {},
     "output_type": "display_data"
    },
    {
     "name": "stdout",
     "output_type": "stream",
     "text": [
      "\n"
     ]
    }
   ],
   "source": [
    "from tqdm import tqdm_notebook as tqdm\n",
    "import os\n",
    "import numpy as np\n",
    "\n",
    "# story_dirpath = '/usr2/scratch/fanfic/ao3_academia_text/stories'\n",
    "story_dirpath = '/usr2/scratch/fanfic/ao3_detroit_text/stories'\n",
    "\n",
    "texts = []\n",
    "\n",
    "# Load header\n",
    "hdr = pd.read_csv(os.path.join(story_dirpath, os.listdir(story_dirpath)[0])).columns\n",
    "\n",
    "# Load data\n",
    "for fname in tqdm(os.listdir(story_dirpath)):\n",
    "    story_df = pd.read_csv(os.path.join(story_dirpath, fname))\n",
    "    texts.append(story_df.values)"
   ]
  },
  {
   "cell_type": "code",
   "execution_count": 23,
   "metadata": {},
   "outputs": [
    {
     "name": "stdout",
     "output_type": "stream",
     "text": [
      "1469142\n"
     ]
    },
    {
     "data": {
      "text/plain": [
       "Index(['fic_id', 'chapter_id', 'para_id', 'text'], dtype='object')"
      ]
     },
     "execution_count": 23,
     "metadata": {},
     "output_type": "execute_result"
    }
   ],
   "source": [
    "import numpy as np\n",
    "\n",
    "# Merge\n",
    "data = pd.DataFrame(np.vstack(texts), columns=hdr)\n",
    "print(len(data))\n",
    "data.columns"
   ]
  },
  {
   "cell_type": "code",
   "execution_count": 24,
   "metadata": {},
   "outputs": [],
   "source": [
    "import spacy\n",
    "nlp = spacy.load('en')\n",
    "\n",
    "def preprocess_text(text):\n",
    "    if isinstance(text, float):\n",
    "        return ''\n",
    "    else:\n",
    "        return ' '.join([tok.text for tok in nlp.tokenizer(text.lower().replace('\\n', ' '))]).strip()"
   ]
  },
  {
   "cell_type": "code",
   "execution_count": 25,
   "metadata": {},
   "outputs": [
    {
     "data": {
      "application/vnd.jupyter.widget-view+json": {
       "model_id": "770330f142254ea38e1b344fe6ae2a19",
       "version_major": 2,
       "version_minor": 0
      },
      "text/plain": [
       "HBox(children=(IntProgress(value=0, max=1469142), HTML(value='')))"
      ]
     },
     "metadata": {},
     "output_type": "display_data"
    },
    {
     "name": "stdout",
     "output_type": "stream",
     "text": [
      "\n"
     ]
    },
    {
     "data": {
      "text/plain": [
       "448200     “ you said last week that i was “ sucking the ...\n",
       "1280187    рид , кажется , куда-то выпадает , замерев над...\n",
       "984482     the next morning , connor once more uses the s...\n",
       "Name: preprocessed_text, dtype: object"
      ]
     },
     "execution_count": 25,
     "metadata": {},
     "output_type": "execute_result"
    }
   ],
   "source": [
    "from tqdm import tqdm_notebook as tqdm\n",
    "data['preprocessed_text'] = list(map(preprocess_text, tqdm(data['text'])))\n",
    "# data['preprocessed_text']\n",
    "\n",
    "data['preprocessed_text'].sample(3)"
   ]
  },
  {
   "cell_type": "code",
   "execution_count": 26,
   "metadata": {},
   "outputs": [
    {
     "name": "stdout",
     "output_type": "stream",
     "text": [
      "Index(['fic_id', 'chapter_id', 'para_id', 'text', 'preprocessed_text'], dtype='object')\n",
      "1469142\n",
      "Index(['fic_id', 'title', 'author', 'author_key', 'rating', 'category',\n",
      "       'fandom', 'relationship', 'character', 'additional tags', 'language',\n",
      "       'published', 'status', 'status date', 'words', 'comments', 'kudos',\n",
      "       'bookmarks', 'hits', 'chapter_count'],\n",
      "      dtype='object')\n"
     ]
    }
   ],
   "source": [
    "print(data.columns)\n",
    "print(len(data))\n",
    "print(metadata.columns)"
   ]
  },
  {
   "cell_type": "code",
   "execution_count": 27,
   "metadata": {},
   "outputs": [
    {
     "name": "stdout",
     "output_type": "stream",
     "text": [
      "1469142\n",
      "Index(['fic_id', 'chapter_id', 'para_id', 'text', 'preprocessed_text', 'title',\n",
      "       'author', 'author_key', 'rating', 'category', 'fandom', 'relationship',\n",
      "       'character', 'additional tags', 'language', 'published', 'status',\n",
      "       'status date', 'words', 'comments', 'kudos', 'bookmarks', 'hits',\n",
      "       'chapter_count'],\n",
      "      dtype='object')\n"
     ]
    }
   ],
   "source": [
    "# Merge metadata and text data\n",
    "merged = pd.merge(data, metadata, on=['fic_id'], how='left')\n",
    "print(len(merged))\n",
    "print(merged.columns)"
   ]
  },
  {
   "cell_type": "code",
   "execution_count": 29,
   "metadata": {},
   "outputs": [
    {
     "name": "stdout",
     "output_type": "stream",
     "text": [
      "1356124\n"
     ]
    }
   ],
   "source": [
    "# Filter to English\n",
    "merged = merged[merged['language']=='English']\n",
    "print(len(merged))"
   ]
  },
  {
   "cell_type": "markdown",
   "metadata": {},
   "source": [
    "## Extract annotations (not necessary for data directly in /usr2/scratch/fanfic)"
   ]
  },
  {
   "cell_type": "code",
   "execution_count": 87,
   "metadata": {},
   "outputs": [],
   "source": [
    "pd.set_option('display.max_colwidth', -1)\n",
    "\n",
    "data['annotations']"
   ]
  },
  {
   "cell_type": "code",
   "execution_count": 16,
   "metadata": {},
   "outputs": [],
   "source": [
    "import re\n",
    "# from IPython.core.debugger import set_trace\n",
    "\n",
    "# Extract relationship type column\n",
    "def extract_annotation_category(category, annotations):\n",
    "    annotations_dict = {el[0]: ''.join(el[1:]) for el in [b.split(' (') for b in annotations.split(', ')]}\n",
    "    try:\n",
    "        vals = re.findall(r'null=(.*?)[;\\)]', annotations_dict[category])\n",
    "    except:\n",
    "        set_trace()\n",
    "    return vals"
   ]
  },
  {
   "cell_type": "code",
   "execution_count": 17,
   "metadata": {
    "scrolled": true
   },
   "outputs": [
    {
     "data": {
      "application/vnd.jupyter.widget-view+json": {
       "model_id": "d13f4017980042faa39e07b9720635b7",
       "version_major": 2,
       "version_minor": 0
      },
      "text/plain": [
       "HBox(children=(IntProgress(value=0, max=74199), HTML(value='')))"
      ]
     },
     "metadata": {},
     "output_type": "display_data"
    },
    {
     "name": "stdout",
     "output_type": "stream",
     "text": [
      "\n"
     ]
    },
    {
     "data": {
      "text/plain": [
       "0        [F/M, M/M]\n",
       "1        [F/M, M/M]\n",
       "2        [F/M, M/M]\n",
       "3        [M/M, F/M]\n",
       "4        [M/M, F/M]\n",
       "5        [F/M, M/M]\n",
       "6        [M/M, F/M]\n",
       "7        [M/M, F/M]\n",
       "8        [M/M, F/M]\n",
       "9        [M/M, F/M]\n",
       "10       [M/M, F/M]\n",
       "11       [M/M, F/M]\n",
       "12       [M/M, F/M]\n",
       "13       [F/M, M/M]\n",
       "14       [M/M, F/M]\n",
       "15       [M/M, F/M]\n",
       "16       [M/M, F/M]\n",
       "17       [M/M, F/M]\n",
       "18       [M/M, F/M]\n",
       "19       [M/M, F/M]\n",
       "20       [M/M, F/M]\n",
       "21       [F/M, M/M]\n",
       "22       [M/M, F/M]\n",
       "23       [M/M, F/M]\n",
       "24       [M/M, F/M]\n",
       "25       [M/M, F/M]\n",
       "26       [M/M, F/M]\n",
       "27       [M/M, F/M]\n",
       "28       [M/M, F/M]\n",
       "29       [F/M, M/M]\n",
       "            ...    \n",
       "74169         [F/M]\n",
       "74170         [F/M]\n",
       "74171         [F/M]\n",
       "74172         [F/M]\n",
       "74173         [F/M]\n",
       "74174         [F/M]\n",
       "74175         [F/M]\n",
       "74176         [F/M]\n",
       "74177         [F/M]\n",
       "74178         [F/M]\n",
       "74179         [F/M]\n",
       "74180         [F/M]\n",
       "74181         [F/M]\n",
       "74182         [F/M]\n",
       "74183         [F/M]\n",
       "74184         [F/M]\n",
       "74185         [F/M]\n",
       "74186         [F/M]\n",
       "74187         [F/M]\n",
       "74188         [F/M]\n",
       "74189         [F/M]\n",
       "74190         [F/M]\n",
       "74191         [F/M]\n",
       "74192         [F/M]\n",
       "74193         [F/M]\n",
       "74194         [F/M]\n",
       "74195         [F/M]\n",
       "74196         [F/M]\n",
       "74197         [F/M]\n",
       "74198         [F/M]\n",
       "Name: relationship_type, Length: 74199, dtype: object"
      ]
     },
     "execution_count": 17,
     "metadata": {},
     "output_type": "execute_result"
    }
   ],
   "source": [
    "data['relationship_type'] = [extract_annotation_category('category', x) for x in tqdm(data['annotations'].tolist())]\n",
    "data['relationship_type']"
   ]
  },
  {
   "cell_type": "markdown",
   "metadata": {},
   "source": [
    "## Save out annotations, preprocessed content"
   ]
  },
  {
   "cell_type": "code",
   "execution_count": 30,
   "metadata": {},
   "outputs": [],
   "source": [
    "# outpath = '/usr2/mamille2/fanfiction-project/data/ao3/friends/friends_discoursedb_data.pkl'\n",
    "# outpath = '/usr2/mamille2/fanfiction-project/data/ao3/academia/academia_discoursedb_data.pkl'\n",
    "outpath = '/usr2/mamille2/fanfiction-project/data/ao3/detroit/detroit_discoursedb_data.pkl'\n",
    "merged.to_pickle(outpath)"
   ]
  },
  {
   "cell_type": "markdown",
   "metadata": {},
   "source": [
    "## Save out documents to their own lines (optional)"
   ]
  },
  {
   "cell_type": "code",
   "execution_count": 47,
   "metadata": {},
   "outputs": [],
   "source": [
    "# Save paragraphs to their own lines in file\n",
    "with open('/usr2/mamille2/fanfiction-project/data/ao3/friends/friends_paragraphs.txt', 'wb') as f:\n",
    "    for p in data['preprocessed_content'].tolist():\n",
    "        f.write(f'{p}\\n'.encode('utf8'))\n",
    "#         f.write('aééé'.encode('utf8').decode('utf8'))\n",
    "#         f.write('aééé'.encode('utf8'))"
   ]
  },
  {
   "cell_type": "markdown",
   "metadata": {},
   "source": [
    "# Gensim Doc2Vec with AO3 data (documents tagged with relationship type)\n",
    "From https://github.com/RaRe-Technologies/gensim/blob/develop/docs/notebooks/doc2vec-IMDB.ipynb"
   ]
  },
  {
   "cell_type": "code",
   "execution_count": 20,
   "metadata": {},
   "outputs": [
    {
     "name": "stdout",
     "output_type": "stream",
     "text": [
      "74199\n",
      "CPU times: user 776 ms, sys: 148 ms, total: 924 ms\n",
      "Wall time: 927 ms\n"
     ]
    }
   ],
   "source": [
    "%%time\n",
    "\n",
    "import gensim\n",
    "from gensim.models.doc2vec import TaggedDocument\n",
    "from collections import namedtuple\n",
    "from smart_open import smart_open\n",
    "\n",
    "fpath = '/usr2/mamille2/fanfiction-project/data/ao3/friends/friends_discoursedb_data.pkl'\n",
    "test_fraction = 0.1\n",
    "\n",
    "data = pd.read_pickle(fpath)\n",
    "total_docs = len(data)\n",
    "\n",
    "alldocs = []\n",
    "for line, tags in zip(data['preprocessed_content'], data['relationship_type']):\n",
    "    tokens = gensim.utils.to_unicode(line).split()\n",
    "    alldocs.append(TaggedDocument(words, tags))\n",
    "\n",
    "# train_docs = [doc for doc in alldocs if doc.split == 'train']\n",
    "# test_docs = [doc for doc in alldocs if doc.split == 'test']\n",
    "\n",
    "# print('%d docs: %d train, %d test' % (len(alldocs), len(train_docs), len(test_docs)))\n",
    "\n",
    "from random import shuffle\n",
    "doc_list = alldocs[:]  \n",
    "shuffle(doc_list)\n",
    "\n",
    "print(len(doc_list))"
   ]
  },
  {
   "cell_type": "code",
   "execution_count": 21,
   "metadata": {
    "scrolled": true
   },
   "outputs": [
    {
     "name": "stdout",
     "output_type": "stream",
     "text": [
      "Doc2Vec(dbow,d100,n5,mc2,t20) vocabulary scanned & state initialized\n",
      "Doc2Vec(\"alpha=0.05\",dm/m,d100,n5,w10,mc2,t20) vocabulary scanned & state initialized\n",
      "Doc2Vec(dm/c,d100,n5,w5,mc2,t20) vocabulary scanned & state initialized\n",
      "CPU times: user 6min 14s, sys: 1.27 s, total: 6min 16s\n",
      "Wall time: 6min 16s\n"
     ]
    }
   ],
   "source": [
    "%%time\n",
    "\n",
    "# Build models\n",
    "\n",
    "from gensim.models import Doc2Vec\n",
    "import gensim.models.doc2vec\n",
    "from collections import OrderedDict\n",
    "import multiprocessing\n",
    "\n",
    "# cores = multiprocessing.cpu_count()\n",
    "cores = 20\n",
    "assert gensim.models.doc2vec.FAST_VERSION > -1, \"This will be painfully slow otherwise\"\n",
    "\n",
    "simple_models = [\n",
    "    # PV-DBOW plain\n",
    "    Doc2Vec(dm=0, vector_size=100, negative=5, hs=0, min_count=2, sample=0, \n",
    "            epochs=20, workers=cores),\n",
    "    # PV-DM w/ default averaging; a higher starting alpha may improve CBOW/PV-DM modes\n",
    "    Doc2Vec(dm=1, vector_size=100, window=10, negative=5, hs=0, min_count=2, sample=0, \n",
    "            epochs=20, workers=cores, alpha=0.05, comment='alpha=0.05'),\n",
    "    # PV-DM w/ concatenation - big, slow, experimental mode\n",
    "    # window=5 (both sides) approximates paper's apparent 10-word total window size\n",
    "    Doc2Vec(dm=1, dm_concat=1, vector_size=100, window=5, negative=5, hs=0, min_count=2, sample=0, \n",
    "            epochs=20, workers=cores),\n",
    "]\n",
    "\n",
    "for model in simple_models:\n",
    "    model.build_vocab(alldocs)\n",
    "    print(\"%s vocabulary scanned & state initialized\" % model)\n",
    "\n",
    "models_by_name = OrderedDict((str(model), model) for model in simple_models)\n",
    "\n",
    "from gensim.test.test_doc2vec import ConcatenatedDoc2Vec\n",
    "models_by_name['dbow+dmm'] = ConcatenatedDoc2Vec([simple_models[0], simple_models[1]])\n",
    "models_by_name['dbow+dmc'] = ConcatenatedDoc2Vec([simple_models[0], simple_models[2]])"
   ]
  },
  {
   "cell_type": "markdown",
   "metadata": {},
   "source": [
    "## Train models"
   ]
  },
  {
   "cell_type": "code",
   "execution_count": null,
   "metadata": {},
   "outputs": [
    {
     "name": "stdout",
     "output_type": "stream",
     "text": [
      "Training Doc2Vec(dbow,d100,n5,mc2,t20)\n"
     ]
    },
    {
     "ename": "KeyboardInterrupt",
     "evalue": "",
     "output_type": "error",
     "traceback": [
      "\u001b[0;31m---------------------------------------------------------------------------\u001b[0m",
      "\u001b[0;31mKeyboardInterrupt\u001b[0m                         Traceback (most recent call last)",
      "\u001b[0;32m<timed eval>\u001b[0m in \u001b[0;36m<module>\u001b[0;34m()\u001b[0m\n",
      "\u001b[0;32m~/anaconda3/lib/python3.6/site-packages/gensim/models/doc2vec.py\u001b[0m in \u001b[0;36mtrain\u001b[0;34m(self, documents, total_examples, total_words, epochs, start_alpha, end_alpha, word_count, queue_factor, report_delay, callbacks)\u001b[0m\n\u001b[1;32m    510\u001b[0m             \u001b[0mdocuments\u001b[0m\u001b[0;34m,\u001b[0m \u001b[0mtotal_examples\u001b[0m\u001b[0;34m=\u001b[0m\u001b[0mtotal_examples\u001b[0m\u001b[0;34m,\u001b[0m \u001b[0mtotal_words\u001b[0m\u001b[0;34m=\u001b[0m\u001b[0mtotal_words\u001b[0m\u001b[0;34m,\u001b[0m\u001b[0;34m\u001b[0m\u001b[0m\n\u001b[1;32m    511\u001b[0m             \u001b[0mepochs\u001b[0m\u001b[0;34m=\u001b[0m\u001b[0mepochs\u001b[0m\u001b[0;34m,\u001b[0m \u001b[0mstart_alpha\u001b[0m\u001b[0;34m=\u001b[0m\u001b[0mstart_alpha\u001b[0m\u001b[0;34m,\u001b[0m \u001b[0mend_alpha\u001b[0m\u001b[0;34m=\u001b[0m\u001b[0mend_alpha\u001b[0m\u001b[0;34m,\u001b[0m \u001b[0mword_count\u001b[0m\u001b[0;34m=\u001b[0m\u001b[0mword_count\u001b[0m\u001b[0;34m,\u001b[0m\u001b[0;34m\u001b[0m\u001b[0m\n\u001b[0;32m--> 512\u001b[0;31m             queue_factor=queue_factor, report_delay=report_delay, callbacks=callbacks)\n\u001b[0m\u001b[1;32m    513\u001b[0m \u001b[0;34m\u001b[0m\u001b[0m\n\u001b[1;32m    514\u001b[0m     \u001b[0;32mdef\u001b[0m \u001b[0m_raw_word_count\u001b[0m\u001b[0;34m(\u001b[0m\u001b[0mself\u001b[0m\u001b[0;34m,\u001b[0m \u001b[0mjob\u001b[0m\u001b[0;34m)\u001b[0m\u001b[0;34m:\u001b[0m\u001b[0;34m\u001b[0m\u001b[0m\n",
      "\u001b[0;32m~/anaconda3/lib/python3.6/site-packages/gensim/models/base_any2vec.py\u001b[0m in \u001b[0;36mtrain\u001b[0;34m(self, sentences, total_examples, total_words, epochs, start_alpha, end_alpha, word_count, queue_factor, report_delay, compute_loss, callbacks)\u001b[0m\n\u001b[1;32m    567\u001b[0m             \u001b[0msentences\u001b[0m\u001b[0;34m,\u001b[0m \u001b[0mtotal_examples\u001b[0m\u001b[0;34m=\u001b[0m\u001b[0mtotal_examples\u001b[0m\u001b[0;34m,\u001b[0m \u001b[0mtotal_words\u001b[0m\u001b[0;34m=\u001b[0m\u001b[0mtotal_words\u001b[0m\u001b[0;34m,\u001b[0m\u001b[0;34m\u001b[0m\u001b[0m\n\u001b[1;32m    568\u001b[0m             \u001b[0mepochs\u001b[0m\u001b[0;34m=\u001b[0m\u001b[0mepochs\u001b[0m\u001b[0;34m,\u001b[0m \u001b[0mstart_alpha\u001b[0m\u001b[0;34m=\u001b[0m\u001b[0mstart_alpha\u001b[0m\u001b[0;34m,\u001b[0m \u001b[0mend_alpha\u001b[0m\u001b[0;34m=\u001b[0m\u001b[0mend_alpha\u001b[0m\u001b[0;34m,\u001b[0m \u001b[0mword_count\u001b[0m\u001b[0;34m=\u001b[0m\u001b[0mword_count\u001b[0m\u001b[0;34m,\u001b[0m\u001b[0;34m\u001b[0m\u001b[0m\n\u001b[0;32m--> 569\u001b[0;31m             queue_factor=queue_factor, report_delay=report_delay, compute_loss=compute_loss, callbacks=callbacks)\n\u001b[0m\u001b[1;32m    570\u001b[0m \u001b[0;34m\u001b[0m\u001b[0m\n\u001b[1;32m    571\u001b[0m     \u001b[0;32mdef\u001b[0m \u001b[0m_get_job_params\u001b[0m\u001b[0;34m(\u001b[0m\u001b[0mself\u001b[0m\u001b[0;34m,\u001b[0m \u001b[0mcur_epoch\u001b[0m\u001b[0;34m)\u001b[0m\u001b[0;34m:\u001b[0m\u001b[0;34m\u001b[0m\u001b[0m\n",
      "\u001b[0;32m~/anaconda3/lib/python3.6/site-packages/gensim/models/base_any2vec.py\u001b[0m in \u001b[0;36mtrain\u001b[0;34m(self, data_iterable, epochs, total_examples, total_words, queue_factor, report_delay, callbacks, **kwargs)\u001b[0m\n\u001b[1;32m    255\u001b[0m             trained_word_count_epoch, raw_word_count_epoch, job_tally_epoch = self._train_epoch(\n\u001b[1;32m    256\u001b[0m                 \u001b[0mdata_iterable\u001b[0m\u001b[0;34m,\u001b[0m \u001b[0mcur_epoch\u001b[0m\u001b[0;34m=\u001b[0m\u001b[0mcur_epoch\u001b[0m\u001b[0;34m,\u001b[0m \u001b[0mtotal_examples\u001b[0m\u001b[0;34m=\u001b[0m\u001b[0mtotal_examples\u001b[0m\u001b[0;34m,\u001b[0m \u001b[0mtotal_words\u001b[0m\u001b[0;34m=\u001b[0m\u001b[0mtotal_words\u001b[0m\u001b[0;34m,\u001b[0m\u001b[0;34m\u001b[0m\u001b[0m\n\u001b[0;32m--> 257\u001b[0;31m                 queue_factor=queue_factor, report_delay=report_delay)\n\u001b[0m\u001b[1;32m    258\u001b[0m             \u001b[0mtrained_word_count\u001b[0m \u001b[0;34m+=\u001b[0m \u001b[0mtrained_word_count_epoch\u001b[0m\u001b[0;34m\u001b[0m\u001b[0m\n\u001b[1;32m    259\u001b[0m             \u001b[0mraw_word_count\u001b[0m \u001b[0;34m+=\u001b[0m \u001b[0mraw_word_count_epoch\u001b[0m\u001b[0;34m\u001b[0m\u001b[0m\n",
      "\u001b[0;32m~/anaconda3/lib/python3.6/site-packages/gensim/models/base_any2vec.py\u001b[0m in \u001b[0;36m_train_epoch\u001b[0;34m(self, data_iterable, cur_epoch, total_examples, total_words, queue_factor, report_delay)\u001b[0m\n\u001b[1;32m    225\u001b[0m         trained_word_count, raw_word_count, job_tally = self._log_epoch_progress(\n\u001b[1;32m    226\u001b[0m             \u001b[0mprogress_queue\u001b[0m\u001b[0;34m,\u001b[0m \u001b[0mjob_queue\u001b[0m\u001b[0;34m,\u001b[0m \u001b[0mcur_epoch\u001b[0m\u001b[0;34m=\u001b[0m\u001b[0mcur_epoch\u001b[0m\u001b[0;34m,\u001b[0m \u001b[0mtotal_examples\u001b[0m\u001b[0;34m=\u001b[0m\u001b[0mtotal_examples\u001b[0m\u001b[0;34m,\u001b[0m \u001b[0mtotal_words\u001b[0m\u001b[0;34m=\u001b[0m\u001b[0mtotal_words\u001b[0m\u001b[0;34m,\u001b[0m\u001b[0;34m\u001b[0m\u001b[0m\n\u001b[0;32m--> 227\u001b[0;31m             report_delay=report_delay)\n\u001b[0m\u001b[1;32m    228\u001b[0m \u001b[0;34m\u001b[0m\u001b[0m\n\u001b[1;32m    229\u001b[0m         \u001b[0;32mreturn\u001b[0m \u001b[0mtrained_word_count\u001b[0m\u001b[0;34m,\u001b[0m \u001b[0mraw_word_count\u001b[0m\u001b[0;34m,\u001b[0m \u001b[0mjob_tally\u001b[0m\u001b[0;34m\u001b[0m\u001b[0m\n",
      "\u001b[0;32m~/anaconda3/lib/python3.6/site-packages/gensim/models/base_any2vec.py\u001b[0m in \u001b[0;36m_log_epoch_progress\u001b[0;34m(self, progress_queue, job_queue, cur_epoch, total_examples, total_words, report_delay)\u001b[0m\n\u001b[1;32m    173\u001b[0m \u001b[0;34m\u001b[0m\u001b[0m\n\u001b[1;32m    174\u001b[0m         \u001b[0;32mwhile\u001b[0m \u001b[0munfinished_worker_count\u001b[0m \u001b[0;34m>\u001b[0m \u001b[0;36m0\u001b[0m\u001b[0;34m:\u001b[0m\u001b[0;34m\u001b[0m\u001b[0m\n\u001b[0;32m--> 175\u001b[0;31m             \u001b[0mreport\u001b[0m \u001b[0;34m=\u001b[0m \u001b[0mprogress_queue\u001b[0m\u001b[0;34m.\u001b[0m\u001b[0mget\u001b[0m\u001b[0;34m(\u001b[0m\u001b[0;34m)\u001b[0m  \u001b[0;31m# blocks if workers too slow\u001b[0m\u001b[0;34m\u001b[0m\u001b[0m\n\u001b[0m\u001b[1;32m    176\u001b[0m             \u001b[0;32mif\u001b[0m \u001b[0mreport\u001b[0m \u001b[0;32mis\u001b[0m \u001b[0;32mNone\u001b[0m\u001b[0;34m:\u001b[0m  \u001b[0;31m# a thread reporting that it finished\u001b[0m\u001b[0;34m\u001b[0m\u001b[0m\n\u001b[1;32m    177\u001b[0m                 \u001b[0munfinished_worker_count\u001b[0m \u001b[0;34m-=\u001b[0m \u001b[0;36m1\u001b[0m\u001b[0;34m\u001b[0m\u001b[0m\n",
      "\u001b[0;32m~/anaconda3/lib/python3.6/queue.py\u001b[0m in \u001b[0;36mget\u001b[0;34m(self, block, timeout)\u001b[0m\n\u001b[1;32m    162\u001b[0m             \u001b[0;32melif\u001b[0m \u001b[0mtimeout\u001b[0m \u001b[0;32mis\u001b[0m \u001b[0;32mNone\u001b[0m\u001b[0;34m:\u001b[0m\u001b[0;34m\u001b[0m\u001b[0m\n\u001b[1;32m    163\u001b[0m                 \u001b[0;32mwhile\u001b[0m \u001b[0;32mnot\u001b[0m \u001b[0mself\u001b[0m\u001b[0;34m.\u001b[0m\u001b[0m_qsize\u001b[0m\u001b[0;34m(\u001b[0m\u001b[0;34m)\u001b[0m\u001b[0;34m:\u001b[0m\u001b[0;34m\u001b[0m\u001b[0m\n\u001b[0;32m--> 164\u001b[0;31m                     \u001b[0mself\u001b[0m\u001b[0;34m.\u001b[0m\u001b[0mnot_empty\u001b[0m\u001b[0;34m.\u001b[0m\u001b[0mwait\u001b[0m\u001b[0;34m(\u001b[0m\u001b[0;34m)\u001b[0m\u001b[0;34m\u001b[0m\u001b[0m\n\u001b[0m\u001b[1;32m    165\u001b[0m             \u001b[0;32melif\u001b[0m \u001b[0mtimeout\u001b[0m \u001b[0;34m<\u001b[0m \u001b[0;36m0\u001b[0m\u001b[0;34m:\u001b[0m\u001b[0;34m\u001b[0m\u001b[0m\n\u001b[1;32m    166\u001b[0m                 \u001b[0;32mraise\u001b[0m \u001b[0mValueError\u001b[0m\u001b[0;34m(\u001b[0m\u001b[0;34m\"'timeout' must be a non-negative number\"\u001b[0m\u001b[0;34m)\u001b[0m\u001b[0;34m\u001b[0m\u001b[0m\n",
      "\u001b[0;32m~/anaconda3/lib/python3.6/threading.py\u001b[0m in \u001b[0;36mwait\u001b[0;34m(self, timeout)\u001b[0m\n\u001b[1;32m    293\u001b[0m         \u001b[0;32mtry\u001b[0m\u001b[0;34m:\u001b[0m    \u001b[0;31m# restore state no matter what (e.g., KeyboardInterrupt)\u001b[0m\u001b[0;34m\u001b[0m\u001b[0m\n\u001b[1;32m    294\u001b[0m             \u001b[0;32mif\u001b[0m \u001b[0mtimeout\u001b[0m \u001b[0;32mis\u001b[0m \u001b[0;32mNone\u001b[0m\u001b[0;34m:\u001b[0m\u001b[0;34m\u001b[0m\u001b[0m\n\u001b[0;32m--> 295\u001b[0;31m                 \u001b[0mwaiter\u001b[0m\u001b[0;34m.\u001b[0m\u001b[0macquire\u001b[0m\u001b[0;34m(\u001b[0m\u001b[0;34m)\u001b[0m\u001b[0;34m\u001b[0m\u001b[0m\n\u001b[0m\u001b[1;32m    296\u001b[0m                 \u001b[0mgotit\u001b[0m \u001b[0;34m=\u001b[0m \u001b[0;32mTrue\u001b[0m\u001b[0;34m\u001b[0m\u001b[0m\n\u001b[1;32m    297\u001b[0m             \u001b[0;32melse\u001b[0m\u001b[0;34m:\u001b[0m\u001b[0;34m\u001b[0m\u001b[0m\n",
      "\u001b[0;31mKeyboardInterrupt\u001b[0m: "
     ]
    },
    {
     "name": "stdout",
     "output_type": "stream",
     "text": [
      "\n",
      "Training Doc2Vec(\"alpha=0.05\",dm/m,d100,n5,w10,mc2,t20)\n"
     ]
    }
   ],
   "source": [
    "for model in simple_models: \n",
    "    print(\"Training %s\" % model)\n",
    "    %time model.train(doc_list, total_examples=len(doc_list), epochs=model.epochs) # Adjust epochs in model \n",
    "    print()"
   ]
  },
  {
   "cell_type": "markdown",
   "metadata": {},
   "source": [
    "## Qualitative word vector evaluation"
   ]
  },
  {
   "cell_type": "code",
   "execution_count": 12,
   "metadata": {},
   "outputs": [
    {
     "name": "stdout",
     "output_type": "stream",
     "text": [
      "most similar words for 'smashing' (20 occurences)\n"
     ]
    },
    {
     "data": {
      "text/html": [
       "<table><tr><th>Doc2Vec(dbow,d100,n5,mc2,t20)</th><th>Doc2Vec(\"alpha=0.05\",dm/m,d100,n5,w10,mc2,t20)</th><th>Doc2Vec(dm/c,d100,n5,w5,mc2,t20)</th></tr><tr><td>[('mutations', 0.39711183309555054),<br>\n",
       "('stealthily', 0.39297765493392944),<br>\n",
       "('fondest', 0.38682976365089417),<br>\n",
       "('surfer', 0.3744651675224304),<br>\n",
       "('discouraging', 0.35691094398498535),<br>\n",
       "('dotted', 0.35466301441192627),<br>\n",
       "('uahan', 0.3428993225097656),<br>\n",
       "('rty', 0.342846542596817),<br>\n",
       "('thirds', 0.34089499711990356),<br>\n",
       "('shielding', 0.3404473662376404),<br>\n",
       "('authentic', 0.3356667757034302),<br>\n",
       "('lent', 0.3335157632827759),<br>\n",
       "('worshipped', 0.3328370749950409),<br>\n",
       "('plunged', 0.33239153027534485),<br>\n",
       "('engaging', 0.33150768280029297),<br>\n",
       "('slinks', 0.3224559724330902),<br>\n",
       "('inform', 0.32213205099105835),<br>\n",
       "('preps', 0.32165539264678955),<br>\n",
       "('acquaintances', 0.3209088146686554),<br>\n",
       "('claudia', 0.318649023771286)]</td><td>[('mutations', 0.39711180329322815),<br>\n",
       "('stealthily', 0.39297762513160706),<br>\n",
       "('fondest', 0.38682979345321655),<br>\n",
       "('surfer', 0.37446513772010803),<br>\n",
       "('discouraging', 0.3569110035896301),<br>\n",
       "('dotted', 0.35466307401657104),<br>\n",
       "('uahan', 0.3428993225097656),<br>\n",
       "('rty', 0.34284651279449463),<br>\n",
       "('thirds', 0.34089499711990356),<br>\n",
       "('shielding', 0.34044742584228516),<br>\n",
       "('lent', 0.3335157632827759),<br>\n",
       "('worshipped', 0.3328370749950409),<br>\n",
       "('plunged', 0.33239153027534485),<br>\n",
       "('engaging', 0.33150771260261536),<br>\n",
       "('slinks', 0.3224559724330902),<br>\n",
       "('inform', 0.32213202118873596),<br>\n",
       "('acquaintances', 0.3209088444709778),<br>\n",
       "('coffee', 0.31975361704826355),<br>\n",
       "('claudia', 0.3186489939689636),<br>\n",
       "('advancing', 0.3178688883781433)]</td><td>[('hugh', 0.40148839354515076),<br>\n",
       "('mutations', 0.39711180329322815),<br>\n",
       "('stealthily', 0.39297765493392944),<br>\n",
       "('fondest', 0.38682976365089417),<br>\n",
       "('surfer', 0.3744651675224304),<br>\n",
       "('orders', 0.35907721519470215),<br>\n",
       "('discouraging', 0.35691094398498535),<br>\n",
       "('dotted', 0.35466301441192627),<br>\n",
       "('uahan', 0.3428993225097656),<br>\n",
       "('rty', 0.342846542596817),<br>\n",
       "('thirds', 0.34089499711990356),<br>\n",
       "('shielding', 0.3404473662376404),<br>\n",
       "('uninhibited', 0.33743056654930115),<br>\n",
       "('lent', 0.3335157632827759),<br>\n",
       "('natural', 0.33288058638572693),<br>\n",
       "('worshipped', 0.3328370749950409),<br>\n",
       "('plunged', 0.33239153027534485),<br>\n",
       "('engaging', 0.33150768280029297),<br>\n",
       "('human', 0.329820841550827),<br>\n",
       "('slinks', 0.3224559724330902)]</td></tr></table>"
      ],
      "text/plain": [
       "<IPython.core.display.HTML object>"
      ]
     },
     "execution_count": 12,
     "metadata": {},
     "output_type": "execute_result"
    }
   ],
   "source": [
    "import random\n",
    "from IPython.display import HTML\n",
    "\n",
    "# pick a random word with a suitable number of occurences\n",
    "while True:\n",
    "    word = random.choice(simple_models[0].wv.index2word)\n",
    "    if simple_models[0].wv.vocab[word].count > 10:\n",
    "        break\n",
    "        \n",
    "# or uncomment below line, to just pick a word from the relevant domain:\n",
    "# word = 'difficult'\n",
    "similars_per_model = [str(model.wv.most_similar(word, topn=20)).replace('), ','),<br>\\n') for model in simple_models]\n",
    "similar_table = (\"<table><tr><th>\" +\n",
    "    \"</th><th>\".join([str(model) for model in simple_models]) + \n",
    "    \"</th></tr><tr><td>\" +\n",
    "    \"</td><td>\".join(similars_per_model) +\n",
    "    \"</td></tr></table>\")\n",
    "print(\"most similar words for '%s' (%d occurences)\" % (word, simple_models[0].wv.vocab[word].count))\n",
    "HTML(similar_table)"
   ]
  },
  {
   "cell_type": "markdown",
   "metadata": {},
   "source": [
    "# Test Gensim Doc2Vec with AO3 data (document = paragraph)\n",
    "From https://github.com/RaRe-Technologies/gensim/blob/develop/docs/notebooks/doc2vec-IMDB.ipynb"
   ]
  },
  {
   "cell_type": "code",
   "execution_count": 49,
   "metadata": {},
   "outputs": [],
   "source": [
    "%%time\n",
    "\n",
    "import gensim\n",
    "from gensim.models.doc2vec import TaggedDocument\n",
    "from collections import namedtuple\n",
    "\n",
    "fpath = '/usr2/mamille2/fanfiction-project/data/ao3/friends/friends_paragraphs.txt'\n",
    "test_fraction = 0.1\n",
    "total_docs = 74199\n",
    "\n",
    "# this data object class suffices as a `TaggedDocument` (with `words` and `tags`) \n",
    "# plus adds other state helpful for our later evaluation/reporting\n",
    "TaggedDocument = namedtuple('TaggedDocument', 'words tags split')\n",
    "\n",
    "alldocs = []\n",
    "with smart_open(fpath, 'rb', encoding='utf-8') as alldata:\n",
    "    for line_no, line in enumerate(alldata):\n",
    "        tokens = gensim.utils.to_unicode(line).split()\n",
    "        words = tokens[1:]\n",
    "        tags = [line_no] # tags are labels; 'tags = [tokens[0]]' would also work at extra memory cost\n",
    "        split = ['train', 'test'][line_no // int(total_docs * (1-test_fraction))]\n",
    "        alldocs.append(TaggedDocument(words, tags, split))\n",
    "\n",
    "train_docs = [doc for doc in alldocs if doc.split == 'train']\n",
    "test_docs = [doc for doc in alldocs if doc.split == 'test']\n",
    "\n",
    "print('%d docs: %d train, %d test' % (len(alldocs), len(train_docs), len(test_docs)))\n",
    "\n",
    "from random import shuffle\n",
    "doc_list = alldocs[:]  \n",
    "shuffle(doc_list)"
   ]
  },
  {
   "cell_type": "code",
   "execution_count": 50,
   "metadata": {
    "scrolled": true
   },
   "outputs": [
    {
     "name": "stdout",
     "output_type": "stream",
     "text": [
      "Doc2Vec(dbow,d100,n5,mc2,t20) vocabulary scanned & state initialized\n",
      "Doc2Vec(\"alpha=0.05\",dm/m,d100,n5,w10,mc2,t20) vocabulary scanned & state initialized\n",
      "Doc2Vec(dm/c,d100,n5,w5,mc2,t20) vocabulary scanned & state initialized\n",
      "CPU times: user 9.44 s, sys: 664 ms, total: 10.1 s\n",
      "Wall time: 10.1 s\n"
     ]
    }
   ],
   "source": [
    "%%time\n",
    "\n",
    "# Build models\n",
    "\n",
    "from gensim.models import Doc2Vec\n",
    "import gensim.models.doc2vec\n",
    "from collections import OrderedDict\n",
    "import multiprocessing\n",
    "\n",
    "# cores = multiprocessing.cpu_count()\n",
    "cores = 20\n",
    "assert gensim.models.doc2vec.FAST_VERSION > -1, \"This will be painfully slow otherwise\"\n",
    "\n",
    "simple_models = [\n",
    "    # PV-DBOW plain\n",
    "    Doc2Vec(dm=0, vector_size=100, negative=5, hs=0, min_count=2, sample=0, \n",
    "            epochs=20, workers=cores),\n",
    "    # PV-DM w/ default averaging; a higher starting alpha may improve CBOW/PV-DM modes\n",
    "    Doc2Vec(dm=1, vector_size=100, window=10, negative=5, hs=0, min_count=2, sample=0, \n",
    "            epochs=20, workers=cores, alpha=0.05, comment='alpha=0.05'),\n",
    "    # PV-DM w/ concatenation - big, slow, experimental mode\n",
    "    # window=5 (both sides) approximates paper's apparent 10-word total window size\n",
    "    Doc2Vec(dm=1, dm_concat=1, vector_size=100, window=5, negative=5, hs=0, min_count=2, sample=0, \n",
    "            epochs=20, workers=cores),\n",
    "]\n",
    "\n",
    "for model in simple_models:\n",
    "    model.build_vocab(alldocs)\n",
    "    print(\"%s vocabulary scanned & state initialized\" % model)\n",
    "\n",
    "models_by_name = OrderedDict((str(model), model) for model in simple_models)\n",
    "\n",
    "from gensim.test.test_doc2vec import ConcatenatedDoc2Vec\n",
    "models_by_name['dbow+dmm'] = ConcatenatedDoc2Vec([simple_models[0], simple_models[1]])\n",
    "models_by_name['dbow+dmc'] = ConcatenatedDoc2Vec([simple_models[0], simple_models[2]])"
   ]
  },
  {
   "cell_type": "markdown",
   "metadata": {},
   "source": [
    "## Train models"
   ]
  },
  {
   "cell_type": "code",
   "execution_count": 51,
   "metadata": {},
   "outputs": [
    {
     "name": "stdout",
     "output_type": "stream",
     "text": [
      "Training Doc2Vec(dbow,d100,n5,mc2,t20)\n",
      "CPU times: user 3min 16s, sys: 18.4 s, total: 3min 34s\n",
      "Wall time: 1min 51s\n",
      "\n",
      "Training Doc2Vec(\"alpha=0.05\",dm/m,d100,n5,w10,mc2,t20)\n",
      "CPU times: user 5min 17s, sys: 55.2 s, total: 6min 12s\n",
      "Wall time: 2min 47s\n",
      "\n",
      "Training Doc2Vec(dm/c,d100,n5,w5,mc2,t20)\n",
      "CPU times: user 8min 27s, sys: 25.1 s, total: 8min 52s\n",
      "Wall time: 2min 13s\n",
      "\n"
     ]
    }
   ],
   "source": [
    "for model in simple_models: \n",
    "    print(\"Training %s\" % model)\n",
    "    %time model.train(doc_list, total_examples=len(doc_list), epochs=model.epochs)\n",
    "    print()"
   ]
  },
  {
   "cell_type": "code",
   "execution_count": 56,
   "metadata": {},
   "outputs": [
    {
     "name": "stdout",
     "output_type": "stream",
     "text": [
      "most similar words for 'murmur' (13 occurences)\n"
     ]
    },
    {
     "data": {
      "text/html": [
       "<table><tr><th>Doc2Vec(dbow,d100,n5,mc2,t20)</th><th>Doc2Vec(\"alpha=0.05\",dm/m,d100,n5,w10,mc2,t20)</th><th>Doc2Vec(dm/c,d100,n5,w5,mc2,t20)</th></tr><tr><td>[('unsuspecting', 0.39443328976631165),<br>\n",
       "('cellphone', 0.3796854019165039),<br>\n",
       "('iffy', 0.372952401638031),<br>\n",
       "('excess', 0.3608635663986206),<br>\n",
       "('redford', 0.3578962981700897),<br>\n",
       "('hints', 0.3546637296676636),<br>\n",
       "('activated', 0.34775805473327637),<br>\n",
       "('happenings', 0.3403438925743103),<br>\n",
       "('scraping', 0.33970412611961365),<br>\n",
       "('with', 0.3392728269100189),<br>\n",
       "('dialled', 0.33752650022506714),<br>\n",
       "('flavor', 0.33679360151290894),<br>\n",
       "('è', 0.3287610709667206),<br>\n",
       "('on-', 0.32636886835098267),<br>\n",
       "('kämpfer', 0.32536137104034424),<br>\n",
       "('cowardice', 0.3245278596878052),<br>\n",
       "('naturedly', 0.3223896622657776),<br>\n",
       "('employers', 0.32194066047668457),<br>\n",
       "('absolution', 0.31825727224349976),<br>\n",
       "('valasus', 0.3180891275405884)]</td><td>[('whisper', 0.6813105344772339),<br>\n",
       "('growl', 0.5926134586334229),<br>\n",
       "('coward', 0.5922876000404358),<br>\n",
       "('moment', 0.573410153388977),<br>\n",
       "('burglar', 0.5642147064208984),<br>\n",
       "('mover', 0.5640881657600403),<br>\n",
       "('teenager', 0.5636329054832458),<br>\n",
       "('minute', 0.5632354021072388),<br>\n",
       "('halt', 0.5546646118164062),<br>\n",
       "('sob', 0.5538667440414429),<br>\n",
       "('skleničku', 0.5502578616142273),<br>\n",
       "('continent', 0.5448827743530273),<br>\n",
       "('huff', 0.5434749722480774),<br>\n",
       "('mockery', 0.5430886745452881),<br>\n",
       "('word', 0.5400181412696838),<br>\n",
       "('sniffle', 0.5378166437149048),<br>\n",
       "('click', 0.5377556681632996),<br>\n",
       "('volver', 0.5347557663917542),<br>\n",
       "('participant', 0.5343178510665894),<br>\n",
       "('bit', 0.5334388613700867)]</td><td>[('enrol', 0.6278350949287415),<br>\n",
       "('twig', 0.6177855730056763),<br>\n",
       "('snort', 0.6093369126319885),<br>\n",
       "('halt', 0.6067569255828857),<br>\n",
       "('fight.’', 0.5970606803894043),<br>\n",
       "('revolt', 0.591293215751648),<br>\n",
       "('yawn', 0.5861109495162964),<br>\n",
       "('sob', 0.5846139192581177),<br>\n",
       "('wedge', 0.5762349963188171),<br>\n",
       "('swerve', 0.5714218616485596),<br>\n",
       "('nestle', 0.5631072521209717),<br>\n",
       "('caress', 0.5629807710647583),<br>\n",
       "('miscommunication', 0.5629664659500122),<br>\n",
       "('sooth', 0.5585294365882874),<br>\n",
       "('rook', 0.5577542781829834),<br>\n",
       "('puddle', 0.5549665093421936),<br>\n",
       "('connoisseur', 0.5526505708694458),<br>\n",
       "('tweak', 0.5496055483818054),<br>\n",
       "('yuki', 0.547900378704071),<br>\n",
       "('swat', 0.546383261680603)]</td></tr></table>"
      ],
      "text/plain": [
       "<IPython.core.display.HTML object>"
      ]
     },
     "execution_count": 56,
     "metadata": {},
     "output_type": "execute_result"
    }
   ],
   "source": [
    "import random\n",
    "from IPython.display import HTML\n",
    "\n",
    "# pick a random word with a suitable number of occurences\n",
    "while True:\n",
    "    word = random.choice(simple_models[0].wv.index2word)\n",
    "    if simple_models[0].wv.vocab[word].count > 10:\n",
    "        break\n",
    "        \n",
    "# or uncomment below line, to just pick a word from the relevant domain:\n",
    "# word = 'spoilt'\n",
    "similars_per_model = [str(model.wv.most_similar(word, topn=20)).replace('), ','),<br>\\n') for model in simple_models]\n",
    "similar_table = (\"<table><tr><th>\" +\n",
    "    \"</th><th>\".join([str(model) for model in simple_models]) + \n",
    "    \"</th></tr><tr><td>\" +\n",
    "    \"</td><td>\".join(similars_per_model) +\n",
    "    \"</td></tr></table>\")\n",
    "print(\"most similar words for '%s' (%d occurences)\" % (word, simple_models[0].wv.vocab[word].count))\n",
    "HTML(similar_table)"
   ]
  },
  {
   "cell_type": "markdown",
   "metadata": {},
   "source": [
    "## Do close documents seem more related than distant ones?"
   ]
  },
  {
   "cell_type": "code",
   "execution_count": 60,
   "metadata": {},
   "outputs": [
    {
     "name": "stdout",
     "output_type": "stream",
     "text": [
      "TARGET (37520): «alright ... \" the blond stares at nico before suddenly inhaling sharply . \" well , there you go ... \"»\n",
      "\n",
      "SIMILAR/DISSIMILAR DOCS PER MODEL Doc2Vec(\"alpha=0.05\",dm/m,d100,n5,w10,mc2,t20):\n",
      "\n",
      "MOST (74142, 0.7427983283996582): «nodded again . \" okay . \"»\n",
      "\n",
      "MEDIAN (32786, 0.407391756772995): «closes the door behind her , and joey shakes his head . thank god rachel did n’t notice anything different about him .»\n",
      "\n",
      "LEAST (40699, -0.3952307403087616): «_ _ _ _ _ _ _ _ _ _ _ _ _ _ _ _»\n",
      "\n"
     ]
    }
   ],
   "source": [
    "import random\n",
    "import numpy as np\n",
    "\n",
    "doc_id = np.random.randint(simple_models[0].docvecs.count)  # pick random doc, re-run cell for more examples\n",
    "model = random.choice(simple_models)  # and a random model\n",
    "sims = model.docvecs.most_similar(doc_id, topn=model.docvecs.count)  # get *all* similar documents\n",
    "print(u'TARGET (%d): «%s»\\n' % (doc_id, ' '.join(alldocs[doc_id].words)))\n",
    "print(u'SIMILAR/DISSIMILAR DOCS PER MODEL %s:\\n' % model)\n",
    "for label, index in [('MOST', 0), ('MEDIAN', len(sims)//2), ('LEAST', len(sims) - 1)]:\n",
    "    print(u'%s %s: «%s»\\n' % (label, sims[index], ' '.join(alldocs[sims[index][0]].words)))"
   ]
  },
  {
   "cell_type": "markdown",
   "metadata": {},
   "source": [
    "# Test Gensim Doc2Vec with provided data\n",
    "From https://github.com/RaRe-Technologies/gensim/blob/develop/docs/notebooks/doc2vec-IMDB.ipynb"
   ]
  },
  {
   "cell_type": "code",
   "execution_count": 1,
   "metadata": {},
   "outputs": [
    {
     "name": "stdout",
     "output_type": "stream",
     "text": [
      "Success, alldata-id.txt is available for next steps.\n",
      "CPU times: user 240 ms, sys: 40 ms, total: 280 ms\n",
      "Wall time: 281 ms\n"
     ]
    }
   ],
   "source": [
    "%%time \n",
    "\n",
    "import locale\n",
    "import glob\n",
    "import os.path\n",
    "import requests\n",
    "import tarfile\n",
    "import sys\n",
    "import codecs\n",
    "from smart_open import smart_open\n",
    "import re\n",
    "\n",
    "dirname = 'aclImdb'\n",
    "filename = 'aclImdb_v1.tar.gz'\n",
    "locale.setlocale(locale.LC_ALL, 'C')\n",
    "all_lines = []\n",
    "\n",
    "if sys.version > '3':\n",
    "    control_chars = [chr(0x85)]\n",
    "else:\n",
    "    control_chars = [unichr(0x85)]\n",
    "\n",
    "# Convert text to lower-case and strip punctuation/symbols from words\n",
    "def normalize_text(text):\n",
    "    norm_text = text.lower()\n",
    "    # Replace breaks with spaces\n",
    "    norm_text = norm_text.replace('<br />', ' ')\n",
    "    # Pad punctuation with spaces on both sides\n",
    "    norm_text = re.sub(r\"([\\.\\\",\\(\\)!\\?;:])\", \" \\\\1 \", norm_text)\n",
    "    return norm_text\n",
    "\n",
    "if not os.path.isfile('aclImdb/alldata-id.txt'):\n",
    "    if not os.path.isdir(dirname):\n",
    "        if not os.path.isfile(filename):\n",
    "            # Download IMDB archive\n",
    "            print(\"Downloading IMDB archive...\")\n",
    "            url = u'http://ai.stanford.edu/~amaas/data/sentiment/' + filename\n",
    "            r = requests.get(url)\n",
    "            with smart_open(filename, 'wb') as f:\n",
    "                f.write(r.content)\n",
    "        # if error here, try `tar xfz aclImdb_v1.tar.gz` outside notebook, then re-run this cell\n",
    "        tar = tarfile.open(filename, mode='r')\n",
    "        tar.extractall()\n",
    "        tar.close()\n",
    "    else:\n",
    "        print(\"IMDB archive directory already available without download.\")\n",
    "\n",
    "    # Collect & normalize test/train data\n",
    "    print(\"Cleaning up dataset...\")\n",
    "    folders = ['train/pos', 'train/neg', 'test/pos', 'test/neg', 'train/unsup']\n",
    "    for fol in folders:\n",
    "        temp = u''\n",
    "        newline = \"\\n\".encode(\"utf-8\")\n",
    "        output = fol.replace('/', '-') + '.txt'\n",
    "        # Is there a better pattern to use?\n",
    "        txt_files = glob.glob(os.path.join(dirname, fol, '*.txt'))\n",
    "        print(\" %s: %i files\" % (fol, len(txt_files)))\n",
    "        with smart_open(os.path.join(dirname, output), \"wb\") as n:\n",
    "            for i, txt in enumerate(txt_files):\n",
    "                with smart_open(txt, \"rb\") as t:\n",
    "                    one_text = t.read().decode(\"utf-8\")\n",
    "                    for c in control_chars:\n",
    "                        one_text = one_text.replace(c, ' ')\n",
    "                    one_text = normalize_text(one_text)\n",
    "                    all_lines.append(one_text)\n",
    "                    n.write(one_text.encode(\"utf-8\"))\n",
    "                    n.write(newline)\n",
    "\n",
    "    # Save to disk for instant re-use on any future runs\n",
    "    with smart_open(os.path.join(dirname, 'alldata-id.txt'), 'wb') as f:\n",
    "        for idx, line in enumerate(all_lines):\n",
    "            num_line = u\"_*{0} {1}\\n\".format(idx, line)\n",
    "            f.write(num_line.encode(\"utf-8\"))\n",
    "\n",
    "assert os.path.isfile(\"aclImdb/alldata-id.txt\"), \"alldata-id.txt unavailable\"\n",
    "print(\"Success, alldata-id.txt is available for next steps.\")"
   ]
  },
  {
   "cell_type": "code",
   "execution_count": 2,
   "metadata": {},
   "outputs": [
    {
     "name": "stdout",
     "output_type": "stream",
     "text": [
      "100000 docs: 25000 train-sentiment, 25000 test-sentiment\n",
      "CPU times: user 8.72 s, sys: 1.27 s, total: 9.99 s\n",
      "Wall time: 10 s\n"
     ]
    }
   ],
   "source": [
    "%%time\n",
    "\n",
    "import gensim\n",
    "from gensim.models.doc2vec import TaggedDocument\n",
    "from collections import namedtuple\n",
    "\n",
    "# this data object class suffices as a `TaggedDocument` (with `words` and `tags`) \n",
    "# plus adds other state helpful for our later evaluation/reporting\n",
    "SentimentDocument = namedtuple('SentimentDocument', 'words tags split sentiment')\n",
    "\n",
    "alldocs = []\n",
    "with smart_open('aclImdb/alldata-id.txt', 'rb', encoding='utf-8') as alldata:\n",
    "    for line_no, line in enumerate(alldata):\n",
    "        tokens = gensim.utils.to_unicode(line).split()\n",
    "        words = tokens[1:]\n",
    "        tags = [line_no] # 'tags = [tokens[0]]' would also work at extra memory cost\n",
    "        split = ['train', 'test', 'extra', 'extra'][line_no//25000]  # 25k train, 25k test, 25k extra\n",
    "        sentiment = [1.0, 0.0, 1.0, 0.0, None, None, None, None][line_no//12500] # [12.5K pos, 12.5K neg]*2 then unknown\n",
    "        alldocs.append(SentimentDocument(words, tags, split, sentiment))\n",
    "\n",
    "train_docs = [doc for doc in alldocs if doc.split == 'train']\n",
    "test_docs = [doc for doc in alldocs if doc.split == 'test']\n",
    "\n",
    "print('%d docs: %d train-sentiment, %d test-sentiment' % (len(alldocs), len(train_docs), len(test_docs)))"
   ]
  },
  {
   "cell_type": "code",
   "execution_count": 3,
   "metadata": {},
   "outputs": [],
   "source": [
    "from random import shuffle\n",
    "doc_list = alldocs[:]  \n",
    "shuffle(doc_list)"
   ]
  },
  {
   "cell_type": "code",
   "execution_count": 4,
   "metadata": {},
   "outputs": [
    {
     "name": "stdout",
     "output_type": "stream",
     "text": [
      "Doc2Vec(dbow,d100,n5,mc2,t20) vocabulary scanned & state initialized\n",
      "Doc2Vec(\"alpha=0.05\",dm/m,d100,n5,w10,mc2,t20) vocabulary scanned & state initialized\n",
      "Doc2Vec(dm/c,d100,n5,w5,mc2,t20) vocabulary scanned & state initialized\n",
      "CPU times: user 40.8 s, sys: 4.29 s, total: 45.1 s\n",
      "Wall time: 45.1 s\n"
     ]
    }
   ],
   "source": [
    "%%time\n",
    "from gensim.models import Doc2Vec\n",
    "import gensim.models.doc2vec\n",
    "from collections import OrderedDict\n",
    "import multiprocessing\n",
    "\n",
    "# cores = multiprocessing.cpu_count()\n",
    "cores = 20\n",
    "assert gensim.models.doc2vec.FAST_VERSION > -1, \"This will be painfully slow otherwise\"\n",
    "\n",
    "simple_models = [\n",
    "    # PV-DBOW plain\n",
    "    Doc2Vec(dm=0, vector_size=100, negative=5, hs=0, min_count=2, sample=0, \n",
    "            epochs=20, workers=cores),\n",
    "    # PV-DM w/ default averaging; a higher starting alpha may improve CBOW/PV-DM modes\n",
    "    Doc2Vec(dm=1, vector_size=100, window=10, negative=5, hs=0, min_count=2, sample=0, \n",
    "            epochs=20, workers=cores, alpha=0.05, comment='alpha=0.05'),\n",
    "    # PV-DM w/ concatenation - big, slow, experimental mode\n",
    "    # window=5 (both sides) approximates paper's apparent 10-word total window size\n",
    "    Doc2Vec(dm=1, dm_concat=1, vector_size=100, window=5, negative=5, hs=0, min_count=2, sample=0, \n",
    "            epochs=20, workers=cores),\n",
    "]\n",
    "\n",
    "for model in simple_models:\n",
    "    model.build_vocab(alldocs)\n",
    "    print(\"%s vocabulary scanned & state initialized\" % model)\n",
    "\n",
    "models_by_name = OrderedDict((str(model), model) for model in simple_models)"
   ]
  },
  {
   "cell_type": "code",
   "execution_count": 5,
   "metadata": {},
   "outputs": [],
   "source": [
    "from gensim.test.test_doc2vec import ConcatenatedDoc2Vec\n",
    "models_by_name['dbow+dmm'] = ConcatenatedDoc2Vec([simple_models[0], simple_models[1]])\n",
    "models_by_name['dbow+dmc'] = ConcatenatedDoc2Vec([simple_models[0], simple_models[2]])"
   ]
  },
  {
   "cell_type": "markdown",
   "metadata": {},
   "source": [
    "## Train models"
   ]
  },
  {
   "cell_type": "code",
   "execution_count": 6,
   "metadata": {},
   "outputs": [
    {
     "name": "stdout",
     "output_type": "stream",
     "text": [
      "Training Doc2Vec(dbow,d100,n5,mc2,t20)\n",
      "CPU times: user 25min 13s, sys: 58 s, total: 26min 11s\n",
      "Wall time: 6min 20s\n",
      "Training Doc2Vec(\"alpha=0.05\",dm/m,d100,n5,w10,mc2,t20)\n",
      "CPU times: user 53min 28s, sys: 2min 32s, total: 56min 1s\n",
      "Wall time: 9min 54s\n",
      "Training Doc2Vec(dm/c,d100,n5,w5,mc2,t20)\n",
      "CPU times: user 2h 49s, sys: 2min 42s, total: 2h 3min 31s\n",
      "Wall time: 9min 46s\n"
     ]
    }
   ],
   "source": [
    "for model in simple_models: \n",
    "    print(\"Training %s\" % model)\n",
    "    %time model.train(doc_list, total_examples=len(doc_list), epochs=model.epochs)\n",
    "    print()"
   ]
  },
  {
   "cell_type": "code",
   "execution_count": 7,
   "metadata": {},
   "outputs": [
    {
     "name": "stdout",
     "output_type": "stream",
     "text": [
      "most similar words for 'spoilt' (97 occurences)\n"
     ]
    },
    {
     "data": {
      "text/html": [
       "<table><tr><th>Doc2Vec(dbow,d100,n5,mc2,t20)</th><th>Doc2Vec(\"alpha=0.05\",dm/m,d100,n5,w10,mc2,t20)</th><th>Doc2Vec(dm/c,d100,n5,w5,mc2,t20)</th></tr><tr><td>[('ballet', 0.4222918152809143),<br>\n",
       "('65-minute', 0.41812703013420105),<br>\n",
       "('nit-wit', 0.38984495401382446),<br>\n",
       "('action-comedy', 0.3879348337650299),<br>\n",
       "('pimped', 0.37372422218322754),<br>\n",
       "('matara', 0.3736003637313843),<br>\n",
       "('brownstone', 0.37183868885040283),<br>\n",
       "(\"dick's\", 0.36779266595840454),<br>\n",
       "(\"rodger's\", 0.367227703332901),<br>\n",
       "('verano', 0.3622084856033325),<br>\n",
       "('consummately', 0.3592488169670105),<br>\n",
       "(\"macready's\", 0.3578265309333801),<br>\n",
       "('*such*', 0.3577822148799896),<br>\n",
       "('krassin', 0.3576417863368988),<br>\n",
       "('risks', 0.35670018196105957),<br>\n",
       "('callings', 0.35649171471595764),<br>\n",
       "('aic', 0.35543423891067505),<br>\n",
       "('distracts', 0.3541957139968872),<br>\n",
       "(\"freaks'\", 0.35217738151550293),<br>\n",
       "('ronreaco', 0.35198500752449036)]</td><td>[('spoiled', 0.6510179042816162),<br>\n",
       "('undermined', 0.5426546335220337),<br>\n",
       "('dominated', 0.5321130752563477),<br>\n",
       "('ruined', 0.5287238955497742),<br>\n",
       "('over-shadowed', 0.5230126976966858),<br>\n",
       "('marred', 0.5212410688400269),<br>\n",
       "('replaced', 0.5141274333000183),<br>\n",
       "('followed', 0.4941771924495697),<br>\n",
       "('siring', 0.49131008982658386),<br>\n",
       "('rejected', 0.4876922070980072),<br>\n",
       "('dwarfed', 0.48443150520324707),<br>\n",
       "('unencumbered', 0.4830629825592041),<br>\n",
       "('snatched', 0.479458749294281),<br>\n",
       "('populated', 0.47769853472709656),<br>\n",
       "('dazzled', 0.4664037823677063),<br>\n",
       "('inhabited', 0.46631473302841187),<br>\n",
       "('entranced', 0.4659886360168457),<br>\n",
       "('surrounded', 0.46457332372665405),<br>\n",
       "('bolstered', 0.463314026594162),<br>\n",
       "('saved', 0.46262553334236145)]</td><td>[('spoiled', 0.6605638265609741),<br>\n",
       "('ruined', 0.5010989904403687),<br>\n",
       "('disturbed', 0.49336788058280945),<br>\n",
       "('plagued', 0.48810648918151855),<br>\n",
       "('wooed', 0.48625805974006653),<br>\n",
       "('dampened', 0.4841140806674957),<br>\n",
       "('lightened', 0.4838625490665436),<br>\n",
       "('shaken', 0.47890323400497437),<br>\n",
       "('troubled', 0.4785526990890503),<br>\n",
       "('torpedoed', 0.47636711597442627),<br>\n",
       "('racked', 0.4725381135940552),<br>\n",
       "('maltreated', 0.4714895784854889),<br>\n",
       "('wounded', 0.46761342883110046),<br>\n",
       "('lessened', 0.4648064076900482),<br>\n",
       "('drugged', 0.46392497420310974),<br>\n",
       "('stimulated', 0.46230459213256836),<br>\n",
       "('breakable', 0.46102404594421387),<br>\n",
       "('saved', 0.4606311619281769),<br>\n",
       "('cuckolded', 0.4579746723175049),<br>\n",
       "('willed', 0.455874502658844)]</td></tr></table>"
      ],
      "text/plain": [
       "<IPython.core.display.HTML object>"
      ]
     },
     "execution_count": 7,
     "metadata": {},
     "output_type": "execute_result"
    }
   ],
   "source": [
    "import random\n",
    "from IPython.display import HTML\n",
    "\n",
    "# pick a random word with a suitable number of occurences\n",
    "# while True:\n",
    "#     word = random.choice(simple_models[0].wv.index2word)\n",
    "#     if simple_models[0].wv.vocab[word].count > 10:\n",
    "#         break\n",
    "        \n",
    "# or uncomment below line, to just pick a word from the relevant domain:\n",
    "word = 'spoilt'\n",
    "similars_per_model = [str(model.wv.most_similar(word, topn=20)).replace('), ','),<br>\\n') for model in simple_models]\n",
    "similar_table = (\"<table><tr><th>\" +\n",
    "    \"</th><th>\".join([str(model) for model in simple_models]) + \n",
    "    \"</th></tr><tr><td>\" +\n",
    "    \"</td><td>\".join(similars_per_model) +\n",
    "    \"</td></tr></table>\")\n",
    "print(\"most similar words for '%s' (%d occurences)\" % (word, simple_models[0].wv.vocab[word].count))\n",
    "HTML(similar_table)"
   ]
  }
 ],
 "metadata": {
  "kernelspec": {
   "display_name": "Python 3",
   "language": "python",
   "name": "python3"
  },
  "language_info": {
   "codemirror_mode": {
    "name": "ipython",
    "version": 3
   },
   "file_extension": ".py",
   "mimetype": "text/x-python",
   "name": "python",
   "nbconvert_exporter": "python",
   "pygments_lexer": "ipython3",
   "version": "3.6.4"
  }
 },
 "nbformat": 4,
 "nbformat_minor": 2
}
