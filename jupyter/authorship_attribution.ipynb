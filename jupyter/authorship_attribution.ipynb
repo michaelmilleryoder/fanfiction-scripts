{
 "cells": [
  {
   "cell_type": "code",
   "execution_count": 1,
   "metadata": {},
   "outputs": [],
   "source": [
    "import pandas as pd\n",
    "from tqdm import tqdm_notebook as tqdm\n",
    "from IPython.display import display\n",
    "from collections import Counter\n",
    "import os\n",
    "# import matplotlib.pyplot as plt\n",
    "\n",
    "from sklearn.feature_extraction.text import CountVectorizer, TfidfVectorizer\n",
    "from sklearn.naive_bayes import MultinomialNB\n",
    "from sklearn.model_selection import train_test_split\n",
    "from sklearn.metrics import accuracy_score\n",
    "\n",
    "import bcubed"
   ]
  },
  {
   "cell_type": "markdown",
   "metadata": {},
   "source": [
    "# Evaluate authorship clustering"
   ]
  },
  {
   "cell_type": "markdown",
   "metadata": {},
   "source": [
    "# Supervised baselines on authorship attribution, AO3"
   ]
  },
  {
   "cell_type": "code",
   "execution_count": 17,
   "metadata": {
    "scrolled": true
   },
   "outputs": [
    {
     "name": "stdout",
     "output_type": "stream",
     "text": [
      "(116622, 20)\n",
      "Index(['Unnamed: 0', 'work_id', 'title', 'author_hash', 'rating', 'category',\n",
      "       'fandom', 'relationship', 'character', 'additional tags', 'language',\n",
      "       'published', 'status', 'status date', 'words', 'chapters', 'comments',\n",
      "       'kudos', 'bookmarks', 'hits'],\n",
      "      dtype='object')\n"
     ]
    }
   ],
   "source": [
    "# Load data\n",
    "metadata = pd.read_csv('/usr2/mamille2/AO3Scraper/data/hp_ao3_metadata.csv')\n",
    "print(metadata.shape)\n",
    "print(metadata.columns)"
   ]
  },
  {
   "cell_type": "code",
   "execution_count": 19,
   "metadata": {},
   "outputs": [
    {
     "data": {
      "text/plain": [
       "2003"
      ]
     },
     "execution_count": 19,
     "metadata": {},
     "output_type": "execute_result"
    }
   ],
   "source": [
    "threshold = 10\n",
    "# author_story_counts = metadata['author_id'].value_counts()\n",
    "author_story_counts = metadata['author_hash'].value_counts()\n",
    "author_ids = sorted(set(author_story_counts[author_story_counts >= threshold].index))\n",
    "len(author_ids)"
   ]
  },
  {
   "cell_type": "code",
   "execution_count": 23,
   "metadata": {},
   "outputs": [
    {
     "data": {
      "application/vnd.jupyter.widget-view+json": {
       "model_id": "cc16e76fa2f942079baeb0d84fb8cefb",
       "version_major": 2,
       "version_minor": 0
      },
      "text/plain": [
       "HBox(children=(IntProgress(value=0, max=2003), HTML(value='')))"
      ]
     },
     "metadata": {},
     "output_type": "display_data"
    },
    {
     "name": "stdout",
     "output_type": "stream",
     "text": [
      "\n"
     ]
    },
    {
     "data": {
      "text/plain": [
       "2003"
      ]
     },
     "execution_count": 23,
     "metadata": {},
     "output_type": "execute_result"
    }
   ],
   "source": [
    "# Load matching stories\n",
    "stories = []\n",
    "# story_dirpath = '/usr2/mamille2/fanfiction-project/data/hp/stories/'\n",
    "story_dirpath = '/usr2/mamille2/AO3Scraper/data/hp_fics.csv_text_files'\n",
    "\n",
    "for a_id in tqdm(author_ids):\n",
    "#     story_ids = metadata.loc[metadata['author_id']==a_id, 'work_id'].tolist()\n",
    "    story_ids = metadata.loc[metadata['author_hash']==a_id, 'work_id'].tolist()\n",
    "    author_text = ''\n",
    "    for s_id in story_ids:\n",
    "        text_filepath = os.path.join(story_dirpath, f'{s_id}.txt')\n",
    "        if not os.path.exists(text_filepath):\n",
    "            continue\n",
    "        with open(text_filepath) as f:\n",
    "            author_text += f'{f.read()}\\n'\n",
    "            \n",
    "    stories.append(author_text)\n",
    "    \n",
    "len(stories)"
   ]
  },
  {
   "cell_type": "code",
   "execution_count": 24,
   "metadata": {},
   "outputs": [
    {
     "data": {
      "text/plain": [
       "(2003, 50000)"
      ]
     },
     "execution_count": 24,
     "metadata": {},
     "output_type": "execute_result"
    }
   ],
   "source": [
    "# Vectorize\n",
    "vec = CountVectorizer(max_features=50000)\n",
    "X = vec.fit_transform(stories)\n",
    "X.shape"
   ]
  },
  {
   "cell_type": "code",
   "execution_count": 25,
   "metadata": {},
   "outputs": [],
   "source": [
    "# Split data\n",
    "X_train, X_test, y_train, y_test = train_test_split(X, author_ids)"
   ]
  },
  {
   "cell_type": "code",
   "execution_count": 26,
   "metadata": {},
   "outputs": [
    {
     "data": {
      "text/plain": [
       "MultinomialNB(alpha=1.0, class_prior=None, fit_prior=True)"
      ]
     },
     "execution_count": 26,
     "metadata": {},
     "output_type": "execute_result"
    }
   ],
   "source": [
    "# Train, evaluate classifier\n",
    "clf = MultinomialNB()\n",
    "clf.fit(X_train, y_train)"
   ]
  },
  {
   "cell_type": "code",
   "execution_count": 27,
   "metadata": {},
   "outputs": [
    {
     "data": {
      "text/plain": [
       "0.0"
      ]
     },
     "execution_count": 27,
     "metadata": {},
     "output_type": "execute_result"
    }
   ],
   "source": [
    "preds = clf.predict(X_test)\n",
    "accuracy_score(y_test, preds)"
   ]
  },
  {
   "cell_type": "markdown",
   "metadata": {},
   "source": [
    "# Create authorship attribution dataset from incomplete FF.net 3+ stories"
   ]
  },
  {
   "cell_type": "code",
   "execution_count": 2,
   "metadata": {},
   "outputs": [
    {
     "name": "stdout",
     "output_type": "stream",
     "text": [
      "(350888, 14)\n",
      "Index(['id', 'canon_type', 'canon', 'author_id', 'title', 'updated',\n",
      "       'published', 'lang', 'genres', 'num_reviews', 'num_favs', 'num_follows',\n",
      "       'num_words', 'rated'],\n",
      "      dtype='object')\n"
     ]
    }
   ],
   "source": [
    "# Load data\n",
    "# metadata = pd.read_csv('/usr2/mamille2/AO3Scraper/hp_metadata.csv')\n",
    "metadata = pd.read_csv('/usr2/mamille2/fanfiction-project/data/hp/hp_ff-net_metadata_incomplete.csv')\n",
    "print(metadata.shape)\n",
    "print(metadata.columns)"
   ]
  },
  {
   "cell_type": "code",
   "execution_count": 6,
   "metadata": {},
   "outputs": [
    {
     "data": {
      "text/plain": [
       "2861617    636\n",
       "981007     547\n",
       "924518     513\n",
       "941781     483\n",
       "2648815    453\n",
       "Name: author_id, dtype: int64"
      ]
     },
     "execution_count": 6,
     "metadata": {},
     "output_type": "execute_result"
    }
   ],
   "source": [
    "author_story_counts.head()"
   ]
  },
  {
   "cell_type": "code",
   "execution_count": 7,
   "metadata": {},
   "outputs": [
    {
     "data": {
      "text/plain": [
       "128871"
      ]
     },
     "execution_count": 7,
     "metadata": {},
     "output_type": "execute_result"
    }
   ],
   "source": [
    "len(author_story_counts)"
   ]
  },
  {
   "cell_type": "code",
   "execution_count": 8,
   "metadata": {},
   "outputs": [
    {
     "data": {
      "text/plain": [
       "128871"
      ]
     },
     "execution_count": 8,
     "metadata": {},
     "output_type": "execute_result"
    }
   ],
   "source": [
    "len(metadata['author_id'].unique())"
   ]
  },
  {
   "cell_type": "code",
   "execution_count": 15,
   "metadata": {},
   "outputs": [
    {
     "data": {
      "text/plain": [
       "5204"
      ]
     },
     "execution_count": 15,
     "metadata": {},
     "output_type": "execute_result"
    }
   ],
   "source": [
    "threshold = 10\n",
    "author_story_counts = metadata['author_id'].value_counts()\n",
    "author_ids = sorted(set(author_story_counts[author_story_counts >= threshold].index))\n",
    "len(author_ids)"
   ]
  },
  {
   "cell_type": "code",
   "execution_count": 26,
   "metadata": {},
   "outputs": [
    {
     "data": {
      "application/vnd.jupyter.widget-view+json": {
       "model_id": "9c2b5ca709a54ebaab2e8d38edd553e9",
       "version_major": 2,
       "version_minor": 0
      },
      "text/plain": [
       "HBox(children=(IntProgress(value=0, max=5204), HTML(value='')))"
      ]
     },
     "metadata": {},
     "output_type": "display_data"
    },
    {
     "name": "stdout",
     "output_type": "stream",
     "text": [
      "\n"
     ]
    },
    {
     "data": {
      "text/plain": [
       "5204"
      ]
     },
     "execution_count": 26,
     "metadata": {},
     "output_type": "execute_result"
    }
   ],
   "source": [
    "# Load matching stories\n",
    "stories = []\n",
    "story_dirpath = '/usr2/mamille2/fanfiction-project/data/hp/stories/'\n",
    "\n",
    "for a_id in tqdm(author_ids):\n",
    "    story_ids = metadata.loc[metadata['author_id']==a_id, 'id'].tolist()\n",
    "    author_text = ''\n",
    "    for s_id in story_ids:\n",
    "        with open(os.path.join(story_dirpath, f'{s_id}.txt')) as f:\n",
    "            author_text += f'{f.read()}\\n'\n",
    "            \n",
    "    stories.append(author_text)\n",
    "    \n",
    "len(stories)"
   ]
  },
  {
   "cell_type": "code",
   "execution_count": 33,
   "metadata": {},
   "outputs": [
    {
     "data": {
      "text/plain": [
       "(5204, 50000)"
      ]
     },
     "execution_count": 33,
     "metadata": {},
     "output_type": "execute_result"
    }
   ],
   "source": [
    "# Vectorize\n",
    "vec = CountVectorizer(max_features=50000)\n",
    "X = vec.fit_transform(stories)\n",
    "X.shape"
   ]
  },
  {
   "cell_type": "code",
   "execution_count": 34,
   "metadata": {},
   "outputs": [],
   "source": [
    "# Split data\n",
    "X_train, X_test, y_train, y_test = train_test_split(X, author_ids)"
   ]
  },
  {
   "cell_type": "code",
   "execution_count": 35,
   "metadata": {},
   "outputs": [
    {
     "data": {
      "text/plain": [
       "MultinomialNB(alpha=1.0, class_prior=None, fit_prior=True)"
      ]
     },
     "execution_count": 35,
     "metadata": {},
     "output_type": "execute_result"
    }
   ],
   "source": [
    "# Train, evaluate classifier\n",
    "clf = MultinomialNB()\n",
    "clf.fit(X_train, y_train)"
   ]
  },
  {
   "cell_type": "code",
   "execution_count": null,
   "metadata": {},
   "outputs": [],
   "source": [
    "preds = clf.predict(X_test)\n"
   ]
  },
  {
   "cell_type": "markdown",
   "metadata": {},
   "source": [
    "# Check author/#works curve"
   ]
  },
  {
   "cell_type": "code",
   "execution_count": 4,
   "metadata": {},
   "outputs": [
    {
     "name": "stdout",
     "output_type": "stream",
     "text": [
      "(116622, 20)\n",
      "Index(['Unnamed: 0', 'work_id', 'title', 'author_hash', 'rating', 'category',\n",
      "       'fandom', 'relationship', 'character', 'additional tags', 'language',\n",
      "       'published', 'status', 'status date', 'words', 'chapters', 'comments',\n",
      "       'kudos', 'bookmarks', 'hits'],\n",
      "      dtype='object')\n"
     ]
    }
   ],
   "source": [
    "# Load data\n",
    "metadata = pd.read_csv('/usr2/mamille2/AO3Scraper/data/hp_ao3_metadata.csv')\n",
    "# metadata = pd.read_csv('/usr2/mamille2/fanfiction-project/data/hp/hp_ff-net_metadata_incomplete.csv')\n",
    "print(metadata.shape)\n",
    "print(metadata.columns)"
   ]
  },
  {
   "cell_type": "code",
   "execution_count": 6,
   "metadata": {
    "scrolled": true
   },
   "outputs": [
    {
     "name": "stdout",
     "output_type": "stream",
     "text": [
      "22322\n",
      "5.224531851984589\n"
     ]
    }
   ],
   "source": [
    "# n_unique = len(metadata['author_id'].unique())\n",
    "n_unique = len(metadata['author_hash'].unique())\n",
    "print(n_unique)\n",
    "print(len(metadata)/n_unique)"
   ]
  },
  {
   "cell_type": "code",
   "execution_count": 15,
   "metadata": {},
   "outputs": [
    {
     "name": "stdout",
     "output_type": "stream",
     "text": [
      "0.521637846071\n"
     ]
    }
   ],
   "source": [
    "# Basic stats\n",
    "# work_counts = metadata['author_id'].value_counts().value_counts()\n",
    "work_counts = metadata['author_hash'].value_counts().value_counts()\n",
    "\n",
    "print(work_counts[1]/work_counts.sum())"
   ]
  },
  {
   "cell_type": "code",
   "execution_count": 12,
   "metadata": {
    "scrolled": true
   },
   "outputs": [
    {
     "name": "stdout",
     "output_type": "stream",
     "text": [
      "3: 7131\n",
      "5: 4191\n",
      "10: 2003\n"
     ]
    }
   ],
   "source": [
    "for min_story_count in [3,5,10]:\n",
    "    print(f'{min_story_count}: {work_counts.loc[min_story_count:,].sum()}')"
   ]
  },
  {
   "cell_type": "code",
   "execution_count": 13,
   "metadata": {},
   "outputs": [
    {
     "data": {
      "text/plain": [
       "1    11644\n",
       "2     3547\n",
       "3     1818\n",
       "4     1122\n",
       "5      749\n",
       "Name: author_hash, dtype: int64"
      ]
     },
     "execution_count": 13,
     "metadata": {},
     "output_type": "execute_result"
    }
   ],
   "source": [
    "work_counts.head()"
   ]
  },
  {
   "cell_type": "code",
   "execution_count": 14,
   "metadata": {},
   "outputs": [
    {
     "data": {
      "text/plain": [
       "<matplotlib.axes._subplots.AxesSubplot at 0x7f655bd277b8>"
      ]
     },
     "execution_count": 14,
     "metadata": {},
     "output_type": "execute_result"
    },
    {
     "data": {
      "image/png": "[encoded data removed]",
      "text/plain": [
       "<Figure size 432x288 with 1 Axes>"
      ]
     },
     "metadata": {},
     "output_type": "display_data"
    }
   ],
   "source": [
    "%matplotlib inline\n",
    "\n",
    "work_counts.head(10).plot.bar()"
   ]
  }
 ],
 "metadata": {
  "kernelspec": {
   "display_name": "Python 3",
   "language": "python",
   "name": "python3"
  },
  "language_info": {
   "codemirror_mode": {
    "name": "ipython",
    "version": 3
   },
   "file_extension": ".py",
   "mimetype": "text/x-python",
   "name": "python",
   "nbconvert_exporter": "python",
   "pygments_lexer": "ipython3",
   "version": "3.6.4"
  }
 },
 "nbformat": 4,
 "nbformat_minor": 2
}
