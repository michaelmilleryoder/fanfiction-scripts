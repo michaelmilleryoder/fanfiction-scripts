{
 "cells": [
  {
   "cell_type": "markdown",
   "metadata": {},
   "source": [
    "# Assemble high-LGBTQ/low-LGBTQ fandom sets"
   ]
  },
  {
   "cell_type": "code",
   "execution_count": 7,
   "metadata": {},
   "outputs": [],
   "source": [
    "fandom_sets = {}\n",
    "fandom_sets['hi'] = [\n",
    "    'drwho',\n",
    "#     'pokemon',\n",
    "    'academia',\n",
    "#     'power_rangers',\n",
    "    'dragonage',\n",
    "    'startrek',\n",
    "#     'overwatch',\n",
    "    'homestuck',\n",
    "    'voltron',\n",
    "#     'supergirl',\n",
    "]\n",
    "\n",
    "fandom_sets['lo'] = [\n",
    "#     'walking_dead',\n",
    "#     'riverdale',\n",
    "    'song_ice_fire',\n",
    "    'teenwolf',\n",
    "    'naruto',\n",
    "    'once',\n",
    "    'harrypotter',\n",
    "    'supernatural',\n",
    "    'dcu',\n",
    "#     'attack_on_titan',\n",
    "]"
   ]
  },
  {
   "cell_type": "code",
   "execution_count": 9,
   "metadata": {
    "scrolled": true
   },
   "outputs": [
    {
     "data": {
      "application/vnd.jupyter.widget-view+json": {
       "model_id": "9fcd42c8a294406dbbf7762595d93022",
       "version_major": 2,
       "version_minor": 0
      },
      "text/plain": [
       "HBox(children=(HTML(value=''), FloatProgress(value=0.0, max=6.0), HTML(value='')))"
      ]
     },
     "metadata": {},
     "output_type": "display_data"
    },
    {
     "name": "stdout",
     "output_type": "stream",
     "text": [
      "drwho\n",
      "academia\n",
      "dragonage\n",
      "startrek\n",
      "homestuck\n",
      "voltron\n",
      "\n"
     ]
    },
    {
     "data": {
      "application/vnd.jupyter.widget-view+json": {
       "model_id": "46bb90a3ce7b4e52bc3c9418ca9bbad8",
       "version_major": 2,
       "version_minor": 0
      },
      "text/plain": [
       "HBox(children=(HTML(value=''), FloatProgress(value=0.0, max=7.0), HTML(value='')))"
      ]
     },
     "metadata": {},
     "output_type": "display_data"
    },
    {
     "name": "stdout",
     "output_type": "stream",
     "text": [
      "song_ice_fire\n",
      "teenwolf\n",
      "naruto\n",
      "once\n",
      "harrypotter\n",
      "supernatural\n",
      "dcu\n",
      "\n"
     ]
    }
   ],
   "source": [
    "# Assemble metadata\n",
    "import os\n",
    "import pandas as pd\n",
    "from tqdm.notebook import tqdm\n",
    "\n",
    "metadata = {}\n",
    "for fset in fandom_sets:\n",
    "    metadata[fset] = pd.DataFrame()\n",
    "    for fandom in tqdm(fandom_sets[fset]):\n",
    "        tqdm.write(fandom)\n",
    "        data_dirpath = f'/data/fanfiction_ao3/{fandom}/complete_en_1k-50k/'\n",
    "        metadata_fpath = os.path.join(data_dirpath, 'metadata.csv')\n",
    "        fandom_metadata = pd.read_csv(metadata_fpath)\n",
    "        fandom_metadata['fandom'] = [fandom] * len(fandom_metadata)\n",
    "        metadata[fset] = pd.concat([metadata[fset], fandom_metadata])"
   ]
  },
  {
   "cell_type": "markdown",
   "metadata": {},
   "source": [
    "# Plot basic stats"
   ]
  },
  {
   "cell_type": "code",
   "execution_count": null,
   "metadata": {},
   "outputs": [],
   "source": []
  }
 ],
 "metadata": {
  "kernelspec": {
   "display_name": "Python 3",
   "language": "python",
   "name": "python3"
  },
  "language_info": {
   "codemirror_mode": {
    "name": "ipython",
    "version": 3
   },
   "file_extension": ".py",
   "mimetype": "text/x-python",
   "name": "python",
   "nbconvert_exporter": "python",
   "pygments_lexer": "ipython3",
   "version": "3.7.9"
  }
 },
 "nbformat": 4,
 "nbformat_minor": 4
}
