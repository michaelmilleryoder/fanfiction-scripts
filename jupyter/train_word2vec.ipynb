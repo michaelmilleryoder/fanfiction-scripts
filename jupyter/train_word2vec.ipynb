{
 "cells": [
  {
   "cell_type": "code",
   "execution_count": 1,
   "metadata": {},
   "outputs": [],
   "source": [
    "from gensim.models import Word2Vec, KeyedVectors\n",
    "import os\n",
    "data_dirpath = '/usr0/home/mamille2/erebor'"
   ]
  },
  {
   "cell_type": "markdown",
   "metadata": {},
   "source": [
    "# Train word2vec on fanfiction data, initialized with Google News embeddings"
   ]
  },
  {
   "cell_type": "markdown",
   "metadata": {},
   "source": [
    "## Create model initialized with Google News 300-d embeddings"
   ]
  },
  {
   "cell_type": "code",
   "execution_count": 19,
   "metadata": {},
   "outputs": [],
   "source": [
    "model = Word2Vec(size=300, min_count=5)"
   ]
  },
  {
   "cell_type": "code",
   "execution_count": 10,
   "metadata": {},
   "outputs": [],
   "source": [
    "pretrained_fpath = os.path.join(data_dirpath, 'word_embeddings', 'GoogleNews-vectors-negative300.bin')\n",
    "# model.wv = KeyedVectors.load_word2vec_format(os.path.join(data_dirpath, 'word_embeddings', 'GoogleNews-vectors-negative300.bin'), binary=True)\n",
    "pretrained_wv = KeyedVectors.load_word2vec_format(pretrained_fpath, binary=True)"
   ]
  },
  {
   "cell_type": "code",
   "execution_count": 20,
   "metadata": {
    "scrolled": true
   },
   "outputs": [
    {
     "data": {
      "text/plain": [
       "0"
      ]
     },
     "execution_count": 20,
     "metadata": {},
     "output_type": "execute_result"
    }
   ],
   "source": [
    "# model.build_vocab([list(pretrained_wv.vocab.keys())], update=True)\n",
    "model.build_vocab([list(pretrained_wv.vocab.keys())])"
   ]
  },
  {
   "cell_type": "code",
   "execution_count": 16,
   "metadata": {},
   "outputs": [
    {
     "data": {
      "text/plain": [
       "3000000"
      ]
     },
     "execution_count": 16,
     "metadata": {},
     "output_type": "execute_result"
    }
   ],
   "source": [
    "len(set(list(pretrained_wv.vocab.keys())))"
   ]
  },
  {
   "cell_type": "code",
   "execution_count": 21,
   "metadata": {},
   "outputs": [],
   "source": [
    "model.intersect_word2vec_format(pretrained_fpath, lockf=1.0, binary=True)"
   ]
  },
  {
   "cell_type": "markdown",
   "metadata": {},
   "source": [
    "### Add in fanfiction data"
   ]
  },
  {
   "cell_type": "code",
   "execution_count": 3,
   "metadata": {},
   "outputs": [
    {
     "name": "stdout",
     "output_type": "stream",
     "text": [
      "friends\n",
      "180838\n",
      "detroit\n",
      "3577705\n"
     ]
    }
   ],
   "source": [
    "fandoms = [\n",
    "    'friends',\n",
    "    'detroit',\n",
    "]\n",
    "\n",
    "for f in fandoms:\n",
    "    print(f)\n",
    "    sentences_fpath = os.path.join(data_dirpath, 'fanfiction-project/data/ao3', f, f'ao3_{f}_sentences.txt')\n",
    "    with open(sentences_fpath) as file_obj:\n",
    "        sentences = file_obj.read().splitlines()\n",
    "        print(len(sentences))"
   ]
  }
 ],
 "metadata": {
  "kernelspec": {
   "display_name": "Python 3",
   "language": "python",
   "name": "python3"
  },
  "language_info": {
   "codemirror_mode": {
    "name": "ipython",
    "version": 3
   },
   "file_extension": ".py",
   "mimetype": "text/x-python",
   "name": "python",
   "nbconvert_exporter": "python",
   "pygments_lexer": "ipython3",
   "version": "3.6.5"
  }
 },
 "nbformat": 4,
 "nbformat_minor": 2
}
