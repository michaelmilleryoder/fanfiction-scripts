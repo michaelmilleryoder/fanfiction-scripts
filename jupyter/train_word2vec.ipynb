{
 "cells": [
  {
   "cell_type": "code",
   "execution_count": 1,
   "metadata": {},
   "outputs": [],
   "source": [
    "from gensim.models import Word2Vec, KeyedVectors\n",
    "import os\n",
    "data_dirpath = '/usr0/home/mamille2/erebor'"
   ]
  },
  {
   "cell_type": "markdown",
   "metadata": {},
   "source": [
    "# Train word2vec on fanfiction data, initialized with Google News embeddings"
   ]
  },
  {
   "cell_type": "markdown",
   "metadata": {},
   "source": [
    "### Add in fanfiction data"
   ]
  },
  {
   "cell_type": "code",
   "execution_count": 2,
   "metadata": {},
   "outputs": [
    {
     "name": "stdout",
     "output_type": "stream",
     "text": [
      "friends\n",
      "180838\n",
      "detroit\n",
      "3577705\n"
     ]
    }
   ],
   "source": [
    "fandoms = [\n",
    "    'friends',\n",
    "    'detroit',\n",
    "]\n",
    "\n",
    "fanfic_sentences = {}\n",
    "\n",
    "for f in fandoms:\n",
    "    print(f)\n",
    "    sentences_fpath = os.path.join(data_dirpath, 'fanfiction-project/data/ao3', f, f'ao3_{f}_sentences.txt')\n",
    "    with open(sentences_fpath) as file_obj:\n",
    "        fanfic_sentences[f] = file_obj.read().splitlines()\n",
    "        print(len(fanfic_sentences[f]))"
   ]
  },
  {
   "cell_type": "markdown",
   "metadata": {},
   "source": [
    "## Create model initialized with Google News 300-d embeddings"
   ]
  },
  {
   "cell_type": "code",
   "execution_count": 13,
   "metadata": {},
   "outputs": [
    {
     "data": {
      "text/plain": [
       "70559"
      ]
     },
     "execution_count": 13,
     "metadata": {},
     "output_type": "execute_result"
    }
   ],
   "source": [
    "model = Word2Vec(size=300, min_count=5)\n",
    "\n",
    "# sentences = [s.split() for s in fanfic_sentences['friends']]\n",
    "sentences = [s.split() for s in fanfic_sentences['detroit']]\n",
    "model.build_vocab(sentences)\n",
    "\n",
    "len(model.wv.vocab)"
   ]
  },
  {
   "cell_type": "code",
   "execution_count": 14,
   "metadata": {},
   "outputs": [
    {
     "name": "stdout",
     "output_type": "stream",
     "text": [
      "70559\n"
     ]
    }
   ],
   "source": [
    "pretrained_fpath = os.path.join(data_dirpath, 'word_embeddings', 'GoogleNews-vectors-negative300.bin')\n",
    "# model.wv = KeyedVectors.load_word2vec_format(os.path.join(data_dirpath, 'word_embeddings', 'GoogleNews-vectors-negative300.bin'), binary=True)\n",
    "pretrained_wv = KeyedVectors.load_word2vec_format(pretrained_fpath, binary=True)\n",
    "\n",
    "model.build_vocab([list(pretrained_wv.vocab.keys())], update=True) # should add words, though doesn't seem to\n",
    "print(len(model.wv.vocab))\n",
    "\n",
    "model.intersect_word2vec_format(pretrained_fpath, lockf=1.0, binary=True)"
   ]
  },
  {
   "cell_type": "code",
   "execution_count": 15,
   "metadata": {},
   "outputs": [
    {
     "data": {
      "text/plain": [
       "(183449919, 265134090)"
      ]
     },
     "execution_count": 15,
     "metadata": {},
     "output_type": "execute_result"
    }
   ],
   "source": [
    "# sentences = [s.split() for s in fanfic_sentences['friends']]\n",
    "sentences = [s.split() for s in fanfic_sentences['detroit']]\n",
    "model.train(sentences, total_examples=len(sentences), epochs=5)"
   ]
  },
  {
   "cell_type": "code",
   "execution_count": 16,
   "metadata": {},
   "outputs": [],
   "source": [
    "# model.save(os.path.join(data_dirpath, 'word_embeddings', 'friends_GoogleNews_300d.model'))\n",
    "model.save(os.path.join(data_dirpath, 'word_embeddings', 'detroit_GoogleNews_300d.model'))"
   ]
  },
  {
   "cell_type": "code",
   "execution_count": 12,
   "metadata": {},
   "outputs": [
    {
     "data": {
      "text/plain": [
       "[('man', 0.6227999925613403),\n",
       " ('girl', 0.5778118371963501),\n",
       " ('person', 0.5152010917663574),\n",
       " ('guy', 0.5010389089584351),\n",
       " ('boy', 0.45616209506988525),\n",
       " ('brunette', 0.345905601978302),\n",
       " ('lady', 0.33502817153930664),\n",
       " ('creature', 0.3311230540275574),\n",
       " ('goddess', 0.33085495233535767),\n",
       " ('chick', 0.3299996256828308)]"
      ]
     },
     "execution_count": 12,
     "metadata": {},
     "output_type": "execute_result"
    }
   ],
   "source": [
    "model.wv.most_similar('woman')"
   ]
  },
  {
   "cell_type": "code",
   "execution_count": 15,
   "metadata": {},
   "outputs": [
    {
     "data": {
      "text/plain": [
       "[('bisexual', 0.379432737827301),\n",
       " ('funny', 0.35798341035842896),\n",
       " ('bad', 0.3567838668823242),\n",
       " ('jealous', 0.33581438660621643),\n",
       " ('crazy', 0.3278224468231201),\n",
       " ('good', 0.3259364068508148),\n",
       " ('embarrassed', 0.32154279947280884),\n",
       " ('weird', 0.31626904010772705),\n",
       " ('sorry', 0.3158738613128662),\n",
       " ('lucky', 0.29834669828414917)]"
      ]
     },
     "execution_count": 15,
     "metadata": {},
     "output_type": "execute_result"
    }
   ],
   "source": [
    "model.wv.most_similar('gay')"
   ]
  },
  {
   "cell_type": "code",
   "execution_count": 19,
   "metadata": {},
   "outputs": [
    {
     "data": {
      "text/plain": [
       "[('trans', 0.6030031442642212),\n",
       " ('bisexual', 0.5694502592086792),\n",
       " ('sexy', 0.5545810461044312),\n",
       " ('kinky', 0.5317354798316956),\n",
       " ('badass', 0.5257949233055115),\n",
       " ('awesome', 0.521049439907074),\n",
       " ('gross', 0.5168409943580627),\n",
       " ('homophobic', 0.5141972303390503),\n",
       " ('lesbian', 0.5126327276229858),\n",
       " ('creepy', 0.5085291862487793)]"
      ]
     },
     "execution_count": 19,
     "metadata": {},
     "output_type": "execute_result"
    }
   ],
   "source": [
    "model.wv.most_similar('gay')"
   ]
  },
  {
   "cell_type": "code",
   "execution_count": 18,
   "metadata": {},
   "outputs": [
    {
     "data": {
      "text/plain": [
       "[('saddest', 0.2593832015991211),\n",
       " ('popular', 0.24050481617450714),\n",
       " ('undressed', 0.23664337396621704),\n",
       " ('cutest', 0.23346945643424988),\n",
       " ('dumbstruck', 0.23208709061145782),\n",
       " ('sexiest', 0.23113837838172913),\n",
       " ('protective', 0.2294725924730301),\n",
       " ('valid', 0.22827377915382385),\n",
       " ('ridiculous', 0.22641275823116302),\n",
       " ('inappropriate', 0.2237069308757782)]"
      ]
     },
     "execution_count": 18,
     "metadata": {},
     "output_type": "execute_result"
    }
   ],
   "source": [
    "model.wv.most_similar('heterosexual')"
   ]
  },
  {
   "cell_type": "code",
   "execution_count": 20,
   "metadata": {
    "scrolled": true
   },
   "outputs": [
    {
     "data": {
      "text/plain": [
       "[('homosexual', 0.6994242668151855),\n",
       " ('lesbians', 0.6558328866958618),\n",
       " ('monogamous', 0.6392804384231567),\n",
       " ('bisexual', 0.6358998417854309),\n",
       " ('hetero', 0.6213570833206177),\n",
       " ('polyamorous', 0.6048110723495483),\n",
       " ('cohabiting', 0.5632133483886719),\n",
       " ('unmarried', 0.5617387294769287),\n",
       " ('monogamy', 0.5519148111343384),\n",
       " ('lesbian', 0.5502726435661316)]"
      ]
     },
     "execution_count": 20,
     "metadata": {},
     "output_type": "execute_result"
    }
   ],
   "source": [
    "model.wv.most_similar('heterosexual')"
   ]
  },
  {
   "cell_type": "code",
   "execution_count": 26,
   "metadata": {
    "scrolled": true
   },
   "outputs": [
    {
     "data": {
      "text/plain": [
       "[('different', 0.33970576524734497),\n",
       " ('else', 0.3143661916255951),\n",
       " ('okay', 0.3065173923969269),\n",
       " ('weird', 0.30335676670074463),\n",
       " ('crazy', 0.2892380356788635),\n",
       " ('fine', 0.286884605884552),\n",
       " ('hell', 0.2854064106941223),\n",
       " ('happening', 0.2843957245349884),\n",
       " ('upset', 0.2835720479488373),\n",
       " ('mean', 0.2709137201309204)]"
      ]
     },
     "execution_count": 26,
     "metadata": {},
     "output_type": "execute_result"
    }
   ],
   "source": [
    "model.wv.most_similar('wrong')"
   ]
  },
  {
   "cell_type": "markdown",
   "metadata": {},
   "source": [
    "## Save embeddings in txt format"
   ]
  },
  {
   "cell_type": "code",
   "execution_count": 18,
   "metadata": {},
   "outputs": [],
   "source": [
    "model.wv.save_word2vec_format(os.path.join(data_dirpath, 'word_embeddings', 'detroit_GoogleNews_300d.txt'), binary=False)"
   ]
  },
  {
   "cell_type": "code",
   "execution_count": 23,
   "metadata": {},
   "outputs": [],
   "source": [
    "model = Word2Vec.load(os.path.join(data_dirpath, 'word_embeddings', 'friends_GoogleNews_300d.model'))"
   ]
  },
  {
   "cell_type": "code",
   "execution_count": 24,
   "metadata": {},
   "outputs": [],
   "source": [
    "model.wv.save_word2vec_format(os.path.join(data_dirpath, 'word_embeddings', 'friends_GoogleNews_300d.txt'), binary=False)"
   ]
  }
 ],
 "metadata": {
  "kernelspec": {
   "display_name": "Python 3",
   "language": "python",
   "name": "python3"
  },
  "language_info": {
   "codemirror_mode": {
    "name": "ipython",
    "version": 3
   },
   "file_extension": ".py",
   "mimetype": "text/x-python",
   "name": "python",
   "nbconvert_exporter": "python",
   "pygments_lexer": "ipython3",
   "version": "3.6.4"
  }
 },
 "nbformat": 4,
 "nbformat_minor": 2
}
