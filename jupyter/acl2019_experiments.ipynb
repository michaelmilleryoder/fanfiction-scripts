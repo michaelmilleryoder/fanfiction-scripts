{
 "cells": [
  {
   "cell_type": "markdown",
   "metadata": {},
   "source": [
    "# Run baseline"
   ]
  },
  {
   "cell_type": "code",
   "execution_count": 2,
   "metadata": {},
   "outputs": [
    {
     "name": "stdout",
     "output_type": "stream",
     "text": [
      "22677\n",
      "2544\n"
     ]
    }
   ],
   "source": [
    "import pickle\n",
    "import os\n",
    "\n",
    "unigram_path_dir = '/usr0/home/prashang/DirectedStudy/ACL_preprocessing/Vectors/'\n",
    "\n",
    "features_chapters = {}\n",
    "\n",
    "# Load chapter features\n",
    "for fold in ['train', 'dev']:\n",
    "    with open(os.path.join(unigram_path_dir, f'oneHotFeatures_{fold}.txt'), 'rb') as f:\n",
    "        features_chapters[fold] = pickle.load(f)\n",
    "    print(len(features_chapters[fold]))"
   ]
  },
  {
   "cell_type": "markdown",
   "metadata": {},
   "source": [
    "## Get tags to predict"
   ]
  },
  {
   "cell_type": "code",
   "execution_count": 7,
   "metadata": {},
   "outputs": [
    {
     "name": "stdout",
     "output_type": "stream",
     "text": [
      "179407\n",
      "Index(['fic_id', 'title', 'author', 'author_key', 'rating', 'category',\n",
      "       'fandom', 'relationship', 'character', 'additional tags', 'language',\n",
      "       'published', 'status', 'status date', 'words', 'comments', 'kudos',\n",
      "       'bookmarks', 'hits', 'chapter_count', 'series', 'seriespart',\n",
      "       'seriesid', 'summary', 'preface_notes', 'afterword_notes'],\n",
      "      dtype='object')\n",
      "4771\n",
      "4771\n"
     ]
    }
   ],
   "source": [
    "import pandas as pd\n",
    "\n",
    "metadata = pd.read_csv('/usr2/scratch/fanfic/ao3_harrypotter_text/stories.csv')\n",
    "# metadata.fic_id.dtype\n",
    "print(len(metadata))\n",
    "print(metadata.columns)\n",
    "\n",
    "fic_ids = {}\n",
    "\n",
    "for fold in ['train', 'dev']:\n",
    "    fic_ids[fold] = sorted(set([int(name.split('_')[0]) for name in list(features_chapters[fold].keys())]))\n",
    "    print(len(fic_ids['train']))"
   ]
  },
  {
   "cell_type": "code",
   "execution_count": 8,
   "metadata": {},
   "outputs": [
    {
     "name": "stdout",
     "output_type": "stream",
     "text": [
      "4771\n",
      "597\n"
     ]
    }
   ],
   "source": [
    "# Get tags for folds\n",
    "tags = {}\n",
    "metadata_split = {}\n",
    "\n",
    "for fold in ['train', 'dev']:\n",
    "    metadata_split[fold] = metadata.loc[metadata['fic_id'].isin(fic_ids[fold]), ['fic_id', 'additional tags']]\n",
    "\n",
    "    tags[fold] = metadata_split[fold].set_index('fic_id').to_dict()['additional tags']\n",
    "    print(len(tags[fold].keys()))\n",
    "\n",
    "    tags[fold] = {key: [tag.lower() for tag in eval(val)] for key,val in tags[fold].items()}"
   ]
  },
  {
   "cell_type": "code",
   "execution_count": 9,
   "metadata": {
    "scrolled": true
   },
   "outputs": [
    {
     "data": {
      "text/plain": [
       "['fluff',\n",
       " 'angst',\n",
       " 'alternate universe - canon divergence',\n",
       " 'hurt/comfort',\n",
       " 'slow burn',\n",
       " 'romance',\n",
       " 'anal sex',\n",
       " 'alternate universe',\n",
       " 'smut',\n",
       " 'humor',\n",
       " 'au',\n",
       " 'fluff and angst',\n",
       " 'alternate universe - modern setting',\n",
       " 'established relationship',\n",
       " 'hogwarts eighth year',\n",
       " 'hogwarts',\n",
       " \"marauders' era\",\n",
       " 'time travel',\n",
       " 'hp: ewe',\n",
       " 'anal fingering',\n",
       " 'drarry',\n",
       " 'happy ending',\n",
       " 'friendship',\n",
       " 'friends to lovers',\n",
       " 'mpreg',\n",
       " 'crossover',\n",
       " 'first time',\n",
       " 'first kiss',\n",
       " 'pining',\n",
       " 'oral sex',\n",
       " 'rimming',\n",
       " 'angst with a happy ending',\n",
       " 'wolfstar',\n",
       " 'alternate universe - hogwarts',\n",
       " 'blow jobs',\n",
       " 'other additional tags to be added',\n",
       " 'kissing',\n",
       " 'emotional hurt/comfort',\n",
       " 'magic',\n",
       " 'implied/referenced child abuse',\n",
       " 'one shot',\n",
       " 'quidditch',\n",
       " 'child abuse',\n",
       " 'alternate universe - harry potter setting',\n",
       " 'dumbledore bashing',\n",
       " 'slash',\n",
       " 'female harry potter',\n",
       " 'plot what plot/porn without plot',\n",
       " 'mutual pining',\n",
       " 'post-hogwarts',\n",
       " 'dirty talk',\n",
       " 'alternate universe - soulmates',\n",
       " 'post-war',\n",
       " 'crack',\n",
       " 'manipulative dumbledore',\n",
       " 'violence',\n",
       " 'masturbation',\n",
       " 'master of death harry potter',\n",
       " 'explicit sexual content',\n",
       " 'swearing',\n",
       " 'post-traumatic stress disorder - ptsd',\n",
       " 'fluff and smut',\n",
       " 'family',\n",
       " 'pwp',\n",
       " 'hand jobs',\n",
       " 'slow build',\n",
       " 'rough sex',\n",
       " 'getting together',\n",
       " 'alternate universe - non-magical',\n",
       " 'dubious consent',\n",
       " 'minor character death',\n",
       " 'alternate universe - muggle',\n",
       " 'bottom draco',\n",
       " 'domestic fluff',\n",
       " 'torture',\n",
       " 'powerful harry',\n",
       " 'enemies to friends to lovers',\n",
       " 'depression',\n",
       " 'soulmates',\n",
       " 'auror harry potter',\n",
       " 'marauders',\n",
       " 'coming out',\n",
       " 'slytherin harry',\n",
       " 'canon compliant',\n",
       " 'top harry',\n",
       " 'drama',\n",
       " 'dark harry',\n",
       " 'past child abuse',\n",
       " 'canon-typical violence',\n",
       " 'christmas',\n",
       " 'light angst',\n",
       " 'hogwarts au',\n",
       " 'falling in love',\n",
       " 'praise kink',\n",
       " 'original character(s)',\n",
       " 'slytherin harry potter',\n",
       " 'jealousy',\n",
       " 'eventual smut',\n",
       " 'sort of',\n",
       " 'not epilogue compliant']"
      ]
     },
     "execution_count": 9,
     "metadata": {},
     "output_type": "execute_result"
    }
   ],
   "source": [
    "# Get top 100 tags\n",
    "\n",
    "from collections import Counter\n",
    "\n",
    "tag_ctr = Counter([tag for l in tags['train'].values() for tag in l])\n",
    "tag_vocab = {}\n",
    "tag_vocab[100] = [a for a,b in tag_ctr.most_common(100)]\n",
    "tag_vocab[100]"
   ]
  },
  {
   "cell_type": "code",
   "execution_count": 15,
   "metadata": {},
   "outputs": [
    {
     "name": "stdout",
     "output_type": "stream",
     "text": [
      "1100\n",
      "4771\n",
      "0.23055963110459024\n"
     ]
    }
   ],
   "source": [
    "# How many fics don't have top 100 tags?\n",
    "notags = [l for l in tags['train'].values() if not any([t in l for t in tag_vocab[100]])]\n",
    "print(len(notags))\n",
    "print(len(tags['train']))\n",
    "print(len(notags)/len(tags['train']))"
   ]
  },
  {
   "cell_type": "code",
   "execution_count": 11,
   "metadata": {},
   "outputs": [
    {
     "data": {
      "application/vnd.jupyter.widget-view+json": {
       "model_id": "7f3be4baf6e84333ac4e3585f22cc569",
       "version_major": 2,
       "version_minor": 0
      },
      "text/plain": [
       "HBox(children=(IntProgress(value=0, max=4771), HTML(value='')))"
      ]
     },
     "metadata": {},
     "output_type": "display_data"
    },
    {
     "name": "stdout",
     "output_type": "stream",
     "text": [
      "\n"
     ]
    },
    {
     "data": {
      "application/vnd.jupyter.widget-view+json": {
       "model_id": "a64f95ec6f74484e8fe4a19f018a8915",
       "version_major": 2,
       "version_minor": 0
      },
      "text/plain": [
       "HBox(children=(IntProgress(value=0, max=597), HTML(value='')))"
      ]
     },
     "metadata": {},
     "output_type": "display_data"
    },
    {
     "name": "stdout",
     "output_type": "stream",
     "text": [
      "\n"
     ]
    }
   ],
   "source": [
    "from tqdm import tqdm_notebook as tqdm\n",
    "from IPython.core.debugger import set_trace\n",
    "\n",
    "features = {'train': {}, 'dev': {}, 'test': {}}\n",
    "\n",
    "# Concatenate chapter features into fics\n",
    "for fold in ['train', 'dev']:\n",
    "    for fic_id in tqdm(fic_ids[fold]): # would be faster to iterate through feature_chapters instead\n",
    "        chapter_names = sorted([ch for ch in features_chapters[fold].keys() if str(fic_id)==ch.split('_')[0]])\n",
    "        fic_features = [0] * len(features_chapters[fold][chapter_names[0]])\n",
    "        for chapter_name in chapter_names:\n",
    "            chapter_features = features_chapters[fold][chapter_name]\n",
    "            fic_features = [a or b for a,b in zip(fic_features,chapter_features)]\n",
    "\n",
    "        features[fold][fic_id] = fic_features"
   ]
  },
  {
   "cell_type": "code",
   "execution_count": 34,
   "metadata": {},
   "outputs": [
    {
     "data": {
      "text/plain": [
       "['quidditch',\n",
       " 'pro quidditch',\n",
       " 'ginny weasley plays pro quidditch',\n",
       " 'chronic injury',\n",
       " 'chudley cannons',\n",
       " \"let's all just cross our fingers and hope for the best\",\n",
       " 'au',\n",
       " 'au where they never dated']"
      ]
     },
     "execution_count": 34,
     "metadata": {},
     "output_type": "execute_result"
    }
   ],
   "source": [
    "tags['train'][fic_ids['train'][0]]"
   ]
  },
  {
   "cell_type": "code",
   "execution_count": 12,
   "metadata": {},
   "outputs": [
    {
     "name": "stdout",
     "output_type": "stream",
     "text": [
      "True\n",
      "True\n"
     ]
    }
   ],
   "source": [
    "tag_indicator = {'train': {}, 'dev': {}, 'test': {}}\n",
    "\n",
    "for fold in ['train', 'dev']:\n",
    "    tag_indicator[fold]  = {fic_id: [1 if tag in tags[fold][fic_id] else 0 for tag in tag_vocab[100]] for fic_id in fic_ids[fold]}\n",
    "    print(any(tag_indicator[fold][fic_ids[fold][0]]))"
   ]
  },
  {
   "cell_type": "code",
   "execution_count": 13,
   "metadata": {},
   "outputs": [
    {
     "name": "stdout",
     "output_type": "stream",
     "text": [
      "(4771, 10000)\n",
      "(4771, 100)\n",
      "(597, 10000)\n",
      "(597, 100)\n"
     ]
    }
   ],
   "source": [
    "# Assemble input features, output\n",
    "import numpy as np\n",
    "\n",
    "X = {}\n",
    "y = {}\n",
    "\n",
    "for fold in ['train', 'dev']:\n",
    "    X[fold] = np.array([features[fold][fic_id] for fic_id in fic_ids[fold]])\n",
    "    print(X[fold].shape)\n",
    "\n",
    "    y[fold] = np.array([tag_indicator[fold][fic_id] for fic_id in fic_ids[fold]])\n",
    "    print(y[fold].shape)"
   ]
  },
  {
   "cell_type": "markdown",
   "metadata": {},
   "source": [
    "## Train classifier, predict"
   ]
  },
  {
   "cell_type": "code",
   "execution_count": 37,
   "metadata": {
    "scrolled": true
   },
   "outputs": [
    {
     "name": "stdout",
     "output_type": "stream",
     "text": [
      "[LibSVM][LibSVM][LibSVM][LibSVM][LibSVM][LibSVM][LibSVM][LibSVM][LibSVM][LibSVM][LibSVM][LibSVM][LibSVM][LibSVM][LibSVM][LibSVM][LibSVM][LibSVM][LibSVM][LibSVM][LibSVM][LibSVM][LibSVM][LibSVM][LibSVM][LibSVM][LibSVM][LibSVM][LibSVM][LibSVM][LibSVM][LibSVM][LibSVM][LibSVM][LibSVM][LibSVM][LibSVM][LibSVM][LibSVM][LibSVM][LibSVM][LibSVM][LibSVM][LibSVM][LibSVM][LibSVM][LibSVM][LibSVM][LibSVM][LibSVM][LibSVM][LibSVM][LibSVM][LibSVM][LibSVM][LibSVM][LibSVM][LibSVM][LibSVM][LibSVM][LibSVM][LibSVM][LibSVM][LibSVM][LibSVM][LibSVM][LibSVM][LibSVM][LibSVM][LibSVM][LibSVM][LibSVM][LibSVM][LibSVM][LibSVM][LibSVM][LibSVM][LibSVM][LibSVM][LibSVM][LibSVM][LibSVM][LibSVM][LibSVM][LibSVM][LibSVM][LibSVM][LibSVM][LibSVM][LibSVM][LibSVM][LibSVM][LibSVM][LibSVM][LibSVM][LibSVM][LibSVM][LibSVM][LibSVM][LibSVM]"
     ]
    },
    {
     "data": {
      "text/plain": [
       "OneVsRestClassifier(estimator=SVC(C=1.0, cache_size=200, class_weight=None, coef0=0.0,\n",
       "  decision_function_shape='ovr', degree=3, gamma='auto', kernel='linear',\n",
       "  max_iter=-1, probability=False, random_state=None, shrinking=True,\n",
       "  tol=0.001, verbose=2),\n",
       "          n_jobs=1)"
      ]
     },
     "execution_count": 37,
     "metadata": {},
     "output_type": "execute_result"
    }
   ],
   "source": [
    "from sklearn.multiclass import OneVsRestClassifier\n",
    "from sklearn.svm import SVC\n",
    "from sklearn.linear_model import LogisticRegression\n",
    "\n",
    "clf = OneVsRestClassifier(SVC(kernel='linear', verbose=2))\n",
    "# clf = OneVsRestClassifier(LogisticRegression(n_jobs=10, verbose=2))\n",
    "clf.fit(X['train'], y['train'])"
   ]
  },
  {
   "cell_type": "code",
   "execution_count": 38,
   "metadata": {},
   "outputs": [
    {
     "name": "stdout",
     "output_type": "stream",
     "text": [
      "(597, 100)\n"
     ]
    }
   ],
   "source": [
    "preds = clf.predict(X['dev'])\n",
    "print(preds.shape)"
   ]
  },
  {
   "cell_type": "code",
   "execution_count": 31,
   "metadata": {
    "scrolled": true
   },
   "outputs": [
    {
     "name": "stdout",
     "output_type": "stream",
     "text": [
      "208\n",
      "272\n",
      "277\n",
      "324\n",
      "346\n",
      "399\n",
      "472\n",
      "505\n",
      "509\n",
      "535\n",
      "545\n",
      "557\n",
      "573\n"
     ]
    }
   ],
   "source": [
    "# make sure are multilabel\n",
    "for i in range(len(preds)):\n",
    "    pos_preds = preds[i].tolist().count(1)\n",
    "    if pos_preds > 1:\n",
    "        print(i)"
   ]
  },
  {
   "cell_type": "code",
   "execution_count": 39,
   "metadata": {},
   "outputs": [
    {
     "name": "stdout",
     "output_type": "stream",
     "text": [
      "0.139729924242\n",
      "0.0249751083879\n",
      "0.0392986177847\n"
     ]
    },
    {
     "name": "stderr",
     "output_type": "stream",
     "text": [
      "/usr0/home/mamille2/anaconda3/lib/python3.6/site-packages/sklearn/metrics/classification.py:1135: UndefinedMetricWarning: Precision is ill-defined and being set to 0.0 in labels with no predicted samples.\n",
      "  'precision', 'predicted', average, warn_for)\n",
      "/usr0/home/mamille2/anaconda3/lib/python3.6/site-packages/sklearn/metrics/classification.py:1135: UndefinedMetricWarning: F-score is ill-defined and being set to 0.0 in labels with no predicted samples.\n",
      "  'precision', 'predicted', average, warn_for)\n"
     ]
    }
   ],
   "source": [
    "# Evaluate\n",
    "from sklearn.metrics import precision_score, recall_score, f1_score\n",
    "# print(precision_score(y['dev'], preds, average='weighted'))\n",
    "# print(recall_score(y['dev'], preds, average='weighted'))\n",
    "# print(f1_score(y['dev'], preds, average='weighted'))\n",
    "print(precision_score(y['dev'], preds, average='macro'))\n",
    "print(recall_score(y['dev'], preds, average='macro'))\n",
    "print(f1_score(y['dev'], preds, average='macro'))"
   ]
  }
 ],
 "metadata": {
  "kernelspec": {
   "display_name": "Python 3",
   "language": "python",
   "name": "python3"
  },
  "language_info": {
   "codemirror_mode": {
    "name": "ipython",
    "version": 3
   },
   "file_extension": ".py",
   "mimetype": "text/x-python",
   "name": "python",
   "nbconvert_exporter": "python",
   "pygments_lexer": "ipython3",
   "version": "3.7.3"
  }
 },
 "nbformat": 4,
 "nbformat_minor": 2
}
