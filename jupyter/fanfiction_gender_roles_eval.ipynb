{
 "cells": [
  {
   "cell_type": "markdown",
   "metadata": {},
   "source": [
    "# Check AO3 tags for \"character descriptor tags\""
   ]
  },
  {
   "cell_type": "markdown",
   "metadata": {},
   "source": [
    "## Stats on additional tags"
   ]
  },
  {
   "cell_type": "code",
   "execution_count": 1,
   "metadata": {},
   "outputs": [],
   "source": [
    "# Load metadata\n",
    "import pandas as pd\n",
    "\n",
    "fandoms = [\n",
    "    'allmarvel',\n",
    "'supernatural',\n",
    "'harrypotter',\n",
    "'dcu',\n",
    "'sherlock',\n",
    "'teenwolf',\n",
    "'starwars',\n",
    "'drwho',\n",
    "'tolkien',\n",
    "'dragonage',\n",
    "]\n",
    "\n",
    "metadata = {}\n",
    "\n",
    "for f in fandoms:\n",
    "    metadata_fpath = f'/data/fanfiction_ao3/{f}/complete_en_1k-50k/metadata.csv'\n",
    "    metadata[f] = pd.read_csv(metadata_fpath)\n",
    "\n",
    "n_fics_with_tags = 0\n",
    "total_n_fics = 0\n",
    "for fandom in fandoms:\n",
    "    n_fics_with_tags += metadata[fandom]['additional tags'].map(lambda x: len(x) > 2).sum()\n",
    "    total_n_fics += len(metadata[fandom])\n",
    "print(f'{n_fics_with_tags/total_n_fics: .1%} ({n_fics_with_tags} / {total_n_fics})')"
   ]
  },
  {
   "cell_type": "markdown",
   "metadata": {},
   "source": [
    "## Tags with character names"
   ]
  },
  {
   "cell_type": "code",
   "execution_count": 34,
   "metadata": {
    "scrolled": true
   },
   "outputs": [
    {
     "data": {
      "text/plain": [
       "[('dean', 58462),\n",
       " ('-', 58024),\n",
       " ('fluff', 39884),\n",
       " ('alternate', 39428),\n",
       " ('sex', 39377),\n",
       " ('universe', 38153),\n",
       " ('angst', 34580),\n",
       " ('castiel', 33090),\n",
       " ('of', 32518),\n",
       " ('winchester', 32304),\n",
       " ('and', 30487),\n",
       " ('a', 28615),\n",
       " ('sam', 27608),\n",
       " ('the', 26748),\n",
       " ('freeform', 24977),\n",
       " ('is', 23835),\n",
       " ('first', 17066),\n",
       " ('to', 15477),\n",
       " ('smut', 15227),\n",
       " ('hurt/comfort', 14998),\n",
       " ('in', 14931),\n",
       " ('harry', 14543),\n",
       " ('character', 14388),\n",
       " ('romance', 14271),\n",
       " ('sexual', 13007),\n",
       " ('canon', 12893),\n",
       " ('love', 12885),\n",
       " ('anal', 12817),\n",
       " ('i', 12630),\n",
       " ('plot', 11831),\n",
       " ('relationship', 11411),\n",
       " ('au', 11108),\n",
       " ('bottom', 10913),\n",
       " ('humor', 10360),\n",
       " ('not', 10188),\n",
       " ('death', 9961),\n",
       " ('with', 9896),\n",
       " ('time', 9643),\n",
       " ('fic', 9610),\n",
       " ('potter', 9233),\n",
       " ('cas', 9123),\n",
       " ('top', 9074),\n",
       " ('content', 8809),\n",
       " ('ending', 8313),\n",
       " ('established', 8054),\n",
       " ('kink', 8016),\n",
       " ('pov', 7997),\n",
       " ('explicit', 7573),\n",
       " ('this', 7550),\n",
       " ('one', 7517),\n",
       " ('hurt', 7419),\n",
       " ('&', 7381),\n",
       " ('happy', 7316),\n",
       " ('what', 7268),\n",
       " ('destiel', 7201),\n",
       " ('jobs', 7160),\n",
       " ('hogwarts', 6991),\n",
       " ('family', 6920),\n",
       " ('but', 6701),\n",
       " ('it', 6551),\n",
       " ('language', 6504),\n",
       " ('no', 6322),\n",
       " ('human', 6312),\n",
       " ('draco', 6304),\n",
       " ('divergence', 6045),\n",
       " ('christmas', 5880),\n",
       " ('drama', 5800),\n",
       " ('episode:', 5725),\n",
       " ('violence', 5612),\n",
       " ('shot', 5554),\n",
       " ('oral', 5553),\n",
       " ('incest', 5495),\n",
       " ('emotional', 5400),\n",
       " ('community:', 5377),\n",
       " ('friendship', 5340),\n",
       " ('kiss', 5307),\n",
       " ('for', 5300),\n",
       " ('abuse', 5269),\n",
       " ('gabriel', 5185),\n",
       " ('protective', 5163),\n",
       " ('season/series', 5147),\n",
       " ('blow', 5110),\n",
       " ('fingering', 5107),\n",
       " ('slash', 5010),\n",
       " ('without', 4940),\n",
       " ('kissing', 4808),\n",
       " ('are', 4660),\n",
       " ('crossover', 4605),\n",
       " ('past', 4544),\n",
       " ('light', 4534),\n",
       " ('so', 4511),\n",
       " ('era', 4476),\n",
       " ('implied', 4412),\n",
       " ('at', 4339),\n",
       " ('out', 4307),\n",
       " ('implied/referenced', 4297),\n",
       " ('plot/porn', 4284),\n",
       " ('porn', 4283),\n",
       " ('on', 4275),\n",
       " ('domestic', 4251)]"
      ]
     },
     "execution_count": 34,
     "metadata": {},
     "output_type": "execute_result"
    }
   ],
   "source": [
    "# Most popular terms in tags overall\n",
    "import re\n",
    "\n",
    "all_fic_tags = []\n",
    "for fandom in fandoms:\n",
    "    all_fic_tags += metadata[fandom]['additional tags'].map(lambda x: eval(x)).tolist()\n",
    "tags = [re.split(r' |!', tag.lower()) for fic_tags in all_fic_tags for tag in fic_tags]\n",
    "tag_terms = [term for tag in tags for term in tag]\n",
    "tag_term_ctr = Counter(tag_terms)\n",
    "tag_term_ctr.most_common(100)"
   ]
  },
  {
   "cell_type": "code",
   "execution_count": 18,
   "metadata": {},
   "outputs": [
    {
     "name": "stdout",
     "output_type": "stream",
     "text": [
      "20657\n",
      "186952\n",
      "0.11049360263597073\n"
     ]
    }
   ],
   "source": [
    "# How many fics have at least one character tag?\n",
    "n_fics_char_tags = {}\n",
    "n_fics = {}\n",
    "for fandom in fandoms:\n",
    "    n_fics_char_tags[fandom] = metadata[fandom]['additional tags'].map(lambda x: any([tag for tag in eval(x) if any([part in tag.split() for part in name_parts[fandom]])])).sum()\n",
    "    n_fics[fandom] = len(metadata[fandom])\n",
    "total_n_fics_char_tags = sum(n_fics_char_tags.values())\n",
    "total_n_fics = sum(n_fics.values())\n",
    "print(total_n_fics_char_tags)\n",
    "print(total_n_fics)\n",
    "print(total_n_fics_char_tags/total_n_fics)"
   ]
  },
  {
   "cell_type": "code",
   "execution_count": 38,
   "metadata": {},
   "outputs": [
    {
     "name": "stdout",
     "output_type": "stream",
     "text": [
      "185829\n",
      "162814\n"
     ]
    }
   ],
   "source": [
    "# Load character names, get character tags\n",
    "from collections import Counter\n",
    "\n",
    "fandoms = ['harrypotter',\n",
    "           'supernatural']\n",
    "chars = {}\n",
    "name_parts = {}\n",
    "char_tags = {}\n",
    "for fandom in fandoms:\n",
    "    char_fpath = f'/data/fanfiction_ao3/{fandom}/canonical_characters.txt'\n",
    "    with open(char_fpath) as f:\n",
    "        chars[fandom] = f.read().splitlines()\n",
    "    canonical_character_name_parts = set([part for name in chars[fandom] for part in name.split()])\n",
    "    exclude = set(['The'])\n",
    "    canonical_character_name_parts -= exclude\n",
    "    name_parts[fandom] = set([c.lower().replace('\"', '') for c in canonical_character_name_parts if len(c) > 1])\n",
    "\n",
    "    # Filter to tags that mention characters\n",
    "    char_tags[fandom] = [tag for tag in tags if any([part in tag for part in name_parts[fandom]])]\n",
    "    print(len(char_tags[fandom]))"
   ]
  },
  {
   "cell_type": "code",
   "execution_count": 39,
   "metadata": {
    "scrolled": true
   },
   "outputs": [
    {
     "data": {
      "text/plain": [
       "[('bottom', 15116),\n",
       " ('top', 12183),\n",
       " ('-', 10713),\n",
       " ('death', 8145),\n",
       " ('freeform', 7282),\n",
       " ('protective', 7117),\n",
       " ('pov', 5957),\n",
       " ('alpha', 4668),\n",
       " ('omega', 3950),\n",
       " ('mentions', 3564),\n",
       " ('human', 3511),\n",
       " ('castiel/dean', 3422),\n",
       " ('cas', 3299),\n",
       " ('book', 3153),\n",
       " ('minor', 3143),\n",
       " ('bunker', 3120),\n",
       " ('bisexual', 2769),\n",
       " ('sub', 2768),\n",
       " (\"winchester's\", 2695),\n",
       " ('dom', 2621),\n",
       " ('year', 2535),\n",
       " ('female', 2532),\n",
       " ('good', 2424),\n",
       " ('episode:', 2292),\n",
       " ('universe', 2241),\n",
       " ('alternate', 2229),\n",
       " ('parenting', 2193),\n",
       " ('little', 2131),\n",
       " ('sex', 2104),\n",
       " ('a+', 2064),\n",
       " ('&', 2002),\n",
       " ('(supernatural)', 1999),\n",
       " ('angel', 1997),\n",
       " ('love', 1930),\n",
       " ('dark', 1901),\n",
       " ('loves', 1900),\n",
       " ('jealous', 1889),\n",
       " ('brother', 1815),\n",
       " ('past', 1782),\n",
       " ('established', 1762),\n",
       " ('big', 1734),\n",
       " ('sick', 1703),\n",
       " ('first', 1657),\n",
       " ('lives', 1614),\n",
       " ('feelings', 1604),\n",
       " ('young', 1599),\n",
       " ('au', 1598),\n",
       " ('next', 1592),\n",
       " ('auror', 1588),\n",
       " ('friendship', 1561)]"
      ]
     },
     "execution_count": 39,
     "metadata": {},
     "output_type": "execute_result"
    }
   ],
   "source": [
    "# Most popular terms with char tags\n",
    "import nltk\n",
    "stopwords = nltk.corpus.stopwords.words('english')\n",
    "\n",
    "all_char_tags = sum([char_tags[fandom] for fandom in fandoms], [])\n",
    "all_name_parts = set().union(*name_parts.values())\n",
    "char_tag_terms = [term for tag in all_char_tags for term in tag if not term in stopwords and not term in all_name_parts]\n",
    "char_tags_terms_ctr = Counter(char_tag_terms)\n",
    "char_tags_terms_ctr.most_common(50)"
   ]
  },
  {
   "cell_type": "code",
   "execution_count": 32,
   "metadata": {
    "scrolled": true
   },
   "outputs": [
    {
     "data": {
      "text/plain": [
       "[('bottom!dean', 718),\n",
       " ('top!dean', 428),\n",
       " ('demon!dean', 385),\n",
       " ('human!cas', 365),\n",
       " ('top!cas', 339),\n",
       " ('bottom!cas', 263),\n",
       " ('sub!dean', 254),\n",
       " ('bottom!sam', 233),\n",
       " ('top!sam', 212),\n",
       " ('dom!cas', 169),\n",
       " ('hurt!dean', 165),\n",
       " ('wing!kink', 146),\n",
       " ('alpha!dean', 144),\n",
       " ('dom!dean', 138),\n",
       " ('omega!dean', 129),\n",
       " ('human!castiel', 127),\n",
       " ('end!verse', 127),\n",
       " ('hurt!sam', 120),\n",
       " ('dom!sam', 116),\n",
       " ('fallen!cas', 107),\n",
       " ('mechanic!dean', 106),\n",
       " ('bottom!castiel', 99),\n",
       " ('top!castiel', 98),\n",
       " ('jealous!dean', 97),\n",
       " ('alpha!sam', 89),\n",
       " ('daddy!dean', 87),\n",
       " ('wee!chesters', 86),\n",
       " ('protective!dean', 85),\n",
       " ('girl!dean', 80),\n",
       " ('shipper!sam', 79)]"
      ]
     },
     "execution_count": 32,
     "metadata": {},
     "output_type": "execute_result"
    }
   ],
   "source": [
    "# Look for specifically ! character tags\n",
    "tags_exclamation = [term for term in tag_terms if '!' in term]\n",
    "tags_exclamation_ctr = Counter(tags_exclamation)\n",
    "tags_exclamation_ctr.most_common(30)"
   ]
  }
 ],
 "metadata": {
  "kernelspec": {
   "display_name": "Python 3",
   "language": "python",
   "name": "python3"
  },
  "language_info": {
   "codemirror_mode": {
    "name": "ipython",
    "version": 3
   },
   "file_extension": ".py",
   "mimetype": "text/x-python",
   "name": "python",
   "nbconvert_exporter": "python",
   "pygments_lexer": "ipython3",
   "version": "3.7.7"
  }
 },
 "nbformat": 4,
 "nbformat_minor": 4
}
