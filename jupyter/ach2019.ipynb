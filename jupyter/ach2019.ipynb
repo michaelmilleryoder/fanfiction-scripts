{
 "cells": [
  {
   "cell_type": "markdown",
   "metadata": {},
   "source": [
    "# Create aspirational and real-world corpora"
   ]
  },
  {
   "cell_type": "code",
   "execution_count": 1,
   "metadata": {},
   "outputs": [],
   "source": [
    "import os\n",
    "import pandas as pd\n",
    "\n",
    "# Load metadata\n",
    "\n",
    "fandoms = [\n",
    "    'allmarvel',\n",
    "    'supernatural',\n",
    "    'harrypotter',\n",
    "    'dcu',\n",
    "    'sherlock',\n",
    "    'teenwolf',\n",
    "    'starwars',\n",
    "]\n",
    "\n",
    "metadata = {}\n",
    "\n",
    "for fandom in fandoms:\n",
    "    metadata_path = f'/usr2/scratch/fanfic/ao3_{fandom}_text/stories.csv'\n",
    "    metadata[fandom] = pd.read_csv(metadata_path)"
   ]
  },
  {
   "cell_type": "code",
   "execution_count": 4,
   "metadata": {},
   "outputs": [],
   "source": [
    "# Tag separation\n",
    "\n",
    "tag_corpora = {}\n",
    "tag_corpora['aspirational'] = [\n",
    "    \"lgbtq themes\",\n",
    "    \"coming out\",\n",
    "    \"gay\",\n",
    "    \"trans character\",\n",
    "    \"gay character\",\n",
    "    \"bi character\",\n",
    "    \"lesbian character\",\n",
    "]\n",
    "\n",
    "tag_corpora['challenges'] = [\n",
    "    \"homophobia\",\n",
    "    \"slurs\",\n",
    "    \"transphobia\",\n",
    "    \"biphobia\",\n",
    "    \"closeted character\",\n",
    "]"
   ]
  },
  {
   "cell_type": "code",
   "execution_count": null,
   "metadata": {},
   "outputs": [],
   "source": [
    "# Filter to fics that have each\n",
    "from tqdm import tqdm_notebook as tqdm\n",
    "\n",
    "fic_ids = {corpus: {fandom: [] for fandom in fandoms} for corpus in tag_corpora}\n",
    "total_fics = 0\n",
    "\n",
    "for fandom in tqdm(fandoms):\n",
    "    print(fandom)\n",
    "    for corpus, tag_list in list(tag_corpora.items()):\n",
    "        selected = metadata[fandom].loc[\n",
    "#             [metadata[fandom]['additional tags'].map(lambda x: any([t in eval(x.lower()) for t in tag_list]))],\n",
    "#             'fic_id'].tolist()\n",
    "            metadata[fandom]['additional tags'].map(lambda x: any([t in eval(x.lower()) for t in tag_list])),\n",
    "            'fic_id'].tolist()\n",
    "        fic_ids[corpus][fandom].extend(selected) \n",
    "        \n",
    "    total_fics += len(metadata[fandom])\n",
    "   "
   ]
  },
  {
   "cell_type": "code",
   "execution_count": 19,
   "metadata": {
    "scrolled": true
   },
   "outputs": [
    {
     "name": "stdout",
     "output_type": "stream",
     "text": [
      "aspirational: 7300\n",
      "challenges: 3765\n",
      "Total fics: 1036031\n"
     ]
    }
   ],
   "source": [
    "for corpus in tag_corpora:\n",
    "    print(f'{corpus}: {sum(len(fic_ids[corpus][f]) for f in fandoms)}')\n",
    "print(f'Total fics: {total_fics}')"
   ]
  },
  {
   "cell_type": "code",
   "execution_count": 24,
   "metadata": {
    "scrolled": true
   },
   "outputs": [
    {
     "data": {
      "text/plain": [
       "[10014671,\n",
       " 10049126,\n",
       " 10065767,\n",
       " 100802,\n",
       " 1011815,\n",
       " 10170614,\n",
       " 1019982,\n",
       " 1023267,\n",
       " 1032687,\n",
       " 10333220,\n",
       " 10343364,\n",
       " 10375506,\n",
       " 10394706,\n",
       " 10397595,\n",
       " 10428813,\n",
       " 1045248,\n",
       " 10465140,\n",
       " 10483320,\n",
       " 1051028,\n",
       " 10516722,\n",
       " 1059218,\n",
       " 10617489,\n",
       " 1068359,\n",
       " 10685394,\n",
       " 1076711,\n",
       " 10834797,\n",
       " 10841805,\n",
       " 10847154,\n",
       " 10848570,\n",
       " 10875816,\n",
       " 10903839,\n",
       " 10945338,\n",
       " 1097794,\n",
       " 11016537,\n",
       " 110174,\n",
       " 11064498,\n",
       " 11065440,\n",
       " 1109283,\n",
       " 11100546,\n",
       " 11110515,\n",
       " 1111793,\n",
       " 1111881,\n",
       " 1113550,\n",
       " 1115479,\n",
       " 11170662,\n",
       " 1117998,\n",
       " 1118039,\n",
       " 11206140,\n",
       " 11228877,\n",
       " 11285787,\n",
       " 11291187,\n",
       " 11302176,\n",
       " 11302554,\n",
       " 11326149,\n",
       " 11329692,\n",
       " 11370783,\n",
       " 113801,\n",
       " 11444625,\n",
       " 11461320,\n",
       " 11461821,\n",
       " 1150239,\n",
       " 1152427,\n",
       " 11529567,\n",
       " 11536026,\n",
       " 11568321,\n",
       " 1158012,\n",
       " 11586813,\n",
       " 11591313,\n",
       " 11639019,\n",
       " 11653164,\n",
       " 11670942,\n",
       " 11688195,\n",
       " 11716779,\n",
       " 11742867,\n",
       " 1181013,\n",
       " 11821773,\n",
       " 11850354,\n",
       " 11854263,\n",
       " 11901132,\n",
       " 11901780,\n",
       " 11903853,\n",
       " 11917146,\n",
       " 11968704,\n",
       " 11971440,\n",
       " 1201150,\n",
       " 12059778,\n",
       " 12100377,\n",
       " 12128475,\n",
       " 12144147,\n",
       " 12160410,\n",
       " 12164061,\n",
       " 12176877,\n",
       " 12185310,\n",
       " 12190119,\n",
       " 12237831,\n",
       " 12257925,\n",
       " 12265956,\n",
       " 12270429,\n",
       " 12276732,\n",
       " 12288663]"
      ]
     },
     "execution_count": 24,
     "metadata": {},
     "output_type": "execute_result"
    }
   ],
   "source": [
    "fic_ids['challenges']['harrypotter'][:100]"
   ]
  },
  {
   "cell_type": "markdown",
   "metadata": {},
   "source": [
    "## Concatenate text files"
   ]
  },
  {
   "cell_type": "code",
   "execution_count": 28,
   "metadata": {
    "scrolled": true
   },
   "outputs": [
    {
     "data": {
      "application/vnd.jupyter.widget-view+json": {
       "model_id": "3b5fdb06252a43c79640d8633cef755e",
       "version_major": 2,
       "version_minor": 0
      },
      "text/plain": [
       "HBox(children=(IntProgress(value=0, max=2), HTML(value='')))"
      ]
     },
     "metadata": {},
     "output_type": "display_data"
    },
    {
     "data": {
      "application/vnd.jupyter.widget-view+json": {
       "model_id": "9f6c5caecb094184984ff943ef514e6f",
       "version_major": 2,
       "version_minor": 0
      },
      "text/plain": [
       "HBox(children=(IntProgress(value=0, max=1706), HTML(value='')))"
      ]
     },
     "metadata": {},
     "output_type": "display_data"
    },
    {
     "data": {
      "application/vnd.jupyter.widget-view+json": {
       "model_id": "479280063c894733902ace2ffcf0f4c5",
       "version_major": 2,
       "version_minor": 0
      },
      "text/plain": [
       "HBox(children=(IntProgress(value=0, max=1238), HTML(value='')))"
      ]
     },
     "metadata": {},
     "output_type": "display_data"
    },
    {
     "data": {
      "application/vnd.jupyter.widget-view+json": {
       "model_id": "b58ce4bc852049fbbe283759e75c2bac",
       "version_major": 2,
       "version_minor": 0
      },
      "text/plain": [
       "HBox(children=(IntProgress(value=0, max=1684), HTML(value='')))"
      ]
     },
     "metadata": {},
     "output_type": "display_data"
    },
    {
     "data": {
      "application/vnd.jupyter.widget-view+json": {
       "model_id": "823dacfbcb6d44809f7bdf468bb8b53b",
       "version_major": 2,
       "version_minor": 0
      },
      "text/plain": [
       "HBox(children=(IntProgress(value=0, max=944), HTML(value='')))"
      ]
     },
     "metadata": {},
     "output_type": "display_data"
    },
    {
     "data": {
      "application/vnd.jupyter.widget-view+json": {
       "model_id": "5e64753f038f4378ac2cdc180f9370d2",
       "version_major": 2,
       "version_minor": 0
      },
      "text/plain": [
       "HBox(children=(IntProgress(value=0, max=627), HTML(value='')))"
      ]
     },
     "metadata": {},
     "output_type": "display_data"
    },
    {
     "data": {
      "application/vnd.jupyter.widget-view+json": {
       "model_id": "d9e435b627f34eee9437bb0f56a092a9",
       "version_major": 2,
       "version_minor": 0
      },
      "text/plain": [
       "HBox(children=(IntProgress(value=0, max=641), HTML(value='')))"
      ]
     },
     "metadata": {},
     "output_type": "display_data"
    },
    {
     "data": {
      "application/vnd.jupyter.widget-view+json": {
       "model_id": "0ebd4fb7f4cb4f4680f894645a4b049c",
       "version_major": 2,
       "version_minor": 0
      },
      "text/plain": [
       "HBox(children=(IntProgress(value=0, max=460), HTML(value='')))"
      ]
     },
     "metadata": {},
     "output_type": "display_data"
    },
    {
     "data": {
      "application/vnd.jupyter.widget-view+json": {
       "model_id": "890ff11577a74df1a7aa2f3cddb79ee8",
       "version_major": 2,
       "version_minor": 0
      },
      "text/plain": [
       "HBox(children=(IntProgress(value=0, max=875), HTML(value='')))"
      ]
     },
     "metadata": {},
     "output_type": "display_data"
    },
    {
     "data": {
      "application/vnd.jupyter.widget-view+json": {
       "model_id": "d2020649d1cf43beb9ed60dc47236dd2",
       "version_major": 2,
       "version_minor": 0
      },
      "text/plain": [
       "HBox(children=(IntProgress(value=0, max=1158), HTML(value='')))"
      ]
     },
     "metadata": {},
     "output_type": "display_data"
    },
    {
     "data": {
      "application/vnd.jupyter.widget-view+json": {
       "model_id": "77a066bfa4c54b1f964c777ca6b95943",
       "version_major": 2,
       "version_minor": 0
      },
      "text/plain": [
       "HBox(children=(IntProgress(value=0, max=610), HTML(value='')))"
      ]
     },
     "metadata": {},
     "output_type": "display_data"
    },
    {
     "data": {
      "application/vnd.jupyter.widget-view+json": {
       "model_id": "9b381b4cc9ed45af9861c335c9b0b52e",
       "version_major": 2,
       "version_minor": 0
      },
      "text/plain": [
       "HBox(children=(IntProgress(value=0, max=291), HTML(value='')))"
      ]
     },
     "metadata": {},
     "output_type": "display_data"
    },
    {
     "data": {
      "application/vnd.jupyter.widget-view+json": {
       "model_id": "bf18124072c2442c82d86cbfc90c41ea",
       "version_major": 2,
       "version_minor": 0
      },
      "text/plain": [
       "HBox(children=(IntProgress(value=0, max=396), HTML(value='')))"
      ]
     },
     "metadata": {},
     "output_type": "display_data"
    },
    {
     "data": {
      "application/vnd.jupyter.widget-view+json": {
       "model_id": "4402781f43724ebba988ea2d3197aee1",
       "version_major": 2,
       "version_minor": 0
      },
      "text/plain": [
       "HBox(children=(IntProgress(value=0, max=291), HTML(value='')))"
      ]
     },
     "metadata": {},
     "output_type": "display_data"
    },
    {
     "data": {
      "application/vnd.jupyter.widget-view+json": {
       "model_id": "7fd921d5559d4f94a80fc370f4f89004",
       "version_major": 2,
       "version_minor": 0
      },
      "text/plain": [
       "HBox(children=(IntProgress(value=0, max=144), HTML(value='')))"
      ]
     },
     "metadata": {},
     "output_type": "display_data"
    }
   ],
   "source": [
    "outpath = '/usr0/home/mamille2/new_home/fanfiction/data/{}_seven_fandoms.txt'\n",
    "\n",
    "for corpus in tag_corpora:\n",
    "    \n",
    "    with open(outpath.format(corpus), 'w') as outfile:\n",
    "    \n",
    "        for fandom in tqdm(fandoms):\n",
    "            \n",
    "            if fandom == 'harrypotter':\n",
    "                inpath = '/usr2/mamille2/fanfiction-project/data/ao3/{0}/fics_paras/{1}_tokenized_paras.txt'\n",
    "                \n",
    "            else:\n",
    "                inpath = '/usr2/mamille2/fanfiction-project/data/ao3/{0}/fics_paras/{1}.txt'\n",
    "                \n",
    "            for fic_id in tqdm(fic_ids[corpus][fandom]):\n",
    "\n",
    "                # Load file, write file\n",
    "                with open(inpath.format(fandom, fic_id), 'r') as f:\n",
    "                    file = f.read()\n",
    "                outfile.write(f\"{file}\\n\")"
   ]
  },
  {
   "cell_type": "markdown",
   "metadata": {},
   "source": [
    "# Check how many fics have only slash pairings with/without identity terms"
   ]
  },
  {
   "cell_type": "code",
   "execution_count": 1,
   "metadata": {},
   "outputs": [],
   "source": [
    "import os\n",
    "import pandas as pd\n",
    "\n",
    "# Load metadata\n",
    "\n",
    "fandoms = [\n",
    "    'allmarvel',\n",
    "    'supernatural',\n",
    "    'harrypotter',\n",
    "    'dcu',\n",
    "    'sherlock',\n",
    "    'teenwolf',\n",
    "    'starwars',\n",
    "]\n",
    "\n",
    "metadata = {}\n",
    "\n",
    "for fandom in fandoms:\n",
    "    metadata_path = f'/usr2/scratch/fanfic/ao3_{fandom}_text/stories.csv'\n",
    "    metadata[fandom] = pd.read_csv(metadata_path)"
   ]
  },
  {
   "cell_type": "code",
   "execution_count": 4,
   "metadata": {
    "scrolled": true
   },
   "outputs": [
    {
     "data": {
      "text/plain": [
       "223501                  []\n",
       "137093             [\"M/M\"]\n",
       "138686           [\"Multi\"]\n",
       "4178               [\"M/M\"]\n",
       "173208      [\"F/M\", \"Gen\"]\n",
       "233452             [\"M/M\"]\n",
       "88342              [\"M/M\"]\n",
       "13236              [\"F/M\"]\n",
       "114411             [\"M/M\"]\n",
       "178779             [\"M/M\"]\n",
       "9978                    []\n",
       "243303    [\"F/F\", \"Multi\"]\n",
       "91401                   []\n",
       "8969               [\"F/M\"]\n",
       "149064    [\"M/M\", \"Multi\"]\n",
       "35493       [\"Gen\", \"F/M\"]\n",
       "20988              [\"F/M\"]\n",
       "133452           [\"Multi\"]\n",
       "212984             [\"M/M\"]\n",
       "88045              [\"M/M\"]\n",
       "220966             [\"F/M\"]\n",
       "226489      [\"M/M\", \"F/M\"]\n",
       "158693             [\"M/M\"]\n",
       "119900             [\"F/M\"]\n",
       "120006                  []\n",
       "165325             [\"F/F\"]\n",
       "168175             [\"M/M\"]\n",
       "172387             [\"Gen\"]\n",
       "122069             [\"F/M\"]\n",
       "79345              [\"F/M\"]\n",
       "                ...       \n",
       "59395              [\"F/M\"]\n",
       "223752      [\"F/M\", \"Gen\"]\n",
       "64540              [\"F/M\"]\n",
       "54522              [\"M/M\"]\n",
       "234442             [\"M/M\"]\n",
       "21681              [\"F/F\"]\n",
       "207559                  []\n",
       "170617             [\"F/F\"]\n",
       "48453                   []\n",
       "178500             [\"F/M\"]\n",
       "150900                  []\n",
       "208873                  []\n",
       "23543              [\"M/M\"]\n",
       "234332             [\"M/M\"]\n",
       "25389              [\"F/M\"]\n",
       "161940             [\"F/M\"]\n",
       "44609              [\"Gen\"]\n",
       "194146             [\"M/M\"]\n",
       "30619     [\"M/M\", \"Other\"]\n",
       "166005             [\"M/M\"]\n",
       "37818       [\"Gen\", \"M/M\"]\n",
       "110430             [\"M/M\"]\n",
       "57794       [\"Gen\", \"M/M\"]\n",
       "239706             [\"M/M\"]\n",
       "40954                   []\n",
       "115180             [\"M/M\"]\n",
       "180824             [\"F/M\"]\n",
       "235606             [\"F/F\"]\n",
       "194634             [\"M/M\"]\n",
       "148324      [\"F/F\", \"F/M\"]\n",
       "Name: category, Length: 100, dtype: object"
      ]
     },
     "execution_count": 4,
     "metadata": {},
     "output_type": "execute_result"
    }
   ],
   "source": [
    "metadata['allmarvel']['category'].sample(100)"
   ]
  },
  {
   "cell_type": "code",
   "execution_count": 9,
   "metadata": {},
   "outputs": [],
   "source": [
    "for fandom in fandoms:\n",
    "    \n",
    "    metadata[fandom]['only_slash'] = metadata[fandom]['category'].map(\n",
    "        lambda x: all(cat in ['F/F', 'M/M'] for cat in eval(x)))"
   ]
  },
  {
   "cell_type": "code",
   "execution_count": 11,
   "metadata": {},
   "outputs": [
    {
     "data": {
      "text/html": [
       "<div>\n",
       "<style scoped>\n",
       "    .dataframe tbody tr th:only-of-type {\n",
       "        vertical-align: middle;\n",
       "    }\n",
       "\n",
       "    .dataframe tbody tr th {\n",
       "        vertical-align: top;\n",
       "    }\n",
       "\n",
       "    .dataframe thead th {\n",
       "        text-align: right;\n",
       "    }\n",
       "</style>\n",
       "<table border=\"1\" class=\"dataframe\">\n",
       "  <thead>\n",
       "    <tr style=\"text-align: right;\">\n",
       "      <th></th>\n",
       "      <th>fandom</th>\n",
       "      <th>num_only_slash</th>\n",
       "      <th>num_other</th>\n",
       "    </tr>\n",
       "  </thead>\n",
       "  <tbody>\n",
       "    <tr>\n",
       "      <th>0</th>\n",
       "      <td>allmarvel</td>\n",
       "      <td>115231</td>\n",
       "      <td>129969</td>\n",
       "    </tr>\n",
       "    <tr>\n",
       "      <th>1</th>\n",
       "      <td>supernatural</td>\n",
       "      <td>112443</td>\n",
       "      <td>77252</td>\n",
       "    </tr>\n",
       "    <tr>\n",
       "      <th>2</th>\n",
       "      <td>harrypotter</td>\n",
       "      <td>86690</td>\n",
       "      <td>92717</td>\n",
       "    </tr>\n",
       "    <tr>\n",
       "      <th>3</th>\n",
       "      <td>dcu</td>\n",
       "      <td>62764</td>\n",
       "      <td>60837</td>\n",
       "    </tr>\n",
       "    <tr>\n",
       "      <th>4</th>\n",
       "      <td>sherlock</td>\n",
       "      <td>68312</td>\n",
       "      <td>49288</td>\n",
       "    </tr>\n",
       "    <tr>\n",
       "      <th>5</th>\n",
       "      <td>teenwolf</td>\n",
       "      <td>63743</td>\n",
       "      <td>34576</td>\n",
       "    </tr>\n",
       "    <tr>\n",
       "      <th>6</th>\n",
       "      <td>starwars</td>\n",
       "      <td>31272</td>\n",
       "      <td>50937</td>\n",
       "    </tr>\n",
       "  </tbody>\n",
       "</table>\n",
       "</div>"
      ],
      "text/plain": [
       "         fandom  num_only_slash  num_other\n",
       "0     allmarvel          115231     129969\n",
       "1  supernatural          112443      77252\n",
       "2   harrypotter           86690      92717\n",
       "3           dcu           62764      60837\n",
       "4      sherlock           68312      49288\n",
       "5      teenwolf           63743      34576\n",
       "6      starwars           31272      50937"
      ]
     },
     "execution_count": 11,
     "metadata": {},
     "output_type": "execute_result"
    }
   ],
   "source": [
    "lines = []\n",
    "\n",
    "for fandom in fandoms:\n",
    "    n_only_slash = sum(metadata[fandom]['only_slash'])\n",
    "    lines.append([fandom, n_only_slash, len(metadata[fandom])-n_only_slash])\n",
    "    \n",
    "pd.DataFrame(lines, columns=['fandom', 'num_only_slash', 'num_other'])"
   ]
  },
  {
   "cell_type": "code",
   "execution_count": null,
   "metadata": {},
   "outputs": [],
   "source": [
    "# Check for LGBTQ identity terms in those fics\n",
    "import re\n",
    "\n",
    "marked_labels = ['transgender', 'trans', 'queer', 'lesbian', 'gay', 'homosexual']\n",
    "# unmarked_labels = ['heterosexual', 'cisgender', 'cis']\n",
    "\n"
   ]
  }
 ],
 "metadata": {
  "kernelspec": {
   "display_name": "Python 3",
   "language": "python",
   "name": "python3"
  },
  "language_info": {
   "codemirror_mode": {
    "name": "ipython",
    "version": 3
   },
   "file_extension": ".py",
   "mimetype": "text/x-python",
   "name": "python",
   "nbconvert_exporter": "python",
   "pygments_lexer": "ipython3",
   "version": "3.6.8"
  }
 },
 "nbformat": 4,
 "nbformat_minor": 2
}
