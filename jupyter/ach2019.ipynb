{
 "cells": [
  {
   "cell_type": "markdown",
   "metadata": {},
   "source": [
    "# Check how many fics have only slash pairings with/without identity terms"
   ]
  },
  {
   "cell_type": "code",
   "execution_count": 1,
   "metadata": {},
   "outputs": [],
   "source": [
    "import os\n",
    "import pandas as pd\n",
    "\n",
    "# Load metadata\n",
    "\n",
    "fandoms = [\n",
    "    'allmarvel',\n",
    "    'supernatural',\n",
    "    'harrypotter',\n",
    "    'dcu',\n",
    "    'sherlock',\n",
    "    'teenwolf',\n",
    "    'starwars',\n",
    "]\n",
    "\n",
    "metadata = {}\n",
    "\n",
    "for fandom in fandoms:\n",
    "    metadata_path = f'/usr2/scratch/fanfic/ao3_{fandom}_text/stories.csv'\n",
    "    metadata[fandom] = pd.read_csv(metadata_path)"
   ]
  },
  {
   "cell_type": "code",
   "execution_count": 4,
   "metadata": {
    "scrolled": true
   },
   "outputs": [
    {
     "data": {
      "text/plain": [
       "223501                  []\n",
       "137093             [\"M/M\"]\n",
       "138686           [\"Multi\"]\n",
       "4178               [\"M/M\"]\n",
       "173208      [\"F/M\", \"Gen\"]\n",
       "233452             [\"M/M\"]\n",
       "88342              [\"M/M\"]\n",
       "13236              [\"F/M\"]\n",
       "114411             [\"M/M\"]\n",
       "178779             [\"M/M\"]\n",
       "9978                    []\n",
       "243303    [\"F/F\", \"Multi\"]\n",
       "91401                   []\n",
       "8969               [\"F/M\"]\n",
       "149064    [\"M/M\", \"Multi\"]\n",
       "35493       [\"Gen\", \"F/M\"]\n",
       "20988              [\"F/M\"]\n",
       "133452           [\"Multi\"]\n",
       "212984             [\"M/M\"]\n",
       "88045              [\"M/M\"]\n",
       "220966             [\"F/M\"]\n",
       "226489      [\"M/M\", \"F/M\"]\n",
       "158693             [\"M/M\"]\n",
       "119900             [\"F/M\"]\n",
       "120006                  []\n",
       "165325             [\"F/F\"]\n",
       "168175             [\"M/M\"]\n",
       "172387             [\"Gen\"]\n",
       "122069             [\"F/M\"]\n",
       "79345              [\"F/M\"]\n",
       "                ...       \n",
       "59395              [\"F/M\"]\n",
       "223752      [\"F/M\", \"Gen\"]\n",
       "64540              [\"F/M\"]\n",
       "54522              [\"M/M\"]\n",
       "234442             [\"M/M\"]\n",
       "21681              [\"F/F\"]\n",
       "207559                  []\n",
       "170617             [\"F/F\"]\n",
       "48453                   []\n",
       "178500             [\"F/M\"]\n",
       "150900                  []\n",
       "208873                  []\n",
       "23543              [\"M/M\"]\n",
       "234332             [\"M/M\"]\n",
       "25389              [\"F/M\"]\n",
       "161940             [\"F/M\"]\n",
       "44609              [\"Gen\"]\n",
       "194146             [\"M/M\"]\n",
       "30619     [\"M/M\", \"Other\"]\n",
       "166005             [\"M/M\"]\n",
       "37818       [\"Gen\", \"M/M\"]\n",
       "110430             [\"M/M\"]\n",
       "57794       [\"Gen\", \"M/M\"]\n",
       "239706             [\"M/M\"]\n",
       "40954                   []\n",
       "115180             [\"M/M\"]\n",
       "180824             [\"F/M\"]\n",
       "235606             [\"F/F\"]\n",
       "194634             [\"M/M\"]\n",
       "148324      [\"F/F\", \"F/M\"]\n",
       "Name: category, Length: 100, dtype: object"
      ]
     },
     "execution_count": 4,
     "metadata": {},
     "output_type": "execute_result"
    }
   ],
   "source": [
    "metadata['allmarvel']['category'].sample(100)"
   ]
  },
  {
   "cell_type": "code",
   "execution_count": 9,
   "metadata": {},
   "outputs": [],
   "source": [
    "for fandom in fandoms:\n",
    "    \n",
    "    metadata[fandom]['only_slash'] = metadata[fandom]['category'].map(\n",
    "        lambda x: all(cat in ['F/F', 'M/M'] for cat in eval(x)))"
   ]
  },
  {
   "cell_type": "code",
   "execution_count": 11,
   "metadata": {},
   "outputs": [
    {
     "data": {
      "text/html": [
       "<div>\n",
       "<style scoped>\n",
       "    .dataframe tbody tr th:only-of-type {\n",
       "        vertical-align: middle;\n",
       "    }\n",
       "\n",
       "    .dataframe tbody tr th {\n",
       "        vertical-align: top;\n",
       "    }\n",
       "\n",
       "    .dataframe thead th {\n",
       "        text-align: right;\n",
       "    }\n",
       "</style>\n",
       "<table border=\"1\" class=\"dataframe\">\n",
       "  <thead>\n",
       "    <tr style=\"text-align: right;\">\n",
       "      <th></th>\n",
       "      <th>fandom</th>\n",
       "      <th>num_only_slash</th>\n",
       "      <th>num_other</th>\n",
       "    </tr>\n",
       "  </thead>\n",
       "  <tbody>\n",
       "    <tr>\n",
       "      <th>0</th>\n",
       "      <td>allmarvel</td>\n",
       "      <td>115231</td>\n",
       "      <td>129969</td>\n",
       "    </tr>\n",
       "    <tr>\n",
       "      <th>1</th>\n",
       "      <td>supernatural</td>\n",
       "      <td>112443</td>\n",
       "      <td>77252</td>\n",
       "    </tr>\n",
       "    <tr>\n",
       "      <th>2</th>\n",
       "      <td>harrypotter</td>\n",
       "      <td>86690</td>\n",
       "      <td>92717</td>\n",
       "    </tr>\n",
       "    <tr>\n",
       "      <th>3</th>\n",
       "      <td>dcu</td>\n",
       "      <td>62764</td>\n",
       "      <td>60837</td>\n",
       "    </tr>\n",
       "    <tr>\n",
       "      <th>4</th>\n",
       "      <td>sherlock</td>\n",
       "      <td>68312</td>\n",
       "      <td>49288</td>\n",
       "    </tr>\n",
       "    <tr>\n",
       "      <th>5</th>\n",
       "      <td>teenwolf</td>\n",
       "      <td>63743</td>\n",
       "      <td>34576</td>\n",
       "    </tr>\n",
       "    <tr>\n",
       "      <th>6</th>\n",
       "      <td>starwars</td>\n",
       "      <td>31272</td>\n",
       "      <td>50937</td>\n",
       "    </tr>\n",
       "  </tbody>\n",
       "</table>\n",
       "</div>"
      ],
      "text/plain": [
       "         fandom  num_only_slash  num_other\n",
       "0     allmarvel          115231     129969\n",
       "1  supernatural          112443      77252\n",
       "2   harrypotter           86690      92717\n",
       "3           dcu           62764      60837\n",
       "4      sherlock           68312      49288\n",
       "5      teenwolf           63743      34576\n",
       "6      starwars           31272      50937"
      ]
     },
     "execution_count": 11,
     "metadata": {},
     "output_type": "execute_result"
    }
   ],
   "source": [
    "lines = []\n",
    "\n",
    "for fandom in fandoms:\n",
    "    n_only_slash = sum(metadata[fandom]['only_slash'])\n",
    "    lines.append([fandom, n_only_slash, len(metadata[fandom])-n_only_slash])\n",
    "    \n",
    "pd.DataFrame(lines, columns=['fandom', 'num_only_slash', 'num_other'])"
   ]
  },
  {
   "cell_type": "code",
   "execution_count": null,
   "metadata": {},
   "outputs": [],
   "source": [
    "# Check for LGBTQ identity terms in those fics\n",
    "import re\n",
    "\n",
    "marked_labels = ['transgender', 'trans', 'queer', 'lesbian', 'gay', 'homosexual']\n",
    "# unmarked_labels = ['heterosexual', 'cisgender', 'cis']\n",
    "\n"
   ]
  }
 ],
 "metadata": {
  "kernelspec": {
   "display_name": "Python 3",
   "language": "python",
   "name": "python3"
  },
  "language_info": {
   "codemirror_mode": {
    "name": "ipython",
    "version": 3
   },
   "file_extension": ".py",
   "mimetype": "text/x-python",
   "name": "python",
   "nbconvert_exporter": "python",
   "pygments_lexer": "ipython3",
   "version": "3.6.4"
  }
 },
 "nbformat": 4,
 "nbformat_minor": 2
}
