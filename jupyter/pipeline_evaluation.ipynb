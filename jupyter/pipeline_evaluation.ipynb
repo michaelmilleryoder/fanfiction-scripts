{
 "cells": [
  {
   "cell_type": "markdown",
   "metadata": {},
   "source": [
    "# Create personal coref annotation interface"
   ]
  },
  {
   "cell_type": "code",
   "execution_count": 7,
   "metadata": {},
   "outputs": [],
   "source": [
    "def add_token_subscript(text):\n",
    "    numbered_tokens = [el for el in enumerate(text.split())]\n",
    "    subscripted = [f'{tok}<sub>{tok_num+1}</sub>' for tok_num, tok in numbered_tokens]\n",
    "    return ' '.join(subscripted)"
   ]
  },
  {
   "cell_type": "code",
   "execution_count": 8,
   "metadata": {},
   "outputs": [],
   "source": [
    "import os\n",
    "import pandas as pd\n",
    "\n",
    "pd.set_option('display.max_colwidth', -1)\n",
    "annotation_dirpath = f'/data/fanfiction_ao3/annotation/prelim'\n",
    "fnames = os.listdir(annotation_dirpath)\n",
    "\n",
    "fandoms = [\n",
    "    'harrypotter',\n",
    "    'sherlock',\n",
    "    'tolkien'\n",
    "]\n",
    "\n",
    "for fandom in fandoms:\n",
    "    for fname in fnames:\n",
    "        if fname.endswith('.csv') and fname.startswith(fandom):\n",
    "            data = pd.read_csv(os.path.join(annotation_dirpath, fname))\n",
    "            data['annotation_text'] = data['text_tokenized'].map(add_token_subscript)\n",
    "            data.loc[:, ['chapter_id', 'para_id', 'annotation_text']].to_html(os.path.join(annotation_dirpath, f'{fname[:-4]}_subscripts.html'), escape=False, index=False)"
   ]
  },
  {
   "cell_type": "markdown",
   "metadata": {},
   "source": [
    "# Load data for preliminary annotation dataset"
   ]
  },
  {
   "cell_type": "code",
   "execution_count": 6,
   "metadata": {},
   "outputs": [
    {
     "name": "stdout",
     "output_type": "stream",
     "text": [
      "tolkien: 2185500.csv\n"
     ]
    }
   ],
   "source": [
    "import os, shutil\n",
    "import random\n",
    "\n",
    "old_seeds = [9, 12, 1234]\n",
    "random.seed(1234)\n",
    "\n",
    "dataset = 'complete_en_1k-50k'\n",
    "fandoms = [\n",
    "#     'allmarvel',\n",
    "#     'supernatural',\n",
    "#     'harrypotter',\n",
    "#     'dcu',\n",
    "#     'sherlock',\n",
    "#     'teenwolf',\n",
    "#     'starwars',\n",
    "#     'drwho',\n",
    "    'tolkien',\n",
    "#     'dragonage',\n",
    "]\n",
    "\n",
    "for fandom in fandoms:\n",
    "\n",
    "    fic_dirpath = f'/data/fanfiction_ao3/{fandom}/{dataset}/fics'\n",
    "    annotation_dirpath = f'/data/fanfiction_ao3/annotation/prelim'\n",
    "    fnames = os.listdir(fic_dirpath)\n",
    "    selected = random.sample(fnames, 1)[0]\n",
    "    print(f'{fandom}: {selected}')\n",
    "    shutil.copy(os.path.join(fic_dirpath, selected), os.path.join(annotation_dirpath, f'{fandom}_{selected}'))"
   ]
  }
 ],
 "metadata": {
  "kernelspec": {
   "display_name": "Python 3",
   "language": "python",
   "name": "python3"
  },
  "language_info": {
   "codemirror_mode": {
    "name": "ipython",
    "version": 3
   },
   "file_extension": ".py",
   "mimetype": "text/x-python",
   "name": "python",
   "nbconvert_exporter": "python",
   "pygments_lexer": "ipython3",
   "version": "3.7.3"
  }
 },
 "nbformat": 4,
 "nbformat_minor": 2
}
