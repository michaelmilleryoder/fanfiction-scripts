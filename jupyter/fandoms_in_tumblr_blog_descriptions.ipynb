{
 "cells": [
  {
   "cell_type": "markdown",
   "metadata": {},
   "source": [
    "# Look for demographics, co-occurring terms in blog descriptions that mention fandoms"
   ]
  },
  {
   "cell_type": "code",
   "execution_count": 1,
   "metadata": {
    "scrolled": true
   },
   "outputs": [
    {
     "name": "stderr",
     "output_type": "stream",
     "text": [
      "/usr0/home/mamille2/anaconda/lib/python3.7/site-packages/IPython/core/interactiveshell.py:3072: DtypeWarning: Columns (10,16) have mixed types.Specify dtype option on import or set low_memory=False.\n",
      "  interactivity=interactivity, compiler=compiler, result=result)\n"
     ]
    },
    {
     "name": "stdout",
     "output_type": "stream",
     "text": [
      "33\n"
     ]
    },
    {
     "data": {
      "text/html": [
       "<div>\n",
       "<style scoped>\n",
       "    .dataframe tbody tr th:only-of-type {\n",
       "        vertical-align: middle;\n",
       "    }\n",
       "\n",
       "    .dataframe tbody tr th {\n",
       "        vertical-align: top;\n",
       "    }\n",
       "\n",
       "    .dataframe thead th {\n",
       "        text-align: right;\n",
       "    }\n",
       "</style>\n",
       "<table border=\"1\" class=\"dataframe\">\n",
       "  <thead>\n",
       "    <tr style=\"text-align: right;\">\n",
       "      <th></th>\n",
       "      <th>tumblelog_id</th>\n",
       "      <th>activity_time_epoch</th>\n",
       "      <th>tumblr_blog_name</th>\n",
       "      <th>tumblr_blog_title</th>\n",
       "      <th>tumblr_blog_description</th>\n",
       "      <th>tumblr_blog_url</th>\n",
       "      <th>is_group_blog</th>\n",
       "      <th>is_primary</th>\n",
       "      <th>is_private</th>\n",
       "      <th>created_time_epoch</th>\n",
       "      <th>...</th>\n",
       "      <th>timezone</th>\n",
       "      <th>language</th>\n",
       "      <th>blog_classifier</th>\n",
       "      <th>generated_date</th>\n",
       "      <th>tumblog_id</th>\n",
       "      <th>post_count</th>\n",
       "      <th>fandom</th>\n",
       "      <th>fandom_term</th>\n",
       "      <th>processed_tumblr_blog_description</th>\n",
       "      <th>tokenized_blog_description</th>\n",
       "    </tr>\n",
       "  </thead>\n",
       "  <tbody>\n",
       "    <tr>\n",
       "      <th>0</th>\n",
       "      <td>123758</td>\n",
       "      <td>1538018782</td>\n",
       "      <td>coldfashion</td>\n",
       "      <td>AP ROCKS YOUR FACE</td>\n",
       "      <td>annelise pruitt i designed the emmy-winning st...</td>\n",
       "      <td>http://coldfashion.tumblr.com/</td>\n",
       "      <td>False</td>\n",
       "      <td>False</td>\n",
       "      <td>False</td>\n",
       "      <td>NaN</td>\n",
       "      <td>...</td>\n",
       "      <td>NaN</td>\n",
       "      <td>NaN</td>\n",
       "      <td>safe</td>\n",
       "      <td>20181021</td>\n",
       "      <td>123758</td>\n",
       "      <td>25</td>\n",
       "      <td>star_wars</td>\n",
       "      <td>star wars</td>\n",
       "      <td>annelise pruitt i designed the emmy-winning st...</td>\n",
       "      <td>annelise pruitt i designed the emmy-winning st...</td>\n",
       "    </tr>\n",
       "    <tr>\n",
       "      <th>1</th>\n",
       "      <td>139093</td>\n",
       "      <td>1558154235</td>\n",
       "      <td>hauntedfalcon</td>\n",
       "      <td>Haunted Jaeger</td>\n",
       "      <td>fuck Reylo</td>\n",
       "      <td>https://hauntedfalcon.tumblr.com/</td>\n",
       "      <td>False</td>\n",
       "      <td>False</td>\n",
       "      <td>False</td>\n",
       "      <td>1.196747e+12</td>\n",
       "      <td>...</td>\n",
       "      <td>US/Eastern</td>\n",
       "      <td>en_US</td>\n",
       "      <td>safe</td>\n",
       "      <td>20190518</td>\n",
       "      <td>139093</td>\n",
       "      <td>982</td>\n",
       "      <td>star_wars</td>\n",
       "      <td>reylo</td>\n",
       "      <td>fuck Reylo</td>\n",
       "      <td>fuck reylo</td>\n",
       "    </tr>\n",
       "    <tr>\n",
       "      <th>2</th>\n",
       "      <td>340785</td>\n",
       "      <td>1546861232</td>\n",
       "      <td>anomalies</td>\n",
       "      <td>party.</td>\n",
       "      <td>&lt;p&gt;27 years old &lt;br&gt;i like dogs, pokemon, taki...</td>\n",
       "      <td>http://anomalies.tumblr.com/</td>\n",
       "      <td>False</td>\n",
       "      <td>False</td>\n",
       "      <td>False</td>\n",
       "      <td>1.216068e+12</td>\n",
       "      <td>...</td>\n",
       "      <td>US/Pacific</td>\n",
       "      <td>en_US</td>\n",
       "      <td>safe</td>\n",
       "      <td>20190201</td>\n",
       "      <td>340785</td>\n",
       "      <td>2</td>\n",
       "      <td>pokemon</td>\n",
       "      <td>pokemon</td>\n",
       "      <td>27 years old i like dogs, pokemon, taking pict...</td>\n",
       "      <td>27 years old i like dogs , pokemon , taking pi...</td>\n",
       "    </tr>\n",
       "    <tr>\n",
       "      <th>3</th>\n",
       "      <td>493522</td>\n",
       "      <td>1556894408</td>\n",
       "      <td>hazal</td>\n",
       "      <td>Smitten hedgehogs like tea</td>\n",
       "      <td>&lt;br&gt;Hazal. &lt;br&gt;  29 years old, vegetarian, web...</td>\n",
       "      <td>https://hazal.tumblr.com/</td>\n",
       "      <td>False</td>\n",
       "      <td>False</td>\n",
       "      <td>False</td>\n",
       "      <td>1.225645e+12</td>\n",
       "      <td>...</td>\n",
       "      <td>Europe/Istanbul</td>\n",
       "      <td>en_US</td>\n",
       "      <td>safe</td>\n",
       "      <td>20190619</td>\n",
       "      <td>493522</td>\n",
       "      <td>10</td>\n",
       "      <td>supernatural</td>\n",
       "      <td>spn</td>\n",
       "      <td>Hazal. 29 years old, vegetarian, web designer,...</td>\n",
       "      <td>hazal . 29 years old , vegetarian , web design...</td>\n",
       "    </tr>\n",
       "    <tr>\n",
       "      <th>4</th>\n",
       "      <td>794605</td>\n",
       "      <td>1563544355</td>\n",
       "      <td>sundayriver81</td>\n",
       "      <td>Sundayriver's world</td>\n",
       "      <td>Italian girl, obsessed with The walking Dead a...</td>\n",
       "      <td>https://sundayriver81.tumblr.com/</td>\n",
       "      <td>False</td>\n",
       "      <td>False</td>\n",
       "      <td>False</td>\n",
       "      <td>1.236731e+12</td>\n",
       "      <td>...</td>\n",
       "      <td>Europe/Amsterdam</td>\n",
       "      <td>en_US</td>\n",
       "      <td>safe</td>\n",
       "      <td>20190719</td>\n",
       "      <td>794605</td>\n",
       "      <td>999</td>\n",
       "      <td>walking_dead</td>\n",
       "      <td>the walking dead</td>\n",
       "      <td>Italian girl, obsessed with The walking Dead a...</td>\n",
       "      <td>italian girl , obsessed with the walking dead ...</td>\n",
       "    </tr>\n",
       "    <tr>\n",
       "      <th>...</th>\n",
       "      <td>...</td>\n",
       "      <td>...</td>\n",
       "      <td>...</td>\n",
       "      <td>...</td>\n",
       "      <td>...</td>\n",
       "      <td>...</td>\n",
       "      <td>...</td>\n",
       "      <td>...</td>\n",
       "      <td>...</td>\n",
       "      <td>...</td>\n",
       "      <td>...</td>\n",
       "      <td>...</td>\n",
       "      <td>...</td>\n",
       "      <td>...</td>\n",
       "      <td>...</td>\n",
       "      <td>...</td>\n",
       "      <td>...</td>\n",
       "      <td>...</td>\n",
       "      <td>...</td>\n",
       "      <td>...</td>\n",
       "      <td>...</td>\n",
       "    </tr>\n",
       "    <tr>\n",
       "      <th>319111</th>\n",
       "      <td>444485579</td>\n",
       "      <td>1541257544</td>\n",
       "      <td>bhluetina</td>\n",
       "      <td>lilyy</td>\n",
       "      <td>&lt;p&gt;potterhead.&lt;/p&gt;&lt;p&gt;the marauders’&lt;/p&gt;</td>\n",
       "      <td>https://bhluetina.tumblr.com/</td>\n",
       "      <td>False</td>\n",
       "      <td>False</td>\n",
       "      <td>False</td>\n",
       "      <td>1.541255e+12</td>\n",
       "      <td>...</td>\n",
       "      <td>US/Eastern</td>\n",
       "      <td>en_US</td>\n",
       "      <td>safe</td>\n",
       "      <td>20181201</td>\n",
       "      <td>444485579</td>\n",
       "      <td>4</td>\n",
       "      <td>harrypotter</td>\n",
       "      <td>potterhead</td>\n",
       "      <td>potterhead. the marauders’</td>\n",
       "      <td>potterhead . the marauders ’</td>\n",
       "    </tr>\n",
       "    <tr>\n",
       "      <th>319112</th>\n",
       "      <td>444669851</td>\n",
       "      <td>1541965412</td>\n",
       "      <td>zzellak</td>\n",
       "      <td>Zellak</td>\n",
       "      <td>30/ He/Him/ Them/They. 18+ art.  NO MINORS OR ...</td>\n",
       "      <td>https://zzellak.tumblr.com/</td>\n",
       "      <td>False</td>\n",
       "      <td>False</td>\n",
       "      <td>False</td>\n",
       "      <td>1.541347e+12</td>\n",
       "      <td>...</td>\n",
       "      <td>US/Eastern</td>\n",
       "      <td>en_US</td>\n",
       "      <td>adult</td>\n",
       "      <td>20181114</td>\n",
       "      <td>444669851</td>\n",
       "      <td>17</td>\n",
       "      <td>undertale</td>\n",
       "      <td>undertale</td>\n",
       "      <td>30/ He/Him/ Them/They. 18+ art.  NO MINORS OR ...</td>\n",
       "      <td>30/ he/him/ them/they . 18+ art . no minors or...</td>\n",
       "    </tr>\n",
       "    <tr>\n",
       "      <th>319113</th>\n",
       "      <td>444881744</td>\n",
       "      <td>1567866289</td>\n",
       "      <td>peaches-and-nicotine</td>\n",
       "      <td>♡</td>\n",
       "      <td>ED TW! || 18 || UK || Not Pro || 5'6\" sw: 218l...</td>\n",
       "      <td>https://peaches-and-nicotine.tumblr.com/</td>\n",
       "      <td>False</td>\n",
       "      <td>False</td>\n",
       "      <td>False</td>\n",
       "      <td>1.541449e+12</td>\n",
       "      <td>...</td>\n",
       "      <td>US/Eastern</td>\n",
       "      <td>en_US</td>\n",
       "      <td>safe</td>\n",
       "      <td>20190908</td>\n",
       "      <td>444881744</td>\n",
       "      <td>88</td>\n",
       "      <td>teen_wolf</td>\n",
       "      <td>tw</td>\n",
       "      <td>ED TW! || 18 || UK || Not Pro || 5'6\" sw: 218l...</td>\n",
       "      <td>ed tw ! || 18 || uk || not pro || 5 ' 6 '' sw ...</td>\n",
       "    </tr>\n",
       "    <tr>\n",
       "      <th>319114</th>\n",
       "      <td>446026777</td>\n",
       "      <td>1542862673</td>\n",
       "      <td>littlegleekhunter</td>\n",
       "      <td>Pretty Gleek Hunter❤</td>\n",
       "      <td>Pretty Little Liars/Supernatural &amp; Glee❤😍</td>\n",
       "      <td>https://littlegleekhunter.tumblr.com/</td>\n",
       "      <td>False</td>\n",
       "      <td>False</td>\n",
       "      <td>False</td>\n",
       "      <td>1.542070e+12</td>\n",
       "      <td>...</td>\n",
       "      <td>US/Eastern</td>\n",
       "      <td>en_US</td>\n",
       "      <td>safe</td>\n",
       "      <td>20190616</td>\n",
       "      <td>446026777</td>\n",
       "      <td>4</td>\n",
       "      <td>supernatural</td>\n",
       "      <td>supernatural</td>\n",
       "      <td>Pretty Little Liars/Supernatural &amp; Glee❤😍</td>\n",
       "      <td>pretty little liars/supernatural &amp; glee❤😍</td>\n",
       "    </tr>\n",
       "    <tr>\n",
       "      <th>319115</th>\n",
       "      <td>448114475</td>\n",
       "      <td>1544875498</td>\n",
       "      <td>vglnt</td>\n",
       "      <td>* MEGALOVANIA.</td>\n",
       "      <td>ind. sel. sans of undertale. written by trista...</td>\n",
       "      <td>http://vglnt.tumblr.com/</td>\n",
       "      <td>False</td>\n",
       "      <td>False</td>\n",
       "      <td>False</td>\n",
       "      <td>1.543220e+12</td>\n",
       "      <td>...</td>\n",
       "      <td>Australia/Canberra</td>\n",
       "      <td>en_US</td>\n",
       "      <td>safe</td>\n",
       "      <td>20190608</td>\n",
       "      <td>448114475</td>\n",
       "      <td>17</td>\n",
       "      <td>undertale</td>\n",
       "      <td>undertale</td>\n",
       "      <td>ind. sel. sans of undertale. written by trista...</td>\n",
       "      <td>ind . sel . sans of undertale . written by tri...</td>\n",
       "    </tr>\n",
       "  </tbody>\n",
       "</table>\n",
       "<p>319116 rows × 21 columns</p>\n",
       "</div>"
      ],
      "text/plain": [
       "        tumblelog_id  activity_time_epoch      tumblr_blog_name  \\\n",
       "0             123758           1538018782           coldfashion   \n",
       "1             139093           1558154235         hauntedfalcon   \n",
       "2             340785           1546861232             anomalies   \n",
       "3             493522           1556894408                 hazal   \n",
       "4             794605           1563544355         sundayriver81   \n",
       "...              ...                  ...                   ...   \n",
       "319111     444485579           1541257544             bhluetina   \n",
       "319112     444669851           1541965412               zzellak   \n",
       "319113     444881744           1567866289  peaches-and-nicotine   \n",
       "319114     446026777           1542862673     littlegleekhunter   \n",
       "319115     448114475           1544875498                 vglnt   \n",
       "\n",
       "                 tumblr_blog_title  \\\n",
       "0               AP ROCKS YOUR FACE   \n",
       "1                   Haunted Jaeger   \n",
       "2                           party.   \n",
       "3       Smitten hedgehogs like tea   \n",
       "4              Sundayriver's world   \n",
       "...                            ...   \n",
       "319111                       lilyy   \n",
       "319112                      Zellak   \n",
       "319113                           ♡   \n",
       "319114        Pretty Gleek Hunter❤   \n",
       "319115              * MEGALOVANIA.   \n",
       "\n",
       "                                  tumblr_blog_description  \\\n",
       "0       annelise pruitt i designed the emmy-winning st...   \n",
       "1                                              fuck Reylo   \n",
       "2       <p>27 years old <br>i like dogs, pokemon, taki...   \n",
       "3       <br>Hazal. <br>  29 years old, vegetarian, web...   \n",
       "4       Italian girl, obsessed with The walking Dead a...   \n",
       "...                                                   ...   \n",
       "319111            <p>potterhead.</p><p>the marauders’</p>   \n",
       "319112  30/ He/Him/ Them/They. 18+ art.  NO MINORS OR ...   \n",
       "319113  ED TW! || 18 || UK || Not Pro || 5'6\" sw: 218l...   \n",
       "319114          Pretty Little Liars/Supernatural & Glee❤😍   \n",
       "319115  ind. sel. sans of undertale. written by trista...   \n",
       "\n",
       "                                 tumblr_blog_url  is_group_blog  is_primary  \\\n",
       "0                 http://coldfashion.tumblr.com/          False       False   \n",
       "1              https://hauntedfalcon.tumblr.com/          False       False   \n",
       "2                   http://anomalies.tumblr.com/          False       False   \n",
       "3                      https://hazal.tumblr.com/          False       False   \n",
       "4              https://sundayriver81.tumblr.com/          False       False   \n",
       "...                                          ...            ...         ...   \n",
       "319111             https://bhluetina.tumblr.com/          False       False   \n",
       "319112               https://zzellak.tumblr.com/          False       False   \n",
       "319113  https://peaches-and-nicotine.tumblr.com/          False       False   \n",
       "319114     https://littlegleekhunter.tumblr.com/          False       False   \n",
       "319115                  http://vglnt.tumblr.com/          False       False   \n",
       "\n",
       "       is_private  created_time_epoch  ...            timezone language  \\\n",
       "0           False                 NaN  ...                 NaN      NaN   \n",
       "1           False        1.196747e+12  ...          US/Eastern    en_US   \n",
       "2           False        1.216068e+12  ...          US/Pacific    en_US   \n",
       "3           False        1.225645e+12  ...     Europe/Istanbul    en_US   \n",
       "4           False        1.236731e+12  ...    Europe/Amsterdam    en_US   \n",
       "...           ...                 ...  ...                 ...      ...   \n",
       "319111      False        1.541255e+12  ...          US/Eastern    en_US   \n",
       "319112      False        1.541347e+12  ...          US/Eastern    en_US   \n",
       "319113      False        1.541449e+12  ...          US/Eastern    en_US   \n",
       "319114      False        1.542070e+12  ...          US/Eastern    en_US   \n",
       "319115      False        1.543220e+12  ...  Australia/Canberra    en_US   \n",
       "\n",
       "       blog_classifier generated_date  tumblog_id  post_count        fandom  \\\n",
       "0                 safe       20181021      123758          25     star_wars   \n",
       "1                 safe       20190518      139093         982     star_wars   \n",
       "2                 safe       20190201      340785           2       pokemon   \n",
       "3                 safe       20190619      493522          10  supernatural   \n",
       "4                 safe       20190719      794605         999  walking_dead   \n",
       "...                ...            ...         ...         ...           ...   \n",
       "319111            safe       20181201   444485579           4   harrypotter   \n",
       "319112           adult       20181114   444669851          17     undertale   \n",
       "319113            safe       20190908   444881744          88     teen_wolf   \n",
       "319114            safe       20190616   446026777           4  supernatural   \n",
       "319115            safe       20190608   448114475          17     undertale   \n",
       "\n",
       "             fandom_term                  processed_tumblr_blog_description  \\\n",
       "0              star wars  annelise pruitt i designed the emmy-winning st...   \n",
       "1                  reylo                                         fuck Reylo   \n",
       "2                pokemon  27 years old i like dogs, pokemon, taking pict...   \n",
       "3                    spn  Hazal. 29 years old, vegetarian, web designer,...   \n",
       "4       the walking dead  Italian girl, obsessed with The walking Dead a...   \n",
       "...                  ...                                                ...   \n",
       "319111        potterhead                         potterhead. the marauders’   \n",
       "319112         undertale  30/ He/Him/ Them/They. 18+ art.  NO MINORS OR ...   \n",
       "319113                tw  ED TW! || 18 || UK || Not Pro || 5'6\" sw: 218l...   \n",
       "319114      supernatural          Pretty Little Liars/Supernatural & Glee❤😍   \n",
       "319115         undertale  ind. sel. sans of undertale. written by trista...   \n",
       "\n",
       "                               tokenized_blog_description  \n",
       "0       annelise pruitt i designed the emmy-winning st...  \n",
       "1                                              fuck reylo  \n",
       "2       27 years old i like dogs , pokemon , taking pi...  \n",
       "3       hazal . 29 years old , vegetarian , web design...  \n",
       "4       italian girl , obsessed with the walking dead ...  \n",
       "...                                                   ...  \n",
       "319111                       potterhead . the marauders ’  \n",
       "319112  30/ he/him/ them/they . 18+ art . no minors or...  \n",
       "319113  ed tw ! || 18 || uk || not pro || 5 ' 6 '' sw ...  \n",
       "319114          pretty little liars/supernatural & glee❤😍  \n",
       "319115  ind . sel . sans of undertale . written by tri...  \n",
       "\n",
       "[319116 rows x 21 columns]"
      ]
     },
     "execution_count": 1,
     "metadata": {},
     "output_type": "execute_result"
    }
   ],
   "source": [
    "# Load blog descriptions\n",
    "import pandas as pd\n",
    "\n",
    "fandom_blog_descriptions_path = '/data/tumblr_community_identity/fandom_blog_descriptions_processed.csv'\n",
    "blog_info = pd.read_csv(fandom_blog_descriptions_path, sep='\\t')\n",
    "fandoms = blog_info['fandom'].unique()\n",
    "print(len(fandoms))\n",
    "blog_info"
   ]
  },
  {
   "cell_type": "code",
   "execution_count": 2,
   "metadata": {},
   "outputs": [],
   "source": [
    "fandoms = [\n",
    "'academia',\n",
    "'allmarvel',\n",
    "'arthurian',\n",
    "'attack_on_titan',\n",
    "'dcu',\n",
    "'dr_who',\n",
    "'dragonage',\n",
    "'haikyuu',\n",
    "'hamilton',\n",
    "'harrypotter',\n",
    "'homestuck',\n",
    "'korra',\n",
    "'naruto',\n",
    "'once_upon_a_time',\n",
    "'overwatch',\n",
    "'pokemon',\n",
    "'power_rangers',\n",
    "'riverdale',\n",
    "'sherlock',\n",
    "'song_ice_fire',\n",
    "'star_trek',\n",
    "'star_wars',\n",
    "'stargate',\n",
    "'supergirl',\n",
    "'supernatural',\n",
    "'teen_wolf',\n",
    "'tolkien',\n",
    "'undertale',\n",
    "'voltron',\n",
    "'walking_dead',\n",
    "]"
   ]
  },
  {
   "cell_type": "code",
   "execution_count": null,
   "metadata": {},
   "outputs": [],
   "source": [
    "# Search for ages\n",
    "import re\n",
    "from tqdm import tqdm_notebook as tqdm\n",
    "\n",
    "pattern = r'^\\d+$'\n",
    "# patterns = [ # overkill\n",
    "#  r'(?:[^-+\\w]|^)([1-5]{1}[0-9]{1})[^-+0-9]|^([1-5]{1}[0-9]{1})$',\n",
    "# #   r'twelve',\n",
    "#   r'thirteen',\n",
    "#   r'fourteen',\n",
    "#   r'fifteen',\n",
    "#   r'sixteen',\n",
    "#   r'seventeen',\n",
    "#   r'eighteen',\n",
    "#   r'nineteen',\n",
    "#    r'(twenty|thirty|forty|fifty)([ -](one|two|three|four|five|six|seven|eight|nine))?',\n",
    "#    r'\\bxvi{0-3}\\b',\n",
    "#    r'\\bxix\\b',\n",
    "#    r'\\bxxi{0-3}\\b',\n",
    "#    r'\\bxxiv\\b',\n",
    "#    r'\\bxxvi{0-3}\\b',\n",
    "#    r'\\bxxix\\b',\n",
    "#  ]\n",
    "\n",
    "excl =  ['nsfw 18', '18 nsfw', '18 only', 'only 18', '18\\+', '18 \\+', '18 or older', 'at least 18', 'under 18', '18×', '18 plus',\n",
    "                 '24 hours',\n",
    "                 r'(\\d{1,2}|\\d{4})[\\/\\.-](\\d|[0-3][0-9])[\\/\\.-](\\d{2}|\\d{4})(\\W|$)',\n",
    "                 r'(^|\\D)\\d{1,2}[\\/\\.-](\\d{2}|\\d{4})(\\W|$)',\n",
    "                 r'\\d* ?(jan\\w*|feb\\w*|mar\\w*|apr\\w*|may|jun|june|jul|july|aug\\w*|sep\\w*|oct\\w*|nov\\w*|dec\\w*)[ ,.]\\d*[ \\W,.]*\\d*',\n",
    "                 r'\\d+[:.]',\n",
    "                 r'u?(c|g|s)w[1-3]?: ?\\d*(kg|lb)?',\n",
    "                 r'\\d* ?(kg|lb|kilograms|pounds|days?)',\n",
    "                 r'24[\\/\\* -]7',\n",
    "                 r'\\$\\d*|\\d*\\$',\n",
    "                 r'\\d*(st|nd|rd|th)',\n",
    "                 '30 rock',\n",
    "                 '15 lat',\n",
    "        ]\n",
    "\n",
    "def remove_age_exclusions(text):\n",
    "    new_text = text\n",
    "    for p in excl:\n",
    "        new_text = re.sub(p, ' ', new_text)\n",
    "    return new_text\n",
    "         \n",
    "outlines = []\n",
    "demographic_counts = {}\n",
    "# removed_ages = [str(n) for n in range(81,100)]\n",
    "# age_normalizer = {str(n): n for n in range(13,81)}\n",
    "# age_normalizer.update({\n",
    "#     'thirteen': 13,\n",
    "#     'fourteen': 14,\n",
    "#   'sixteen': 16,\n",
    "#   'seventeen': 17,\n",
    "#   'eighteen':18,\n",
    "#   'nineteen':19,\n",
    "#     'twenty': 20,\n",
    "#     'twenty-one': 21,\n",
    "#     'twenty-two': 22,\n",
    "#     'twenty-three': 23,\n",
    "#     'twenty-four': 24,\n",
    "#     'twenty-five': 25,\n",
    "#   'xv': 15,\n",
    "#   'xix': 29,\n",
    "#   'xxi': 21,\n",
    "#   'xxiv': 24,\n",
    "#   'xxv': 25,\n",
    "#   'xxix': 29,\n",
    "# })\n",
    "# for fandom in fandoms:\n",
    "#     demographic_counts[fandom] = {}\n",
    "#     print(fandom)\n",
    "#     fandom_blog_descriptions = blog_info.loc[blog_info['fandom']==fandom, 'processed_tumblr_blog_description']\n",
    "         \n",
    "#     # Exclude terms\n",
    "#     fandom_blog_descriptions = map(remove_age_exclusions, fandom_blog_descriptions)\n",
    "         \n",
    "#     # Search blog descriptions\n",
    "#     for pattern in patterns:\n",
    "#         matches += [re.search(pattern, desc).group() for desc in fandom_blog_descriptions if re.search(pattern, desc) is not None]\n",
    "#         ages = [m for m in matches if not m in removed_ages]\n",
    "#         ages_problem = [a for a in ages if not a in age_normalizer]\n",
    "        \n",
    "        \n",
    "#     outlines.append([fandom, *[demographic_counts[fandom][group_name] for group_name in grouped_patterns], len(fandom_blog_descriptions)])\n",
    "# pd.DataFrame(outlines, columns=['fandom'] + list(grouped_patterns.keys()) + ['total_descriptions']).set_index('fandom')\n",
    "\n",
    "from collections import Counter\n",
    "print('Removing age exclusions...')\n",
    "blog_info['tokenized_blog_description'] = [remove_age_exclusions(desc) for desc in tqdm(blog_info['tokenized_blog_description'].tolist())]\n",
    "fandom_terms = blog_info.groupby('fandom').agg({'tokenized_blog_description': lambda x: ' '.join(x.tolist())})\n",
    "fandom_words = fandom_terms['tokenized_blog_description'].to_dict()\n",
    "fandom_word_counters = {}\n",
    "for fandom, words in fandom_words.items():\n",
    "    fandom_word_counters[fandom] = Counter([w for w in words.split() if not w in stops])\n",
    "\n",
    "pd.set_option('display.max_columns', 999)\n",
    "pd.set_option('display.max_rows', 999)\n",
    "\n",
    "age_df = pd.DataFrame(index=range(15,81))\n",
    "# age_df.index = range(15,81)\n",
    "for fandom, ctr in fandom_word_counters.items():\n",
    "    print(fandom)\n",
    "    if fandom in ['ajin', 'world_ends_with_you', 'youjo senki']:\n",
    "        continue\n",
    "#     matches = [item for item in ctr.most_common() if re.search(pattern, item[0]) is not None and \\\n",
    "#             int(item[0]) < 85 and int(item[0]) > 14 and \\\n",
    "#             item[1] >= 5]\n",
    "#     for word, count in matches:\n",
    "#         print(f'{word}\\t{count}')\n",
    "    matches = {word: ctr[word] for word in ctr if re.search(pattern, word) is not None and \\\n",
    "            int(word) <= 80 and int(word) >= 15}\n",
    "    age_df[fandom] = [matches.get(str(i), 0) for i in range(15,81)]\n",
    "#     for i in range(15,81):\n",
    "# #         print(f'{i}\\t{matches.get(str(i), 0)}')\n",
    "#         print(matches.get(str(i), 0))\n",
    "#     print()\n",
    "age_df"
   ]
  },
  {
   "cell_type": "code",
   "execution_count": 15,
   "metadata": {
    "scrolled": true
   },
   "outputs": [
    {
     "name": "stdout",
     "output_type": "stream",
     "text": [
      "academia\n",
      "allmarvel\n",
      "arthurian\n",
      "attack_on_titan\n",
      "dcu\n",
      "dr_who\n",
      "dragonage\n",
      "haikyuu\n",
      "hamilton\n",
      "harrypotter\n",
      "homestuck\n",
      "korra\n",
      "naruto\n",
      "once_upon_a_time\n",
      "overwatch\n",
      "pokemon\n",
      "power_rangers\n",
      "riverdale\n",
      "sherlock\n",
      "song_ice_fire\n",
      "star_trek\n",
      "star_wars\n",
      "stargate\n",
      "supergirl\n",
      "supernatural\n",
      "teen_wolf\n",
      "tolkien\n",
      "undertale\n",
      "voltron\n",
      "walking_dead\n"
     ]
    },
    {
     "data": {
      "text/html": [
       "<div>\n",
       "<style scoped>\n",
       "    .dataframe tbody tr th:only-of-type {\n",
       "        vertical-align: middle;\n",
       "    }\n",
       "\n",
       "    .dataframe tbody tr th {\n",
       "        vertical-align: top;\n",
       "    }\n",
       "\n",
       "    .dataframe thead th {\n",
       "        text-align: right;\n",
       "    }\n",
       "</style>\n",
       "<table border=\"1\" class=\"dataframe\">\n",
       "  <thead>\n",
       "    <tr style=\"text-align: right;\">\n",
       "      <th></th>\n",
       "      <th>female</th>\n",
       "      <th>male</th>\n",
       "      <th>nonbinary</th>\n",
       "      <th>trans</th>\n",
       "      <th>lgbtq</th>\n",
       "      <th>total_descriptions</th>\n",
       "    </tr>\n",
       "    <tr>\n",
       "      <th>fandom</th>\n",
       "      <th></th>\n",
       "      <th></th>\n",
       "      <th></th>\n",
       "      <th></th>\n",
       "      <th></th>\n",
       "      <th></th>\n",
       "    </tr>\n",
       "  </thead>\n",
       "  <tbody>\n",
       "    <tr>\n",
       "      <th>academia</th>\n",
       "      <td>404</td>\n",
       "      <td>536</td>\n",
       "      <td>120</td>\n",
       "      <td>110</td>\n",
       "      <td>240</td>\n",
       "      <td>8624</td>\n",
       "    </tr>\n",
       "    <tr>\n",
       "      <th>allmarvel</th>\n",
       "      <td>2540</td>\n",
       "      <td>2796</td>\n",
       "      <td>255</td>\n",
       "      <td>323</td>\n",
       "      <td>943</td>\n",
       "      <td>37002</td>\n",
       "    </tr>\n",
       "    <tr>\n",
       "      <th>arthurian</th>\n",
       "      <td>249</td>\n",
       "      <td>232</td>\n",
       "      <td>14</td>\n",
       "      <td>19</td>\n",
       "      <td>80</td>\n",
       "      <td>2937</td>\n",
       "    </tr>\n",
       "    <tr>\n",
       "      <th>attack_on_titan</th>\n",
       "      <td>276</td>\n",
       "      <td>379</td>\n",
       "      <td>20</td>\n",
       "      <td>41</td>\n",
       "      <td>49</td>\n",
       "      <td>3733</td>\n",
       "    </tr>\n",
       "    <tr>\n",
       "      <th>dcu</th>\n",
       "      <td>438</td>\n",
       "      <td>556</td>\n",
       "      <td>46</td>\n",
       "      <td>111</td>\n",
       "      <td>157</td>\n",
       "      <td>8493</td>\n",
       "    </tr>\n",
       "    <tr>\n",
       "      <th>dr_who</th>\n",
       "      <td>169</td>\n",
       "      <td>149</td>\n",
       "      <td>18</td>\n",
       "      <td>30</td>\n",
       "      <td>52</td>\n",
       "      <td>1834</td>\n",
       "    </tr>\n",
       "    <tr>\n",
       "      <th>dragonage</th>\n",
       "      <td>540</td>\n",
       "      <td>380</td>\n",
       "      <td>99</td>\n",
       "      <td>90</td>\n",
       "      <td>251</td>\n",
       "      <td>6384</td>\n",
       "    </tr>\n",
       "    <tr>\n",
       "      <th>haikyuu</th>\n",
       "      <td>232</td>\n",
       "      <td>298</td>\n",
       "      <td>29</td>\n",
       "      <td>36</td>\n",
       "      <td>61</td>\n",
       "      <td>4306</td>\n",
       "    </tr>\n",
       "    <tr>\n",
       "      <th>hamilton</th>\n",
       "      <td>350</td>\n",
       "      <td>318</td>\n",
       "      <td>77</td>\n",
       "      <td>76</td>\n",
       "      <td>197</td>\n",
       "      <td>5116</td>\n",
       "    </tr>\n",
       "    <tr>\n",
       "      <th>harrypotter</th>\n",
       "      <td>3959</td>\n",
       "      <td>2738</td>\n",
       "      <td>227</td>\n",
       "      <td>376</td>\n",
       "      <td>985</td>\n",
       "      <td>42333</td>\n",
       "    </tr>\n",
       "    <tr>\n",
       "      <th>homestuck</th>\n",
       "      <td>560</td>\n",
       "      <td>700</td>\n",
       "      <td>264</td>\n",
       "      <td>241</td>\n",
       "      <td>428</td>\n",
       "      <td>8969</td>\n",
       "    </tr>\n",
       "    <tr>\n",
       "      <th>korra</th>\n",
       "      <td>152</td>\n",
       "      <td>123</td>\n",
       "      <td>8</td>\n",
       "      <td>23</td>\n",
       "      <td>52</td>\n",
       "      <td>1637</td>\n",
       "    </tr>\n",
       "    <tr>\n",
       "      <th>naruto</th>\n",
       "      <td>430</td>\n",
       "      <td>503</td>\n",
       "      <td>37</td>\n",
       "      <td>57</td>\n",
       "      <td>81</td>\n",
       "      <td>6705</td>\n",
       "    </tr>\n",
       "    <tr>\n",
       "      <th>once_upon_a_time</th>\n",
       "      <td>823</td>\n",
       "      <td>438</td>\n",
       "      <td>10</td>\n",
       "      <td>25</td>\n",
       "      <td>45</td>\n",
       "      <td>5128</td>\n",
       "    </tr>\n",
       "    <tr>\n",
       "      <th>overwatch</th>\n",
       "      <td>552</td>\n",
       "      <td>693</td>\n",
       "      <td>194</td>\n",
       "      <td>180</td>\n",
       "      <td>376</td>\n",
       "      <td>10015</td>\n",
       "    </tr>\n",
       "    <tr>\n",
       "      <th>pokemon</th>\n",
       "      <td>1333</td>\n",
       "      <td>1721</td>\n",
       "      <td>250</td>\n",
       "      <td>274</td>\n",
       "      <td>497</td>\n",
       "      <td>20019</td>\n",
       "    </tr>\n",
       "    <tr>\n",
       "      <th>power_rangers</th>\n",
       "      <td>27</td>\n",
       "      <td>37</td>\n",
       "      <td>2</td>\n",
       "      <td>4</td>\n",
       "      <td>16</td>\n",
       "      <td>437</td>\n",
       "    </tr>\n",
       "    <tr>\n",
       "      <th>riverdale</th>\n",
       "      <td>235</td>\n",
       "      <td>143</td>\n",
       "      <td>5</td>\n",
       "      <td>10</td>\n",
       "      <td>38</td>\n",
       "      <td>2982</td>\n",
       "    </tr>\n",
       "    <tr>\n",
       "      <th>sherlock</th>\n",
       "      <td>1362</td>\n",
       "      <td>1349</td>\n",
       "      <td>106</td>\n",
       "      <td>144</td>\n",
       "      <td>456</td>\n",
       "      <td>17416</td>\n",
       "    </tr>\n",
       "    <tr>\n",
       "      <th>song_ice_fire</th>\n",
       "      <td>1035</td>\n",
       "      <td>788</td>\n",
       "      <td>18</td>\n",
       "      <td>57</td>\n",
       "      <td>151</td>\n",
       "      <td>9860</td>\n",
       "    </tr>\n",
       "    <tr>\n",
       "      <th>star_trek</th>\n",
       "      <td>455</td>\n",
       "      <td>519</td>\n",
       "      <td>84</td>\n",
       "      <td>107</td>\n",
       "      <td>280</td>\n",
       "      <td>5539</td>\n",
       "    </tr>\n",
       "    <tr>\n",
       "      <th>star_wars</th>\n",
       "      <td>1922</td>\n",
       "      <td>1677</td>\n",
       "      <td>183</td>\n",
       "      <td>247</td>\n",
       "      <td>543</td>\n",
       "      <td>23930</td>\n",
       "    </tr>\n",
       "    <tr>\n",
       "      <th>stargate</th>\n",
       "      <td>48</td>\n",
       "      <td>38</td>\n",
       "      <td>5</td>\n",
       "      <td>6</td>\n",
       "      <td>17</td>\n",
       "      <td>504</td>\n",
       "    </tr>\n",
       "    <tr>\n",
       "      <th>supergirl</th>\n",
       "      <td>124</td>\n",
       "      <td>36</td>\n",
       "      <td>23</td>\n",
       "      <td>20</td>\n",
       "      <td>98</td>\n",
       "      <td>2230</td>\n",
       "    </tr>\n",
       "    <tr>\n",
       "      <th>supernatural</th>\n",
       "      <td>1504</td>\n",
       "      <td>1196</td>\n",
       "      <td>166</td>\n",
       "      <td>197</td>\n",
       "      <td>592</td>\n",
       "      <td>29647</td>\n",
       "    </tr>\n",
       "    <tr>\n",
       "      <th>teen_wolf</th>\n",
       "      <td>940</td>\n",
       "      <td>883</td>\n",
       "      <td>93</td>\n",
       "      <td>150</td>\n",
       "      <td>317</td>\n",
       "      <td>14929</td>\n",
       "    </tr>\n",
       "    <tr>\n",
       "      <th>tolkien</th>\n",
       "      <td>948</td>\n",
       "      <td>884</td>\n",
       "      <td>71</td>\n",
       "      <td>100</td>\n",
       "      <td>243</td>\n",
       "      <td>11230</td>\n",
       "    </tr>\n",
       "    <tr>\n",
       "      <th>undertale</th>\n",
       "      <td>740</td>\n",
       "      <td>645</td>\n",
       "      <td>140</td>\n",
       "      <td>130</td>\n",
       "      <td>218</td>\n",
       "      <td>9444</td>\n",
       "    </tr>\n",
       "    <tr>\n",
       "      <th>voltron</th>\n",
       "      <td>532</td>\n",
       "      <td>617</td>\n",
       "      <td>203</td>\n",
       "      <td>136</td>\n",
       "      <td>428</td>\n",
       "      <td>10970</td>\n",
       "    </tr>\n",
       "    <tr>\n",
       "      <th>walking_dead</th>\n",
       "      <td>585</td>\n",
       "      <td>703</td>\n",
       "      <td>16</td>\n",
       "      <td>25</td>\n",
       "      <td>75</td>\n",
       "      <td>6377</td>\n",
       "    </tr>\n",
       "  </tbody>\n",
       "</table>\n",
       "</div>"
      ],
      "text/plain": [
       "                  female  male  nonbinary  trans  lgbtq  total_descriptions\n",
       "fandom                                                                     \n",
       "academia             404   536        120    110    240                8624\n",
       "allmarvel           2540  2796        255    323    943               37002\n",
       "arthurian            249   232         14     19     80                2937\n",
       "attack_on_titan      276   379         20     41     49                3733\n",
       "dcu                  438   556         46    111    157                8493\n",
       "dr_who               169   149         18     30     52                1834\n",
       "dragonage            540   380         99     90    251                6384\n",
       "haikyuu              232   298         29     36     61                4306\n",
       "hamilton             350   318         77     76    197                5116\n",
       "harrypotter         3959  2738        227    376    985               42333\n",
       "homestuck            560   700        264    241    428                8969\n",
       "korra                152   123          8     23     52                1637\n",
       "naruto               430   503         37     57     81                6705\n",
       "once_upon_a_time     823   438         10     25     45                5128\n",
       "overwatch            552   693        194    180    376               10015\n",
       "pokemon             1333  1721        250    274    497               20019\n",
       "power_rangers         27    37          2      4     16                 437\n",
       "riverdale            235   143          5     10     38                2982\n",
       "sherlock            1362  1349        106    144    456               17416\n",
       "song_ice_fire       1035   788         18     57    151                9860\n",
       "star_trek            455   519         84    107    280                5539\n",
       "star_wars           1922  1677        183    247    543               23930\n",
       "stargate              48    38          5      6     17                 504\n",
       "supergirl            124    36         23     20     98                2230\n",
       "supernatural        1504  1196        166    197    592               29647\n",
       "teen_wolf            940   883         93    150    317               14929\n",
       "tolkien              948   884         71    100    243               11230\n",
       "undertale            740   645        140    130    218                9444\n",
       "voltron              532   617        203    136    428               10970\n",
       "walking_dead         585   703         16     25     75                6377"
      ]
     },
     "execution_count": 15,
     "metadata": {},
     "output_type": "execute_result"
    }
   ],
   "source": [
    "# Search for gendered terms\n",
    "import re\n",
    "import pdb\n",
    "\n",
    "# Non-exclusive groupings of interest\n",
    "grouped_patterns = {'female': [\n",
    "                r'female\\b',\n",
    "                r'^(?!.*(super|wonder|bat)).*\\bgirl\\b',\n",
    "                r'^(?!.*(super|wonder|bat)).*\\bwoman\\b', r'gu+rl', r'\\bgii+rl',\n",
    "                r'\\bmom\\b', r'mum',\n",
    "                r'wife', \n",
    "                r'\\bsister\\b',\n",
    "#                 r'\\bprincess\\b', r'queen', # led to miscounts for Once\n",
    "                r'\\blady\\b', r'daughter', r'mommy',\n",
    "            ],\n",
    "            'male': [\n",
    "                r'\\bmale\\b',\n",
    "                r'boy\\b',\n",
    "                r'^(?!.*(super|wonder|bat)).*man\\b',\n",
    "                r'guy\\b', \n",
    "                r'\\bdad\\b', \n",
    "                r'husband', \n",
    "                r'\\bbrother\\b', r'\\bson\\b', \n",
    "            ],\n",
    "            'nonbinary': [\n",
    "                r'non-binary', r'nonbinary', r'\\bnb\\b', r'agender', r'neutrois', r'androgynous',\n",
    "                r'bigender', \n",
    "                r'genderfluid', r'gender-fluid',\n",
    "            ],\n",
    "            'trans': [\n",
    "                r'(?!.*transformers)trans', r'ftm', r'mtf', \n",
    "            ], \n",
    "#             'straight': [ # really cis/non-aligned as an estimate of non-lgbtq, but bad\n",
    "#                 r'\\bcis',\n",
    "#                 r'^(?!.*(super|wonder|bat|trans)).*\\bmale\\b',\n",
    "#                 r'^(?!.*(super|wonder|bat|trans)).*\\bfemale\\b',\n",
    "#                 r'^(?!.*(super|wonder|bat|trans)).*\\bman\\b',\n",
    "#                 r'^(?!.*(super|wonder|bat|trans)).*woman\\b',\n",
    "#                 r'^(?!.*(super|wonder|bat|trans)).*\\bgirl\\b',\n",
    "#                 r'^(?!.*(super|wonder|bat|trans)).*boy\\b',\n",
    "#             ],\n",
    "            'lgbtq': [\n",
    "                r'non-binary', r'nonbinary', r'\\bnb\\b', r'agender', r'neutrois', r'androgynous',\n",
    "                r'bigender', \n",
    "                r'genderfluid', r'gender-fluid',\n",
    "                r'^(?!.*transformers)trans', r'ftm', r'mtf', \n",
    "                r'lgbt',\n",
    "                r'queer',\n",
    "            ]\n",
    "           }\n",
    "\n",
    "outlines = []\n",
    "demographic_counts = {}\n",
    "for fandom in fandoms:\n",
    "    demographic_counts[fandom] = {}\n",
    "    print(fandom)\n",
    "    fandom_blog_descriptions = blog_info.loc[blog_info['fandom']==fandom, 'tokenized_blog_description']\n",
    "    for group_name, patterns in grouped_patterns.items():\n",
    "        matches = []\n",
    "        for desc in fandom_blog_descriptions:\n",
    "            for pattern in patterns:\n",
    "                if re.search(pattern, desc) is not None:\n",
    "                    matches.append(desc)\n",
    "                    break\n",
    "        group_count = len(matches)\n",
    "#         if fandom == 'once_upon_a_time' and group_name == 'female':\n",
    "#             pdb.set_trace()\n",
    "        demographic_counts[fandom][group_name] = group_count\n",
    "    outlines.append([fandom, *[demographic_counts[fandom][group_name] for group_name in grouped_patterns], len(fandom_blog_descriptions)])\n",
    "#         print(f'{group_name}\\t{group_count}')\n",
    "#         print()\n",
    "pd.DataFrame(outlines, columns=['fandom'] + list(grouped_patterns.keys()) + ['total_descriptions']).set_index('fandom')"
   ]
  },
  {
   "cell_type": "code",
   "execution_count": 16,
   "metadata": {
    "scrolled": true
   },
   "outputs": [
    {
     "name": "stdout",
     "output_type": "stream",
     "text": [
      "academia\n"
     ]
    },
    {
     "data": {
      "application/vnd.jupyter.widget-view+json": {
       "model_id": "7d6727abc97b40f0982b464bba2d393c",
       "version_major": 2,
       "version_minor": 0
      },
      "text/plain": [
       "HBox(children=(IntProgress(value=0, max=8624), HTML(value='')))"
      ]
     },
     "metadata": {},
     "output_type": "display_data"
    },
    {
     "name": "stdout",
     "output_type": "stream",
     "text": [
      "\n"
     ]
    },
    {
     "data": {
      "application/vnd.jupyter.widget-view+json": {
       "model_id": "693fd359bbeb4dbba99b6b0fd91b1942",
       "version_major": 2,
       "version_minor": 0
      },
      "text/plain": [
       "HBox(children=(IntProgress(value=0, max=8624), HTML(value='')))"
      ]
     },
     "metadata": {},
     "output_type": "display_data"
    },
    {
     "name": "stdout",
     "output_type": "stream",
     "text": [
      "\n"
     ]
    },
    {
     "data": {
      "application/vnd.jupyter.widget-view+json": {
       "model_id": "a4d62fbf2acc4632a5473f89c3a578a5",
       "version_major": 2,
       "version_minor": 0
      },
      "text/plain": [
       "HBox(children=(IntProgress(value=0, max=8624), HTML(value='')))"
      ]
     },
     "metadata": {},
     "output_type": "display_data"
    },
    {
     "name": "stdout",
     "output_type": "stream",
     "text": [
      "\n"
     ]
    },
    {
     "data": {
      "application/vnd.jupyter.widget-view+json": {
       "model_id": "d1c54eda378c4cc6b65305a8f3260d1d",
       "version_major": 2,
       "version_minor": 0
      },
      "text/plain": [
       "HBox(children=(IntProgress(value=0, max=8624), HTML(value='')))"
      ]
     },
     "metadata": {},
     "output_type": "display_data"
    },
    {
     "name": "stdout",
     "output_type": "stream",
     "text": [
      "\n"
     ]
    },
    {
     "data": {
      "application/vnd.jupyter.widget-view+json": {
       "model_id": "759c3fcd417745c59c711f1582ef5f0d",
       "version_major": 2,
       "version_minor": 0
      },
      "text/plain": [
       "HBox(children=(IntProgress(value=0, max=8624), HTML(value='')))"
      ]
     },
     "metadata": {},
     "output_type": "display_data"
    },
    {
     "name": "stdout",
     "output_type": "stream",
     "text": [
      "\n",
      "allmarvel\n"
     ]
    },
    {
     "data": {
      "application/vnd.jupyter.widget-view+json": {
       "model_id": "433e48f2354742dd84322831398b8ba8",
       "version_major": 2,
       "version_minor": 0
      },
      "text/plain": [
       "HBox(children=(IntProgress(value=0, max=37002), HTML(value='')))"
      ]
     },
     "metadata": {},
     "output_type": "display_data"
    },
    {
     "name": "stdout",
     "output_type": "stream",
     "text": [
      "\n"
     ]
    },
    {
     "data": {
      "application/vnd.jupyter.widget-view+json": {
       "model_id": "440d17117729449390d4e3ae8f786e6f",
       "version_major": 2,
       "version_minor": 0
      },
      "text/plain": [
       "HBox(children=(IntProgress(value=0, max=37002), HTML(value='')))"
      ]
     },
     "metadata": {},
     "output_type": "display_data"
    },
    {
     "name": "stdout",
     "output_type": "stream",
     "text": [
      "\n"
     ]
    },
    {
     "data": {
      "application/vnd.jupyter.widget-view+json": {
       "model_id": "510224145d2848918affe76857ab046d",
       "version_major": 2,
       "version_minor": 0
      },
      "text/plain": [
       "HBox(children=(IntProgress(value=0, max=37002), HTML(value='')))"
      ]
     },
     "metadata": {},
     "output_type": "display_data"
    },
    {
     "name": "stdout",
     "output_type": "stream",
     "text": [
      "\n"
     ]
    },
    {
     "data": {
      "application/vnd.jupyter.widget-view+json": {
       "model_id": "f171d93d47e9440198073d9126e7f6c9",
       "version_major": 2,
       "version_minor": 0
      },
      "text/plain": [
       "HBox(children=(IntProgress(value=0, max=37002), HTML(value='')))"
      ]
     },
     "metadata": {},
     "output_type": "display_data"
    },
    {
     "name": "stdout",
     "output_type": "stream",
     "text": [
      "\n"
     ]
    },
    {
     "data": {
      "application/vnd.jupyter.widget-view+json": {
       "model_id": "3c6836615b294626b7bcfa9d846a9c88",
       "version_major": 2,
       "version_minor": 0
      },
      "text/plain": [
       "HBox(children=(IntProgress(value=0, max=37002), HTML(value='')))"
      ]
     },
     "metadata": {},
     "output_type": "display_data"
    },
    {
     "name": "stdout",
     "output_type": "stream",
     "text": [
      "\n",
      "arthurian\n"
     ]
    },
    {
     "data": {
      "application/vnd.jupyter.widget-view+json": {
       "model_id": "a004945c5a0545c099deefaafe9919eb",
       "version_major": 2,
       "version_minor": 0
      },
      "text/plain": [
       "HBox(children=(IntProgress(value=0, max=2937), HTML(value='')))"
      ]
     },
     "metadata": {},
     "output_type": "display_data"
    },
    {
     "name": "stdout",
     "output_type": "stream",
     "text": [
      "\n"
     ]
    },
    {
     "data": {
      "application/vnd.jupyter.widget-view+json": {
       "model_id": "f171c359ce144d679a1085bb83f06724",
       "version_major": 2,
       "version_minor": 0
      },
      "text/plain": [
       "HBox(children=(IntProgress(value=0, max=2937), HTML(value='')))"
      ]
     },
     "metadata": {},
     "output_type": "display_data"
    },
    {
     "name": "stdout",
     "output_type": "stream",
     "text": [
      "\n"
     ]
    },
    {
     "data": {
      "application/vnd.jupyter.widget-view+json": {
       "model_id": "1d6b2f6381db4df686a16f8db13986a6",
       "version_major": 2,
       "version_minor": 0
      },
      "text/plain": [
       "HBox(children=(IntProgress(value=0, max=2937), HTML(value='')))"
      ]
     },
     "metadata": {},
     "output_type": "display_data"
    },
    {
     "name": "stdout",
     "output_type": "stream",
     "text": [
      "\n"
     ]
    },
    {
     "data": {
      "application/vnd.jupyter.widget-view+json": {
       "model_id": "86540df2a8684bd4b6a0373d111d0d63",
       "version_major": 2,
       "version_minor": 0
      },
      "text/plain": [
       "HBox(children=(IntProgress(value=0, max=2937), HTML(value='')))"
      ]
     },
     "metadata": {},
     "output_type": "display_data"
    },
    {
     "name": "stdout",
     "output_type": "stream",
     "text": [
      "\n"
     ]
    },
    {
     "data": {
      "application/vnd.jupyter.widget-view+json": {
       "model_id": "56ca9d92f66e4ace8aee8714fb4a195d",
       "version_major": 2,
       "version_minor": 0
      },
      "text/plain": [
       "HBox(children=(IntProgress(value=0, max=2937), HTML(value='')))"
      ]
     },
     "metadata": {},
     "output_type": "display_data"
    },
    {
     "name": "stdout",
     "output_type": "stream",
     "text": [
      "\n",
      "attack_on_titan\n"
     ]
    },
    {
     "data": {
      "application/vnd.jupyter.widget-view+json": {
       "model_id": "4c65111b241341858961624c9a897355",
       "version_major": 2,
       "version_minor": 0
      },
      "text/plain": [
       "HBox(children=(IntProgress(value=0, max=3733), HTML(value='')))"
      ]
     },
     "metadata": {},
     "output_type": "display_data"
    },
    {
     "name": "stdout",
     "output_type": "stream",
     "text": [
      "\n"
     ]
    },
    {
     "data": {
      "application/vnd.jupyter.widget-view+json": {
       "model_id": "38717383fb184ee9980a317df2680d8d",
       "version_major": 2,
       "version_minor": 0
      },
      "text/plain": [
       "HBox(children=(IntProgress(value=0, max=3733), HTML(value='')))"
      ]
     },
     "metadata": {},
     "output_type": "display_data"
    },
    {
     "name": "stdout",
     "output_type": "stream",
     "text": [
      "\n"
     ]
    },
    {
     "data": {
      "application/vnd.jupyter.widget-view+json": {
       "model_id": "b340e67e749f4dfcbf0f029ab6a18c34",
       "version_major": 2,
       "version_minor": 0
      },
      "text/plain": [
       "HBox(children=(IntProgress(value=0, max=3733), HTML(value='')))"
      ]
     },
     "metadata": {},
     "output_type": "display_data"
    },
    {
     "name": "stdout",
     "output_type": "stream",
     "text": [
      "\n"
     ]
    },
    {
     "data": {
      "application/vnd.jupyter.widget-view+json": {
       "model_id": "2f33acaa70d045aa93438e1507df461d",
       "version_major": 2,
       "version_minor": 0
      },
      "text/plain": [
       "HBox(children=(IntProgress(value=0, max=3733), HTML(value='')))"
      ]
     },
     "metadata": {},
     "output_type": "display_data"
    },
    {
     "name": "stdout",
     "output_type": "stream",
     "text": [
      "\n"
     ]
    },
    {
     "data": {
      "application/vnd.jupyter.widget-view+json": {
       "model_id": "78bc5f16066b4067bc6f2b6633b8c7f5",
       "version_major": 2,
       "version_minor": 0
      },
      "text/plain": [
       "HBox(children=(IntProgress(value=0, max=3733), HTML(value='')))"
      ]
     },
     "metadata": {},
     "output_type": "display_data"
    },
    {
     "name": "stdout",
     "output_type": "stream",
     "text": [
      "\n",
      "dcu\n"
     ]
    },
    {
     "data": {
      "application/vnd.jupyter.widget-view+json": {
       "model_id": "42691148e81b4c38adf714b145876bc2",
       "version_major": 2,
       "version_minor": 0
      },
      "text/plain": [
       "HBox(children=(IntProgress(value=0, max=8493), HTML(value='')))"
      ]
     },
     "metadata": {},
     "output_type": "display_data"
    },
    {
     "name": "stdout",
     "output_type": "stream",
     "text": [
      "\n"
     ]
    },
    {
     "data": {
      "application/vnd.jupyter.widget-view+json": {
       "model_id": "94e3f8bfb2e84bb49605e62d4c4152e3",
       "version_major": 2,
       "version_minor": 0
      },
      "text/plain": [
       "HBox(children=(IntProgress(value=0, max=8493), HTML(value='')))"
      ]
     },
     "metadata": {},
     "output_type": "display_data"
    },
    {
     "name": "stdout",
     "output_type": "stream",
     "text": [
      "\n"
     ]
    },
    {
     "data": {
      "application/vnd.jupyter.widget-view+json": {
       "model_id": "7af7345b993f4701a7a04576306a8b0e",
       "version_major": 2,
       "version_minor": 0
      },
      "text/plain": [
       "HBox(children=(IntProgress(value=0, max=8493), HTML(value='')))"
      ]
     },
     "metadata": {},
     "output_type": "display_data"
    },
    {
     "name": "stdout",
     "output_type": "stream",
     "text": [
      "\n"
     ]
    },
    {
     "data": {
      "application/vnd.jupyter.widget-view+json": {
       "model_id": "8a5348ba13b0492290f32a32eadfb6e5",
       "version_major": 2,
       "version_minor": 0
      },
      "text/plain": [
       "HBox(children=(IntProgress(value=0, max=8493), HTML(value='')))"
      ]
     },
     "metadata": {},
     "output_type": "display_data"
    },
    {
     "name": "stdout",
     "output_type": "stream",
     "text": [
      "\n"
     ]
    },
    {
     "data": {
      "application/vnd.jupyter.widget-view+json": {
       "model_id": "4088dbef042341499498f1cdde4d1c7c",
       "version_major": 2,
       "version_minor": 0
      },
      "text/plain": [
       "HBox(children=(IntProgress(value=0, max=8493), HTML(value='')))"
      ]
     },
     "metadata": {},
     "output_type": "display_data"
    },
    {
     "name": "stdout",
     "output_type": "stream",
     "text": [
      "\n",
      "dr_who\n"
     ]
    },
    {
     "data": {
      "application/vnd.jupyter.widget-view+json": {
       "model_id": "3feea85388894d3bb33f6e9714387069",
       "version_major": 2,
       "version_minor": 0
      },
      "text/plain": [
       "HBox(children=(IntProgress(value=0, max=1834), HTML(value='')))"
      ]
     },
     "metadata": {},
     "output_type": "display_data"
    },
    {
     "name": "stdout",
     "output_type": "stream",
     "text": [
      "\n"
     ]
    },
    {
     "data": {
      "application/vnd.jupyter.widget-view+json": {
       "model_id": "d41172a0155a4fe481380ca4dbea8aca",
       "version_major": 2,
       "version_minor": 0
      },
      "text/plain": [
       "HBox(children=(IntProgress(value=0, max=1834), HTML(value='')))"
      ]
     },
     "metadata": {},
     "output_type": "display_data"
    },
    {
     "name": "stdout",
     "output_type": "stream",
     "text": [
      "\n"
     ]
    },
    {
     "data": {
      "application/vnd.jupyter.widget-view+json": {
       "model_id": "3390140aa7d24767bf925599e7ce4a7b",
       "version_major": 2,
       "version_minor": 0
      },
      "text/plain": [
       "HBox(children=(IntProgress(value=0, max=1834), HTML(value='')))"
      ]
     },
     "metadata": {},
     "output_type": "display_data"
    },
    {
     "name": "stdout",
     "output_type": "stream",
     "text": [
      "\n"
     ]
    },
    {
     "data": {
      "application/vnd.jupyter.widget-view+json": {
       "model_id": "d5214e75d32342c9b12dd611a12c8024",
       "version_major": 2,
       "version_minor": 0
      },
      "text/plain": [
       "HBox(children=(IntProgress(value=0, max=1834), HTML(value='')))"
      ]
     },
     "metadata": {},
     "output_type": "display_data"
    },
    {
     "name": "stdout",
     "output_type": "stream",
     "text": [
      "\n"
     ]
    },
    {
     "data": {
      "application/vnd.jupyter.widget-view+json": {
       "model_id": "53237c892320478a9e7e5056ba9bf9b3",
       "version_major": 2,
       "version_minor": 0
      },
      "text/plain": [
       "HBox(children=(IntProgress(value=0, max=1834), HTML(value='')))"
      ]
     },
     "metadata": {},
     "output_type": "display_data"
    },
    {
     "name": "stdout",
     "output_type": "stream",
     "text": [
      "\n",
      "dragonage\n"
     ]
    },
    {
     "data": {
      "application/vnd.jupyter.widget-view+json": {
       "model_id": "0a3857733d544907a811942261f572ac",
       "version_major": 2,
       "version_minor": 0
      },
      "text/plain": [
       "HBox(children=(IntProgress(value=0, max=6384), HTML(value='')))"
      ]
     },
     "metadata": {},
     "output_type": "display_data"
    },
    {
     "name": "stdout",
     "output_type": "stream",
     "text": [
      "\n"
     ]
    },
    {
     "data": {
      "application/vnd.jupyter.widget-view+json": {
       "model_id": "ecabda6eeac54fd99fee3b65e4fd8b38",
       "version_major": 2,
       "version_minor": 0
      },
      "text/plain": [
       "HBox(children=(IntProgress(value=0, max=6384), HTML(value='')))"
      ]
     },
     "metadata": {},
     "output_type": "display_data"
    },
    {
     "name": "stdout",
     "output_type": "stream",
     "text": [
      "\n"
     ]
    },
    {
     "data": {
      "application/vnd.jupyter.widget-view+json": {
       "model_id": "d1f2c82052d8498baf51c69c4553a141",
       "version_major": 2,
       "version_minor": 0
      },
      "text/plain": [
       "HBox(children=(IntProgress(value=0, max=6384), HTML(value='')))"
      ]
     },
     "metadata": {},
     "output_type": "display_data"
    },
    {
     "name": "stdout",
     "output_type": "stream",
     "text": [
      "\n"
     ]
    },
    {
     "data": {
      "application/vnd.jupyter.widget-view+json": {
       "model_id": "8d94769fc81e47a18ce17f305566d4f7",
       "version_major": 2,
       "version_minor": 0
      },
      "text/plain": [
       "HBox(children=(IntProgress(value=0, max=6384), HTML(value='')))"
      ]
     },
     "metadata": {},
     "output_type": "display_data"
    },
    {
     "name": "stdout",
     "output_type": "stream",
     "text": [
      "\n"
     ]
    },
    {
     "data": {
      "application/vnd.jupyter.widget-view+json": {
       "model_id": "3c316660e75240c3969153c8fcc7c34f",
       "version_major": 2,
       "version_minor": 0
      },
      "text/plain": [
       "HBox(children=(IntProgress(value=0, max=6384), HTML(value='')))"
      ]
     },
     "metadata": {},
     "output_type": "display_data"
    },
    {
     "name": "stdout",
     "output_type": "stream",
     "text": [
      "\n",
      "haikyuu\n"
     ]
    },
    {
     "data": {
      "application/vnd.jupyter.widget-view+json": {
       "model_id": "59c167a84f5e47e5ab8eb8a3b7b6a003",
       "version_major": 2,
       "version_minor": 0
      },
      "text/plain": [
       "HBox(children=(IntProgress(value=0, max=4306), HTML(value='')))"
      ]
     },
     "metadata": {},
     "output_type": "display_data"
    },
    {
     "name": "stdout",
     "output_type": "stream",
     "text": [
      "\n"
     ]
    },
    {
     "data": {
      "application/vnd.jupyter.widget-view+json": {
       "model_id": "3e59ba29b31f495682d17cb3ee108570",
       "version_major": 2,
       "version_minor": 0
      },
      "text/plain": [
       "HBox(children=(IntProgress(value=0, max=4306), HTML(value='')))"
      ]
     },
     "metadata": {},
     "output_type": "display_data"
    },
    {
     "name": "stdout",
     "output_type": "stream",
     "text": [
      "\n"
     ]
    },
    {
     "data": {
      "application/vnd.jupyter.widget-view+json": {
       "model_id": "1c071a518da2431caadde26618dd49a7",
       "version_major": 2,
       "version_minor": 0
      },
      "text/plain": [
       "HBox(children=(IntProgress(value=0, max=4306), HTML(value='')))"
      ]
     },
     "metadata": {},
     "output_type": "display_data"
    },
    {
     "name": "stdout",
     "output_type": "stream",
     "text": [
      "\n"
     ]
    },
    {
     "data": {
      "application/vnd.jupyter.widget-view+json": {
       "model_id": "cd76c89b4e004f7fa3f0e4acca63609b",
       "version_major": 2,
       "version_minor": 0
      },
      "text/plain": [
       "HBox(children=(IntProgress(value=0, max=4306), HTML(value='')))"
      ]
     },
     "metadata": {},
     "output_type": "display_data"
    },
    {
     "name": "stdout",
     "output_type": "stream",
     "text": [
      "\n"
     ]
    },
    {
     "data": {
      "application/vnd.jupyter.widget-view+json": {
       "model_id": "8a68d072369f46e593337d952fcf5a7a",
       "version_major": 2,
       "version_minor": 0
      },
      "text/plain": [
       "HBox(children=(IntProgress(value=0, max=4306), HTML(value='')))"
      ]
     },
     "metadata": {},
     "output_type": "display_data"
    },
    {
     "name": "stdout",
     "output_type": "stream",
     "text": [
      "\n",
      "hamilton\n"
     ]
    },
    {
     "data": {
      "application/vnd.jupyter.widget-view+json": {
       "model_id": "d1ead0d30e044bbe8646b174ba951c76",
       "version_major": 2,
       "version_minor": 0
      },
      "text/plain": [
       "HBox(children=(IntProgress(value=0, max=5116), HTML(value='')))"
      ]
     },
     "metadata": {},
     "output_type": "display_data"
    },
    {
     "name": "stdout",
     "output_type": "stream",
     "text": [
      "\n"
     ]
    },
    {
     "data": {
      "application/vnd.jupyter.widget-view+json": {
       "model_id": "22d115111c914d94813d1d7a1a10464c",
       "version_major": 2,
       "version_minor": 0
      },
      "text/plain": [
       "HBox(children=(IntProgress(value=0, max=5116), HTML(value='')))"
      ]
     },
     "metadata": {},
     "output_type": "display_data"
    },
    {
     "name": "stdout",
     "output_type": "stream",
     "text": [
      "\n"
     ]
    },
    {
     "data": {
      "application/vnd.jupyter.widget-view+json": {
       "model_id": "c49e54dfef1b4802aafa188f6170328b",
       "version_major": 2,
       "version_minor": 0
      },
      "text/plain": [
       "HBox(children=(IntProgress(value=0, max=5116), HTML(value='')))"
      ]
     },
     "metadata": {},
     "output_type": "display_data"
    },
    {
     "name": "stdout",
     "output_type": "stream",
     "text": [
      "\n"
     ]
    },
    {
     "data": {
      "application/vnd.jupyter.widget-view+json": {
       "model_id": "7f736cb8bb404fafb209c9db332a4f08",
       "version_major": 2,
       "version_minor": 0
      },
      "text/plain": [
       "HBox(children=(IntProgress(value=0, max=5116), HTML(value='')))"
      ]
     },
     "metadata": {},
     "output_type": "display_data"
    },
    {
     "name": "stdout",
     "output_type": "stream",
     "text": [
      "\n"
     ]
    },
    {
     "data": {
      "application/vnd.jupyter.widget-view+json": {
       "model_id": "fe3b23ebe4284fa69c2d91ce4e48de88",
       "version_major": 2,
       "version_minor": 0
      },
      "text/plain": [
       "HBox(children=(IntProgress(value=0, max=5116), HTML(value='')))"
      ]
     },
     "metadata": {},
     "output_type": "display_data"
    },
    {
     "name": "stdout",
     "output_type": "stream",
     "text": [
      "\n",
      "harrypotter\n"
     ]
    },
    {
     "data": {
      "application/vnd.jupyter.widget-view+json": {
       "model_id": "6c2d4bbf4f6945ba866a9203cf34a948",
       "version_major": 2,
       "version_minor": 0
      },
      "text/plain": [
       "HBox(children=(IntProgress(value=0, max=42333), HTML(value='')))"
      ]
     },
     "metadata": {},
     "output_type": "display_data"
    },
    {
     "name": "stdout",
     "output_type": "stream",
     "text": [
      "\n"
     ]
    },
    {
     "data": {
      "application/vnd.jupyter.widget-view+json": {
       "model_id": "a4f698af080042dab4a4a661e1f59eda",
       "version_major": 2,
       "version_minor": 0
      },
      "text/plain": [
       "HBox(children=(IntProgress(value=0, max=42333), HTML(value='')))"
      ]
     },
     "metadata": {},
     "output_type": "display_data"
    },
    {
     "name": "stdout",
     "output_type": "stream",
     "text": [
      "\n"
     ]
    },
    {
     "data": {
      "application/vnd.jupyter.widget-view+json": {
       "model_id": "0f95a89506e64d7a82abc80415a571c8",
       "version_major": 2,
       "version_minor": 0
      },
      "text/plain": [
       "HBox(children=(IntProgress(value=0, max=42333), HTML(value='')))"
      ]
     },
     "metadata": {},
     "output_type": "display_data"
    },
    {
     "name": "stdout",
     "output_type": "stream",
     "text": [
      "\n"
     ]
    },
    {
     "data": {
      "application/vnd.jupyter.widget-view+json": {
       "model_id": "6953358dc4b3480295fdc237f4cddbcf",
       "version_major": 2,
       "version_minor": 0
      },
      "text/plain": [
       "HBox(children=(IntProgress(value=0, max=42333), HTML(value='')))"
      ]
     },
     "metadata": {},
     "output_type": "display_data"
    },
    {
     "name": "stdout",
     "output_type": "stream",
     "text": [
      "\n"
     ]
    },
    {
     "data": {
      "application/vnd.jupyter.widget-view+json": {
       "model_id": "2be97062ce1d4e378157497b4a684fd9",
       "version_major": 2,
       "version_minor": 0
      },
      "text/plain": [
       "HBox(children=(IntProgress(value=0, max=42333), HTML(value='')))"
      ]
     },
     "metadata": {},
     "output_type": "display_data"
    },
    {
     "name": "stdout",
     "output_type": "stream",
     "text": [
      "\n",
      "homestuck\n"
     ]
    },
    {
     "data": {
      "application/vnd.jupyter.widget-view+json": {
       "model_id": "bdb8287f3ac04a85b93af4e65a40355d",
       "version_major": 2,
       "version_minor": 0
      },
      "text/plain": [
       "HBox(children=(IntProgress(value=0, max=8969), HTML(value='')))"
      ]
     },
     "metadata": {},
     "output_type": "display_data"
    },
    {
     "name": "stdout",
     "output_type": "stream",
     "text": [
      "\n"
     ]
    },
    {
     "data": {
      "application/vnd.jupyter.widget-view+json": {
       "model_id": "438f8766cc44484bbf32a6475e419446",
       "version_major": 2,
       "version_minor": 0
      },
      "text/plain": [
       "HBox(children=(IntProgress(value=0, max=8969), HTML(value='')))"
      ]
     },
     "metadata": {},
     "output_type": "display_data"
    },
    {
     "name": "stdout",
     "output_type": "stream",
     "text": [
      "\n"
     ]
    },
    {
     "data": {
      "application/vnd.jupyter.widget-view+json": {
       "model_id": "c5cd104df1aa4de0b0b8a74bcbd3d8d1",
       "version_major": 2,
       "version_minor": 0
      },
      "text/plain": [
       "HBox(children=(IntProgress(value=0, max=8969), HTML(value='')))"
      ]
     },
     "metadata": {},
     "output_type": "display_data"
    },
    {
     "name": "stdout",
     "output_type": "stream",
     "text": [
      "\n"
     ]
    },
    {
     "data": {
      "application/vnd.jupyter.widget-view+json": {
       "model_id": "f8a9a98e37cb4fdaa6ee1a0504834502",
       "version_major": 2,
       "version_minor": 0
      },
      "text/plain": [
       "HBox(children=(IntProgress(value=0, max=8969), HTML(value='')))"
      ]
     },
     "metadata": {},
     "output_type": "display_data"
    },
    {
     "name": "stdout",
     "output_type": "stream",
     "text": [
      "\n"
     ]
    },
    {
     "data": {
      "application/vnd.jupyter.widget-view+json": {
       "model_id": "d5f28353b6a340378f594327a3f05c84",
       "version_major": 2,
       "version_minor": 0
      },
      "text/plain": [
       "HBox(children=(IntProgress(value=0, max=8969), HTML(value='')))"
      ]
     },
     "metadata": {},
     "output_type": "display_data"
    },
    {
     "name": "stdout",
     "output_type": "stream",
     "text": [
      "\n",
      "korra\n"
     ]
    },
    {
     "data": {
      "application/vnd.jupyter.widget-view+json": {
       "model_id": "2c5a8bde1a8a485fa3951c844584a405",
       "version_major": 2,
       "version_minor": 0
      },
      "text/plain": [
       "HBox(children=(IntProgress(value=0, max=1637), HTML(value='')))"
      ]
     },
     "metadata": {},
     "output_type": "display_data"
    },
    {
     "name": "stdout",
     "output_type": "stream",
     "text": [
      "\n"
     ]
    },
    {
     "data": {
      "application/vnd.jupyter.widget-view+json": {
       "model_id": "7c7650ec9bb44b2baed48b8701abc305",
       "version_major": 2,
       "version_minor": 0
      },
      "text/plain": [
       "HBox(children=(IntProgress(value=0, max=1637), HTML(value='')))"
      ]
     },
     "metadata": {},
     "output_type": "display_data"
    },
    {
     "name": "stdout",
     "output_type": "stream",
     "text": [
      "\n"
     ]
    },
    {
     "data": {
      "application/vnd.jupyter.widget-view+json": {
       "model_id": "6636d252f2d44c209b7902ded9e0d884",
       "version_major": 2,
       "version_minor": 0
      },
      "text/plain": [
       "HBox(children=(IntProgress(value=0, max=1637), HTML(value='')))"
      ]
     },
     "metadata": {},
     "output_type": "display_data"
    },
    {
     "name": "stdout",
     "output_type": "stream",
     "text": [
      "\n"
     ]
    },
    {
     "data": {
      "application/vnd.jupyter.widget-view+json": {
       "model_id": "064fcd187cbf4961ae732b2a5a52c8a7",
       "version_major": 2,
       "version_minor": 0
      },
      "text/plain": [
       "HBox(children=(IntProgress(value=0, max=1637), HTML(value='')))"
      ]
     },
     "metadata": {},
     "output_type": "display_data"
    },
    {
     "name": "stdout",
     "output_type": "stream",
     "text": [
      "\n"
     ]
    },
    {
     "data": {
      "application/vnd.jupyter.widget-view+json": {
       "model_id": "ab1c663126844a44afe515a40f572be3",
       "version_major": 2,
       "version_minor": 0
      },
      "text/plain": [
       "HBox(children=(IntProgress(value=0, max=1637), HTML(value='')))"
      ]
     },
     "metadata": {},
     "output_type": "display_data"
    },
    {
     "name": "stdout",
     "output_type": "stream",
     "text": [
      "\n",
      "naruto\n"
     ]
    },
    {
     "data": {
      "application/vnd.jupyter.widget-view+json": {
       "model_id": "2e52714c61b44e719b47b9ef6d7f4a2b",
       "version_major": 2,
       "version_minor": 0
      },
      "text/plain": [
       "HBox(children=(IntProgress(value=0, max=6705), HTML(value='')))"
      ]
     },
     "metadata": {},
     "output_type": "display_data"
    },
    {
     "name": "stdout",
     "output_type": "stream",
     "text": [
      "\n"
     ]
    },
    {
     "data": {
      "application/vnd.jupyter.widget-view+json": {
       "model_id": "0d676642811a4910a74cd457cb3cecf6",
       "version_major": 2,
       "version_minor": 0
      },
      "text/plain": [
       "HBox(children=(IntProgress(value=0, max=6705), HTML(value='')))"
      ]
     },
     "metadata": {},
     "output_type": "display_data"
    },
    {
     "name": "stdout",
     "output_type": "stream",
     "text": [
      "\n"
     ]
    },
    {
     "data": {
      "application/vnd.jupyter.widget-view+json": {
       "model_id": "3419026532cb4d52998fa4a3cc423dba",
       "version_major": 2,
       "version_minor": 0
      },
      "text/plain": [
       "HBox(children=(IntProgress(value=0, max=6705), HTML(value='')))"
      ]
     },
     "metadata": {},
     "output_type": "display_data"
    },
    {
     "name": "stdout",
     "output_type": "stream",
     "text": [
      "\n"
     ]
    },
    {
     "data": {
      "application/vnd.jupyter.widget-view+json": {
       "model_id": "5117af1611d6466caa5da142891b79aa",
       "version_major": 2,
       "version_minor": 0
      },
      "text/plain": [
       "HBox(children=(IntProgress(value=0, max=6705), HTML(value='')))"
      ]
     },
     "metadata": {},
     "output_type": "display_data"
    },
    {
     "name": "stdout",
     "output_type": "stream",
     "text": [
      "\n"
     ]
    },
    {
     "data": {
      "application/vnd.jupyter.widget-view+json": {
       "model_id": "82a6f7ca186242b99297621914df4c0e",
       "version_major": 2,
       "version_minor": 0
      },
      "text/plain": [
       "HBox(children=(IntProgress(value=0, max=6705), HTML(value='')))"
      ]
     },
     "metadata": {},
     "output_type": "display_data"
    },
    {
     "name": "stdout",
     "output_type": "stream",
     "text": [
      "\n",
      "once_upon_a_time\n"
     ]
    },
    {
     "data": {
      "application/vnd.jupyter.widget-view+json": {
       "model_id": "ecba49d518684229bb17706b22cddd83",
       "version_major": 2,
       "version_minor": 0
      },
      "text/plain": [
       "HBox(children=(IntProgress(value=0, max=5128), HTML(value='')))"
      ]
     },
     "metadata": {},
     "output_type": "display_data"
    },
    {
     "name": "stdout",
     "output_type": "stream",
     "text": [
      "\n"
     ]
    },
    {
     "data": {
      "application/vnd.jupyter.widget-view+json": {
       "model_id": "15752461684d469b82a8c0be68ccac4b",
       "version_major": 2,
       "version_minor": 0
      },
      "text/plain": [
       "HBox(children=(IntProgress(value=0, max=5128), HTML(value='')))"
      ]
     },
     "metadata": {},
     "output_type": "display_data"
    },
    {
     "name": "stdout",
     "output_type": "stream",
     "text": [
      "\n"
     ]
    },
    {
     "data": {
      "application/vnd.jupyter.widget-view+json": {
       "model_id": "f30e7deb78a449a2a24cf36c5dc4ed68",
       "version_major": 2,
       "version_minor": 0
      },
      "text/plain": [
       "HBox(children=(IntProgress(value=0, max=5128), HTML(value='')))"
      ]
     },
     "metadata": {},
     "output_type": "display_data"
    },
    {
     "name": "stdout",
     "output_type": "stream",
     "text": [
      "\n"
     ]
    },
    {
     "data": {
      "application/vnd.jupyter.widget-view+json": {
       "model_id": "2dcc27c939c244268057a39076491b36",
       "version_major": 2,
       "version_minor": 0
      },
      "text/plain": [
       "HBox(children=(IntProgress(value=0, max=5128), HTML(value='')))"
      ]
     },
     "metadata": {},
     "output_type": "display_data"
    },
    {
     "name": "stdout",
     "output_type": "stream",
     "text": [
      "\n"
     ]
    },
    {
     "data": {
      "application/vnd.jupyter.widget-view+json": {
       "model_id": "5b82686aa1874008b26679b31a084768",
       "version_major": 2,
       "version_minor": 0
      },
      "text/plain": [
       "HBox(children=(IntProgress(value=0, max=5128), HTML(value='')))"
      ]
     },
     "metadata": {},
     "output_type": "display_data"
    },
    {
     "name": "stdout",
     "output_type": "stream",
     "text": [
      "\n",
      "overwatch\n"
     ]
    },
    {
     "data": {
      "application/vnd.jupyter.widget-view+json": {
       "model_id": "fc2604820c0e4a2ab4e2287b5522bb75",
       "version_major": 2,
       "version_minor": 0
      },
      "text/plain": [
       "HBox(children=(IntProgress(value=0, max=10015), HTML(value='')))"
      ]
     },
     "metadata": {},
     "output_type": "display_data"
    },
    {
     "name": "stdout",
     "output_type": "stream",
     "text": [
      "\n"
     ]
    },
    {
     "data": {
      "application/vnd.jupyter.widget-view+json": {
       "model_id": "bba19c89a5774972bbe95b0d486df408",
       "version_major": 2,
       "version_minor": 0
      },
      "text/plain": [
       "HBox(children=(IntProgress(value=0, max=10015), HTML(value='')))"
      ]
     },
     "metadata": {},
     "output_type": "display_data"
    },
    {
     "name": "stdout",
     "output_type": "stream",
     "text": [
      "\n"
     ]
    },
    {
     "data": {
      "application/vnd.jupyter.widget-view+json": {
       "model_id": "e94cea8f45b9454fa1cacff9df0a6709",
       "version_major": 2,
       "version_minor": 0
      },
      "text/plain": [
       "HBox(children=(IntProgress(value=0, max=10015), HTML(value='')))"
      ]
     },
     "metadata": {},
     "output_type": "display_data"
    },
    {
     "name": "stdout",
     "output_type": "stream",
     "text": [
      "\n"
     ]
    },
    {
     "data": {
      "application/vnd.jupyter.widget-view+json": {
       "model_id": "0aae1904ec764749b31626ddc2420e7f",
       "version_major": 2,
       "version_minor": 0
      },
      "text/plain": [
       "HBox(children=(IntProgress(value=0, max=10015), HTML(value='')))"
      ]
     },
     "metadata": {},
     "output_type": "display_data"
    },
    {
     "name": "stdout",
     "output_type": "stream",
     "text": [
      "\n"
     ]
    },
    {
     "data": {
      "application/vnd.jupyter.widget-view+json": {
       "model_id": "48e91c1f914b4bb0a3dd8e80bfd8dfde",
       "version_major": 2,
       "version_minor": 0
      },
      "text/plain": [
       "HBox(children=(IntProgress(value=0, max=10015), HTML(value='')))"
      ]
     },
     "metadata": {},
     "output_type": "display_data"
    },
    {
     "name": "stdout",
     "output_type": "stream",
     "text": [
      "\n",
      "pokemon\n"
     ]
    },
    {
     "data": {
      "application/vnd.jupyter.widget-view+json": {
       "model_id": "331853c10a154fd7b157817e4a4e8169",
       "version_major": 2,
       "version_minor": 0
      },
      "text/plain": [
       "HBox(children=(IntProgress(value=0, max=20019), HTML(value='')))"
      ]
     },
     "metadata": {},
     "output_type": "display_data"
    },
    {
     "name": "stdout",
     "output_type": "stream",
     "text": [
      "\n"
     ]
    },
    {
     "data": {
      "application/vnd.jupyter.widget-view+json": {
       "model_id": "097a8000cac049e7a1b9eb80024f319b",
       "version_major": 2,
       "version_minor": 0
      },
      "text/plain": [
       "HBox(children=(IntProgress(value=0, max=20019), HTML(value='')))"
      ]
     },
     "metadata": {},
     "output_type": "display_data"
    },
    {
     "name": "stdout",
     "output_type": "stream",
     "text": [
      "\n"
     ]
    },
    {
     "data": {
      "application/vnd.jupyter.widget-view+json": {
       "model_id": "a8137cf36cfa4f2897e14387b162d366",
       "version_major": 2,
       "version_minor": 0
      },
      "text/plain": [
       "HBox(children=(IntProgress(value=0, max=20019), HTML(value='')))"
      ]
     },
     "metadata": {},
     "output_type": "display_data"
    },
    {
     "name": "stdout",
     "output_type": "stream",
     "text": [
      "\n"
     ]
    },
    {
     "data": {
      "application/vnd.jupyter.widget-view+json": {
       "model_id": "e80a082ff0f94b77bf0322a11d08dc74",
       "version_major": 2,
       "version_minor": 0
      },
      "text/plain": [
       "HBox(children=(IntProgress(value=0, max=20019), HTML(value='')))"
      ]
     },
     "metadata": {},
     "output_type": "display_data"
    },
    {
     "name": "stdout",
     "output_type": "stream",
     "text": [
      "\n"
     ]
    },
    {
     "data": {
      "application/vnd.jupyter.widget-view+json": {
       "model_id": "07cbc3748eda438b95729f8b62b2579c",
       "version_major": 2,
       "version_minor": 0
      },
      "text/plain": [
       "HBox(children=(IntProgress(value=0, max=20019), HTML(value='')))"
      ]
     },
     "metadata": {},
     "output_type": "display_data"
    },
    {
     "name": "stdout",
     "output_type": "stream",
     "text": [
      "\n",
      "power_rangers\n"
     ]
    },
    {
     "data": {
      "application/vnd.jupyter.widget-view+json": {
       "model_id": "7859f13a4bb740e3bf2eb7964e15c6f1",
       "version_major": 2,
       "version_minor": 0
      },
      "text/plain": [
       "HBox(children=(IntProgress(value=0, max=437), HTML(value='')))"
      ]
     },
     "metadata": {},
     "output_type": "display_data"
    },
    {
     "name": "stdout",
     "output_type": "stream",
     "text": [
      "\n"
     ]
    },
    {
     "data": {
      "application/vnd.jupyter.widget-view+json": {
       "model_id": "c8199b288d534810a96273c3d2b3ce07",
       "version_major": 2,
       "version_minor": 0
      },
      "text/plain": [
       "HBox(children=(IntProgress(value=0, max=437), HTML(value='')))"
      ]
     },
     "metadata": {},
     "output_type": "display_data"
    },
    {
     "name": "stdout",
     "output_type": "stream",
     "text": [
      "\n"
     ]
    },
    {
     "data": {
      "application/vnd.jupyter.widget-view+json": {
       "model_id": "dbc38b0ce0044637a2ccf69f5863f007",
       "version_major": 2,
       "version_minor": 0
      },
      "text/plain": [
       "HBox(children=(IntProgress(value=0, max=437), HTML(value='')))"
      ]
     },
     "metadata": {},
     "output_type": "display_data"
    },
    {
     "name": "stdout",
     "output_type": "stream",
     "text": [
      "\n"
     ]
    },
    {
     "data": {
      "application/vnd.jupyter.widget-view+json": {
       "model_id": "40660060bae1430cb76707a38e957f18",
       "version_major": 2,
       "version_minor": 0
      },
      "text/plain": [
       "HBox(children=(IntProgress(value=0, max=437), HTML(value='')))"
      ]
     },
     "metadata": {},
     "output_type": "display_data"
    },
    {
     "name": "stdout",
     "output_type": "stream",
     "text": [
      "\n"
     ]
    },
    {
     "data": {
      "application/vnd.jupyter.widget-view+json": {
       "model_id": "2e9437c33b1c4c6990ccf4ed6793f92a",
       "version_major": 2,
       "version_minor": 0
      },
      "text/plain": [
       "HBox(children=(IntProgress(value=0, max=437), HTML(value='')))"
      ]
     },
     "metadata": {},
     "output_type": "display_data"
    },
    {
     "name": "stdout",
     "output_type": "stream",
     "text": [
      "\n",
      "riverdale\n"
     ]
    },
    {
     "data": {
      "application/vnd.jupyter.widget-view+json": {
       "model_id": "f19e7dd098184297b86ee0ebf0f98028",
       "version_major": 2,
       "version_minor": 0
      },
      "text/plain": [
       "HBox(children=(IntProgress(value=0, max=2982), HTML(value='')))"
      ]
     },
     "metadata": {},
     "output_type": "display_data"
    },
    {
     "name": "stdout",
     "output_type": "stream",
     "text": [
      "\n"
     ]
    },
    {
     "data": {
      "application/vnd.jupyter.widget-view+json": {
       "model_id": "4d5975b4011c4e7eba6f9b07c664966b",
       "version_major": 2,
       "version_minor": 0
      },
      "text/plain": [
       "HBox(children=(IntProgress(value=0, max=2982), HTML(value='')))"
      ]
     },
     "metadata": {},
     "output_type": "display_data"
    },
    {
     "name": "stdout",
     "output_type": "stream",
     "text": [
      "\n"
     ]
    },
    {
     "data": {
      "application/vnd.jupyter.widget-view+json": {
       "model_id": "1ef9c0fe0e064e0a9a38661cb4f25b7b",
       "version_major": 2,
       "version_minor": 0
      },
      "text/plain": [
       "HBox(children=(IntProgress(value=0, max=2982), HTML(value='')))"
      ]
     },
     "metadata": {},
     "output_type": "display_data"
    },
    {
     "name": "stdout",
     "output_type": "stream",
     "text": [
      "\n"
     ]
    },
    {
     "data": {
      "application/vnd.jupyter.widget-view+json": {
       "model_id": "d75c452b145a4cd484a947993f93c528",
       "version_major": 2,
       "version_minor": 0
      },
      "text/plain": [
       "HBox(children=(IntProgress(value=0, max=2982), HTML(value='')))"
      ]
     },
     "metadata": {},
     "output_type": "display_data"
    },
    {
     "name": "stdout",
     "output_type": "stream",
     "text": [
      "\n"
     ]
    },
    {
     "data": {
      "application/vnd.jupyter.widget-view+json": {
       "model_id": "82ce3fc7ae744f3595ab1c94302fd62f",
       "version_major": 2,
       "version_minor": 0
      },
      "text/plain": [
       "HBox(children=(IntProgress(value=0, max=2982), HTML(value='')))"
      ]
     },
     "metadata": {},
     "output_type": "display_data"
    },
    {
     "name": "stdout",
     "output_type": "stream",
     "text": [
      "\n",
      "sherlock\n"
     ]
    },
    {
     "data": {
      "application/vnd.jupyter.widget-view+json": {
       "model_id": "962ef320c4ff4b2f92f26fd33e3eaf79",
       "version_major": 2,
       "version_minor": 0
      },
      "text/plain": [
       "HBox(children=(IntProgress(value=0, max=17416), HTML(value='')))"
      ]
     },
     "metadata": {},
     "output_type": "display_data"
    },
    {
     "name": "stdout",
     "output_type": "stream",
     "text": [
      "\n"
     ]
    },
    {
     "data": {
      "application/vnd.jupyter.widget-view+json": {
       "model_id": "de32c6bb72cb46ad869e07d56f55768b",
       "version_major": 2,
       "version_minor": 0
      },
      "text/plain": [
       "HBox(children=(IntProgress(value=0, max=17416), HTML(value='')))"
      ]
     },
     "metadata": {},
     "output_type": "display_data"
    },
    {
     "name": "stdout",
     "output_type": "stream",
     "text": [
      "\n"
     ]
    },
    {
     "data": {
      "application/vnd.jupyter.widget-view+json": {
       "model_id": "add9f2129aba42f5a5ec72f84c0787bb",
       "version_major": 2,
       "version_minor": 0
      },
      "text/plain": [
       "HBox(children=(IntProgress(value=0, max=17416), HTML(value='')))"
      ]
     },
     "metadata": {},
     "output_type": "display_data"
    },
    {
     "name": "stdout",
     "output_type": "stream",
     "text": [
      "\n"
     ]
    },
    {
     "data": {
      "application/vnd.jupyter.widget-view+json": {
       "model_id": "06470b6742094b768bc9ce820e163725",
       "version_major": 2,
       "version_minor": 0
      },
      "text/plain": [
       "HBox(children=(IntProgress(value=0, max=17416), HTML(value='')))"
      ]
     },
     "metadata": {},
     "output_type": "display_data"
    },
    {
     "name": "stdout",
     "output_type": "stream",
     "text": [
      "\n"
     ]
    },
    {
     "data": {
      "application/vnd.jupyter.widget-view+json": {
       "model_id": "fbc13e29500c4a61a3122edba0d90924",
       "version_major": 2,
       "version_minor": 0
      },
      "text/plain": [
       "HBox(children=(IntProgress(value=0, max=17416), HTML(value='')))"
      ]
     },
     "metadata": {},
     "output_type": "display_data"
    },
    {
     "name": "stdout",
     "output_type": "stream",
     "text": [
      "\n",
      "song_ice_fire\n"
     ]
    },
    {
     "data": {
      "application/vnd.jupyter.widget-view+json": {
       "model_id": "520cb81199724fd99432a660b937ab04",
       "version_major": 2,
       "version_minor": 0
      },
      "text/plain": [
       "HBox(children=(IntProgress(value=0, max=9860), HTML(value='')))"
      ]
     },
     "metadata": {},
     "output_type": "display_data"
    },
    {
     "name": "stdout",
     "output_type": "stream",
     "text": [
      "\n"
     ]
    },
    {
     "data": {
      "application/vnd.jupyter.widget-view+json": {
       "model_id": "6821f625e07f48e09b653f1b60de49b2",
       "version_major": 2,
       "version_minor": 0
      },
      "text/plain": [
       "HBox(children=(IntProgress(value=0, max=9860), HTML(value='')))"
      ]
     },
     "metadata": {},
     "output_type": "display_data"
    },
    {
     "name": "stdout",
     "output_type": "stream",
     "text": [
      "\n"
     ]
    },
    {
     "data": {
      "application/vnd.jupyter.widget-view+json": {
       "model_id": "59060e26e4cb4f1dbd384f7785c0d1f3",
       "version_major": 2,
       "version_minor": 0
      },
      "text/plain": [
       "HBox(children=(IntProgress(value=0, max=9860), HTML(value='')))"
      ]
     },
     "metadata": {},
     "output_type": "display_data"
    },
    {
     "name": "stdout",
     "output_type": "stream",
     "text": [
      "\n"
     ]
    },
    {
     "data": {
      "application/vnd.jupyter.widget-view+json": {
       "model_id": "74741f41f5194449b51bb71470822cb7",
       "version_major": 2,
       "version_minor": 0
      },
      "text/plain": [
       "HBox(children=(IntProgress(value=0, max=9860), HTML(value='')))"
      ]
     },
     "metadata": {},
     "output_type": "display_data"
    },
    {
     "name": "stdout",
     "output_type": "stream",
     "text": [
      "\n"
     ]
    },
    {
     "data": {
      "application/vnd.jupyter.widget-view+json": {
       "model_id": "53a20a3080b14929a7c31b525e567a3d",
       "version_major": 2,
       "version_minor": 0
      },
      "text/plain": [
       "HBox(children=(IntProgress(value=0, max=9860), HTML(value='')))"
      ]
     },
     "metadata": {},
     "output_type": "display_data"
    },
    {
     "name": "stdout",
     "output_type": "stream",
     "text": [
      "\n",
      "star_trek\n"
     ]
    },
    {
     "data": {
      "application/vnd.jupyter.widget-view+json": {
       "model_id": "4bb184245a804fc3a66c54074e08edc7",
       "version_major": 2,
       "version_minor": 0
      },
      "text/plain": [
       "HBox(children=(IntProgress(value=0, max=5539), HTML(value='')))"
      ]
     },
     "metadata": {},
     "output_type": "display_data"
    },
    {
     "name": "stdout",
     "output_type": "stream",
     "text": [
      "\n"
     ]
    },
    {
     "data": {
      "application/vnd.jupyter.widget-view+json": {
       "model_id": "6220e625f8b649d3be734b0a4d10a426",
       "version_major": 2,
       "version_minor": 0
      },
      "text/plain": [
       "HBox(children=(IntProgress(value=0, max=5539), HTML(value='')))"
      ]
     },
     "metadata": {},
     "output_type": "display_data"
    },
    {
     "name": "stdout",
     "output_type": "stream",
     "text": [
      "\n"
     ]
    },
    {
     "data": {
      "application/vnd.jupyter.widget-view+json": {
       "model_id": "db765fdcf2ae4b418f27e154cd7055d5",
       "version_major": 2,
       "version_minor": 0
      },
      "text/plain": [
       "HBox(children=(IntProgress(value=0, max=5539), HTML(value='')))"
      ]
     },
     "metadata": {},
     "output_type": "display_data"
    },
    {
     "name": "stdout",
     "output_type": "stream",
     "text": [
      "\n"
     ]
    },
    {
     "data": {
      "application/vnd.jupyter.widget-view+json": {
       "model_id": "445b3c430cbd438ea0cb7ae7e77dd1f3",
       "version_major": 2,
       "version_minor": 0
      },
      "text/plain": [
       "HBox(children=(IntProgress(value=0, max=5539), HTML(value='')))"
      ]
     },
     "metadata": {},
     "output_type": "display_data"
    },
    {
     "name": "stdout",
     "output_type": "stream",
     "text": [
      "\n"
     ]
    },
    {
     "data": {
      "application/vnd.jupyter.widget-view+json": {
       "model_id": "ed828184c7b94ff2bbc23ed601a164b1",
       "version_major": 2,
       "version_minor": 0
      },
      "text/plain": [
       "HBox(children=(IntProgress(value=0, max=5539), HTML(value='')))"
      ]
     },
     "metadata": {},
     "output_type": "display_data"
    },
    {
     "name": "stdout",
     "output_type": "stream",
     "text": [
      "\n",
      "star_wars\n"
     ]
    },
    {
     "data": {
      "application/vnd.jupyter.widget-view+json": {
       "model_id": "658d57053682485fbfeade0b67c9b51f",
       "version_major": 2,
       "version_minor": 0
      },
      "text/plain": [
       "HBox(children=(IntProgress(value=0, max=23930), HTML(value='')))"
      ]
     },
     "metadata": {},
     "output_type": "display_data"
    },
    {
     "name": "stdout",
     "output_type": "stream",
     "text": [
      "\n"
     ]
    },
    {
     "data": {
      "application/vnd.jupyter.widget-view+json": {
       "model_id": "c2de5780d70a43e880d1f4d0a6523031",
       "version_major": 2,
       "version_minor": 0
      },
      "text/plain": [
       "HBox(children=(IntProgress(value=0, max=23930), HTML(value='')))"
      ]
     },
     "metadata": {},
     "output_type": "display_data"
    },
    {
     "name": "stdout",
     "output_type": "stream",
     "text": [
      "\n"
     ]
    },
    {
     "data": {
      "application/vnd.jupyter.widget-view+json": {
       "model_id": "227677fbf7944a3290b0aebdcb52d149",
       "version_major": 2,
       "version_minor": 0
      },
      "text/plain": [
       "HBox(children=(IntProgress(value=0, max=23930), HTML(value='')))"
      ]
     },
     "metadata": {},
     "output_type": "display_data"
    },
    {
     "name": "stdout",
     "output_type": "stream",
     "text": [
      "\n"
     ]
    },
    {
     "data": {
      "application/vnd.jupyter.widget-view+json": {
       "model_id": "a9380453ebe14748aea3d67217002e78",
       "version_major": 2,
       "version_minor": 0
      },
      "text/plain": [
       "HBox(children=(IntProgress(value=0, max=23930), HTML(value='')))"
      ]
     },
     "metadata": {},
     "output_type": "display_data"
    },
    {
     "name": "stdout",
     "output_type": "stream",
     "text": [
      "\n"
     ]
    },
    {
     "data": {
      "application/vnd.jupyter.widget-view+json": {
       "model_id": "9ed91c765e9b4bb8980790bb33b56bff",
       "version_major": 2,
       "version_minor": 0
      },
      "text/plain": [
       "HBox(children=(IntProgress(value=0, max=23930), HTML(value='')))"
      ]
     },
     "metadata": {},
     "output_type": "display_data"
    },
    {
     "name": "stdout",
     "output_type": "stream",
     "text": [
      "\n",
      "stargate\n"
     ]
    },
    {
     "data": {
      "application/vnd.jupyter.widget-view+json": {
       "model_id": "bb9163303eac4dfea53ab7c06e1120da",
       "version_major": 2,
       "version_minor": 0
      },
      "text/plain": [
       "HBox(children=(IntProgress(value=0, max=504), HTML(value='')))"
      ]
     },
     "metadata": {},
     "output_type": "display_data"
    },
    {
     "name": "stdout",
     "output_type": "stream",
     "text": [
      "\n"
     ]
    },
    {
     "data": {
      "application/vnd.jupyter.widget-view+json": {
       "model_id": "1a689c8559ec43a0a031897947884dd7",
       "version_major": 2,
       "version_minor": 0
      },
      "text/plain": [
       "HBox(children=(IntProgress(value=0, max=504), HTML(value='')))"
      ]
     },
     "metadata": {},
     "output_type": "display_data"
    },
    {
     "name": "stdout",
     "output_type": "stream",
     "text": [
      "\n"
     ]
    },
    {
     "data": {
      "application/vnd.jupyter.widget-view+json": {
       "model_id": "02e971ff4ca3493bb9355c79f5b41795",
       "version_major": 2,
       "version_minor": 0
      },
      "text/plain": [
       "HBox(children=(IntProgress(value=0, max=504), HTML(value='')))"
      ]
     },
     "metadata": {},
     "output_type": "display_data"
    },
    {
     "name": "stdout",
     "output_type": "stream",
     "text": [
      "\n"
     ]
    },
    {
     "data": {
      "application/vnd.jupyter.widget-view+json": {
       "model_id": "31aa3d902f394888a45e235e87ddae4c",
       "version_major": 2,
       "version_minor": 0
      },
      "text/plain": [
       "HBox(children=(IntProgress(value=0, max=504), HTML(value='')))"
      ]
     },
     "metadata": {},
     "output_type": "display_data"
    },
    {
     "name": "stdout",
     "output_type": "stream",
     "text": [
      "\n"
     ]
    },
    {
     "data": {
      "application/vnd.jupyter.widget-view+json": {
       "model_id": "f041d0a721904d5099bbfc4d037c8851",
       "version_major": 2,
       "version_minor": 0
      },
      "text/plain": [
       "HBox(children=(IntProgress(value=0, max=504), HTML(value='')))"
      ]
     },
     "metadata": {},
     "output_type": "display_data"
    },
    {
     "name": "stdout",
     "output_type": "stream",
     "text": [
      "\n",
      "supergirl\n"
     ]
    },
    {
     "data": {
      "application/vnd.jupyter.widget-view+json": {
       "model_id": "5c4bc7ac5e0141f1a78350fe430dfa4f",
       "version_major": 2,
       "version_minor": 0
      },
      "text/plain": [
       "HBox(children=(IntProgress(value=0, max=2230), HTML(value='')))"
      ]
     },
     "metadata": {},
     "output_type": "display_data"
    },
    {
     "name": "stdout",
     "output_type": "stream",
     "text": [
      "\n"
     ]
    },
    {
     "data": {
      "application/vnd.jupyter.widget-view+json": {
       "model_id": "f781be2e23724659bce7abe507302dc5",
       "version_major": 2,
       "version_minor": 0
      },
      "text/plain": [
       "HBox(children=(IntProgress(value=0, max=2230), HTML(value='')))"
      ]
     },
     "metadata": {},
     "output_type": "display_data"
    },
    {
     "name": "stdout",
     "output_type": "stream",
     "text": [
      "\n"
     ]
    },
    {
     "data": {
      "application/vnd.jupyter.widget-view+json": {
       "model_id": "7fd06826ec384a46ae42bfdf201750c5",
       "version_major": 2,
       "version_minor": 0
      },
      "text/plain": [
       "HBox(children=(IntProgress(value=0, max=2230), HTML(value='')))"
      ]
     },
     "metadata": {},
     "output_type": "display_data"
    },
    {
     "name": "stdout",
     "output_type": "stream",
     "text": [
      "\n"
     ]
    },
    {
     "data": {
      "application/vnd.jupyter.widget-view+json": {
       "model_id": "23d598d15fae40aea9b7679a27a5df05",
       "version_major": 2,
       "version_minor": 0
      },
      "text/plain": [
       "HBox(children=(IntProgress(value=0, max=2230), HTML(value='')))"
      ]
     },
     "metadata": {},
     "output_type": "display_data"
    },
    {
     "name": "stdout",
     "output_type": "stream",
     "text": [
      "\n"
     ]
    },
    {
     "data": {
      "application/vnd.jupyter.widget-view+json": {
       "model_id": "57ba328f7728485fb190f6450965cb66",
       "version_major": 2,
       "version_minor": 0
      },
      "text/plain": [
       "HBox(children=(IntProgress(value=0, max=2230), HTML(value='')))"
      ]
     },
     "metadata": {},
     "output_type": "display_data"
    },
    {
     "name": "stdout",
     "output_type": "stream",
     "text": [
      "\n",
      "supernatural\n"
     ]
    },
    {
     "data": {
      "application/vnd.jupyter.widget-view+json": {
       "model_id": "ec296fa999414c8aa161c945a9f23119",
       "version_major": 2,
       "version_minor": 0
      },
      "text/plain": [
       "HBox(children=(IntProgress(value=0, max=29647), HTML(value='')))"
      ]
     },
     "metadata": {},
     "output_type": "display_data"
    },
    {
     "name": "stdout",
     "output_type": "stream",
     "text": [
      "\n"
     ]
    },
    {
     "data": {
      "application/vnd.jupyter.widget-view+json": {
       "model_id": "fbcfe30bad61435f9258496f0a77aaea",
       "version_major": 2,
       "version_minor": 0
      },
      "text/plain": [
       "HBox(children=(IntProgress(value=0, max=29647), HTML(value='')))"
      ]
     },
     "metadata": {},
     "output_type": "display_data"
    },
    {
     "name": "stdout",
     "output_type": "stream",
     "text": [
      "\n"
     ]
    },
    {
     "data": {
      "application/vnd.jupyter.widget-view+json": {
       "model_id": "060a812405ee4be7b36ccbb07a8b0f82",
       "version_major": 2,
       "version_minor": 0
      },
      "text/plain": [
       "HBox(children=(IntProgress(value=0, max=29647), HTML(value='')))"
      ]
     },
     "metadata": {},
     "output_type": "display_data"
    },
    {
     "name": "stdout",
     "output_type": "stream",
     "text": [
      "\n"
     ]
    },
    {
     "data": {
      "application/vnd.jupyter.widget-view+json": {
       "model_id": "49270ae8e31e4161988022661e884707",
       "version_major": 2,
       "version_minor": 0
      },
      "text/plain": [
       "HBox(children=(IntProgress(value=0, max=29647), HTML(value='')))"
      ]
     },
     "metadata": {},
     "output_type": "display_data"
    },
    {
     "name": "stdout",
     "output_type": "stream",
     "text": [
      "\n"
     ]
    },
    {
     "data": {
      "application/vnd.jupyter.widget-view+json": {
       "model_id": "09db5948ce8142e4956aabf4ab07e6c7",
       "version_major": 2,
       "version_minor": 0
      },
      "text/plain": [
       "HBox(children=(IntProgress(value=0, max=29647), HTML(value='')))"
      ]
     },
     "metadata": {},
     "output_type": "display_data"
    },
    {
     "name": "stdout",
     "output_type": "stream",
     "text": [
      "\n",
      "teen_wolf\n"
     ]
    },
    {
     "data": {
      "application/vnd.jupyter.widget-view+json": {
       "model_id": "37282e9afd554b168e227b175e46a49b",
       "version_major": 2,
       "version_minor": 0
      },
      "text/plain": [
       "HBox(children=(IntProgress(value=0, max=14929), HTML(value='')))"
      ]
     },
     "metadata": {},
     "output_type": "display_data"
    },
    {
     "name": "stdout",
     "output_type": "stream",
     "text": [
      "\n"
     ]
    },
    {
     "data": {
      "application/vnd.jupyter.widget-view+json": {
       "model_id": "ed03d44d71624a308ee404735b5ac8a8",
       "version_major": 2,
       "version_minor": 0
      },
      "text/plain": [
       "HBox(children=(IntProgress(value=0, max=14929), HTML(value='')))"
      ]
     },
     "metadata": {},
     "output_type": "display_data"
    },
    {
     "name": "stdout",
     "output_type": "stream",
     "text": [
      "\n"
     ]
    },
    {
     "data": {
      "application/vnd.jupyter.widget-view+json": {
       "model_id": "d772149712284ba885b5806ade8af817",
       "version_major": 2,
       "version_minor": 0
      },
      "text/plain": [
       "HBox(children=(IntProgress(value=0, max=14929), HTML(value='')))"
      ]
     },
     "metadata": {},
     "output_type": "display_data"
    },
    {
     "name": "stdout",
     "output_type": "stream",
     "text": [
      "\n"
     ]
    },
    {
     "data": {
      "application/vnd.jupyter.widget-view+json": {
       "model_id": "b38673330c1b45ad8b590e89f8a30f07",
       "version_major": 2,
       "version_minor": 0
      },
      "text/plain": [
       "HBox(children=(IntProgress(value=0, max=14929), HTML(value='')))"
      ]
     },
     "metadata": {},
     "output_type": "display_data"
    },
    {
     "name": "stdout",
     "output_type": "stream",
     "text": [
      "\n"
     ]
    },
    {
     "data": {
      "application/vnd.jupyter.widget-view+json": {
       "model_id": "6b3c173076ae4dfeb8f01ed81d42d12c",
       "version_major": 2,
       "version_minor": 0
      },
      "text/plain": [
       "HBox(children=(IntProgress(value=0, max=14929), HTML(value='')))"
      ]
     },
     "metadata": {},
     "output_type": "display_data"
    },
    {
     "name": "stdout",
     "output_type": "stream",
     "text": [
      "\n",
      "tolkien\n"
     ]
    },
    {
     "data": {
      "application/vnd.jupyter.widget-view+json": {
       "model_id": "2332f938e47d49dca0c37d759fcbd3f1",
       "version_major": 2,
       "version_minor": 0
      },
      "text/plain": [
       "HBox(children=(IntProgress(value=0, max=11230), HTML(value='')))"
      ]
     },
     "metadata": {},
     "output_type": "display_data"
    },
    {
     "name": "stdout",
     "output_type": "stream",
     "text": [
      "\n"
     ]
    },
    {
     "data": {
      "application/vnd.jupyter.widget-view+json": {
       "model_id": "e8d49416019e46a3a3937e34c545fe31",
       "version_major": 2,
       "version_minor": 0
      },
      "text/plain": [
       "HBox(children=(IntProgress(value=0, max=11230), HTML(value='')))"
      ]
     },
     "metadata": {},
     "output_type": "display_data"
    },
    {
     "name": "stdout",
     "output_type": "stream",
     "text": [
      "\n"
     ]
    },
    {
     "data": {
      "application/vnd.jupyter.widget-view+json": {
       "model_id": "4b2967ced2d84e539956c6b35b5d895d",
       "version_major": 2,
       "version_minor": 0
      },
      "text/plain": [
       "HBox(children=(IntProgress(value=0, max=11230), HTML(value='')))"
      ]
     },
     "metadata": {},
     "output_type": "display_data"
    },
    {
     "name": "stdout",
     "output_type": "stream",
     "text": [
      "\n"
     ]
    },
    {
     "data": {
      "application/vnd.jupyter.widget-view+json": {
       "model_id": "919013c45fff47ef9510e71ede5f12c1",
       "version_major": 2,
       "version_minor": 0
      },
      "text/plain": [
       "HBox(children=(IntProgress(value=0, max=11230), HTML(value='')))"
      ]
     },
     "metadata": {},
     "output_type": "display_data"
    },
    {
     "name": "stdout",
     "output_type": "stream",
     "text": [
      "\n"
     ]
    },
    {
     "data": {
      "application/vnd.jupyter.widget-view+json": {
       "model_id": "176789b808514555acdb878cd5ea1c99",
       "version_major": 2,
       "version_minor": 0
      },
      "text/plain": [
       "HBox(children=(IntProgress(value=0, max=11230), HTML(value='')))"
      ]
     },
     "metadata": {},
     "output_type": "display_data"
    },
    {
     "name": "stdout",
     "output_type": "stream",
     "text": [
      "\n",
      "undertale\n"
     ]
    },
    {
     "data": {
      "application/vnd.jupyter.widget-view+json": {
       "model_id": "24861c3b01994ccc8f532e1a9c321e73",
       "version_major": 2,
       "version_minor": 0
      },
      "text/plain": [
       "HBox(children=(IntProgress(value=0, max=9444), HTML(value='')))"
      ]
     },
     "metadata": {},
     "output_type": "display_data"
    },
    {
     "name": "stdout",
     "output_type": "stream",
     "text": [
      "\n"
     ]
    },
    {
     "data": {
      "application/vnd.jupyter.widget-view+json": {
       "model_id": "91889e96400f4ad78c1c6f32ad07126f",
       "version_major": 2,
       "version_minor": 0
      },
      "text/plain": [
       "HBox(children=(IntProgress(value=0, max=9444), HTML(value='')))"
      ]
     },
     "metadata": {},
     "output_type": "display_data"
    },
    {
     "name": "stdout",
     "output_type": "stream",
     "text": [
      "\n"
     ]
    },
    {
     "data": {
      "application/vnd.jupyter.widget-view+json": {
       "model_id": "522a1e9b9de846d5b51dfc6002029bee",
       "version_major": 2,
       "version_minor": 0
      },
      "text/plain": [
       "HBox(children=(IntProgress(value=0, max=9444), HTML(value='')))"
      ]
     },
     "metadata": {},
     "output_type": "display_data"
    },
    {
     "name": "stdout",
     "output_type": "stream",
     "text": [
      "\n"
     ]
    },
    {
     "data": {
      "application/vnd.jupyter.widget-view+json": {
       "model_id": "8e25a84232694ea580a75e4a83d9fd41",
       "version_major": 2,
       "version_minor": 0
      },
      "text/plain": [
       "HBox(children=(IntProgress(value=0, max=9444), HTML(value='')))"
      ]
     },
     "metadata": {},
     "output_type": "display_data"
    },
    {
     "name": "stdout",
     "output_type": "stream",
     "text": [
      "\n"
     ]
    },
    {
     "data": {
      "application/vnd.jupyter.widget-view+json": {
       "model_id": "a01a0ab0afec4edcbebd89529be5d33a",
       "version_major": 2,
       "version_minor": 0
      },
      "text/plain": [
       "HBox(children=(IntProgress(value=0, max=9444), HTML(value='')))"
      ]
     },
     "metadata": {},
     "output_type": "display_data"
    },
    {
     "name": "stdout",
     "output_type": "stream",
     "text": [
      "\n",
      "voltron\n"
     ]
    },
    {
     "data": {
      "application/vnd.jupyter.widget-view+json": {
       "model_id": "1f041e6e21c44cbeb9ec76af55e7e4b1",
       "version_major": 2,
       "version_minor": 0
      },
      "text/plain": [
       "HBox(children=(IntProgress(value=0, max=10970), HTML(value='')))"
      ]
     },
     "metadata": {},
     "output_type": "display_data"
    },
    {
     "name": "stdout",
     "output_type": "stream",
     "text": [
      "\n"
     ]
    },
    {
     "data": {
      "application/vnd.jupyter.widget-view+json": {
       "model_id": "9dea7a39b9c1484a8e1c553524d9bf3f",
       "version_major": 2,
       "version_minor": 0
      },
      "text/plain": [
       "HBox(children=(IntProgress(value=0, max=10970), HTML(value='')))"
      ]
     },
     "metadata": {},
     "output_type": "display_data"
    },
    {
     "name": "stdout",
     "output_type": "stream",
     "text": [
      "\n"
     ]
    },
    {
     "data": {
      "application/vnd.jupyter.widget-view+json": {
       "model_id": "1a63f9f3276d4e2c867f7c0849a1a41e",
       "version_major": 2,
       "version_minor": 0
      },
      "text/plain": [
       "HBox(children=(IntProgress(value=0, max=10970), HTML(value='')))"
      ]
     },
     "metadata": {},
     "output_type": "display_data"
    },
    {
     "name": "stdout",
     "output_type": "stream",
     "text": [
      "\n"
     ]
    },
    {
     "data": {
      "application/vnd.jupyter.widget-view+json": {
       "model_id": "68284908ab9c4fe5a729991d5f7d3f05",
       "version_major": 2,
       "version_minor": 0
      },
      "text/plain": [
       "HBox(children=(IntProgress(value=0, max=10970), HTML(value='')))"
      ]
     },
     "metadata": {},
     "output_type": "display_data"
    },
    {
     "name": "stdout",
     "output_type": "stream",
     "text": [
      "\n"
     ]
    },
    {
     "data": {
      "application/vnd.jupyter.widget-view+json": {
       "model_id": "208251c265c44c0fa71b9ee9f44d450b",
       "version_major": 2,
       "version_minor": 0
      },
      "text/plain": [
       "HBox(children=(IntProgress(value=0, max=10970), HTML(value='')))"
      ]
     },
     "metadata": {},
     "output_type": "display_data"
    },
    {
     "name": "stdout",
     "output_type": "stream",
     "text": [
      "\n",
      "walking_dead\n"
     ]
    },
    {
     "data": {
      "application/vnd.jupyter.widget-view+json": {
       "model_id": "02d32cee510f409cac04bb683a166b95",
       "version_major": 2,
       "version_minor": 0
      },
      "text/plain": [
       "HBox(children=(IntProgress(value=0, max=6377), HTML(value='')))"
      ]
     },
     "metadata": {},
     "output_type": "display_data"
    },
    {
     "name": "stdout",
     "output_type": "stream",
     "text": [
      "\n"
     ]
    },
    {
     "data": {
      "application/vnd.jupyter.widget-view+json": {
       "model_id": "87a135515f0e4dceb17b40b4dc81687d",
       "version_major": 2,
       "version_minor": 0
      },
      "text/plain": [
       "HBox(children=(IntProgress(value=0, max=6377), HTML(value='')))"
      ]
     },
     "metadata": {},
     "output_type": "display_data"
    },
    {
     "name": "stdout",
     "output_type": "stream",
     "text": [
      "\n"
     ]
    },
    {
     "data": {
      "application/vnd.jupyter.widget-view+json": {
       "model_id": "0d96d9b68cd64e2faa9f8d2db4cb4967",
       "version_major": 2,
       "version_minor": 0
      },
      "text/plain": [
       "HBox(children=(IntProgress(value=0, max=6377), HTML(value='')))"
      ]
     },
     "metadata": {},
     "output_type": "display_data"
    },
    {
     "name": "stdout",
     "output_type": "stream",
     "text": [
      "\n"
     ]
    },
    {
     "data": {
      "application/vnd.jupyter.widget-view+json": {
       "model_id": "21a60c512846448daa151d2f4ec38c36",
       "version_major": 2,
       "version_minor": 0
      },
      "text/plain": [
       "HBox(children=(IntProgress(value=0, max=6377), HTML(value='')))"
      ]
     },
     "metadata": {},
     "output_type": "display_data"
    },
    {
     "name": "stdout",
     "output_type": "stream",
     "text": [
      "\n"
     ]
    },
    {
     "data": {
      "application/vnd.jupyter.widget-view+json": {
       "model_id": "a780f65acd214d34b71a2e7c9fd0ea87",
       "version_major": 2,
       "version_minor": 0
      },
      "text/plain": [
       "HBox(children=(IntProgress(value=0, max=6377), HTML(value='')))"
      ]
     },
     "metadata": {},
     "output_type": "display_data"
    },
    {
     "name": "stdout",
     "output_type": "stream",
     "text": [
      "\n"
     ]
    },
    {
     "data": {
      "text/html": [
       "<div>\n",
       "<style scoped>\n",
       "    .dataframe tbody tr th:only-of-type {\n",
       "        vertical-align: middle;\n",
       "    }\n",
       "\n",
       "    .dataframe tbody tr th {\n",
       "        vertical-align: top;\n",
       "    }\n",
       "\n",
       "    .dataframe thead th {\n",
       "        text-align: right;\n",
       "    }\n",
       "</style>\n",
       "<table border=\"1\" class=\"dataframe\">\n",
       "  <thead>\n",
       "    <tr style=\"text-align: right;\">\n",
       "      <th></th>\n",
       "      <th>gay</th>\n",
       "      <th>bi/pan</th>\n",
       "      <th>straight</th>\n",
       "      <th>aro/ace</th>\n",
       "      <th>lgbtq</th>\n",
       "      <th>total_descriptions</th>\n",
       "    </tr>\n",
       "    <tr>\n",
       "      <th>fandom</th>\n",
       "      <th></th>\n",
       "      <th></th>\n",
       "      <th></th>\n",
       "      <th></th>\n",
       "      <th></th>\n",
       "      <th></th>\n",
       "    </tr>\n",
       "  </thead>\n",
       "  <tbody>\n",
       "    <tr>\n",
       "      <th>academia</th>\n",
       "      <td>270</td>\n",
       "      <td>409</td>\n",
       "      <td>26</td>\n",
       "      <td>245</td>\n",
       "      <td>952</td>\n",
       "      <td>8624</td>\n",
       "    </tr>\n",
       "    <tr>\n",
       "      <th>allmarvel</th>\n",
       "      <td>945</td>\n",
       "      <td>1788</td>\n",
       "      <td>120</td>\n",
       "      <td>503</td>\n",
       "      <td>3652</td>\n",
       "      <td>37002</td>\n",
       "    </tr>\n",
       "    <tr>\n",
       "      <th>arthurian</th>\n",
       "      <td>57</td>\n",
       "      <td>91</td>\n",
       "      <td>9</td>\n",
       "      <td>48</td>\n",
       "      <td>240</td>\n",
       "      <td>2937</td>\n",
       "    </tr>\n",
       "    <tr>\n",
       "      <th>attack_on_titan</th>\n",
       "      <td>104</td>\n",
       "      <td>88</td>\n",
       "      <td>17</td>\n",
       "      <td>68</td>\n",
       "      <td>274</td>\n",
       "      <td>3733</td>\n",
       "    </tr>\n",
       "    <tr>\n",
       "      <th>dcu</th>\n",
       "      <td>270</td>\n",
       "      <td>263</td>\n",
       "      <td>58</td>\n",
       "      <td>65</td>\n",
       "      <td>644</td>\n",
       "      <td>8493</td>\n",
       "    </tr>\n",
       "    <tr>\n",
       "      <th>dr_who</th>\n",
       "      <td>61</td>\n",
       "      <td>55</td>\n",
       "      <td>10</td>\n",
       "      <td>31</td>\n",
       "      <td>167</td>\n",
       "      <td>1834</td>\n",
       "    </tr>\n",
       "    <tr>\n",
       "      <th>dragonage</th>\n",
       "      <td>217</td>\n",
       "      <td>352</td>\n",
       "      <td>19</td>\n",
       "      <td>179</td>\n",
       "      <td>829</td>\n",
       "      <td>6384</td>\n",
       "    </tr>\n",
       "    <tr>\n",
       "      <th>haikyuu</th>\n",
       "      <td>133</td>\n",
       "      <td>100</td>\n",
       "      <td>8</td>\n",
       "      <td>181</td>\n",
       "      <td>416</td>\n",
       "      <td>4306</td>\n",
       "    </tr>\n",
       "    <tr>\n",
       "      <th>hamilton</th>\n",
       "      <td>196</td>\n",
       "      <td>354</td>\n",
       "      <td>21</td>\n",
       "      <td>110</td>\n",
       "      <td>712</td>\n",
       "      <td>5116</td>\n",
       "    </tr>\n",
       "    <tr>\n",
       "      <th>harrypotter</th>\n",
       "      <td>985</td>\n",
       "      <td>1431</td>\n",
       "      <td>146</td>\n",
       "      <td>402</td>\n",
       "      <td>3314</td>\n",
       "      <td>42333</td>\n",
       "    </tr>\n",
       "    <tr>\n",
       "      <th>homestuck</th>\n",
       "      <td>407</td>\n",
       "      <td>573</td>\n",
       "      <td>46</td>\n",
       "      <td>268</td>\n",
       "      <td>1312</td>\n",
       "      <td>8969</td>\n",
       "    </tr>\n",
       "    <tr>\n",
       "      <th>korra</th>\n",
       "      <td>75</td>\n",
       "      <td>58</td>\n",
       "      <td>6</td>\n",
       "      <td>25</td>\n",
       "      <td>184</td>\n",
       "      <td>1637</td>\n",
       "    </tr>\n",
       "    <tr>\n",
       "      <th>naruto</th>\n",
       "      <td>149</td>\n",
       "      <td>115</td>\n",
       "      <td>28</td>\n",
       "      <td>63</td>\n",
       "      <td>345</td>\n",
       "      <td>6705</td>\n",
       "    </tr>\n",
       "    <tr>\n",
       "      <th>once_upon_a_time</th>\n",
       "      <td>96</td>\n",
       "      <td>123</td>\n",
       "      <td>27</td>\n",
       "      <td>30</td>\n",
       "      <td>274</td>\n",
       "      <td>5128</td>\n",
       "    </tr>\n",
       "    <tr>\n",
       "      <th>overwatch</th>\n",
       "      <td>650</td>\n",
       "      <td>591</td>\n",
       "      <td>36</td>\n",
       "      <td>200</td>\n",
       "      <td>1513</td>\n",
       "      <td>10015</td>\n",
       "    </tr>\n",
       "    <tr>\n",
       "      <th>pokemon</th>\n",
       "      <td>1023</td>\n",
       "      <td>683</td>\n",
       "      <td>132</td>\n",
       "      <td>478</td>\n",
       "      <td>2279</td>\n",
       "      <td>20019</td>\n",
       "    </tr>\n",
       "    <tr>\n",
       "      <th>power_rangers</th>\n",
       "      <td>30</td>\n",
       "      <td>20</td>\n",
       "      <td>3</td>\n",
       "      <td>3</td>\n",
       "      <td>60</td>\n",
       "      <td>437</td>\n",
       "    </tr>\n",
       "    <tr>\n",
       "      <th>riverdale</th>\n",
       "      <td>65</td>\n",
       "      <td>95</td>\n",
       "      <td>7</td>\n",
       "      <td>12</td>\n",
       "      <td>192</td>\n",
       "      <td>2982</td>\n",
       "    </tr>\n",
       "    <tr>\n",
       "      <th>sherlock</th>\n",
       "      <td>486</td>\n",
       "      <td>627</td>\n",
       "      <td>69</td>\n",
       "      <td>207</td>\n",
       "      <td>1522</td>\n",
       "      <td>17416</td>\n",
       "    </tr>\n",
       "    <tr>\n",
       "      <th>song_ice_fire</th>\n",
       "      <td>206</td>\n",
       "      <td>241</td>\n",
       "      <td>40</td>\n",
       "      <td>40</td>\n",
       "      <td>582</td>\n",
       "      <td>9860</td>\n",
       "    </tr>\n",
       "    <tr>\n",
       "      <th>star_trek</th>\n",
       "      <td>274</td>\n",
       "      <td>313</td>\n",
       "      <td>21</td>\n",
       "      <td>145</td>\n",
       "      <td>849</td>\n",
       "      <td>5539</td>\n",
       "    </tr>\n",
       "    <tr>\n",
       "      <th>star_wars</th>\n",
       "      <td>690</td>\n",
       "      <td>914</td>\n",
       "      <td>134</td>\n",
       "      <td>286</td>\n",
       "      <td>2057</td>\n",
       "      <td>23930</td>\n",
       "    </tr>\n",
       "    <tr>\n",
       "      <th>stargate</th>\n",
       "      <td>18</td>\n",
       "      <td>22</td>\n",
       "      <td>4</td>\n",
       "      <td>9</td>\n",
       "      <td>56</td>\n",
       "      <td>504</td>\n",
       "    </tr>\n",
       "    <tr>\n",
       "      <th>supergirl</th>\n",
       "      <td>350</td>\n",
       "      <td>133</td>\n",
       "      <td>6</td>\n",
       "      <td>19</td>\n",
       "      <td>538</td>\n",
       "      <td>2230</td>\n",
       "    </tr>\n",
       "    <tr>\n",
       "      <th>supernatural</th>\n",
       "      <td>620</td>\n",
       "      <td>1090</td>\n",
       "      <td>116</td>\n",
       "      <td>283</td>\n",
       "      <td>2245</td>\n",
       "      <td>29647</td>\n",
       "    </tr>\n",
       "    <tr>\n",
       "      <th>teen_wolf</th>\n",
       "      <td>287</td>\n",
       "      <td>376</td>\n",
       "      <td>38</td>\n",
       "      <td>91</td>\n",
       "      <td>898</td>\n",
       "      <td>14929</td>\n",
       "    </tr>\n",
       "    <tr>\n",
       "      <th>tolkien</th>\n",
       "      <td>212</td>\n",
       "      <td>362</td>\n",
       "      <td>46</td>\n",
       "      <td>142</td>\n",
       "      <td>811</td>\n",
       "      <td>11230</td>\n",
       "    </tr>\n",
       "    <tr>\n",
       "      <th>undertale</th>\n",
       "      <td>200</td>\n",
       "      <td>377</td>\n",
       "      <td>35</td>\n",
       "      <td>208</td>\n",
       "      <td>796</td>\n",
       "      <td>9444</td>\n",
       "    </tr>\n",
       "    <tr>\n",
       "      <th>voltron</th>\n",
       "      <td>556</td>\n",
       "      <td>919</td>\n",
       "      <td>40</td>\n",
       "      <td>384</td>\n",
       "      <td>1917</td>\n",
       "      <td>10970</td>\n",
       "    </tr>\n",
       "    <tr>\n",
       "      <th>walking_dead</th>\n",
       "      <td>91</td>\n",
       "      <td>147</td>\n",
       "      <td>22</td>\n",
       "      <td>36</td>\n",
       "      <td>308</td>\n",
       "      <td>6377</td>\n",
       "    </tr>\n",
       "  </tbody>\n",
       "</table>\n",
       "</div>"
      ],
      "text/plain": [
       "                   gay  bi/pan  straight  aro/ace  lgbtq  total_descriptions\n",
       "fandom                                                                      \n",
       "academia           270     409        26      245    952                8624\n",
       "allmarvel          945    1788       120      503   3652               37002\n",
       "arthurian           57      91         9       48    240                2937\n",
       "attack_on_titan    104      88        17       68    274                3733\n",
       "dcu                270     263        58       65    644                8493\n",
       "dr_who              61      55        10       31    167                1834\n",
       "dragonage          217     352        19      179    829                6384\n",
       "haikyuu            133     100         8      181    416                4306\n",
       "hamilton           196     354        21      110    712                5116\n",
       "harrypotter        985    1431       146      402   3314               42333\n",
       "homestuck          407     573        46      268   1312                8969\n",
       "korra               75      58         6       25    184                1637\n",
       "naruto             149     115        28       63    345                6705\n",
       "once_upon_a_time    96     123        27       30    274                5128\n",
       "overwatch          650     591        36      200   1513               10015\n",
       "pokemon           1023     683       132      478   2279               20019\n",
       "power_rangers       30      20         3        3     60                 437\n",
       "riverdale           65      95         7       12    192                2982\n",
       "sherlock           486     627        69      207   1522               17416\n",
       "song_ice_fire      206     241        40       40    582                9860\n",
       "star_trek          274     313        21      145    849                5539\n",
       "star_wars          690     914       134      286   2057               23930\n",
       "stargate            18      22         4        9     56                 504\n",
       "supergirl          350     133         6       19    538                2230\n",
       "supernatural       620    1090       116      283   2245               29647\n",
       "teen_wolf          287     376        38       91    898               14929\n",
       "tolkien            212     362        46      142    811               11230\n",
       "undertale          200     377        35      208    796                9444\n",
       "voltron            556     919        40      384   1917               10970\n",
       "walking_dead        91     147        22       36    308                6377"
      ]
     },
     "execution_count": 16,
     "metadata": {},
     "output_type": "execute_result"
    }
   ],
   "source": [
    "# Search for sexual orientation\n",
    "import re\n",
    "import pdb\n",
    "from tqdm import tqdm_notebook as tqdm\n",
    "\n",
    "# Non-exclusive groupings of interest\n",
    "grouped_patterns = {\n",
    "    'gay': [\n",
    "        r'gay',\n",
    "        r'lesbian', r'\\bhomo',\n",
    "        r'\\bwlw\\b', r'\\bmlm\\b',\n",
    "            ],\n",
    "    'bi/pan': [\n",
    "        r'bisexual', r'\\bbi\\b', r'pansexual', r'\\bpan\\b', \n",
    "    ],\n",
    "    'straight': [\n",
    "        r'straight',\n",
    "        r'\\bcishet',\n",
    "    ],\n",
    "    'aro/ace': [\n",
    "        r'\\bace\\b', r'\\basexual', r'aro-ace', r'aro/ace',\n",
    "    ],\n",
    "    'lgbtq': [\n",
    "        r'gay',\n",
    "        r'lesbian', r'\\bhomo',\n",
    "        r'\\bwlw\\b', r'\\bmlm\\b',\n",
    "        r'bisexual', r'\\bbi\\b', r'pansexual', r'\\bpan\\b', \n",
    "        r'\\bace\\b', r'\\basexual', r'aro-ace', r'aro/ace',\n",
    "        r'lgbt',\n",
    "        r'queer',\n",
    "        r'demisexual',\n",
    "    ]\n",
    "}\n",
    "\n",
    "outlines = []\n",
    "demographic_counts = {}\n",
    "for fandom in fandoms:\n",
    "    demographic_counts[fandom] = {}\n",
    "    print(fandom)\n",
    "    fandom_blog_descriptions = blog_info.loc[blog_info['fandom']==fandom, 'tokenized_blog_description']\n",
    "    for group_name, patterns in tqdm(grouped_patterns.items()):\n",
    "        matches = []\n",
    "        for desc in fandom_blog_descriptions:\n",
    "            for pattern in patterns:\n",
    "                if re.search(pattern, desc) is not None:\n",
    "                    matches.append(desc)\n",
    "                    break\n",
    "#         for pattern in patterns:\n",
    "#             matches += [desc for desc in fandom_blog_descriptions if re.search(pattern, desc) is not None]\n",
    "        group_count = len(matches)\n",
    "#         if fandom == 'voltron' and group_name == 'bi/pan':\n",
    "#             pdb.set_trace()\n",
    "        demographic_counts[fandom][group_name] = group_count\n",
    "    outlines.append([fandom, *[demographic_counts[fandom][group_name] for group_name in grouped_patterns], len(fandom_blog_descriptions)])\n",
    "#         print(f'{group_name}\\t{group_count}')\n",
    "#         print()\n",
    "pd.DataFrame(outlines, columns=['fandom'] + list(grouped_patterns.keys()) + ['total_descriptions']).set_index('fandom')"
   ]
  },
  {
   "cell_type": "code",
   "execution_count": 17,
   "metadata": {
    "scrolled": true
   },
   "outputs": [
    {
     "name": "stdout",
     "output_type": "stream",
     "text": [
      "academia\n",
      "allmarvel\n",
      "arthurian\n",
      "attack_on_titan\n",
      "dcu\n",
      "dr_who\n",
      "dragonage\n",
      "haikyuu\n",
      "hamilton\n",
      "harrypotter\n",
      "homestuck\n",
      "korra\n",
      "naruto\n",
      "once_upon_a_time\n",
      "overwatch\n",
      "pokemon\n",
      "power_rangers\n",
      "riverdale\n",
      "sherlock\n",
      "song_ice_fire\n",
      "star_trek\n",
      "star_wars\n",
      "stargate\n",
      "supergirl\n",
      "supernatural\n",
      "teen_wolf\n",
      "tolkien\n",
      "undertale\n",
      "voltron\n",
      "walking_dead\n"
     ]
    },
    {
     "data": {
      "text/html": [
       "<div>\n",
       "<style scoped>\n",
       "    .dataframe tbody tr th:only-of-type {\n",
       "        vertical-align: middle;\n",
       "    }\n",
       "\n",
       "    .dataframe tbody tr th {\n",
       "        vertical-align: top;\n",
       "    }\n",
       "\n",
       "    .dataframe thead th {\n",
       "        text-align: right;\n",
       "    }\n",
       "</style>\n",
       "<table border=\"1\" class=\"dataframe\">\n",
       "  <thead>\n",
       "    <tr style=\"text-align: right;\">\n",
       "      <th></th>\n",
       "      <th>male</th>\n",
       "      <th>female</th>\n",
       "      <th>nonbinary</th>\n",
       "      <th>total_descriptions</th>\n",
       "    </tr>\n",
       "    <tr>\n",
       "      <th>fandom</th>\n",
       "      <th></th>\n",
       "      <th></th>\n",
       "      <th></th>\n",
       "      <th></th>\n",
       "    </tr>\n",
       "  </thead>\n",
       "  <tbody>\n",
       "    <tr>\n",
       "      <th>academia</th>\n",
       "      <td>317</td>\n",
       "      <td>1114</td>\n",
       "      <td>628</td>\n",
       "      <td>8624</td>\n",
       "    </tr>\n",
       "    <tr>\n",
       "      <th>allmarvel</th>\n",
       "      <td>889</td>\n",
       "      <td>3019</td>\n",
       "      <td>1612</td>\n",
       "      <td>37002</td>\n",
       "    </tr>\n",
       "    <tr>\n",
       "      <th>arthurian</th>\n",
       "      <td>77</td>\n",
       "      <td>192</td>\n",
       "      <td>184</td>\n",
       "      <td>2937</td>\n",
       "    </tr>\n",
       "    <tr>\n",
       "      <th>attack_on_titan</th>\n",
       "      <td>70</td>\n",
       "      <td>164</td>\n",
       "      <td>183</td>\n",
       "      <td>3733</td>\n",
       "    </tr>\n",
       "    <tr>\n",
       "      <th>dcu</th>\n",
       "      <td>345</td>\n",
       "      <td>431</td>\n",
       "      <td>398</td>\n",
       "      <td>8493</td>\n",
       "    </tr>\n",
       "    <tr>\n",
       "      <th>dr_who</th>\n",
       "      <td>47</td>\n",
       "      <td>110</td>\n",
       "      <td>104</td>\n",
       "      <td>1834</td>\n",
       "    </tr>\n",
       "    <tr>\n",
       "      <th>dragonage</th>\n",
       "      <td>218</td>\n",
       "      <td>758</td>\n",
       "      <td>480</td>\n",
       "      <td>6384</td>\n",
       "    </tr>\n",
       "    <tr>\n",
       "      <th>haikyuu</th>\n",
       "      <td>96</td>\n",
       "      <td>359</td>\n",
       "      <td>185</td>\n",
       "      <td>4306</td>\n",
       "    </tr>\n",
       "    <tr>\n",
       "      <th>hamilton</th>\n",
       "      <td>166</td>\n",
       "      <td>611</td>\n",
       "      <td>330</td>\n",
       "      <td>5116</td>\n",
       "    </tr>\n",
       "    <tr>\n",
       "      <th>harrypotter</th>\n",
       "      <td>749</td>\n",
       "      <td>2571</td>\n",
       "      <td>1813</td>\n",
       "      <td>42333</td>\n",
       "    </tr>\n",
       "    <tr>\n",
       "      <th>homestuck</th>\n",
       "      <td>546</td>\n",
       "      <td>874</td>\n",
       "      <td>922</td>\n",
       "      <td>8969</td>\n",
       "    </tr>\n",
       "    <tr>\n",
       "      <th>korra</th>\n",
       "      <td>26</td>\n",
       "      <td>110</td>\n",
       "      <td>68</td>\n",
       "      <td>1637</td>\n",
       "    </tr>\n",
       "    <tr>\n",
       "      <th>naruto</th>\n",
       "      <td>156</td>\n",
       "      <td>311</td>\n",
       "      <td>384</td>\n",
       "      <td>6705</td>\n",
       "    </tr>\n",
       "    <tr>\n",
       "      <th>once_upon_a_time</th>\n",
       "      <td>176</td>\n",
       "      <td>454</td>\n",
       "      <td>330</td>\n",
       "      <td>5128</td>\n",
       "    </tr>\n",
       "    <tr>\n",
       "      <th>overwatch</th>\n",
       "      <td>490</td>\n",
       "      <td>977</td>\n",
       "      <td>691</td>\n",
       "      <td>10015</td>\n",
       "    </tr>\n",
       "    <tr>\n",
       "      <th>pokemon</th>\n",
       "      <td>637</td>\n",
       "      <td>1202</td>\n",
       "      <td>1239</td>\n",
       "      <td>20019</td>\n",
       "    </tr>\n",
       "    <tr>\n",
       "      <th>power_rangers</th>\n",
       "      <td>18</td>\n",
       "      <td>27</td>\n",
       "      <td>24</td>\n",
       "      <td>437</td>\n",
       "    </tr>\n",
       "    <tr>\n",
       "      <th>riverdale</th>\n",
       "      <td>30</td>\n",
       "      <td>142</td>\n",
       "      <td>94</td>\n",
       "      <td>2982</td>\n",
       "    </tr>\n",
       "    <tr>\n",
       "      <th>sherlock</th>\n",
       "      <td>386</td>\n",
       "      <td>1101</td>\n",
       "      <td>832</td>\n",
       "      <td>17416</td>\n",
       "    </tr>\n",
       "    <tr>\n",
       "      <th>song_ice_fire</th>\n",
       "      <td>160</td>\n",
       "      <td>542</td>\n",
       "      <td>356</td>\n",
       "      <td>9860</td>\n",
       "    </tr>\n",
       "    <tr>\n",
       "      <th>star_trek</th>\n",
       "      <td>194</td>\n",
       "      <td>592</td>\n",
       "      <td>379</td>\n",
       "      <td>5539</td>\n",
       "    </tr>\n",
       "    <tr>\n",
       "      <th>star_wars</th>\n",
       "      <td>566</td>\n",
       "      <td>1687</td>\n",
       "      <td>1015</td>\n",
       "      <td>23930</td>\n",
       "    </tr>\n",
       "    <tr>\n",
       "      <th>stargate</th>\n",
       "      <td>11</td>\n",
       "      <td>36</td>\n",
       "      <td>31</td>\n",
       "      <td>504</td>\n",
       "    </tr>\n",
       "    <tr>\n",
       "      <th>supergirl</th>\n",
       "      <td>35</td>\n",
       "      <td>249</td>\n",
       "      <td>111</td>\n",
       "      <td>2230</td>\n",
       "    </tr>\n",
       "    <tr>\n",
       "      <th>supernatural</th>\n",
       "      <td>664</td>\n",
       "      <td>1427</td>\n",
       "      <td>1485</td>\n",
       "      <td>29647</td>\n",
       "    </tr>\n",
       "    <tr>\n",
       "      <th>teen_wolf</th>\n",
       "      <td>344</td>\n",
       "      <td>615</td>\n",
       "      <td>620</td>\n",
       "      <td>14929</td>\n",
       "    </tr>\n",
       "    <tr>\n",
       "      <th>tolkien</th>\n",
       "      <td>273</td>\n",
       "      <td>669</td>\n",
       "      <td>538</td>\n",
       "      <td>11230</td>\n",
       "    </tr>\n",
       "    <tr>\n",
       "      <th>undertale</th>\n",
       "      <td>308</td>\n",
       "      <td>720</td>\n",
       "      <td>675</td>\n",
       "      <td>9444</td>\n",
       "    </tr>\n",
       "    <tr>\n",
       "      <th>voltron</th>\n",
       "      <td>464</td>\n",
       "      <td>1816</td>\n",
       "      <td>922</td>\n",
       "      <td>10970</td>\n",
       "    </tr>\n",
       "    <tr>\n",
       "      <th>walking_dead</th>\n",
       "      <td>108</td>\n",
       "      <td>244</td>\n",
       "      <td>243</td>\n",
       "      <td>6377</td>\n",
       "    </tr>\n",
       "  </tbody>\n",
       "</table>\n",
       "</div>"
      ],
      "text/plain": [
       "                  male  female  nonbinary  total_descriptions\n",
       "fandom                                                       \n",
       "academia           317    1114        628                8624\n",
       "allmarvel          889    3019       1612               37002\n",
       "arthurian           77     192        184                2937\n",
       "attack_on_titan     70     164        183                3733\n",
       "dcu                345     431        398                8493\n",
       "dr_who              47     110        104                1834\n",
       "dragonage          218     758        480                6384\n",
       "haikyuu             96     359        185                4306\n",
       "hamilton           166     611        330                5116\n",
       "harrypotter        749    2571       1813               42333\n",
       "homestuck          546     874        922                8969\n",
       "korra               26     110         68                1637\n",
       "naruto             156     311        384                6705\n",
       "once_upon_a_time   176     454        330                5128\n",
       "overwatch          490     977        691               10015\n",
       "pokemon            637    1202       1239               20019\n",
       "power_rangers       18      27         24                 437\n",
       "riverdale           30     142         94                2982\n",
       "sherlock           386    1101        832               17416\n",
       "song_ice_fire      160     542        356                9860\n",
       "star_trek          194     592        379                5539\n",
       "star_wars          566    1687       1015               23930\n",
       "stargate            11      36         31                 504\n",
       "supergirl           35     249        111                2230\n",
       "supernatural       664    1427       1485               29647\n",
       "teen_wolf          344     615        620               14929\n",
       "tolkien            273     669        538               11230\n",
       "undertale          308     720        675                9444\n",
       "voltron            464    1816        922               10970\n",
       "walking_dead       108     244        243                6377"
      ]
     },
     "execution_count": 17,
     "metadata": {},
     "output_type": "execute_result"
    }
   ],
   "source": [
    "# Search for pronouns\n",
    "import re\n",
    "\n",
    "grouped_patterns = {\n",
    "    'male': [\n",
    "        r'(?:\\W|\\b)he(?:\\W|\\b)', r'(?:\\W|\\b)him(?:\\W|\\b)',\n",
    "    ],\n",
    "    'female': [\n",
    "        r'(?:\\W|\\b)she(?:\\W|\\b)', r'(?:\\W|\\b)her(?:\\W|\\b)',\n",
    "    ],\n",
    "    'nonbinary': [\n",
    "        r'(?:\\W|\\b)they(?:\\W|\\b)', r'(?:\\W|\\b)them(?:\\W|\\b)',\n",
    "        r'(?:\\W|\\b)xe(?:\\W|\\b)', r'(?:\\W|\\b)xem(?:\\W|\\b)',\n",
    "        r'it/its',\n",
    "        r'theythem',\n",
    "    ]\n",
    "}\n",
    "\n",
    "outlines = []\n",
    "demographic_counts = {}\n",
    "for fandom in fandoms:\n",
    "    demographic_counts[fandom] = {}\n",
    "    print(fandom)\n",
    "    fandom_blog_descriptions = blog_info.loc[blog_info['fandom']==fandom, 'tokenized_blog_description']\n",
    "    for group_name, patterns in tqdm(grouped_patterns.items()):\n",
    "        matches = []\n",
    "        for desc in fandom_blog_descriptions:\n",
    "            for pattern in patterns:\n",
    "                if re.search(pattern, desc) is not None:\n",
    "                    matches.append(desc)\n",
    "                    break\n",
    "        group_count = len(matches)\n",
    "#         if fandom == 'voltron' and group_name == 'bi/pan':\n",
    "#             pdb.set_trace()\n",
    "        demographic_counts[fandom][group_name] = group_count\n",
    "    outlines.append([fandom, *[demographic_counts[fandom][group_name] for group_name in grouped_patterns], len(fandom_blog_descriptions)])\n",
    "#         print(f'{group_name}\\t{group_count}')\n",
    "#         print()\n",
    "pd.DataFrame(outlines, columns=['fandom'] + list(grouped_patterns.keys()) + ['total_descriptions']).set_index('fandom')"
   ]
  },
  {
   "cell_type": "code",
   "execution_count": 22,
   "metadata": {
    "scrolled": true
   },
   "outputs": [
    {
     "name": "stdout",
     "output_type": "stream",
     "text": [
      "academia\n"
     ]
    },
    {
     "data": {
      "application/vnd.jupyter.widget-view+json": {
       "model_id": "c71dfa5e347c4032b43926609fa2de43",
       "version_major": 2,
       "version_minor": 0
      },
      "text/plain": [
       "HBox(children=(IntProgress(value=0, max=6), HTML(value='')))"
      ]
     },
     "metadata": {},
     "output_type": "display_data"
    },
    {
     "name": "stdout",
     "output_type": "stream",
     "text": [
      "\n",
      "allmarvel\n"
     ]
    },
    {
     "data": {
      "application/vnd.jupyter.widget-view+json": {
       "model_id": "9a656da0ff1745aebf997249dcf42d76",
       "version_major": 2,
       "version_minor": 0
      },
      "text/plain": [
       "HBox(children=(IntProgress(value=0, max=6), HTML(value='')))"
      ]
     },
     "metadata": {},
     "output_type": "display_data"
    },
    {
     "name": "stdout",
     "output_type": "stream",
     "text": [
      "\n",
      "arthurian\n"
     ]
    },
    {
     "data": {
      "application/vnd.jupyter.widget-view+json": {
       "model_id": "1c3b17bf268e456a934154186733b8b7",
       "version_major": 2,
       "version_minor": 0
      },
      "text/plain": [
       "HBox(children=(IntProgress(value=0, max=6), HTML(value='')))"
      ]
     },
     "metadata": {},
     "output_type": "display_data"
    },
    {
     "name": "stdout",
     "output_type": "stream",
     "text": [
      "\n",
      "attack_on_titan\n"
     ]
    },
    {
     "data": {
      "application/vnd.jupyter.widget-view+json": {
       "model_id": "f199e7bed250487fb6a384f4091533ce",
       "version_major": 2,
       "version_minor": 0
      },
      "text/plain": [
       "HBox(children=(IntProgress(value=0, max=6), HTML(value='')))"
      ]
     },
     "metadata": {},
     "output_type": "display_data"
    },
    {
     "name": "stdout",
     "output_type": "stream",
     "text": [
      "\n",
      "dcu\n"
     ]
    },
    {
     "data": {
      "application/vnd.jupyter.widget-view+json": {
       "model_id": "75389b7f17d441c4a0a204cbb257a0e2",
       "version_major": 2,
       "version_minor": 0
      },
      "text/plain": [
       "HBox(children=(IntProgress(value=0, max=6), HTML(value='')))"
      ]
     },
     "metadata": {},
     "output_type": "display_data"
    },
    {
     "name": "stdout",
     "output_type": "stream",
     "text": [
      "\n",
      "dr_who\n"
     ]
    },
    {
     "data": {
      "application/vnd.jupyter.widget-view+json": {
       "model_id": "32d2dc148bb841c48737bfc26f6b7e61",
       "version_major": 2,
       "version_minor": 0
      },
      "text/plain": [
       "HBox(children=(IntProgress(value=0, max=6), HTML(value='')))"
      ]
     },
     "metadata": {},
     "output_type": "display_data"
    },
    {
     "name": "stdout",
     "output_type": "stream",
     "text": [
      "\n",
      "dragonage\n"
     ]
    },
    {
     "data": {
      "application/vnd.jupyter.widget-view+json": {
       "model_id": "92c396f0abfc4ea59c811e576319caf1",
       "version_major": 2,
       "version_minor": 0
      },
      "text/plain": [
       "HBox(children=(IntProgress(value=0, max=6), HTML(value='')))"
      ]
     },
     "metadata": {},
     "output_type": "display_data"
    },
    {
     "name": "stdout",
     "output_type": "stream",
     "text": [
      "\n",
      "haikyuu\n"
     ]
    },
    {
     "data": {
      "application/vnd.jupyter.widget-view+json": {
       "model_id": "4b18baa1cac94f4dbf22ee9a7f191518",
       "version_major": 2,
       "version_minor": 0
      },
      "text/plain": [
       "HBox(children=(IntProgress(value=0, max=6), HTML(value='')))"
      ]
     },
     "metadata": {},
     "output_type": "display_data"
    },
    {
     "name": "stdout",
     "output_type": "stream",
     "text": [
      "\n",
      "hamilton\n"
     ]
    },
    {
     "data": {
      "application/vnd.jupyter.widget-view+json": {
       "model_id": "2a7436f68a9045cb9773c318d707f786",
       "version_major": 2,
       "version_minor": 0
      },
      "text/plain": [
       "HBox(children=(IntProgress(value=0, max=6), HTML(value='')))"
      ]
     },
     "metadata": {},
     "output_type": "display_data"
    },
    {
     "name": "stdout",
     "output_type": "stream",
     "text": [
      "\n",
      "harrypotter\n"
     ]
    },
    {
     "data": {
      "application/vnd.jupyter.widget-view+json": {
       "model_id": "57cb48ff37784d7490572646961514b7",
       "version_major": 2,
       "version_minor": 0
      },
      "text/plain": [
       "HBox(children=(IntProgress(value=0, max=6), HTML(value='')))"
      ]
     },
     "metadata": {},
     "output_type": "display_data"
    },
    {
     "name": "stdout",
     "output_type": "stream",
     "text": [
      "\n",
      "homestuck\n"
     ]
    },
    {
     "data": {
      "application/vnd.jupyter.widget-view+json": {
       "model_id": "00bdd3cb787f4208b0f3c426d06ccd82",
       "version_major": 2,
       "version_minor": 0
      },
      "text/plain": [
       "HBox(children=(IntProgress(value=0, max=6), HTML(value='')))"
      ]
     },
     "metadata": {},
     "output_type": "display_data"
    },
    {
     "name": "stdout",
     "output_type": "stream",
     "text": [
      "\n",
      "korra\n"
     ]
    },
    {
     "data": {
      "application/vnd.jupyter.widget-view+json": {
       "model_id": "7bc78616cb3145b78879f3fa9085d93d",
       "version_major": 2,
       "version_minor": 0
      },
      "text/plain": [
       "HBox(children=(IntProgress(value=0, max=6), HTML(value='')))"
      ]
     },
     "metadata": {},
     "output_type": "display_data"
    },
    {
     "name": "stdout",
     "output_type": "stream",
     "text": [
      "\n",
      "naruto\n"
     ]
    },
    {
     "data": {
      "application/vnd.jupyter.widget-view+json": {
       "model_id": "b11a902265d04ad4bb3025d2d7b1a1bc",
       "version_major": 2,
       "version_minor": 0
      },
      "text/plain": [
       "HBox(children=(IntProgress(value=0, max=6), HTML(value='')))"
      ]
     },
     "metadata": {},
     "output_type": "display_data"
    },
    {
     "name": "stdout",
     "output_type": "stream",
     "text": [
      "\n",
      "once_upon_a_time\n"
     ]
    },
    {
     "data": {
      "application/vnd.jupyter.widget-view+json": {
       "model_id": "41ae22e452654842817434c4c52577e8",
       "version_major": 2,
       "version_minor": 0
      },
      "text/plain": [
       "HBox(children=(IntProgress(value=0, max=6), HTML(value='')))"
      ]
     },
     "metadata": {},
     "output_type": "display_data"
    },
    {
     "name": "stdout",
     "output_type": "stream",
     "text": [
      "\n",
      "overwatch\n"
     ]
    },
    {
     "data": {
      "application/vnd.jupyter.widget-view+json": {
       "model_id": "42db9d4f866f42f6b00ed9686d77eab4",
       "version_major": 2,
       "version_minor": 0
      },
      "text/plain": [
       "HBox(children=(IntProgress(value=0, max=6), HTML(value='')))"
      ]
     },
     "metadata": {},
     "output_type": "display_data"
    },
    {
     "name": "stdout",
     "output_type": "stream",
     "text": [
      "\n",
      "pokemon\n"
     ]
    },
    {
     "data": {
      "application/vnd.jupyter.widget-view+json": {
       "model_id": "628005e4a1e646e1930b01ca15182442",
       "version_major": 2,
       "version_minor": 0
      },
      "text/plain": [
       "HBox(children=(IntProgress(value=0, max=6), HTML(value='')))"
      ]
     },
     "metadata": {},
     "output_type": "display_data"
    },
    {
     "name": "stdout",
     "output_type": "stream",
     "text": [
      "\n",
      "power_rangers\n"
     ]
    },
    {
     "data": {
      "application/vnd.jupyter.widget-view+json": {
       "model_id": "8a304dbaeb194ab2ac2e7cd91469cb92",
       "version_major": 2,
       "version_minor": 0
      },
      "text/plain": [
       "HBox(children=(IntProgress(value=0, max=6), HTML(value='')))"
      ]
     },
     "metadata": {},
     "output_type": "display_data"
    },
    {
     "name": "stdout",
     "output_type": "stream",
     "text": [
      "\n",
      "riverdale\n"
     ]
    },
    {
     "data": {
      "application/vnd.jupyter.widget-view+json": {
       "model_id": "01823d2917094a5da199a5fb1d93d13f",
       "version_major": 2,
       "version_minor": 0
      },
      "text/plain": [
       "HBox(children=(IntProgress(value=0, max=6), HTML(value='')))"
      ]
     },
     "metadata": {},
     "output_type": "display_data"
    },
    {
     "name": "stdout",
     "output_type": "stream",
     "text": [
      "\n",
      "sherlock\n"
     ]
    },
    {
     "data": {
      "application/vnd.jupyter.widget-view+json": {
       "model_id": "6be6d0c7f4fa44eb9a853b602f8b5d1f",
       "version_major": 2,
       "version_minor": 0
      },
      "text/plain": [
       "HBox(children=(IntProgress(value=0, max=6), HTML(value='')))"
      ]
     },
     "metadata": {},
     "output_type": "display_data"
    },
    {
     "name": "stdout",
     "output_type": "stream",
     "text": [
      "\n",
      "song_ice_fire\n"
     ]
    },
    {
     "data": {
      "application/vnd.jupyter.widget-view+json": {
       "model_id": "a01a80bb98744fcfa30d62db07c09db8",
       "version_major": 2,
       "version_minor": 0
      },
      "text/plain": [
       "HBox(children=(IntProgress(value=0, max=6), HTML(value='')))"
      ]
     },
     "metadata": {},
     "output_type": "display_data"
    },
    {
     "name": "stdout",
     "output_type": "stream",
     "text": [
      "\n",
      "star_trek\n"
     ]
    },
    {
     "data": {
      "application/vnd.jupyter.widget-view+json": {
       "model_id": "549162b039ff4f34a01a1a3131bd4a29",
       "version_major": 2,
       "version_minor": 0
      },
      "text/plain": [
       "HBox(children=(IntProgress(value=0, max=6), HTML(value='')))"
      ]
     },
     "metadata": {},
     "output_type": "display_data"
    },
    {
     "name": "stdout",
     "output_type": "stream",
     "text": [
      "\n",
      "star_wars\n"
     ]
    },
    {
     "data": {
      "application/vnd.jupyter.widget-view+json": {
       "model_id": "fa31d2462728427e9e90f507ed559f88",
       "version_major": 2,
       "version_minor": 0
      },
      "text/plain": [
       "HBox(children=(IntProgress(value=0, max=6), HTML(value='')))"
      ]
     },
     "metadata": {},
     "output_type": "display_data"
    },
    {
     "name": "stdout",
     "output_type": "stream",
     "text": [
      "\n",
      "stargate\n"
     ]
    },
    {
     "data": {
      "application/vnd.jupyter.widget-view+json": {
       "model_id": "7c19d55f1a2342c791248902de2dd7ef",
       "version_major": 2,
       "version_minor": 0
      },
      "text/plain": [
       "HBox(children=(IntProgress(value=0, max=6), HTML(value='')))"
      ]
     },
     "metadata": {},
     "output_type": "display_data"
    },
    {
     "name": "stdout",
     "output_type": "stream",
     "text": [
      "\n",
      "supergirl\n"
     ]
    },
    {
     "data": {
      "application/vnd.jupyter.widget-view+json": {
       "model_id": "82eaaa73d74f4794b5ec26a62930fea7",
       "version_major": 2,
       "version_minor": 0
      },
      "text/plain": [
       "HBox(children=(IntProgress(value=0, max=6), HTML(value='')))"
      ]
     },
     "metadata": {},
     "output_type": "display_data"
    },
    {
     "name": "stdout",
     "output_type": "stream",
     "text": [
      "\n",
      "supernatural\n"
     ]
    },
    {
     "data": {
      "application/vnd.jupyter.widget-view+json": {
       "model_id": "5c8e729af23644b6bb7038d402b44dda",
       "version_major": 2,
       "version_minor": 0
      },
      "text/plain": [
       "HBox(children=(IntProgress(value=0, max=6), HTML(value='')))"
      ]
     },
     "metadata": {},
     "output_type": "display_data"
    },
    {
     "name": "stdout",
     "output_type": "stream",
     "text": [
      "\n",
      "teen_wolf\n"
     ]
    },
    {
     "data": {
      "application/vnd.jupyter.widget-view+json": {
       "model_id": "4a5188ae4b164244819b3e5e21b6e724",
       "version_major": 2,
       "version_minor": 0
      },
      "text/plain": [
       "HBox(children=(IntProgress(value=0, max=6), HTML(value='')))"
      ]
     },
     "metadata": {},
     "output_type": "display_data"
    },
    {
     "name": "stdout",
     "output_type": "stream",
     "text": [
      "\n",
      "tolkien\n"
     ]
    },
    {
     "data": {
      "application/vnd.jupyter.widget-view+json": {
       "model_id": "52c5ed614c0142ac8320b67ea36582b9",
       "version_major": 2,
       "version_minor": 0
      },
      "text/plain": [
       "HBox(children=(IntProgress(value=0, max=6), HTML(value='')))"
      ]
     },
     "metadata": {},
     "output_type": "display_data"
    },
    {
     "name": "stdout",
     "output_type": "stream",
     "text": [
      "\n",
      "undertale\n"
     ]
    },
    {
     "data": {
      "application/vnd.jupyter.widget-view+json": {
       "model_id": "a9a8010f2b5d4ce0b4a9c9767fcc32ef",
       "version_major": 2,
       "version_minor": 0
      },
      "text/plain": [
       "HBox(children=(IntProgress(value=0, max=6), HTML(value='')))"
      ]
     },
     "metadata": {},
     "output_type": "display_data"
    },
    {
     "name": "stdout",
     "output_type": "stream",
     "text": [
      "\n",
      "voltron\n"
     ]
    },
    {
     "data": {
      "application/vnd.jupyter.widget-view+json": {
       "model_id": "891ea6206f8a480c8fb76008d633daa1",
       "version_major": 2,
       "version_minor": 0
      },
      "text/plain": [
       "HBox(children=(IntProgress(value=0, max=6), HTML(value='')))"
      ]
     },
     "metadata": {},
     "output_type": "display_data"
    },
    {
     "name": "stdout",
     "output_type": "stream",
     "text": [
      "\n",
      "walking_dead\n"
     ]
    },
    {
     "data": {
      "application/vnd.jupyter.widget-view+json": {
       "model_id": "3627571221ac455b9c8f69b481960611",
       "version_major": 2,
       "version_minor": 0
      },
      "text/plain": [
       "HBox(children=(IntProgress(value=0, max=6), HTML(value='')))"
      ]
     },
     "metadata": {},
     "output_type": "display_data"
    },
    {
     "name": "stdout",
     "output_type": "stream",
     "text": [
      "\n"
     ]
    },
    {
     "data": {
      "text/html": [
       "<div>\n",
       "<style scoped>\n",
       "    .dataframe tbody tr th:only-of-type {\n",
       "        vertical-align: middle;\n",
       "    }\n",
       "\n",
       "    .dataframe tbody tr th {\n",
       "        vertical-align: top;\n",
       "    }\n",
       "\n",
       "    .dataframe thead th {\n",
       "        text-align: right;\n",
       "    }\n",
       "</style>\n",
       "<table border=\"1\" class=\"dataframe\">\n",
       "  <thead>\n",
       "    <tr style=\"text-align: right;\">\n",
       "      <th></th>\n",
       "      <th>male</th>\n",
       "      <th>female</th>\n",
       "      <th>trans/nonbinary</th>\n",
       "      <th>lesbian/gay/bi/pan</th>\n",
       "      <th>cis/het</th>\n",
       "      <th>lgbtq</th>\n",
       "      <th>total_descriptions</th>\n",
       "    </tr>\n",
       "    <tr>\n",
       "      <th>fandom</th>\n",
       "      <th></th>\n",
       "      <th></th>\n",
       "      <th></th>\n",
       "      <th></th>\n",
       "      <th></th>\n",
       "      <th></th>\n",
       "      <th></th>\n",
       "    </tr>\n",
       "  </thead>\n",
       "  <tbody>\n",
       "    <tr>\n",
       "      <th>academia</th>\n",
       "      <td>801</td>\n",
       "      <td>1449</td>\n",
       "      <td>783</td>\n",
       "      <td>662</td>\n",
       "      <td>53</td>\n",
       "      <td>1485</td>\n",
       "      <td>8624</td>\n",
       "    </tr>\n",
       "    <tr>\n",
       "      <th>allmarvel</th>\n",
       "      <td>3486</td>\n",
       "      <td>5279</td>\n",
       "      <td>2012</td>\n",
       "      <td>2668</td>\n",
       "      <td>314</td>\n",
       "      <td>5039</td>\n",
       "      <td>37002</td>\n",
       "    </tr>\n",
       "    <tr>\n",
       "      <th>arthurian</th>\n",
       "      <td>292</td>\n",
       "      <td>409</td>\n",
       "      <td>206</td>\n",
       "      <td>142</td>\n",
       "      <td>22</td>\n",
       "      <td>403</td>\n",
       "      <td>2937</td>\n",
       "    </tr>\n",
       "    <tr>\n",
       "      <th>attack_on_titan</th>\n",
       "      <td>428</td>\n",
       "      <td>418</td>\n",
       "      <td>235</td>\n",
       "      <td>187</td>\n",
       "      <td>26</td>\n",
       "      <td>462</td>\n",
       "      <td>3733</td>\n",
       "    </tr>\n",
       "    <tr>\n",
       "      <th>dcu</th>\n",
       "      <td>833</td>\n",
       "      <td>804</td>\n",
       "      <td>507</td>\n",
       "      <td>518</td>\n",
       "      <td>88</td>\n",
       "      <td>1039</td>\n",
       "      <td>8493</td>\n",
       "    </tr>\n",
       "    <tr>\n",
       "      <th>dr_who</th>\n",
       "      <td>186</td>\n",
       "      <td>261</td>\n",
       "      <td>134</td>\n",
       "      <td>111</td>\n",
       "      <td>18</td>\n",
       "      <td>260</td>\n",
       "      <td>1834</td>\n",
       "    </tr>\n",
       "    <tr>\n",
       "      <th>dragonage</th>\n",
       "      <td>565</td>\n",
       "      <td>1209</td>\n",
       "      <td>597</td>\n",
       "      <td>560</td>\n",
       "      <td>94</td>\n",
       "      <td>1222</td>\n",
       "      <td>6384</td>\n",
       "    </tr>\n",
       "    <tr>\n",
       "      <th>haikyuu</th>\n",
       "      <td>380</td>\n",
       "      <td>566</td>\n",
       "      <td>232</td>\n",
       "      <td>222</td>\n",
       "      <td>24</td>\n",
       "      <td>594</td>\n",
       "      <td>4306</td>\n",
       "    </tr>\n",
       "    <tr>\n",
       "      <th>hamilton</th>\n",
       "      <td>448</td>\n",
       "      <td>892</td>\n",
       "      <td>423</td>\n",
       "      <td>528</td>\n",
       "      <td>47</td>\n",
       "      <td>956</td>\n",
       "      <td>5116</td>\n",
       "    </tr>\n",
       "    <tr>\n",
       "      <th>harrypotter</th>\n",
       "      <td>3296</td>\n",
       "      <td>6113</td>\n",
       "      <td>2242</td>\n",
       "      <td>2352</td>\n",
       "      <td>319</td>\n",
       "      <td>5027</td>\n",
       "      <td>42333</td>\n",
       "    </tr>\n",
       "    <tr>\n",
       "      <th>homestuck</th>\n",
       "      <td>1136</td>\n",
       "      <td>1342</td>\n",
       "      <td>1245</td>\n",
       "      <td>946</td>\n",
       "      <td>157</td>\n",
       "      <td>2091</td>\n",
       "      <td>8969</td>\n",
       "    </tr>\n",
       "    <tr>\n",
       "      <th>korra</th>\n",
       "      <td>142</td>\n",
       "      <td>236</td>\n",
       "      <td>94</td>\n",
       "      <td>130</td>\n",
       "      <td>18</td>\n",
       "      <td>248</td>\n",
       "      <td>1637</td>\n",
       "    </tr>\n",
       "    <tr>\n",
       "      <th>naruto</th>\n",
       "      <td>621</td>\n",
       "      <td>700</td>\n",
       "      <td>449</td>\n",
       "      <td>258</td>\n",
       "      <td>43</td>\n",
       "      <td>711</td>\n",
       "      <td>6705</td>\n",
       "    </tr>\n",
       "    <tr>\n",
       "      <th>once_upon_a_time</th>\n",
       "      <td>536</td>\n",
       "      <td>1042</td>\n",
       "      <td>359</td>\n",
       "      <td>214</td>\n",
       "      <td>34</td>\n",
       "      <td>598</td>\n",
       "      <td>5128</td>\n",
       "    </tr>\n",
       "    <tr>\n",
       "      <th>overwatch</th>\n",
       "      <td>1100</td>\n",
       "      <td>1440</td>\n",
       "      <td>929</td>\n",
       "      <td>1209</td>\n",
       "      <td>93</td>\n",
       "      <td>2117</td>\n",
       "      <td>10015</td>\n",
       "    </tr>\n",
       "    <tr>\n",
       "      <th>pokemon</th>\n",
       "      <td>2236</td>\n",
       "      <td>2366</td>\n",
       "      <td>1576</td>\n",
       "      <td>1669</td>\n",
       "      <td>246</td>\n",
       "      <td>3408</td>\n",
       "      <td>20019</td>\n",
       "    </tr>\n",
       "    <tr>\n",
       "      <th>power_rangers</th>\n",
       "      <td>52</td>\n",
       "      <td>51</td>\n",
       "      <td>29</td>\n",
       "      <td>50</td>\n",
       "      <td>5</td>\n",
       "      <td>80</td>\n",
       "      <td>437</td>\n",
       "    </tr>\n",
       "    <tr>\n",
       "      <th>riverdale</th>\n",
       "      <td>168</td>\n",
       "      <td>356</td>\n",
       "      <td>103</td>\n",
       "      <td>152</td>\n",
       "      <td>14</td>\n",
       "      <td>273</td>\n",
       "      <td>2982</td>\n",
       "    </tr>\n",
       "    <tr>\n",
       "      <th>sherlock</th>\n",
       "      <td>1650</td>\n",
       "      <td>2321</td>\n",
       "      <td>1011</td>\n",
       "      <td>1068</td>\n",
       "      <td>166</td>\n",
       "      <td>2282</td>\n",
       "      <td>17416</td>\n",
       "    </tr>\n",
       "    <tr>\n",
       "      <th>song_ice_fire</th>\n",
       "      <td>898</td>\n",
       "      <td>1484</td>\n",
       "      <td>418</td>\n",
       "      <td>440</td>\n",
       "      <td>85</td>\n",
       "      <td>929</td>\n",
       "      <td>9860</td>\n",
       "    </tr>\n",
       "    <tr>\n",
       "      <th>star_trek</th>\n",
       "      <td>659</td>\n",
       "      <td>981</td>\n",
       "      <td>496</td>\n",
       "      <td>576</td>\n",
       "      <td>87</td>\n",
       "      <td>1146</td>\n",
       "      <td>5539</td>\n",
       "    </tr>\n",
       "    <tr>\n",
       "      <th>star_wars</th>\n",
       "      <td>2075</td>\n",
       "      <td>3372</td>\n",
       "      <td>1314</td>\n",
       "      <td>1558</td>\n",
       "      <td>270</td>\n",
       "      <td>3001</td>\n",
       "      <td>23930</td>\n",
       "    </tr>\n",
       "    <tr>\n",
       "      <th>stargate</th>\n",
       "      <td>47</td>\n",
       "      <td>79</td>\n",
       "      <td>36</td>\n",
       "      <td>39</td>\n",
       "      <td>6</td>\n",
       "      <td>80</td>\n",
       "      <td>504</td>\n",
       "    </tr>\n",
       "    <tr>\n",
       "      <th>supergirl</th>\n",
       "      <td>67</td>\n",
       "      <td>355</td>\n",
       "      <td>136</td>\n",
       "      <td>472</td>\n",
       "      <td>26</td>\n",
       "      <td>613</td>\n",
       "      <td>2230</td>\n",
       "    </tr>\n",
       "    <tr>\n",
       "      <th>supernatural</th>\n",
       "      <td>1727</td>\n",
       "      <td>2809</td>\n",
       "      <td>1745</td>\n",
       "      <td>1656</td>\n",
       "      <td>203</td>\n",
       "      <td>3615</td>\n",
       "      <td>29647</td>\n",
       "    </tr>\n",
       "    <tr>\n",
       "      <th>teen_wolf</th>\n",
       "      <td>1157</td>\n",
       "      <td>1461</td>\n",
       "      <td>780</td>\n",
       "      <td>655</td>\n",
       "      <td>89</td>\n",
       "      <td>1503</td>\n",
       "      <td>14929</td>\n",
       "    </tr>\n",
       "    <tr>\n",
       "      <th>tolkien</th>\n",
       "      <td>1089</td>\n",
       "      <td>1520</td>\n",
       "      <td>647</td>\n",
       "      <td>552</td>\n",
       "      <td>104</td>\n",
       "      <td>1326</td>\n",
       "      <td>11230</td>\n",
       "    </tr>\n",
       "    <tr>\n",
       "      <th>undertale</th>\n",
       "      <td>877</td>\n",
       "      <td>1361</td>\n",
       "      <td>842</td>\n",
       "      <td>557</td>\n",
       "      <td>73</td>\n",
       "      <td>1383</td>\n",
       "      <td>9444</td>\n",
       "    </tr>\n",
       "    <tr>\n",
       "      <th>voltron</th>\n",
       "      <td>1004</td>\n",
       "      <td>2252</td>\n",
       "      <td>1134</td>\n",
       "      <td>1431</td>\n",
       "      <td>100</td>\n",
       "      <td>2600</td>\n",
       "      <td>10970</td>\n",
       "    </tr>\n",
       "    <tr>\n",
       "      <th>walking_dead</th>\n",
       "      <td>773</td>\n",
       "      <td>788</td>\n",
       "      <td>273</td>\n",
       "      <td>232</td>\n",
       "      <td>37</td>\n",
       "      <td>542</td>\n",
       "      <td>6377</td>\n",
       "    </tr>\n",
       "  </tbody>\n",
       "</table>\n",
       "</div>"
      ],
      "text/plain": [
       "                  male  female  trans/nonbinary  lesbian/gay/bi/pan  cis/het  \\\n",
       "fandom                                                                         \n",
       "academia           801    1449              783                 662       53   \n",
       "allmarvel         3486    5279             2012                2668      314   \n",
       "arthurian          292     409              206                 142       22   \n",
       "attack_on_titan    428     418              235                 187       26   \n",
       "dcu                833     804              507                 518       88   \n",
       "dr_who             186     261              134                 111       18   \n",
       "dragonage          565    1209              597                 560       94   \n",
       "haikyuu            380     566              232                 222       24   \n",
       "hamilton           448     892              423                 528       47   \n",
       "harrypotter       3296    6113             2242                2352      319   \n",
       "homestuck         1136    1342             1245                 946      157   \n",
       "korra              142     236               94                 130       18   \n",
       "naruto             621     700              449                 258       43   \n",
       "once_upon_a_time   536    1042              359                 214       34   \n",
       "overwatch         1100    1440              929                1209       93   \n",
       "pokemon           2236    2366             1576                1669      246   \n",
       "power_rangers       52      51               29                  50        5   \n",
       "riverdale          168     356              103                 152       14   \n",
       "sherlock          1650    2321             1011                1068      166   \n",
       "song_ice_fire      898    1484              418                 440       85   \n",
       "star_trek          659     981              496                 576       87   \n",
       "star_wars         2075    3372             1314                1558      270   \n",
       "stargate            47      79               36                  39        6   \n",
       "supergirl           67     355              136                 472       26   \n",
       "supernatural      1727    2809             1745                1656      203   \n",
       "teen_wolf         1157    1461              780                 655       89   \n",
       "tolkien           1089    1520              647                 552      104   \n",
       "undertale          877    1361              842                 557       73   \n",
       "voltron           1004    2252             1134                1431      100   \n",
       "walking_dead       773     788              273                 232       37   \n",
       "\n",
       "                  lgbtq  total_descriptions  \n",
       "fandom                                       \n",
       "academia           1485                8624  \n",
       "allmarvel          5039               37002  \n",
       "arthurian           403                2937  \n",
       "attack_on_titan     462                3733  \n",
       "dcu                1039                8493  \n",
       "dr_who              260                1834  \n",
       "dragonage          1222                6384  \n",
       "haikyuu             594                4306  \n",
       "hamilton            956                5116  \n",
       "harrypotter        5027               42333  \n",
       "homestuck          2091                8969  \n",
       "korra               248                1637  \n",
       "naruto              711                6705  \n",
       "once_upon_a_time    598                5128  \n",
       "overwatch          2117               10015  \n",
       "pokemon            3408               20019  \n",
       "power_rangers        80                 437  \n",
       "riverdale           273                2982  \n",
       "sherlock           2282               17416  \n",
       "song_ice_fire       929                9860  \n",
       "star_trek          1146                5539  \n",
       "star_wars          3001               23930  \n",
       "stargate             80                 504  \n",
       "supergirl           613                2230  \n",
       "supernatural       3615               29647  \n",
       "teen_wolf          1503               14929  \n",
       "tolkien            1326               11230  \n",
       "undertale          1383                9444  \n",
       "voltron            2600               10970  \n",
       "walking_dead        542                6377  "
      ]
     },
     "execution_count": 22,
     "metadata": {},
     "output_type": "execute_result"
    }
   ],
   "source": [
    "# Search for groups of interest\n",
    "import re\n",
    "from tqdm import tqdm_notebook as tqdm\n",
    "\n",
    "grouped_patterns = {\n",
    "    'male': [\n",
    "        r'(?:\\W|\\b)he(?:\\W|\\b)', r'(?:\\W|\\b)him(?:\\W|\\b)',\n",
    "        r'\\bmale\\b',\n",
    "        r'boy\\b',\n",
    "        r'^(?!.*(super|wonder|bat)).*man\\b',\n",
    "        r'guy\\b', \n",
    "        r'\\bdad\\b', \n",
    "        r'husband', \n",
    "        r'\\bbrother\\b', r'\\bson\\b', \n",
    "    ],\n",
    "    'female': [\n",
    "        r'(?:\\W|\\b)she(?:\\W|\\b)', r'(?:\\W|\\b)her(?:\\W|\\b)',\n",
    "        r'female\\b',\n",
    "        r'^(?!.*(super|wonder|bat)).*\\bgirl\\b',\n",
    "        r'^(?!.*(super|wonder|bat)).*\\bwoman\\b', r'gu+rl', r'\\bgii+rl',\n",
    "        r'\\bmom\\b', r'mum',\n",
    "        r'wife', \n",
    "        r'\\bsister\\b',\n",
    "        r'\\blady\\b', r'daughter', r'mommy',\n",
    "    ],\n",
    "    'trans/nonbinary': [\n",
    "        r'(?:\\W|\\b)they(?:\\W|\\b)', r'(?:\\W|\\b)them(?:\\W|\\b)',\n",
    "        r'(?:\\W|\\b)xe(?:\\W|\\b)', r'(?:\\W|\\b)xem(?:\\W|\\b)',\n",
    "        r'it/its',\n",
    "        r'theythem',\n",
    "        r'non-binary', r'nonbinary', r'\\bnb\\b', r'agender', r'neutrois', r'androgynous',\n",
    "        r'bigender', \n",
    "        r'genderfluid', r'gender-fluid',\n",
    "        r'(?!.*transformers)trans', r'ftm', r'mtf', \n",
    "    ],\n",
    "    'lesbian/gay/bi/pan': [\n",
    "        r'gay',\n",
    "        r'lesbian', r'\\bhomo',\n",
    "        r'\\bwlw\\b', r'\\bmlm\\b',\n",
    "        r'bisexual', r'\\bbi\\b', r'pansexual', r'\\bpan\\b', \n",
    "    ],\n",
    "    'cis/het': [\n",
    "        r'\\bcis',\n",
    "        r'\\bstraight\\b',\n",
    "        r'\\bcishet',\n",
    "    ]\n",
    "}\n",
    "grouped_patterns['lgbtq'] = \\\n",
    "        grouped_patterns['trans/nonbinary'] + \\\n",
    "        grouped_patterns['lesbian/gay/bi/pan'] + \\\n",
    "        [\n",
    "            r'lgbt',\n",
    "            r'queer',\n",
    "            r'\\bace\\b', r'\\basexual', r'aro-ace', r'aro/ace',\n",
    "        ]\n",
    "    \n",
    "outlines = []\n",
    "demographic_counts = {}\n",
    "for fandom in fandoms:\n",
    "    demographic_counts[fandom] = {}\n",
    "    print(fandom)\n",
    "    fandom_blog_descriptions = blog_info.loc[blog_info['fandom']==fandom, 'tokenized_blog_description']\n",
    "    for group_name, patterns in tqdm(grouped_patterns.items()):\n",
    "        matches = []\n",
    "        for desc in fandom_blog_descriptions:\n",
    "            for pattern in patterns:\n",
    "                if re.search(pattern, desc) is not None:\n",
    "                    matches.append(desc)\n",
    "                    break\n",
    "        group_count = len(matches)\n",
    "#         if fandom == 'voltron' and group_name == 'bi/pan':\n",
    "#             pdb.set_trace()\n",
    "        demographic_counts[fandom][group_name] = group_count\n",
    "    outlines.append([fandom, *[demographic_counts[fandom][group_name] for group_name in grouped_patterns], len(fandom_blog_descriptions)])\n",
    "#         print(f'{group_name}\\t{group_count}')\n",
    "#         print()\n",
    "pd.DataFrame(outlines, columns=['fandom'] + list(grouped_patterns.keys()) + ['total_descriptions']).set_index('fandom')"
   ]
  },
  {
   "cell_type": "code",
   "execution_count": 2,
   "metadata": {},
   "outputs": [],
   "source": [
    "# Find most popular co-occurring terms in blog descriptions\n",
    "import nltk\n",
    "import string\n",
    "\n",
    "stops = nltk.corpus.stopwords.words('english')\n",
    "stops = [w for w in stops if not w in ['he', 'him', 'she', 'her', 'they', 'them']]\n",
    "stops += [c for c in string.punctuation]\n",
    "stops += ['--', \"'m\", \"'s\", 'also', \"n't\", '...', '`', '•', '||', \"''\", \"``\", '’', '//', \"'re\", \"'ll\"]\n",
    "stops\n",
    "\n",
    "# For each fandom, make a counter of terms in blog descriptions\n",
    "from collections import Counter\n",
    "fandom_terms = blog_info.groupby('fandom').agg({'tokenized_blog_description': lambda x: ' '.join(x.tolist())})\n",
    "fandom_words = fandom_terms['tokenized_blog_description'].to_dict()\n",
    "fandom_word_counters = {}\n",
    "for fandom, words in fandom_words.items():\n",
    "    fandom_word_counters[fandom] = Counter([w for w in words.split() if not w in stops])\n",
    "    \n",
    "# len(fandom_word_counters)\n",
    "\n",
    "# from pprint import pprint\n",
    "# for fandom, ctr in fandom_word_counters.items():\n",
    "#     print(fandom)\n",
    "#     pprint(ctr.most_common(30))\n",
    "#     print()"
   ]
  },
  {
   "cell_type": "markdown",
   "metadata": {},
   "source": [
    "# Tokenize, lowercase blog descriptions (use NLTK)\n",
    "Added to preprocess_descriptions.py"
   ]
  },
  {
   "cell_type": "code",
   "execution_count": 1,
   "metadata": {
    "scrolled": true
   },
   "outputs": [
    {
     "name": "stderr",
     "output_type": "stream",
     "text": [
      "/usr0/home/mamille2/anaconda/lib/python3.7/site-packages/IPython/core/interactiveshell.py:3072: DtypeWarning: Columns (7,10) have mixed types.Specify dtype option on import or set low_memory=False.\n",
      "  interactivity=interactivity, compiler=compiler, result=result)\n"
     ]
    },
    {
     "data": {
      "text/html": [
       "<div>\n",
       "<style scoped>\n",
       "    .dataframe tbody tr th:only-of-type {\n",
       "        vertical-align: middle;\n",
       "    }\n",
       "\n",
       "    .dataframe tbody tr th {\n",
       "        vertical-align: top;\n",
       "    }\n",
       "\n",
       "    .dataframe thead th {\n",
       "        text-align: right;\n",
       "    }\n",
       "</style>\n",
       "<table border=\"1\" class=\"dataframe\">\n",
       "  <thead>\n",
       "    <tr style=\"text-align: right;\">\n",
       "      <th></th>\n",
       "      <th>tumblelog_id</th>\n",
       "      <th>activity_time_epoch</th>\n",
       "      <th>tumblr_blog_name</th>\n",
       "      <th>tumblr_blog_title</th>\n",
       "      <th>tumblr_blog_description</th>\n",
       "      <th>tumblr_blog_url</th>\n",
       "      <th>is_group_blog</th>\n",
       "      <th>is_primary</th>\n",
       "      <th>is_private</th>\n",
       "      <th>created_time_epoch</th>\n",
       "      <th>updated_time_epoch</th>\n",
       "      <th>timezone</th>\n",
       "      <th>language</th>\n",
       "      <th>blog_classifier</th>\n",
       "      <th>generated_date</th>\n",
       "      <th>tumblog_id</th>\n",
       "      <th>post_count</th>\n",
       "      <th>fandom</th>\n",
       "      <th>fandom_term</th>\n",
       "      <th>processed_tumblr_blog_description</th>\n",
       "    </tr>\n",
       "  </thead>\n",
       "  <tbody>\n",
       "    <tr>\n",
       "      <th>0</th>\n",
       "      <td>123758</td>\n",
       "      <td>1538018782</td>\n",
       "      <td>coldfashion</td>\n",
       "      <td>AP ROCKS YOUR FACE</td>\n",
       "      <td>annelise pruitt i designed the emmy-winning st...</td>\n",
       "      <td>http://coldfashion.tumblr.com/</td>\n",
       "      <td>False</td>\n",
       "      <td>False</td>\n",
       "      <td>False</td>\n",
       "      <td>NaN</td>\n",
       "      <td>NaN</td>\n",
       "      <td>NaN</td>\n",
       "      <td>NaN</td>\n",
       "      <td>safe</td>\n",
       "      <td>20181021</td>\n",
       "      <td>123758</td>\n",
       "      <td>25</td>\n",
       "      <td>star_wars</td>\n",
       "      <td>star wars</td>\n",
       "      <td>annelise pruitt i designed the emmy-winning st...</td>\n",
       "    </tr>\n",
       "    <tr>\n",
       "      <th>1</th>\n",
       "      <td>139093</td>\n",
       "      <td>1558154235</td>\n",
       "      <td>hauntedfalcon</td>\n",
       "      <td>Haunted Jaeger</td>\n",
       "      <td>fuck Reylo</td>\n",
       "      <td>https://hauntedfalcon.tumblr.com/</td>\n",
       "      <td>False</td>\n",
       "      <td>False</td>\n",
       "      <td>False</td>\n",
       "      <td>1.196747e+12</td>\n",
       "      <td>1.5463e+12</td>\n",
       "      <td>US/Eastern</td>\n",
       "      <td>en_US</td>\n",
       "      <td>safe</td>\n",
       "      <td>20190518</td>\n",
       "      <td>139093</td>\n",
       "      <td>982</td>\n",
       "      <td>star_wars</td>\n",
       "      <td>reylo</td>\n",
       "      <td>fuck Reylo</td>\n",
       "    </tr>\n",
       "    <tr>\n",
       "      <th>2</th>\n",
       "      <td>340785</td>\n",
       "      <td>1546861232</td>\n",
       "      <td>anomalies</td>\n",
       "      <td>party.</td>\n",
       "      <td>&lt;p&gt;27 years old &lt;br&gt;i like dogs, pokemon, taki...</td>\n",
       "      <td>http://anomalies.tumblr.com/</td>\n",
       "      <td>False</td>\n",
       "      <td>False</td>\n",
       "      <td>False</td>\n",
       "      <td>1.216068e+12</td>\n",
       "      <td>1.54556e+12</td>\n",
       "      <td>US/Pacific</td>\n",
       "      <td>en_US</td>\n",
       "      <td>safe</td>\n",
       "      <td>20190201</td>\n",
       "      <td>340785</td>\n",
       "      <td>2</td>\n",
       "      <td>pokemon</td>\n",
       "      <td>pokemon</td>\n",
       "      <td>27 years old i like dogs, pokemon, taking pict...</td>\n",
       "    </tr>\n",
       "    <tr>\n",
       "      <th>3</th>\n",
       "      <td>493522</td>\n",
       "      <td>1556894408</td>\n",
       "      <td>hazal</td>\n",
       "      <td>Smitten hedgehogs like tea</td>\n",
       "      <td>&lt;br&gt;Hazal. &lt;br&gt;  29 years old, vegetarian, web...</td>\n",
       "      <td>https://hazal.tumblr.com/</td>\n",
       "      <td>False</td>\n",
       "      <td>False</td>\n",
       "      <td>False</td>\n",
       "      <td>1.225645e+12</td>\n",
       "      <td>1.54274e+12</td>\n",
       "      <td>Europe/Istanbul</td>\n",
       "      <td>en_US</td>\n",
       "      <td>safe</td>\n",
       "      <td>20190619</td>\n",
       "      <td>493522</td>\n",
       "      <td>10</td>\n",
       "      <td>supernatural</td>\n",
       "      <td>spn</td>\n",
       "      <td>Hazal. 29 years old, vegetarian, web designer,...</td>\n",
       "    </tr>\n",
       "    <tr>\n",
       "      <th>4</th>\n",
       "      <td>794605</td>\n",
       "      <td>1563544355</td>\n",
       "      <td>sundayriver81</td>\n",
       "      <td>Sundayriver's world</td>\n",
       "      <td>Italian girl, obsessed with The walking Dead a...</td>\n",
       "      <td>https://sundayriver81.tumblr.com/</td>\n",
       "      <td>False</td>\n",
       "      <td>False</td>\n",
       "      <td>False</td>\n",
       "      <td>1.236731e+12</td>\n",
       "      <td>1.54502e+12</td>\n",
       "      <td>Europe/Amsterdam</td>\n",
       "      <td>en_US</td>\n",
       "      <td>safe</td>\n",
       "      <td>20190719</td>\n",
       "      <td>794605</td>\n",
       "      <td>999</td>\n",
       "      <td>walking_dead</td>\n",
       "      <td>the walking dead</td>\n",
       "      <td>Italian girl, obsessed with The walking Dead a...</td>\n",
       "    </tr>\n",
       "    <tr>\n",
       "      <th>...</th>\n",
       "      <td>...</td>\n",
       "      <td>...</td>\n",
       "      <td>...</td>\n",
       "      <td>...</td>\n",
       "      <td>...</td>\n",
       "      <td>...</td>\n",
       "      <td>...</td>\n",
       "      <td>...</td>\n",
       "      <td>...</td>\n",
       "      <td>...</td>\n",
       "      <td>...</td>\n",
       "      <td>...</td>\n",
       "      <td>...</td>\n",
       "      <td>...</td>\n",
       "      <td>...</td>\n",
       "      <td>...</td>\n",
       "      <td>...</td>\n",
       "      <td>...</td>\n",
       "      <td>...</td>\n",
       "      <td>...</td>\n",
       "    </tr>\n",
       "    <tr>\n",
       "      <th>319131</th>\n",
       "      <td>444485579</td>\n",
       "      <td>1541257544</td>\n",
       "      <td>bhluetina</td>\n",
       "      <td>lilyy</td>\n",
       "      <td>&lt;p&gt;potterhead.&lt;/p&gt;&lt;p&gt;the marauders’&lt;/p&gt;</td>\n",
       "      <td>https://bhluetina.tumblr.com/</td>\n",
       "      <td>False</td>\n",
       "      <td>False</td>\n",
       "      <td>False</td>\n",
       "      <td>1.541255e+12</td>\n",
       "      <td>1.54126e+12</td>\n",
       "      <td>US/Eastern</td>\n",
       "      <td>en_US</td>\n",
       "      <td>safe</td>\n",
       "      <td>20181201</td>\n",
       "      <td>444485579</td>\n",
       "      <td>4</td>\n",
       "      <td>harrypotter</td>\n",
       "      <td>potterhead</td>\n",
       "      <td>potterhead. the marauders’</td>\n",
       "    </tr>\n",
       "    <tr>\n",
       "      <th>319132</th>\n",
       "      <td>444669851</td>\n",
       "      <td>1541965412</td>\n",
       "      <td>zzellak</td>\n",
       "      <td>Zellak</td>\n",
       "      <td>30/ He/Him/ Them/They. 18+ art.  NO MINORS OR ...</td>\n",
       "      <td>https://zzellak.tumblr.com/</td>\n",
       "      <td>False</td>\n",
       "      <td>False</td>\n",
       "      <td>False</td>\n",
       "      <td>1.541347e+12</td>\n",
       "      <td>1.54161e+12</td>\n",
       "      <td>US/Eastern</td>\n",
       "      <td>en_US</td>\n",
       "      <td>adult</td>\n",
       "      <td>20181114</td>\n",
       "      <td>444669851</td>\n",
       "      <td>17</td>\n",
       "      <td>undertale</td>\n",
       "      <td>undertale</td>\n",
       "      <td>30/ He/Him/ Them/They. 18+ art.  NO MINORS OR ...</td>\n",
       "    </tr>\n",
       "    <tr>\n",
       "      <th>319133</th>\n",
       "      <td>444881744</td>\n",
       "      <td>1567866289</td>\n",
       "      <td>peaches-and-nicotine</td>\n",
       "      <td>♡</td>\n",
       "      <td>ED TW! || 18 || UK || Not Pro || 5'6\" sw: 218l...</td>\n",
       "      <td>https://peaches-and-nicotine.tumblr.com/</td>\n",
       "      <td>False</td>\n",
       "      <td>False</td>\n",
       "      <td>False</td>\n",
       "      <td>1.541449e+12</td>\n",
       "      <td>1.56527e+12</td>\n",
       "      <td>US/Eastern</td>\n",
       "      <td>en_US</td>\n",
       "      <td>safe</td>\n",
       "      <td>20190908</td>\n",
       "      <td>444881744</td>\n",
       "      <td>88</td>\n",
       "      <td>teen_wolf</td>\n",
       "      <td>tw</td>\n",
       "      <td>ED TW! || 18 || UK || Not Pro || 5'6\" sw: 218l...</td>\n",
       "    </tr>\n",
       "    <tr>\n",
       "      <th>319134</th>\n",
       "      <td>446026777</td>\n",
       "      <td>1542862673</td>\n",
       "      <td>littlegleekhunter</td>\n",
       "      <td>Pretty Gleek Hunter❤</td>\n",
       "      <td>Pretty Little Liars/Supernatural &amp; Glee❤😍</td>\n",
       "      <td>https://littlegleekhunter.tumblr.com/</td>\n",
       "      <td>False</td>\n",
       "      <td>False</td>\n",
       "      <td>False</td>\n",
       "      <td>1.542070e+12</td>\n",
       "      <td>1.54207e+12</td>\n",
       "      <td>US/Eastern</td>\n",
       "      <td>en_US</td>\n",
       "      <td>safe</td>\n",
       "      <td>20190616</td>\n",
       "      <td>446026777</td>\n",
       "      <td>4</td>\n",
       "      <td>supernatural</td>\n",
       "      <td>supernatural</td>\n",
       "      <td>Pretty Little Liars/Supernatural &amp; Glee❤😍</td>\n",
       "    </tr>\n",
       "    <tr>\n",
       "      <th>319135</th>\n",
       "      <td>448114475</td>\n",
       "      <td>1544875498</td>\n",
       "      <td>vglnt</td>\n",
       "      <td>* MEGALOVANIA.</td>\n",
       "      <td>ind. sel. sans of undertale. written by trista...</td>\n",
       "      <td>http://vglnt.tumblr.com/</td>\n",
       "      <td>False</td>\n",
       "      <td>False</td>\n",
       "      <td>False</td>\n",
       "      <td>1.543220e+12</td>\n",
       "      <td>1.54341e+12</td>\n",
       "      <td>Australia/Canberra</td>\n",
       "      <td>en_US</td>\n",
       "      <td>safe</td>\n",
       "      <td>20190608</td>\n",
       "      <td>448114475</td>\n",
       "      <td>17</td>\n",
       "      <td>undertale</td>\n",
       "      <td>undertale</td>\n",
       "      <td>ind. sel. sans of undertale. written by trista...</td>\n",
       "    </tr>\n",
       "  </tbody>\n",
       "</table>\n",
       "<p>319136 rows × 20 columns</p>\n",
       "</div>"
      ],
      "text/plain": [
       "        tumblelog_id  activity_time_epoch      tumblr_blog_name  \\\n",
       "0             123758           1538018782           coldfashion   \n",
       "1             139093           1558154235         hauntedfalcon   \n",
       "2             340785           1546861232             anomalies   \n",
       "3             493522           1556894408                 hazal   \n",
       "4             794605           1563544355         sundayriver81   \n",
       "...              ...                  ...                   ...   \n",
       "319131     444485579           1541257544             bhluetina   \n",
       "319132     444669851           1541965412               zzellak   \n",
       "319133     444881744           1567866289  peaches-and-nicotine   \n",
       "319134     446026777           1542862673     littlegleekhunter   \n",
       "319135     448114475           1544875498                 vglnt   \n",
       "\n",
       "                 tumblr_blog_title  \\\n",
       "0               AP ROCKS YOUR FACE   \n",
       "1                   Haunted Jaeger   \n",
       "2                           party.   \n",
       "3       Smitten hedgehogs like tea   \n",
       "4              Sundayriver's world   \n",
       "...                            ...   \n",
       "319131                       lilyy   \n",
       "319132                      Zellak   \n",
       "319133                           ♡   \n",
       "319134        Pretty Gleek Hunter❤   \n",
       "319135              * MEGALOVANIA.   \n",
       "\n",
       "                                  tumblr_blog_description  \\\n",
       "0       annelise pruitt i designed the emmy-winning st...   \n",
       "1                                              fuck Reylo   \n",
       "2       <p>27 years old <br>i like dogs, pokemon, taki...   \n",
       "3       <br>Hazal. <br>  29 years old, vegetarian, web...   \n",
       "4       Italian girl, obsessed with The walking Dead a...   \n",
       "...                                                   ...   \n",
       "319131            <p>potterhead.</p><p>the marauders’</p>   \n",
       "319132  30/ He/Him/ Them/They. 18+ art.  NO MINORS OR ...   \n",
       "319133  ED TW! || 18 || UK || Not Pro || 5'6\" sw: 218l...   \n",
       "319134          Pretty Little Liars/Supernatural & Glee❤😍   \n",
       "319135  ind. sel. sans of undertale. written by trista...   \n",
       "\n",
       "                                 tumblr_blog_url  is_group_blog is_primary  \\\n",
       "0                 http://coldfashion.tumblr.com/          False      False   \n",
       "1              https://hauntedfalcon.tumblr.com/          False      False   \n",
       "2                   http://anomalies.tumblr.com/          False      False   \n",
       "3                      https://hazal.tumblr.com/          False      False   \n",
       "4              https://sundayriver81.tumblr.com/          False      False   \n",
       "...                                          ...            ...        ...   \n",
       "319131             https://bhluetina.tumblr.com/          False      False   \n",
       "319132               https://zzellak.tumblr.com/          False      False   \n",
       "319133  https://peaches-and-nicotine.tumblr.com/          False      False   \n",
       "319134     https://littlegleekhunter.tumblr.com/          False      False   \n",
       "319135                  http://vglnt.tumblr.com/          False      False   \n",
       "\n",
       "       is_private  created_time_epoch updated_time_epoch            timezone  \\\n",
       "0           False                 NaN                NaN                 NaN   \n",
       "1           False        1.196747e+12         1.5463e+12          US/Eastern   \n",
       "2           False        1.216068e+12        1.54556e+12          US/Pacific   \n",
       "3           False        1.225645e+12        1.54274e+12     Europe/Istanbul   \n",
       "4           False        1.236731e+12        1.54502e+12    Europe/Amsterdam   \n",
       "...           ...                 ...                ...                 ...   \n",
       "319131      False        1.541255e+12        1.54126e+12          US/Eastern   \n",
       "319132      False        1.541347e+12        1.54161e+12          US/Eastern   \n",
       "319133      False        1.541449e+12        1.56527e+12          US/Eastern   \n",
       "319134      False        1.542070e+12        1.54207e+12          US/Eastern   \n",
       "319135      False        1.543220e+12        1.54341e+12  Australia/Canberra   \n",
       "\n",
       "       language blog_classifier  generated_date  tumblog_id post_count  \\\n",
       "0           NaN            safe        20181021      123758         25   \n",
       "1         en_US            safe        20190518      139093        982   \n",
       "2         en_US            safe        20190201      340785          2   \n",
       "3         en_US            safe        20190619      493522         10   \n",
       "4         en_US            safe        20190719      794605        999   \n",
       "...         ...             ...             ...         ...        ...   \n",
       "319131    en_US            safe        20181201   444485579          4   \n",
       "319132    en_US           adult        20181114   444669851         17   \n",
       "319133    en_US            safe        20190908   444881744         88   \n",
       "319134    en_US            safe        20190616   446026777          4   \n",
       "319135    en_US            safe        20190608   448114475         17   \n",
       "\n",
       "              fandom       fandom_term  \\\n",
       "0          star_wars         star wars   \n",
       "1          star_wars             reylo   \n",
       "2            pokemon           pokemon   \n",
       "3       supernatural               spn   \n",
       "4       walking_dead  the walking dead   \n",
       "...              ...               ...   \n",
       "319131   harrypotter        potterhead   \n",
       "319132     undertale         undertale   \n",
       "319133     teen_wolf                tw   \n",
       "319134  supernatural      supernatural   \n",
       "319135     undertale         undertale   \n",
       "\n",
       "                        processed_tumblr_blog_description  \n",
       "0       annelise pruitt i designed the emmy-winning st...  \n",
       "1                                              fuck Reylo  \n",
       "2       27 years old i like dogs, pokemon, taking pict...  \n",
       "3       Hazal. 29 years old, vegetarian, web designer,...  \n",
       "4       Italian girl, obsessed with The walking Dead a...  \n",
       "...                                                   ...  \n",
       "319131                         potterhead. the marauders’  \n",
       "319132  30/ He/Him/ Them/They. 18+ art.  NO MINORS OR ...  \n",
       "319133  ED TW! || 18 || UK || Not Pro || 5'6\" sw: 218l...  \n",
       "319134          Pretty Little Liars/Supernatural & Glee❤😍  \n",
       "319135  ind. sel. sans of undertale. written by trista...  \n",
       "\n",
       "[319136 rows x 20 columns]"
      ]
     },
     "execution_count": 1,
     "metadata": {},
     "output_type": "execute_result"
    }
   ],
   "source": [
    "# Load fandom blog descriptions\n",
    "import pandas as pd\n",
    "\n",
    "fandom_blog_descriptions_path = '/data/tumblr_community_identity/fandom_blog_descriptions_processed.csv'\n",
    "blog_info = pd.read_csv(fandom_blog_descriptions_path, sep='\\t')\n",
    "# blog_info = pd.read_csv(fandom_blog_descriptions_path, sep='\\t', escapechar='\\\\', error_bad_lines=False)\n",
    "blog_info"
   ]
  },
  {
   "cell_type": "code",
   "execution_count": 2,
   "metadata": {},
   "outputs": [
    {
     "name": "stdout",
     "output_type": "stream",
     "text": [
      "42\n"
     ]
    },
    {
     "data": {
      "text/plain": [
       "array(['star_wars', 'pokemon', 'supernatural', 'walking_dead',\n",
       "       'harrypotter', 'song_ice_fire', 'sherlock', 'tolkien', 'naruto',\n",
       "       'teen_wolf', 'riverdale', 'dragonage', 'voltron', 'academia',\n",
       "       'hamilton', 'allmarvel', 'star_trek', 'overwatch',\n",
       "       'once_upon_a_time', 'haikyuu', 'dr_who', 'undertale', 'homestuck',\n",
       "       'dcu', 'supercorp', 'arthurian', 'attack_on_titan', 'korra',\n",
       "       'power rangers', 'stargate', 'ajin', 'world_ends_with_you',\n",
       "       'youjo senki', 'harry potter', 'marvel', 'hp', 'lord of the rings',\n",
       "       'reylo', 'rey', 'potterhead', 'klance', 'mcu'], dtype=object)"
      ]
     },
     "execution_count": 2,
     "metadata": {},
     "output_type": "execute_result"
    }
   ],
   "source": [
    "fandoms = blog_info['fandom'].unique()\n",
    "print(len(fandoms))\n",
    "fandoms"
   ]
  },
  {
   "cell_type": "code",
   "execution_count": 3,
   "metadata": {},
   "outputs": [
    {
     "name": "stdout",
     "output_type": "stream",
     "text": [
      "33\n"
     ]
    },
    {
     "data": {
      "text/plain": [
       "319120"
      ]
     },
     "execution_count": 3,
     "metadata": {},
     "output_type": "execute_result"
    }
   ],
   "source": [
    "# Remove error rows with mismatched fandoms\n",
    "true_fandoms = [\n",
    "    'ajin',\n",
    "    'academia',\n",
    "    'arthurian',\n",
    "    'dcu',\n",
    "    'dr_who',\n",
    "    'dragonage',\n",
    "    'haikyuu',\n",
    "    'hamilton',\n",
    "    'harrypotter',\n",
    "    'homestuck',\n",
    "    'allmarvel',\n",
    "    'naruto',\n",
    "    'once_upon_a_time',\n",
    "    'overwatch',\n",
    "    'pokemon',\n",
    "    'power rangers',\n",
    "    'song_ice_fire',\n",
    "    'riverdale',\n",
    "    'sherlock',\n",
    "    'attack_on_titan',\n",
    "    'star_trek', \n",
    "    'star_wars',\n",
    "    'stargate',\n",
    "    'supercorp',\n",
    "    'supernatural',\n",
    "    'teen_wolf',\n",
    "    'korra',\n",
    "    'walking_dead',\n",
    "    'world_ends_with_you',\n",
    "    'tolkien',\n",
    "    'undertale',\n",
    "    'voltron',\n",
    "    'youjo senki',\n",
    "]\n",
    "print(len(true_fandoms))\n",
    "blog_info = blog_info[blog_info['fandom'].isin(true_fandoms)]\n",
    "len(blog_info)"
   ]
  },
  {
   "cell_type": "code",
   "execution_count": 4,
   "metadata": {},
   "outputs": [
    {
     "data": {
      "application/vnd.jupyter.widget-view+json": {
       "model_id": "db5949021ad1427fb61b6c10d8bc4280",
       "version_major": 2,
       "version_minor": 0
      },
      "text/plain": [
       "HBox(children=(IntProgress(value=0, max=319120), HTML(value='')))"
      ]
     },
     "metadata": {},
     "output_type": "display_data"
    },
    {
     "name": "stdout",
     "output_type": "stream",
     "text": [
      "\n"
     ]
    },
    {
     "name": "stderr",
     "output_type": "stream",
     "text": [
      "/usr0/home/mamille2/anaconda/lib/python3.7/site-packages/ipykernel_launcher.py:8: SettingWithCopyWarning: \n",
      "A value is trying to be set on a copy of a slice from a DataFrame.\n",
      "Try using .loc[row_indexer,col_indexer] = value instead\n",
      "\n",
      "See the caveats in the documentation: https://pandas.pydata.org/pandas-docs/stable/user_guide/indexing.html#returning-a-view-versus-a-copy\n",
      "  \n"
     ]
    }
   ],
   "source": [
    "# Tokenize blog descriptions (nltk)\n",
    "import nltk\n",
    "from tqdm import tqdm_notebook as tqdm\n",
    "\n",
    "def tokenize_nltk(text):\n",
    "    return ' '.join([tok.lower() for tok in nltk.word_tokenize(str(text))])\n",
    "\n",
    "blog_info['tokenized_blog_description'] = [tokenize_nltk(d) for d in tqdm(blog_info['processed_tumblr_blog_description'].tolist())]"
   ]
  },
  {
   "cell_type": "code",
   "execution_count": 5,
   "metadata": {},
   "outputs": [
    {
     "name": "stderr",
     "output_type": "stream",
     "text": [
      "/usr0/home/mamille2/anaconda/lib/python3.7/site-packages/ipykernel_launcher.py:1: SettingWithCopyWarning: \n",
      "A value is trying to be set on a copy of a slice from a DataFrame\n",
      "\n",
      "See the caveats in the documentation: https://pandas.pydata.org/pandas-docs/stable/user_guide/indexing.html#returning-a-view-versus-a-copy\n",
      "  \"\"\"Entry point for launching an IPython kernel.\n"
     ]
    },
    {
     "data": {
      "text/plain": [
       "319116"
      ]
     },
     "execution_count": 5,
     "metadata": {},
     "output_type": "execute_result"
    }
   ],
   "source": [
    "blog_info.drop_duplicates(subset=['tumblog_id'], inplace=True)\n",
    "len(blog_info)"
   ]
  },
  {
   "cell_type": "code",
   "execution_count": 6,
   "metadata": {},
   "outputs": [],
   "source": [
    "blog_info.to_csv(fandom_blog_descriptions_path, sep='\\t', index=False)"
   ]
  },
  {
   "cell_type": "markdown",
   "metadata": {},
   "source": [
    "# Old"
   ]
  },
  {
   "cell_type": "code",
   "execution_count": 45,
   "metadata": {},
   "outputs": [
    {
     "name": "stdout",
     "output_type": "stream",
     "text": [
      "<re.Match object; span=(0, 5), match='trans'>\n",
      "<re.Match object; span=(0, 5), match='trans'>\n",
      "None\n",
      "None\n",
      "None\n",
      "None\n",
      "None\n",
      "None\n"
     ]
    }
   ],
   "source": [
    "# Test regular expressions\n",
    "import re\n",
    "# pattern = r'^(?!.*trans).*man\\b'\n",
    "# pattern = r'^(?!.*(super|wonder)).*man\\b'\n",
    "pattern = r'^(?!.*transformers)trans'\n",
    "print(re.search(pattern, 'trans man'))\n",
    "print(re.search(pattern, 'transman'))\n",
    "print(re.search(pattern, 'am a transman'))\n",
    "print(re.search(pattern, 'man'))\n",
    "print(re.search(pattern, 'am a man'))\n",
    "print(re.search(pattern, 'superman'))\n",
    "print(re.search(pattern, 'super man'))\n",
    "print(re.search(pattern, 'transformers'))"
   ]
  },
  {
   "cell_type": "code",
   "execution_count": 9,
   "metadata": {},
   "outputs": [
    {
     "name": "stdout",
     "output_type": "stream",
     "text": [
      "437\n",
      "437\n"
     ]
    }
   ],
   "source": [
    "# Check for duplicates within fandoms\n",
    "selected = blog_info[blog_info['fandom']=='power_rangers']\n",
    "print(len(selected))\n",
    "print(len(selected.drop_duplicates(subset=['tokenized_blog_description'])))"
   ]
  },
  {
   "cell_type": "code",
   "execution_count": 28,
   "metadata": {},
   "outputs": [
    {
     "data": {
      "text/plain": [
       "array(['star_wars', 'pokemon', 'supernatural', 'walking_dead',\n",
       "       'harrypotter', 'song_ice_fire', 'sherlock', 'tolkien', 'naruto',\n",
       "       'teen_wolf', 'riverdale', 'dragonage', 'voltron', 'academia',\n",
       "       'hamilton', 'allmarvel', 'star_trek', 'overwatch',\n",
       "       'once_upon_a_time', 'haikyuu', 'dr_who', 'undertale', 'homestuck',\n",
       "       'dcu', 'supergirl', 'arthurian', 'attack_on_titan', 'korra',\n",
       "       'power_rangers', 'stargate', 'ajin', 'world_ends_with_you',\n",
       "       'youjo senki'], dtype=object)"
      ]
     },
     "execution_count": 28,
     "metadata": {},
     "output_type": "execute_result"
    }
   ],
   "source": [
    "# Change blog_info names\n",
    "blog_info.fandom.unique()"
   ]
  },
  {
   "cell_type": "code",
   "execution_count": 27,
   "metadata": {
    "scrolled": true
   },
   "outputs": [],
   "source": [
    "blog_info['fandom'] = blog_info['fandom'].replace({'supercorp': 'supergirl', 'power rangers': 'power_rangers'})"
   ]
  },
  {
   "cell_type": "code",
   "execution_count": 29,
   "metadata": {},
   "outputs": [],
   "source": [
    "blog_info.to_csv(fandom_blog_descriptions_path, sep='\\t', index=False)"
   ]
  },
  {
   "cell_type": "code",
   "execution_count": 53,
   "metadata": {},
   "outputs": [],
   "source": [
    "# Tokenize blog descriptions (spaCy)\n",
    "import spacy\n",
    "\n",
    "nlp = spacy.load('en', disable=['tagger', 'parser', 'ner'])\n",
    "nlp.add_pipe(nlp.create_pipe('sentencizer'))\n",
    "def tokenize_spacy(text):\n",
    "    full_text = ''\n",
    "    full_text = ''\n",
    "    if len(str(text)) > 100000:\n",
    "        print('Description too long')\n",
    "        return full_text\n",
    "    doc = nlp(str(text))\n",
    "    for sent in doc.sents:\n",
    "        full_text += ' '.join([tok.text.lower() for tok in sent]) + ' '\n",
    "    return full_text.strip()"
   ]
  },
  {
   "cell_type": "code",
   "execution_count": 51,
   "metadata": {},
   "outputs": [
    {
     "name": "stderr",
     "output_type": "stream",
     "text": [
      "2020-11-12 11:40:03 INFO: Loading these models for language: en (English):\n",
      "=======================\n",
      "| Processor | Package |\n",
      "-----------------------\n",
      "| tokenize  | ewt     |\n",
      "=======================\n",
      "\n",
      "2020-11-12 11:40:03 INFO: Use device: cpu\n",
      "2020-11-12 11:40:03 INFO: Loading: tokenize\n",
      "2020-11-12 11:40:03 INFO: Done loading processors!\n"
     ]
    }
   ],
   "source": [
    "# Tokenize blog descriptions (stanza)\n",
    "import stanza\n",
    "\n",
    "nlp = stanza.Pipeline(lang='en', processors='tokenize')\n",
    "# done_texts = []\n",
    "def tokenize_stanza(text):\n",
    "    full_text = ''\n",
    "    doc = nlp(str(text))\n",
    "    for sent in doc.sentences:\n",
    "        full_text += ' '.join([tok.text for tok in sent.tokens]) + ' '\n",
    "    return full_text.strip()"
   ]
  }
 ],
 "metadata": {
  "kernelspec": {
   "display_name": "Python 3",
   "language": "python",
   "name": "python3"
  },
  "language_info": {
   "codemirror_mode": {
    "name": "ipython",
    "version": 3
   },
   "file_extension": ".py",
   "mimetype": "text/x-python",
   "name": "python",
   "nbconvert_exporter": "python",
   "pygments_lexer": "ipython3",
   "version": "3.7.7"
  }
 },
 "nbformat": 4,
 "nbformat_minor": 4
}
