{
 "cells": [
  {
   "cell_type": "code",
   "execution_count": 4,
   "metadata": {},
   "outputs": [],
   "source": [
    "import os\n",
    "data_dirpath = '/usr2/scratch/fanfic/ao3_harrypotter_text/'"
   ]
  },
  {
   "cell_type": "markdown",
   "metadata": {},
   "source": [
    "# Basic stats on Harry Potter AO3 collection"
   ]
  },
  {
   "cell_type": "code",
   "execution_count": 5,
   "metadata": {},
   "outputs": [
    {
     "name": "stdout",
     "output_type": "stream",
     "text": [
      "179407\n",
      "Index(['fic_id', 'title', 'author', 'author_key', 'rating', 'category',\n",
      "       'fandom', 'relationship', 'character', 'additional tags', 'language',\n",
      "       'published', 'status', 'status date', 'words', 'comments', 'kudos',\n",
      "       'bookmarks', 'hits', 'chapter_count', 'series', 'seriespart',\n",
      "       'seriesid', 'summary', 'preface_notes', 'afterword_notes'],\n",
      "      dtype='object')\n"
     ]
    }
   ],
   "source": [
    "import pandas as pd\n",
    "\n",
    "stories = pd.read_csv(os.path.join(data_dirpath, 'stories.csv'))\n",
    "print(len(stories))\n",
    "print(stories.columns)"
   ]
  },
  {
   "cell_type": "code",
   "execution_count": 8,
   "metadata": {},
   "outputs": [],
   "source": [
    "pd.set_option('display.max_colwidth', -1)"
   ]
  },
  {
   "cell_type": "code",
   "execution_count": 10,
   "metadata": {
    "scrolled": true
   },
   "outputs": [
    {
     "data": {
      "text/html": [
       "<div>\n",
       "<style scoped>\n",
       "    .dataframe tbody tr th:only-of-type {\n",
       "        vertical-align: middle;\n",
       "    }\n",
       "\n",
       "    .dataframe tbody tr th {\n",
       "        vertical-align: top;\n",
       "    }\n",
       "\n",
       "    .dataframe thead th {\n",
       "        text-align: right;\n",
       "    }\n",
       "</style>\n",
       "<table border=\"1\" class=\"dataframe\">\n",
       "  <thead>\n",
       "    <tr style=\"text-align: right;\">\n",
       "      <th></th>\n",
       "      <th>hits</th>\n",
       "      <th>words</th>\n",
       "      <th>additional tags</th>\n",
       "    </tr>\n",
       "  </thead>\n",
       "  <tbody>\n",
       "    <tr>\n",
       "      <th>0</th>\n",
       "      <td>2773.0</td>\n",
       "      <td>8389.0</td>\n",
       "      <td>[\"pre-HBP\"]</td>\n",
       "    </tr>\n",
       "    <tr>\n",
       "      <th>1</th>\n",
       "      <td>27154.0</td>\n",
       "      <td>15688.0</td>\n",
       "      <td>[\"Alternate Universe\", \"Alternate Universe - Canon Divergence\", \"Episode Tag\"]</td>\n",
       "    </tr>\n",
       "    <tr>\n",
       "      <th>2</th>\n",
       "      <td>4880.0</td>\n",
       "      <td>14921.0</td>\n",
       "      <td>[\"Suicide Attempt\"]</td>\n",
       "    </tr>\n",
       "    <tr>\n",
       "      <th>3</th>\n",
       "      <td>6690.0</td>\n",
       "      <td>26476.0</td>\n",
       "      <td>[\"Harry Potter is Voldemort's Child\", \"Harry is Harrison Riddle\", \"Three types of people\", \"Two Types of Faunus\", \"Hounds bonded to huntsmen\"]</td>\n",
       "    </tr>\n",
       "    <tr>\n",
       "      <th>4</th>\n",
       "      <td>279.0</td>\n",
       "      <td>8861.0</td>\n",
       "      <td>[\"Yona of the Dawn retelling\", \"High Fantasy\", \"Alternate Universe\", \"Spoilers\", \"Yona of the Dawn\", \"myth building\", \"supernatural and magic!\", \"teen for now\", \"no major character deaths (yet)\", \"not super graphic or violent yet either\", \"Unrequited Love\", \"altered ages\"]</td>\n",
       "    </tr>\n",
       "    <tr>\n",
       "      <th>5</th>\n",
       "      <td>816.0</td>\n",
       "      <td>257.0</td>\n",
       "      <td>[\"Slash\", \"Justification\", \"Unhealthy Relationships\", \"Dark Arts\"]</td>\n",
       "    </tr>\n",
       "    <tr>\n",
       "      <th>6</th>\n",
       "      <td>2517.0</td>\n",
       "      <td>8938.0</td>\n",
       "      <td>[\"Infidelity\", \"Background Het\", \"Anal Sex\"]</td>\n",
       "    </tr>\n",
       "    <tr>\n",
       "      <th>7</th>\n",
       "      <td>1323.0</td>\n",
       "      <td>338.0</td>\n",
       "      <td>[\"Potions\", \"Potions Accident\", \"unapologetic fluff\", \"Prelude to Smut\"]</td>\n",
       "    </tr>\n",
       "    <tr>\n",
       "      <th>8</th>\n",
       "      <td>272.0</td>\n",
       "      <td>711.0</td>\n",
       "      <td>[\"Best Friends\", \"Implied Sexual Content\", \"are you joking?\", \"What Was I Thinking?\", \"Sexual Humor\", \"WTF\", \"Inspired by Music\", \"Quintuple Drabble\", \"Please Don't Kill Me\"]</td>\n",
       "    </tr>\n",
       "    <tr>\n",
       "      <th>9</th>\n",
       "      <td>731.0</td>\n",
       "      <td>1390.0</td>\n",
       "      <td>[\"Ficlet\", \"Angst\", \"Drama\"]</td>\n",
       "    </tr>\n",
       "    <tr>\n",
       "      <th>10</th>\n",
       "      <td>1141.0</td>\n",
       "      <td>107195.0</td>\n",
       "      <td>[\"Alternate Universe - Time Travel\"]</td>\n",
       "    </tr>\n",
       "    <tr>\n",
       "      <th>11</th>\n",
       "      <td>206.0</td>\n",
       "      <td>727.0</td>\n",
       "      <td>[\"Book 7: Harry Potter and the Deathly Hallows\", \"Missing Scene\", \"Angst with a Happy Ending\"]</td>\n",
       "    </tr>\n",
       "    <tr>\n",
       "      <th>12</th>\n",
       "      <td>4991.0</td>\n",
       "      <td>3016.0</td>\n",
       "      <td>[\"Community: deflower_draco\", \"Blackcest\", \"Incest\", \"Aunt/Nephew Incest\", \"Corruption\", \"Mental Breakdown\", \"Rape\", \"victimization\", \"Curses\", \"Loss of Virginity\", \"Bellatrix Lestrange - character\", \"Draco Malfoy - character\", \"POV First Person\"]</td>\n",
       "    </tr>\n",
       "    <tr>\n",
       "      <th>13</th>\n",
       "      <td>86.0</td>\n",
       "      <td>576.0</td>\n",
       "      <td>[\"Nonsense\", \"Love\", \"Secrets\"]</td>\n",
       "    </tr>\n",
       "    <tr>\n",
       "      <th>14</th>\n",
       "      <td>205.0</td>\n",
       "      <td>35.0</td>\n",
       "      <td>[\"Canon-Typical Violence\", \"Character Death\", \"World War II\", \"Podfic Length: 1-1.5 Hours\", \"Podfic &amp; Podficced Works\", \"Podfic\"]</td>\n",
       "    </tr>\n",
       "    <tr>\n",
       "      <th>15</th>\n",
       "      <td>2894.0</td>\n",
       "      <td>13474.0</td>\n",
       "      <td>[\"Cross Over\", \"Harry potter characters inserted into Supernatural world\", \"Alternate Universe\", \"Dark\", \"Draco is a Demon\", \"Harry is a Hunter\", \"Explicit Sexual Content\"]</td>\n",
       "    </tr>\n",
       "    <tr>\n",
       "      <th>16</th>\n",
       "      <td>47.0</td>\n",
       "      <td>518.0</td>\n",
       "      <td>[\"Harry Potter mystery\"]</td>\n",
       "    </tr>\n",
       "    <tr>\n",
       "      <th>17</th>\n",
       "      <td>292.0</td>\n",
       "      <td>2379.0</td>\n",
       "      <td>[\"The future is terrifying\", \"After the third task\", \"Canon Compliant\", \"AU of Mary Potter\", \"Kind of like 'the truth is it wasn't like that'\", \"Things Harry Potter Doesn't Know\"]</td>\n",
       "    </tr>\n",
       "    <tr>\n",
       "      <th>18</th>\n",
       "      <td>52.0</td>\n",
       "      <td>208.0</td>\n",
       "      <td>[\"Slash sex\", \"Sexual Content\", \"Alternate Universe\", \"Crossover\", \"Drama\", \"Romance\", \"Science Fiction &amp; Fantasy\"]</td>\n",
       "    </tr>\n",
       "    <tr>\n",
       "      <th>19</th>\n",
       "      <td>99.0</td>\n",
       "      <td>570.0</td>\n",
       "      <td>[\"Slash sex\", \"Humor\", \"Parody\"]</td>\n",
       "    </tr>\n",
       "  </tbody>\n",
       "</table>\n",
       "</div>"
      ],
      "text/plain": [
       "       hits     words  \\\n",
       "0   2773.0   8389.0     \n",
       "1   27154.0  15688.0    \n",
       "2   4880.0   14921.0    \n",
       "3   6690.0   26476.0    \n",
       "4   279.0    8861.0     \n",
       "5   816.0    257.0      \n",
       "6   2517.0   8938.0     \n",
       "7   1323.0   338.0      \n",
       "8   272.0    711.0      \n",
       "9   731.0    1390.0     \n",
       "10  1141.0   107195.0   \n",
       "11  206.0    727.0      \n",
       "12  4991.0   3016.0     \n",
       "13  86.0     576.0      \n",
       "14  205.0    35.0       \n",
       "15  2894.0   13474.0    \n",
       "16  47.0     518.0      \n",
       "17  292.0    2379.0     \n",
       "18  52.0     208.0      \n",
       "19  99.0     570.0      \n",
       "\n",
       "                                                                                                                                                                                                                                                                      additional tags  \n",
       "0   [\"pre-HBP\"]                                                                                                                                                                                                                                                                        \n",
       "1   [\"Alternate Universe\", \"Alternate Universe - Canon Divergence\", \"Episode Tag\"]                                                                                                                                                                                                     \n",
       "2   [\"Suicide Attempt\"]                                                                                                                                                                                                                                                                \n",
       "3   [\"Harry Potter is Voldemort's Child\", \"Harry is Harrison Riddle\", \"Three types of people\", \"Two Types of Faunus\", \"Hounds bonded to huntsmen\"]                                                                                                                                     \n",
       "4   [\"Yona of the Dawn retelling\", \"High Fantasy\", \"Alternate Universe\", \"Spoilers\", \"Yona of the Dawn\", \"myth building\", \"supernatural and magic!\", \"teen for now\", \"no major character deaths (yet)\", \"not super graphic or violent yet either\", \"Unrequited Love\", \"altered ages\"]  \n",
       "5   [\"Slash\", \"Justification\", \"Unhealthy Relationships\", \"Dark Arts\"]                                                                                                                                                                                                                 \n",
       "6   [\"Infidelity\", \"Background Het\", \"Anal Sex\"]                                                                                                                                                                                                                                       \n",
       "7   [\"Potions\", \"Potions Accident\", \"unapologetic fluff\", \"Prelude to Smut\"]                                                                                                                                                                                                           \n",
       "8   [\"Best Friends\", \"Implied Sexual Content\", \"are you joking?\", \"What Was I Thinking?\", \"Sexual Humor\", \"WTF\", \"Inspired by Music\", \"Quintuple Drabble\", \"Please Don't Kill Me\"]                                                                                                     \n",
       "9   [\"Ficlet\", \"Angst\", \"Drama\"]                                                                                                                                                                                                                                                       \n",
       "10  [\"Alternate Universe - Time Travel\"]                                                                                                                                                                                                                                               \n",
       "11  [\"Book 7: Harry Potter and the Deathly Hallows\", \"Missing Scene\", \"Angst with a Happy Ending\"]                                                                                                                                                                                     \n",
       "12  [\"Community: deflower_draco\", \"Blackcest\", \"Incest\", \"Aunt/Nephew Incest\", \"Corruption\", \"Mental Breakdown\", \"Rape\", \"victimization\", \"Curses\", \"Loss of Virginity\", \"Bellatrix Lestrange - character\", \"Draco Malfoy - character\", \"POV First Person\"]                            \n",
       "13  [\"Nonsense\", \"Love\", \"Secrets\"]                                                                                                                                                                                                                                                    \n",
       "14  [\"Canon-Typical Violence\", \"Character Death\", \"World War II\", \"Podfic Length: 1-1.5 Hours\", \"Podfic & Podficced Works\", \"Podfic\"]                                                                                                                                                  \n",
       "15  [\"Cross Over\", \"Harry potter characters inserted into Supernatural world\", \"Alternate Universe\", \"Dark\", \"Draco is a Demon\", \"Harry is a Hunter\", \"Explicit Sexual Content\"]                                                                                                       \n",
       "16  [\"Harry Potter mystery\"]                                                                                                                                                                                                                                                           \n",
       "17  [\"The future is terrifying\", \"After the third task\", \"Canon Compliant\", \"AU of Mary Potter\", \"Kind of like 'the truth is it wasn't like that'\", \"Things Harry Potter Doesn't Know\"]                                                                                                \n",
       "18  [\"Slash sex\", \"Sexual Content\", \"Alternate Universe\", \"Crossover\", \"Drama\", \"Romance\", \"Science Fiction & Fantasy\"]                                                                                                                                                                \n",
       "19  [\"Slash sex\", \"Humor\", \"Parody\"]                                                                                                                                                                                                                                                   "
      ]
     },
     "execution_count": 10,
     "metadata": {},
     "output_type": "execute_result"
    }
   ],
   "source": [
    "stories.loc[:,['hits', 'words', 'additional tags']].head(20)"
   ]
  },
  {
   "cell_type": "code",
   "execution_count": 12,
   "metadata": {},
   "outputs": [
    {
     "data": {
      "text/plain": [
       "1601006008.0"
      ]
     },
     "execution_count": 12,
     "metadata": {},
     "output_type": "execute_result"
    }
   ],
   "source": [
    "# total number of words\n",
    "stories['words'].sum()"
   ]
  },
  {
   "cell_type": "markdown",
   "metadata": {},
   "source": [
    "## Tag vocabulary"
   ]
  },
  {
   "cell_type": "code",
   "execution_count": 25,
   "metadata": {},
   "outputs": [
    {
     "data": {
      "text/plain": [
       "179407"
      ]
     },
     "execution_count": 25,
     "metadata": {},
     "output_type": "execute_result"
    }
   ],
   "source": [
    "tag_lists = stories['additional tags'].map(lambda x: eval(x.lower()))\n",
    "len(tag_lists)"
   ]
  },
  {
   "cell_type": "code",
   "execution_count": 26,
   "metadata": {},
   "outputs": [
    {
     "data": {
      "text/plain": [
       "897364"
      ]
     },
     "execution_count": 26,
     "metadata": {},
     "output_type": "execute_result"
    }
   ],
   "source": [
    "all_tags = [x for l in tag_lists for x in l]\n",
    "len(all_tags)"
   ]
  },
  {
   "cell_type": "code",
   "execution_count": 27,
   "metadata": {},
   "outputs": [
    {
     "data": {
      "text/plain": [
       "149465"
      ]
     },
     "execution_count": 27,
     "metadata": {},
     "output_type": "execute_result"
    }
   ],
   "source": [
    "# empty tags\n",
    "len([l for l in tag_lists if len(l) > 0])"
   ]
  },
  {
   "cell_type": "code",
   "execution_count": 28,
   "metadata": {},
   "outputs": [
    {
     "data": {
      "text/plain": [
       "168243"
      ]
     },
     "execution_count": 28,
     "metadata": {},
     "output_type": "execute_result"
    }
   ],
   "source": [
    "unique_tags = set(all_tags)\n",
    "len(unique_tags)"
   ]
  },
  {
   "cell_type": "code",
   "execution_count": 32,
   "metadata": {},
   "outputs": [
    {
     "name": "stdout",
     "output_type": "stream",
     "text": [
      "5: 10737\n",
      "10: 6365\n",
      "20: 3881\n",
      "50: 1910\n"
     ]
    }
   ],
   "source": [
    "from collections import Counter\n",
    "\n",
    "tag_counts = Counter(all_tags)\n",
    "\n",
    "for threshold in [5, 10, 20, 50]:\n",
    "    print(f'{threshold}: {len([t for t,count in tag_counts.items() if count >= threshold])}')"
   ]
  },
  {
   "cell_type": "markdown",
   "metadata": {},
   "source": [
    "## Filtering"
   ]
  },
  {
   "cell_type": "markdown",
   "metadata": {},
   "source": [
    "Filter fics by:\n",
    "* Minimum #words\n",
    "* Contain at least 1 tag that occurs more than 50 times\n",
    "* Minimum #hits (optional)"
   ]
  },
  {
   "cell_type": "markdown",
   "metadata": {},
   "source": [
    "# Preprocessing"
   ]
  },
  {
   "cell_type": "markdown",
   "metadata": {},
   "source": [
    "* Figure out if punctuation is messed up (space after full stops)\n",
    "* spaCy tokenization\n",
    "* 1 sentence/line, file for each fic"
   ]
  },
  {
   "cell_type": "code",
   "execution_count": null,
   "metadata": {},
   "outputs": [],
   "source": []
  }
 ],
 "metadata": {
  "kernelspec": {
   "display_name": "Python 3",
   "language": "python",
   "name": "python3"
  },
  "language_info": {
   "codemirror_mode": {
    "name": "ipython",
    "version": 3
   },
   "file_extension": ".py",
   "mimetype": "text/x-python",
   "name": "python",
   "nbconvert_exporter": "python",
   "pygments_lexer": "ipython3",
   "version": "3.6.4"
  }
 },
 "nbformat": 4,
 "nbformat_minor": 2
}
